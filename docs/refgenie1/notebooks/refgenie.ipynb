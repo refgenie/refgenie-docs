{
 "cells": [
  {
   "cell_type": "markdown",
   "metadata": {},
   "source": [
    "# Refgenie tutorial\n",
    "\n",
    "The `Refgenie` class is a key component of the Refgenie package, which is used for managing and organizing reference genome files. It provides a set of methods and functionalities to interact with reference genome assets, and other related resources.\n",
    "\n",
    "## Purpose of this file\n",
    "\n",
    "This file serves as a tutorial for using the `Refgenie` Python API. It demonstrates how to set up a temporary directory for storing reference genome assets, configure the `Refgenie` instance, and perform various operations such as listing available assets, retrieving asset information, and managing data channels. \n",
    "\n",
    "In order to learn more about any of the contepts indicated in the code, please refer to a specific section of the documentation.\n",
    "\n",
    "## Installation\n",
    "\n",
    "Before the package gets released, clone the repository install, for example using `uv`:\n",
    "  \n",
    "```bash\n",
    "git clone <repo_url>\n",
    "cd refgenie1\n",
    "uv pip install .\n",
    "```\n",
    "\n",
    "## Configuration\n",
    "\n",
    "First, let's create a temporary directory that will be used to store the refgenie assets.\n"
   ]
  },
  {
   "cell_type": "code",
   "execution_count": 1,
   "metadata": {},
   "outputs": [],
   "source": [
    "from pathlib import Path\n",
    "from rich import print\n",
    "import os"
   ]
  },
  {
   "cell_type": "markdown",
   "metadata": {},
   "source": [
    "Let's set a temporary directory to store the refgenie assets."
   ]
  },
  {
   "cell_type": "code",
   "execution_count": 2,
   "metadata": {},
   "outputs": [],
   "source": [
    "from tempfile import TemporaryDirectory\n",
    "\n",
    "REFGENIE_CODE_PATH = Path.cwd().parent / \"refgenie\" \n",
    "\n",
    "# set the environment variable\n",
    "archive_tmp_dir = TemporaryDirectory(prefix=\"refgenie_archive_demo_\").name\n",
    "os.environ[\"REFGENIE_GENOME_ARCHIVE_FOLDER\"] = archive_tmp_dir\n",
    "tmp_dir = TemporaryDirectory(prefix=\"refgenie_demo_\").name\n",
    "os.environ[\"REFGENIE_GENOME_FOLDER\"] = tmp_dir\n",
    "# set the REFGENIE_DB_CONFIG_PATH to a sqlite config file in the refgenie package\n",
    "# os.environ[\"REFGENIE_DB_CONFIG_PATH\"] = (REFGENIE_CODE_PATH / \"config\" / \"sqlite_config.yaml\").as_posix()\n"
   ]
  },
  {
   "cell_type": "markdown",
   "metadata": {},
   "source": [
    "Let's inspect the refgenie configuration object."
   ]
  },
  {
   "cell_type": "code",
   "execution_count": 3,
   "metadata": {},
   "outputs": [
    {
     "data": {
      "text/html": [
       "<pre style=\"white-space:pre;overflow-x:auto;line-height:normal;font-family:Menlo,'DejaVu Sans Mono',consolas,'Courier New',monospace\"><span style=\"color: #800080; text-decoration-color: #800080; font-weight: bold\">RefgenieConfig</span><span style=\"font-weight: bold\">(</span>\n",
       "    <span style=\"color: #808000; text-decoration-color: #808000\">log_level</span>=<span style=\"font-weight: bold\">&lt;</span><span style=\"color: #ff00ff; text-decoration-color: #ff00ff; font-weight: bold\">LogLevel.INFO:</span><span style=\"color: #000000; text-decoration-color: #000000\"> </span><span style=\"color: #008000; text-decoration-color: #008000\">'INFO'</span><span style=\"font-weight: bold\">&gt;</span>,\n",
       "    <span style=\"color: #808000; text-decoration-color: #808000\">genome_folder</span>=<span style=\"color: #800080; text-decoration-color: #800080; font-weight: bold\">PosixPath</span><span style=\"font-weight: bold\">(</span><span style=\"color: #008000; text-decoration-color: #008000\">'/var/folders/18/3fc3jyt50sv9kqx6hdqg5b600000gn/T/refgenie_demo_ugm8n45l'</span><span style=\"font-weight: bold\">)</span>,\n",
       "    <span style=\"color: #808000; text-decoration-color: #808000\">genome_archive_folder</span>=<span style=\"color: #800080; text-decoration-color: #800080; font-weight: bold\">PosixPath</span><span style=\"font-weight: bold\">(</span><span style=\"color: #008000; text-decoration-color: #008000\">'/var/folders/18/3fc3jyt50sv9kqx6hdqg5b600000gn/T/refgenie_archive_demo_mthufo3</span>\n",
       "<span style=\"color: #008000; text-decoration-color: #008000\">u'</span><span style=\"font-weight: bold\">)</span>,\n",
       "    <span style=\"color: #808000; text-decoration-color: #808000\">database_config_path</span>=<span style=\"color: #800080; text-decoration-color: #800080; font-weight: bold\">PosixPath</span><span style=\"font-weight: bold\">(</span><span style=\"color: #008000; text-decoration-color: #008000\">'/Users/stolarczyk/.refgenie/refgenie_db_config.yaml'</span><span style=\"font-weight: bold\">)</span>\n",
       "<span style=\"font-weight: bold\">)</span>\n",
       "</pre>\n"
      ],
      "text/plain": [
       "\u001b[1;35mRefgenieConfig\u001b[0m\u001b[1m(\u001b[0m\n",
       "    \u001b[33mlog_level\u001b[0m=\u001b[1m<\u001b[0m\u001b[1;95mLogLevel.INFO:\u001b[0m\u001b[39m \u001b[0m\u001b[32m'INFO'\u001b[0m\u001b[1m>\u001b[0m,\n",
       "    \u001b[33mgenome_folder\u001b[0m=\u001b[1;35mPosixPath\u001b[0m\u001b[1m(\u001b[0m\u001b[32m'/var/folders/18/3fc3jyt50sv9kqx6hdqg5b600000gn/T/refgenie_demo_ugm8n45l'\u001b[0m\u001b[1m)\u001b[0m,\n",
       "    \u001b[33mgenome_archive_folder\u001b[0m=\u001b[1;35mPosixPath\u001b[0m\u001b[1m(\u001b[0m\u001b[32m'/var/folders/18/3fc3jyt50sv9kqx6hdqg5b600000gn/T/refgenie_archive_demo_mthufo3\u001b[0m\n",
       "\u001b[32mu'\u001b[0m\u001b[1m)\u001b[0m,\n",
       "    \u001b[33mdatabase_config_path\u001b[0m=\u001b[1;35mPosixPath\u001b[0m\u001b[1m(\u001b[0m\u001b[32m'/Users/stolarczyk/.refgenie/refgenie_db_config.yaml'\u001b[0m\u001b[1m)\u001b[0m\n",
       "\u001b[1m)\u001b[0m\n"
      ]
     },
     "metadata": {},
     "output_type": "display_data"
    }
   ],
   "source": [
    "from refgenie.config import config\n",
    "\n",
    "print(config)"
   ]
  },
  {
   "cell_type": "markdown",
   "metadata": {},
   "source": [
    "### Database backend\n",
    "\n",
    "As you can see, refgenie configuration points to a database configuration file, as by default refgenie is backed by a SQLite database.\n",
    "\n",
    "Let's inspect the refgenie database configuration file."
   ]
  },
  {
   "cell_type": "code",
   "execution_count": 4,
   "metadata": {},
   "outputs": [
    {
     "name": "stdout",
     "output_type": "stream",
     "text": [
      "type: sqlite\n",
      "path: /Users/stolarczyk/.refgenie/refgenie\n"
     ]
    }
   ],
   "source": [
    "%cat {config.database_config_path}"
   ]
  },
  {
   "cell_type": "markdown",
   "metadata": {},
   "source": [
    "Make sure the directory where the SQLite database file is stored exists, and create it if it doesn't."
   ]
  },
  {
   "cell_type": "code",
   "execution_count": 5,
   "metadata": {},
   "outputs": [
    {
     "name": "stdout",
     "output_type": "stream",
     "text": [
      "\u001b[34mINFO    \u001b[0m Purged genome folder:                                   \u001b]8;id=465630;file:///Users/stolarczyk/code/refgenie1/refgenie/refgenie.py\u001b\\\u001b[2mrefgenie.py\u001b[0m\u001b]8;;\u001b\\\u001b[2m:\u001b[0m\u001b]8;id=670353;file:///Users/stolarczyk/code/refgenie1/refgenie/refgenie.py#534\u001b\\\u001b[2m534\u001b[0m\u001b]8;;\u001b\\\n",
      "         \u001b[32m'/var/folders/18/3fc3jyt50sv9kqx6hdqg5b600000gn/T/refge\u001b[0m \u001b[2m               \u001b[0m\n",
      "         \u001b[32mnie_demo_ig9f7if_'\u001b[0m                                      \u001b[2m               \u001b[0m\n",
      "\u001b[34mINFO    \u001b[0m Purged refgenie backend:                                \u001b]8;id=559086;file:///Users/stolarczyk/code/refgenie1/refgenie/refgenie.py\u001b\\\u001b[2mrefgenie.py\u001b[0m\u001b]8;;\u001b\\\u001b[2m:\u001b[0m\u001b]8;id=833022;file:///Users/stolarczyk/code/refgenie1/refgenie/refgenie.py#536\u001b\\\u001b[2m536\u001b[0m\u001b]8;;\u001b\\\n",
      "         \u001b[32m'sqlite:////Users/stolarczyk/.refgenie/refgenie'\u001b[0m        \u001b[2m               \u001b[0m\n"
     ]
    }
   ],
   "source": [
    "!refgenie1 purge --force\n",
    "!rm -rf ~/refgenie_db\n",
    "!mkdir -p ~/refgenie_db"
   ]
  },
  {
   "cell_type": "markdown",
   "metadata": {},
   "source": [
    "In practice, you don't even need to create the configuration file manually, as refgenie ships with a default configuration file that is used if no configuration file is provided. Just as we've seen above.\n",
    "\n",
    "For production deployments you may want to use a different database backend, such as MySQL or PostgreSQL. In this case, you can provide the database configuration file path by setting `REFGENIE_DB_CONFIG_PATH` environment variable, or even set/override the database engine using `database_engine` in the `Refgenie` constructor. The object must be a `sqlalchemy.engine.Engine` object."
   ]
  },
  {
   "cell_type": "markdown",
   "metadata": {},
   "source": [
    "\n",
    "\n",
    "### Refgenieserver client\n",
    "\n",
    "Similarly, refgenie ships with a Refgenieserver client, which is used by default to retrieve remote genome assets and does not need to be replaced in majority of use cases. However, you can provide a custom URL-client mapping to `Refgenie` constructor, by setting the `server_client_mapping` argument. Please note that, the clients need to follow a specific interface, defined in `refgenie.server.ServerClient` protocol. More details below."
   ]
  },
  {
   "cell_type": "code",
   "execution_count": 6,
   "metadata": {},
   "outputs": [
    {
     "data": {
      "text/html": [
       "<pre style=\"white-space:pre;overflow-x:auto;line-height:normal;font-family:Menlo,'DejaVu Sans Mono',consolas,'Courier New',monospace\"><span style=\"color: #000080; text-decoration-color: #000080\">╭──────────────────────────────────────── ServerClient Protocol structure ────────────────────────────────────────╮</span>\n",
       "<span style=\"color: #000080; text-decoration-color: #000080\">│</span> <span style=\"color: #00ffff; text-decoration-color: #00ffff; font-style: italic\">class </span><span style=\"color: #800000; text-decoration-color: #800000; font-weight: bold\">ServerClient</span><span style=\"font-weight: bold\">(</span>*args, **kwargs<span style=\"font-weight: bold\">)</span>:                                                                            <span style=\"color: #000080; text-decoration-color: #000080\">│</span>\n",
       "<span style=\"color: #000080; text-decoration-color: #000080\">│</span>                                                                                                                 <span style=\"color: #000080; text-decoration-color: #000080\">│</span>\n",
       "<span style=\"color: #000080; text-decoration-color: #000080\">│</span> <span style=\"color: #008080; text-decoration-color: #008080\">Protocol for the server client.</span>                                                                                 <span style=\"color: #000080; text-decoration-color: #000080\">│</span>\n",
       "<span style=\"color: #000080; text-decoration-color: #000080\">│</span>                                                                                                                 <span style=\"color: #000080; text-decoration-color: #000080\">│</span>\n",
       "<span style=\"color: #000080; text-decoration-color: #000080\">│</span>             <span style=\"color: #808000; text-decoration-color: #808000; font-style: italic\">server_url</span> = <span style=\"font-weight: bold\">&lt;</span><span style=\"color: #ff00ff; text-decoration-color: #ff00ff; font-weight: bold\">property</span><span style=\"color: #000000; text-decoration-color: #000000\"> object at </span><span style=\"color: #008080; text-decoration-color: #008080; font-weight: bold\">0x111798e00</span><span style=\"font-weight: bold\">&gt;</span>                                                       <span style=\"color: #000080; text-decoration-color: #000080\">│</span>\n",
       "<span style=\"color: #000080; text-decoration-color: #000080\">│</span> <span style=\"color: #808000; text-decoration-color: #808000; font-style: italic\">download_with_progress</span> = <span style=\"color: #00ffff; text-decoration-color: #00ffff; font-style: italic\">def </span><span style=\"color: #800000; text-decoration-color: #800000; font-weight: bold\">download_with_progress</span><span style=\"font-weight: bold\">(</span>self, operation_id: str, output_path: pathlib.Path, params: <span style=\"color: #000080; text-decoration-color: #000080\">│</span>\n",
       "<span style=\"color: #000080; text-decoration-color: #000080\">│</span>                          Optional<span style=\"font-weight: bold\">[</span>Dict<span style=\"font-weight: bold\">]</span> = <span style=\"color: #800080; text-decoration-color: #800080; font-style: italic\">None</span>, url_format_params: Optional<span style=\"font-weight: bold\">[</span>Dict<span style=\"font-weight: bold\">[</span>str, str<span style=\"font-weight: bold\">]]</span> = <span style=\"color: #800080; text-decoration-color: #800080; font-style: italic\">None</span>, name:       <span style=\"color: #000080; text-decoration-color: #000080\">│</span>\n",
       "<span style=\"color: #000080; text-decoration-color: #000080\">│</span>                          Optional<span style=\"font-weight: bold\">[</span>str<span style=\"font-weight: bold\">]</span> = <span style=\"color: #800080; text-decoration-color: #800080; font-style: italic\">None</span><span style=\"font-weight: bold\">)</span> -&gt; pathlib.Path: <span style=\"color: #7f7f7f; text-decoration-color: #7f7f7f\">Download asset at given URL to given filepath, </span> <span style=\"color: #000080; text-decoration-color: #000080\">│</span>\n",
       "<span style=\"color: #000080; text-decoration-color: #000080\">│</span>                          <span style=\"color: #7f7f7f; text-decoration-color: #7f7f7f\">show progress along the way.</span>                                                           <span style=\"color: #000080; text-decoration-color: #000080\">│</span>\n",
       "<span style=\"color: #000080; text-decoration-color: #000080\">│</span>                    <span style=\"color: #808000; text-decoration-color: #808000; font-style: italic\">get</span> = <span style=\"color: #00ffff; text-decoration-color: #00ffff; font-style: italic\">def </span><span style=\"color: #800000; text-decoration-color: #800000; font-weight: bold\">get</span><span style=\"font-weight: bold\">(</span>self, operation_id: str, params: Optional<span style=\"font-weight: bold\">[</span>Dict<span style=\"font-weight: bold\">]</span> = <span style=\"color: #800080; text-decoration-color: #800080; font-style: italic\">None</span>, url_format_params:     <span style=\"color: #000080; text-decoration-color: #000080\">│</span>\n",
       "<span style=\"color: #000080; text-decoration-color: #000080\">│</span>                          Optional<span style=\"font-weight: bold\">[</span>Dict<span style=\"font-weight: bold\">[</span>str, str<span style=\"font-weight: bold\">]]</span> = <span style=\"color: #800080; text-decoration-color: #800080; font-style: italic\">None</span><span style=\"font-weight: bold\">)</span> -&gt; Dict: <span style=\"color: #7f7f7f; text-decoration-color: #7f7f7f\">Send a GET request to the specified </span>         <span style=\"color: #000080; text-decoration-color: #000080\">│</span>\n",
       "<span style=\"color: #000080; text-decoration-color: #000080\">│</span>                          <span style=\"color: #7f7f7f; text-decoration-color: #7f7f7f\">operation ID.</span>                                                                          <span style=\"color: #000080; text-decoration-color: #000080\">│</span>\n",
       "<span style=\"color: #000080; text-decoration-color: #000080\">╰─────────────────────────────────────────────────────────────────────────────────────────────────────────────────╯</span>\n",
       "</pre>\n"
      ],
      "text/plain": [
       "\u001b[34m╭─\u001b[0m\u001b[34m───────────────────────────────────────\u001b[0m\u001b[34m ServerClient Protocol structure \u001b[0m\u001b[34m───────────────────────────────────────\u001b[0m\u001b[34m─╮\u001b[0m\n",
       "\u001b[34m│\u001b[0m \u001b[3;96mclass \u001b[0m\u001b[1;31mServerClient\u001b[0m\u001b[1m(\u001b[0m*args, **kwargs\u001b[1m)\u001b[0m:                                                                            \u001b[34m│\u001b[0m\n",
       "\u001b[34m│\u001b[0m                                                                                                                 \u001b[34m│\u001b[0m\n",
       "\u001b[34m│\u001b[0m \u001b[36mProtocol for the server client.\u001b[0m                                                                                 \u001b[34m│\u001b[0m\n",
       "\u001b[34m│\u001b[0m                                                                                                                 \u001b[34m│\u001b[0m\n",
       "\u001b[34m│\u001b[0m             \u001b[3;33mserver_url\u001b[0m = \u001b[1m<\u001b[0m\u001b[1;95mproperty\u001b[0m\u001b[39m object at \u001b[0m\u001b[1;36m0x111798e00\u001b[0m\u001b[1m>\u001b[0m                                                       \u001b[34m│\u001b[0m\n",
       "\u001b[34m│\u001b[0m \u001b[3;33mdownload_with_progress\u001b[0m = \u001b[3;96mdef \u001b[0m\u001b[1;31mdownload_with_progress\u001b[0m\u001b[1m(\u001b[0mself, operation_id: str, output_path: pathlib.Path, params: \u001b[34m│\u001b[0m\n",
       "\u001b[34m│\u001b[0m                          Optional\u001b[1m[\u001b[0mDict\u001b[1m]\u001b[0m = \u001b[3;35mNone\u001b[0m, url_format_params: Optional\u001b[1m[\u001b[0mDict\u001b[1m[\u001b[0mstr, str\u001b[1m]\u001b[0m\u001b[1m]\u001b[0m = \u001b[3;35mNone\u001b[0m, name:       \u001b[34m│\u001b[0m\n",
       "\u001b[34m│\u001b[0m                          Optional\u001b[1m[\u001b[0mstr\u001b[1m]\u001b[0m = \u001b[3;35mNone\u001b[0m\u001b[1m)\u001b[0m -> pathlib.Path: \u001b[2mDownload asset at given URL to given filepath, \u001b[0m \u001b[34m│\u001b[0m\n",
       "\u001b[34m│\u001b[0m                          \u001b[2mshow progress along the way.\u001b[0m                                                           \u001b[34m│\u001b[0m\n",
       "\u001b[34m│\u001b[0m                    \u001b[3;33mget\u001b[0m = \u001b[3;96mdef \u001b[0m\u001b[1;31mget\u001b[0m\u001b[1m(\u001b[0mself, operation_id: str, params: Optional\u001b[1m[\u001b[0mDict\u001b[1m]\u001b[0m = \u001b[3;35mNone\u001b[0m, url_format_params:     \u001b[34m│\u001b[0m\n",
       "\u001b[34m│\u001b[0m                          Optional\u001b[1m[\u001b[0mDict\u001b[1m[\u001b[0mstr, str\u001b[1m]\u001b[0m\u001b[1m]\u001b[0m = \u001b[3;35mNone\u001b[0m\u001b[1m)\u001b[0m -> Dict: \u001b[2mSend a GET request to the specified \u001b[0m         \u001b[34m│\u001b[0m\n",
       "\u001b[34m│\u001b[0m                          \u001b[2moperation ID.\u001b[0m                                                                          \u001b[34m│\u001b[0m\n",
       "\u001b[34m╰─────────────────────────────────────────────────────────────────────────────────────────────────────────────────╯\u001b[0m\n"
      ]
     },
     "metadata": {},
     "output_type": "display_data"
    }
   ],
   "source": [
    "from refgenie.server.models import ServerClient\n",
    "from rich import inspect\n",
    "\n",
    "inspect(\n",
    "    ServerClient,\n",
    "    methods=True,\n",
    "    docs=True,\n",
    "    help=True,\n",
    "    title=\"ServerClient Protocol structure\",\n",
    ")"
   ]
  },
  {
   "cell_type": "markdown",
   "metadata": {},
   "source": [
    "First, let's import the `Refgenie` class from the `refgenie` package.\n"
   ]
  },
  {
   "cell_type": "code",
   "execution_count": 7,
   "metadata": {},
   "outputs": [],
   "source": [
    "from refgenie import Refgenie\n",
    "\n",
    "refgenie = Refgenie(suppress_migrations=True)"
   ]
  },
  {
   "cell_type": "markdown",
   "metadata": {},
   "source": [
    "Let's ensure we start with a clean slate by removing any existing refgenie metadata and initializing a new refgenie instance.\n"
   ]
  },
  {
   "cell_type": "code",
   "execution_count": 8,
   "metadata": {},
   "outputs": [
    {
     "data": {
      "text/html": [
       "<pre style=\"white-space:pre;overflow-x:auto;line-height:normal;font-family:Menlo,'DejaVu Sans Mono',consolas,'Courier New',monospace\"><span style=\"color: #000080; text-decoration-color: #000080\">INFO    </span> Initialized refgenie backend: <span style=\"color: #008000; text-decoration-color: #008000\">'sqlite:////Users/stolarczyk/.refgenie/refgenie'</span>             <a href=\"file:///Users/stolarczyk/code/refgenie1/refgenie/refgenie.py\" target=\"_blank\"><span style=\"color: #7f7f7f; text-decoration-color: #7f7f7f\">refgenie.py</span></a><span style=\"color: #7f7f7f; text-decoration-color: #7f7f7f\">:</span><a href=\"file:///Users/stolarczyk/code/refgenie1/refgenie/refgenie.py#392\" target=\"_blank\"><span style=\"color: #7f7f7f; text-decoration-color: #7f7f7f\">392</span></a>\n",
       "</pre>\n"
      ],
      "text/plain": [
       "\u001b[34mINFO    \u001b[0m Initialized refgenie backend: \u001b[32m'sqlite:////Users/stolarczyk/.refgenie/refgenie'\u001b[0m             \u001b]8;id=429936;file:///Users/stolarczyk/code/refgenie1/refgenie/refgenie.py\u001b\\\u001b[2mrefgenie.py\u001b[0m\u001b]8;;\u001b\\\u001b[2m:\u001b[0m\u001b]8;id=483822;file:///Users/stolarczyk/code/refgenie1/refgenie/refgenie.py#392\u001b\\\u001b[2m392\u001b[0m\u001b]8;;\u001b\\\n"
      ]
     },
     "metadata": {},
     "output_type": "display_data"
    },
    {
     "data": {
      "text/html": [
       "<pre style=\"white-space:pre;overflow-x:auto;line-height:normal;font-family:Menlo,'DejaVu Sans Mono',consolas,'Courier New',monospace\"><span style=\"color: #000080; text-decoration-color: #000080\">INFO    </span> Registered <span style=\"color: #008000; text-decoration-color: #008000\">'fasta'</span> asset class                                                               <a href=\"file:///Users/stolarczyk/code/refgenie1/refgenie/resource_manager/asset_class/manager.py\" target=\"_blank\"><span style=\"color: #7f7f7f; text-decoration-color: #7f7f7f\">manager.py</span></a><span style=\"color: #7f7f7f; text-decoration-color: #7f7f7f\">:</span><a href=\"file:///Users/stolarczyk/code/refgenie1/refgenie/resource_manager/asset_class/manager.py#71\" target=\"_blank\"><span style=\"color: #7f7f7f; text-decoration-color: #7f7f7f\">71</span></a>\n",
       "</pre>\n"
      ],
      "text/plain": [
       "\u001b[34mINFO    \u001b[0m Registered \u001b[32m'fasta'\u001b[0m asset class                                                               \u001b]8;id=422903;file:///Users/stolarczyk/code/refgenie1/refgenie/resource_manager/asset_class/manager.py\u001b\\\u001b[2mmanager.py\u001b[0m\u001b]8;;\u001b\\\u001b[2m:\u001b[0m\u001b]8;id=383866;file:///Users/stolarczyk/code/refgenie1/refgenie/resource_manager/asset_class/manager.py#71\u001b\\\u001b[2m71\u001b[0m\u001b]8;;\u001b\\\n"
      ]
     },
     "metadata": {},
     "output_type": "display_data"
    },
    {
     "data": {
      "text/html": [
       "<pre style=\"white-space:pre;overflow-x:auto;line-height:normal;font-family:Menlo,'DejaVu Sans Mono',consolas,'Courier New',monospace\"><span style=\"color: #000080; text-decoration-color: #000080\">INFO    </span> Registered <span style=\"color: #008000; text-decoration-color: #008000\">'fasta'</span> recipe                                                                   <a href=\"file:///Users/stolarczyk/code/refgenie1/refgenie/resource_manager/recipe/manager.py\" target=\"_blank\"><span style=\"color: #7f7f7f; text-decoration-color: #7f7f7f\">manager.py</span></a><span style=\"color: #7f7f7f; text-decoration-color: #7f7f7f\">:</span><a href=\"file:///Users/stolarczyk/code/refgenie1/refgenie/resource_manager/recipe/manager.py#113\" target=\"_blank\"><span style=\"color: #7f7f7f; text-decoration-color: #7f7f7f\">113</span></a>\n",
       "</pre>\n"
      ],
      "text/plain": [
       "\u001b[34mINFO    \u001b[0m Registered \u001b[32m'fasta'\u001b[0m recipe                                                                   \u001b]8;id=79091;file:///Users/stolarczyk/code/refgenie1/refgenie/resource_manager/recipe/manager.py\u001b\\\u001b[2mmanager.py\u001b[0m\u001b]8;;\u001b\\\u001b[2m:\u001b[0m\u001b]8;id=135854;file:///Users/stolarczyk/code/refgenie1/refgenie/resource_manager/recipe/manager.py#113\u001b\\\u001b[2m113\u001b[0m\u001b]8;;\u001b\\\n"
      ]
     },
     "metadata": {},
     "output_type": "display_data"
    }
   ],
   "source": [
    "refgenie.init()  # initialize new refgenie instance"
   ]
  },
  {
   "cell_type": "markdown",
   "metadata": {},
   "source": [
    "Let's subscribe to the default refgenie server. This method will reach out to the server at the provided URL and query the OpenAPI specification to determine whether ther server is refgenie-compatible. If it is, the server will be added to the list of subscribed servers.\n",
    "\n",
    "Note: there's currently no public compatible refgenieserver instance deployed, so the following code snippets use a local refgenieserver instance serving the latest API.\n"
   ]
  },
  {
   "cell_type": "code",
   "execution_count": 9,
   "metadata": {},
   "outputs": [
    {
     "data": {
      "text/html": [
       "<pre style=\"white-space:pre;overflow-x:auto;line-height:normal;font-family:Menlo,'DejaVu Sans Mono',consolas,'Courier New',monospace\"><span style=\"color: #000080; text-decoration-color: #000080\">INFO    </span> Subscribed to servers: <span style=\"color: #0000ff; text-decoration-color: #0000ff; text-decoration: underline\">http://localhost:8000</span>                                                 <a href=\"file:///Users/stolarczyk/code/refgenie1/refgenie/resource_manager/configuration/manager.py\" target=\"_blank\"><span style=\"color: #7f7f7f; text-decoration-color: #7f7f7f\">manager.py</span></a><span style=\"color: #7f7f7f; text-decoration-color: #7f7f7f\">:</span><a href=\"file:///Users/stolarczyk/code/refgenie1/refgenie/resource_manager/configuration/manager.py#42\" target=\"_blank\"><span style=\"color: #7f7f7f; text-decoration-color: #7f7f7f\">42</span></a>\n",
       "</pre>\n"
      ],
      "text/plain": [
       "\u001b[34mINFO    \u001b[0m Subscribed to servers: \u001b[4;94mhttp://localhost:8000\u001b[0m                                                 \u001b]8;id=908093;file:///Users/stolarczyk/code/refgenie1/refgenie/resource_manager/configuration/manager.py\u001b\\\u001b[2mmanager.py\u001b[0m\u001b]8;;\u001b\\\u001b[2m:\u001b[0m\u001b]8;id=103925;file:///Users/stolarczyk/code/refgenie1/refgenie/resource_manager/configuration/manager.py#42\u001b\\\u001b[2m42\u001b[0m\u001b]8;;\u001b\\\n"
      ]
     },
     "metadata": {},
     "output_type": "display_data"
    }
   ],
   "source": [
    "refgenie.configuration.subscribe(\"http://localhost:8000\")"
   ]
  },
  {
   "cell_type": "markdown",
   "metadata": {},
   "source": [
    "And that's it! We have now configured a refgenie instance and subscribed to a refgenie-compatible server. We can now start using the refgenie instance to manage reference genome assets.\n",
    "\n",
    "### Pull an asset\n",
    "\n",
    "Let's initialize a new genome by pulling an asset of fasta class. This will create a new directory in the `data` subdirectory of the `genome_folder` and mirror it in the `alias` directory with symbolic links, rather than copies of the files.\n"
   ]
  },
  {
   "cell_type": "code",
   "execution_count": 10,
   "metadata": {},
   "outputs": [
    {
     "data": {
      "text/html": [
       "<pre style=\"white-space:pre;overflow-x:auto;line-height:normal;font-family:Menlo,'DejaVu Sans Mono',consolas,'Courier New',monospace\"><span style=\"color: #000080; text-decoration-color: #000080\">INFO    </span> HTTP Request: <span style=\"color: #808000; text-decoration-color: #808000; font-weight: bold\">GET</span> <span style=\"color: #0000ff; text-decoration-color: #0000ff; text-decoration: underline\">http://localhost:8000/openapi.json</span> <span style=\"color: #008000; text-decoration-color: #008000\">\"HTTP/1.1 200 OK\"</span>                     <a href=\"file:///Users/stolarczyk/code/refgenie1/.venv/lib/python3.12/site-packages/httpx/_client.py\" target=\"_blank\"><span style=\"color: #7f7f7f; text-decoration-color: #7f7f7f\">_client.py</span></a><span style=\"color: #7f7f7f; text-decoration-color: #7f7f7f\">:</span><a href=\"file:///Users/stolarczyk/code/refgenie1/.venv/lib/python3.12/site-packages/httpx/_client.py#1027\" target=\"_blank\"><span style=\"color: #7f7f7f; text-decoration-color: #7f7f7f\">1027</span></a>\n",
       "</pre>\n"
      ],
      "text/plain": [
       "\u001b[34mINFO    \u001b[0m HTTP Request: \u001b[1;33mGET\u001b[0m \u001b[4;94mhttp://localhost:8000/openapi.json\u001b[0m \u001b[32m\"HTTP/1.1 200 OK\"\u001b[0m                     \u001b]8;id=843848;file:///Users/stolarczyk/code/refgenie1/.venv/lib/python3.12/site-packages/httpx/_client.py\u001b\\\u001b[2m_client.py\u001b[0m\u001b]8;;\u001b\\\u001b[2m:\u001b[0m\u001b]8;id=88946;file:///Users/stolarczyk/code/refgenie1/.venv/lib/python3.12/site-packages/httpx/_client.py#1027\u001b\\\u001b[2m1027\u001b[0m\u001b]8;;\u001b\\\n"
      ]
     },
     "metadata": {},
     "output_type": "display_data"
    },
    {
     "data": {
      "text/html": [
       "<pre style=\"white-space:pre;overflow-x:auto;line-height:normal;font-family:Menlo,'DejaVu Sans Mono',consolas,'Courier New',monospace\"><span style=\"color: #000080; text-decoration-color: #000080\">INFO    </span> Connected to server: <span style=\"color: #808000; text-decoration-color: #808000\">title</span>=<span style=\"color: #008000; text-decoration-color: #008000\">'Refgenieserver REST API'</span> <span style=\"color: #808000; text-decoration-color: #808000\">version</span>=<span style=\"color: #008000; text-decoration-color: #008000\">'1.0.0'</span> <span style=\"color: #808000; text-decoration-color: #808000\">description</span>=<span style=\"color: #008000; text-decoration-color: #008000\">'a web </span>      <a href=\"file:///Users/stolarczyk/code/refgenie1/refgenie/server/client.py\" target=\"_blank\"><span style=\"color: #7f7f7f; text-decoration-color: #7f7f7f\">client.py</span></a><span style=\"color: #7f7f7f; text-decoration-color: #7f7f7f\">:</span><a href=\"file:///Users/stolarczyk/code/refgenie1/refgenie/server/client.py#32\" target=\"_blank\"><span style=\"color: #7f7f7f; text-decoration-color: #7f7f7f\">32</span></a>\n",
       "         <span style=\"color: #008000; text-decoration-color: #008000\">interface and RESTful API for reference genome assets'</span>                                        <span style=\"color: #7f7f7f; text-decoration-color: #7f7f7f\">            </span>\n",
       "</pre>\n"
      ],
      "text/plain": [
       "\u001b[34mINFO    \u001b[0m Connected to server: \u001b[33mtitle\u001b[0m=\u001b[32m'Refgenieserver REST API'\u001b[0m \u001b[33mversion\u001b[0m=\u001b[32m'1.0.0'\u001b[0m \u001b[33mdescription\u001b[0m=\u001b[32m'a web \u001b[0m      \u001b]8;id=864197;file:///Users/stolarczyk/code/refgenie1/refgenie/server/client.py\u001b\\\u001b[2mclient.py\u001b[0m\u001b]8;;\u001b\\\u001b[2m:\u001b[0m\u001b]8;id=38338;file:///Users/stolarczyk/code/refgenie1/refgenie/server/client.py#32\u001b\\\u001b[2m32\u001b[0m\u001b]8;;\u001b\\\n",
       "         \u001b[32minterface and RESTful API for reference genome assets'\u001b[0m                                        \u001b[2m            \u001b[0m\n"
      ]
     },
     "metadata": {},
     "output_type": "display_data"
    },
    {
     "data": {
      "text/html": [
       "<pre style=\"white-space:pre;overflow-x:auto;line-height:normal;font-family:Menlo,'DejaVu Sans Mono',consolas,'Courier New',monospace\"><span style=\"color: #808000; text-decoration-color: #808000\">WARNING </span> No local digest for genome alias: rCRSd-<span style=\"color: #008080; text-decoration-color: #008080; font-weight: bold\">1</span>. Setting genome identity with server:           <a href=\"file:///Users/stolarczyk/code/refgenie1/refgenie/refgenie.py\" target=\"_blank\"><span style=\"color: #7f7f7f; text-decoration-color: #7f7f7f\">refgenie.py</span></a><span style=\"color: #7f7f7f; text-decoration-color: #7f7f7f\">:</span><a href=\"file:///Users/stolarczyk/code/refgenie1/refgenie/refgenie.py#3124\" target=\"_blank\"><span style=\"color: #7f7f7f; text-decoration-color: #7f7f7f\">3124</span></a>\n",
       "         <span style=\"color: #0000ff; text-decoration-color: #0000ff; text-decoration: underline\">http://localhost:8000</span>                                                                     <span style=\"color: #7f7f7f; text-decoration-color: #7f7f7f\">                </span>\n",
       "</pre>\n"
      ],
      "text/plain": [
       "\u001b[33mWARNING \u001b[0m No local digest for genome alias: rCRSd-\u001b[1;36m1\u001b[0m. Setting genome identity with server:           \u001b]8;id=904203;file:///Users/stolarczyk/code/refgenie1/refgenie/refgenie.py\u001b\\\u001b[2mrefgenie.py\u001b[0m\u001b]8;;\u001b\\\u001b[2m:\u001b[0m\u001b]8;id=213246;file:///Users/stolarczyk/code/refgenie1/refgenie/refgenie.py#3124\u001b\\\u001b[2m3124\u001b[0m\u001b]8;;\u001b\\\n",
       "         \u001b[4;94mhttp://localhost:8000\u001b[0m                                                                     \u001b[2m                \u001b[0m\n"
      ]
     },
     "metadata": {},
     "output_type": "display_data"
    },
    {
     "data": {
      "text/html": [
       "<pre style=\"white-space:pre;overflow-x:auto;line-height:normal;font-family:Menlo,'DejaVu Sans Mono',consolas,'Courier New',monospace\"><span style=\"color: #000080; text-decoration-color: #000080\">INFO    </span> Setting <span style=\"color: #008000; text-decoration-color: #008000\">'rCRSd-1'</span> identity with server: <span style=\"color: #0000ff; text-decoration-color: #0000ff; text-decoration: underline\">http://localhost:8000</span>                             <a href=\"file:///Users/stolarczyk/code/refgenie1/refgenie/refgenie.py\" target=\"_blank\"><span style=\"color: #7f7f7f; text-decoration-color: #7f7f7f\">refgenie.py</span></a><span style=\"color: #7f7f7f; text-decoration-color: #7f7f7f\">:</span><a href=\"file:///Users/stolarczyk/code/refgenie1/refgenie/refgenie.py#1070\" target=\"_blank\"><span style=\"color: #7f7f7f; text-decoration-color: #7f7f7f\">1070</span></a>\n",
       "</pre>\n"
      ],
      "text/plain": [
       "\u001b[34mINFO    \u001b[0m Setting \u001b[32m'rCRSd-1'\u001b[0m identity with server: \u001b[4;94mhttp://localhost:8000\u001b[0m                             \u001b]8;id=416443;file:///Users/stolarczyk/code/refgenie1/refgenie/refgenie.py\u001b\\\u001b[2mrefgenie.py\u001b[0m\u001b]8;;\u001b\\\u001b[2m:\u001b[0m\u001b]8;id=279008;file:///Users/stolarczyk/code/refgenie1/refgenie/refgenie.py#1070\u001b\\\u001b[2m1070\u001b[0m\u001b]8;;\u001b\\\n"
      ]
     },
     "metadata": {},
     "output_type": "display_data"
    },
    {
     "data": {
      "text/html": [
       "<pre style=\"white-space:pre;overflow-x:auto;line-height:normal;font-family:Menlo,'DejaVu Sans Mono',consolas,'Courier New',monospace\"><span style=\"color: #000080; text-decoration-color: #000080\">INFO    </span> HTTP Request: <span style=\"color: #808000; text-decoration-color: #808000; font-weight: bold\">GET</span> <span style=\"color: #0000ff; text-decoration-color: #0000ff; text-decoration: underline\">http://localhost:8000/v4/aliases/rCRSd-1</span> <span style=\"color: #008000; text-decoration-color: #008000\">\"HTTP/1.1 200 OK\"</span>               <a href=\"file:///Users/stolarczyk/code/refgenie1/.venv/lib/python3.12/site-packages/httpx/_client.py\" target=\"_blank\"><span style=\"color: #7f7f7f; text-decoration-color: #7f7f7f\">_client.py</span></a><span style=\"color: #7f7f7f; text-decoration-color: #7f7f7f\">:</span><a href=\"file:///Users/stolarczyk/code/refgenie1/.venv/lib/python3.12/site-packages/httpx/_client.py#1027\" target=\"_blank\"><span style=\"color: #7f7f7f; text-decoration-color: #7f7f7f\">1027</span></a>\n",
       "</pre>\n"
      ],
      "text/plain": [
       "\u001b[34mINFO    \u001b[0m HTTP Request: \u001b[1;33mGET\u001b[0m \u001b[4;94mhttp://localhost:8000/v4/aliases/rCRSd-1\u001b[0m \u001b[32m\"HTTP/1.1 200 OK\"\u001b[0m               \u001b]8;id=979389;file:///Users/stolarczyk/code/refgenie1/.venv/lib/python3.12/site-packages/httpx/_client.py\u001b\\\u001b[2m_client.py\u001b[0m\u001b]8;;\u001b\\\u001b[2m:\u001b[0m\u001b]8;id=839055;file:///Users/stolarczyk/code/refgenie1/.venv/lib/python3.12/site-packages/httpx/_client.py#1027\u001b\\\u001b[2m1027\u001b[0m\u001b]8;;\u001b\\\n"
      ]
     },
     "metadata": {},
     "output_type": "display_data"
    },
    {
     "data": {
      "text/html": [
       "<pre style=\"white-space:pre;overflow-x:auto;line-height:normal;font-family:Menlo,'DejaVu Sans Mono',consolas,'Courier New',monospace\"><span style=\"color: #000080; text-decoration-color: #000080\">INFO    </span> HTTP Request: <span style=\"color: #808000; text-decoration-color: #808000; font-weight: bold\">GET</span> <span style=\"color: #0000ff; text-decoration-color: #0000ff; text-decoration: underline\">http://localhost:8000/v4/genomes/ZtAkf32sCUjeSl0KxVA5DVevklHDazQM</span>        <a href=\"file:///Users/stolarczyk/code/refgenie1/.venv/lib/python3.12/site-packages/httpx/_client.py\" target=\"_blank\"><span style=\"color: #7f7f7f; text-decoration-color: #7f7f7f\">_client.py</span></a><span style=\"color: #7f7f7f; text-decoration-color: #7f7f7f\">:</span><a href=\"file:///Users/stolarczyk/code/refgenie1/.venv/lib/python3.12/site-packages/httpx/_client.py#1027\" target=\"_blank\"><span style=\"color: #7f7f7f; text-decoration-color: #7f7f7f\">1027</span></a>\n",
       "         <span style=\"color: #008000; text-decoration-color: #008000\">\"HTTP/1.1 200 OK\"</span>                                                                          <span style=\"color: #7f7f7f; text-decoration-color: #7f7f7f\">               </span>\n",
       "</pre>\n"
      ],
      "text/plain": [
       "\u001b[34mINFO    \u001b[0m HTTP Request: \u001b[1;33mGET\u001b[0m \u001b[4;94mhttp://localhost:8000/v4/genomes/ZtAkf32sCUjeSl0KxVA5DVevklHDazQM\u001b[0m        \u001b]8;id=122750;file:///Users/stolarczyk/code/refgenie1/.venv/lib/python3.12/site-packages/httpx/_client.py\u001b\\\u001b[2m_client.py\u001b[0m\u001b]8;;\u001b\\\u001b[2m:\u001b[0m\u001b]8;id=751641;file:///Users/stolarczyk/code/refgenie1/.venv/lib/python3.12/site-packages/httpx/_client.py#1027\u001b\\\u001b[2m1027\u001b[0m\u001b]8;;\u001b\\\n",
       "         \u001b[32m\"HTTP/1.1 200 OK\"\u001b[0m                                                                          \u001b[2m               \u001b[0m\n"
      ]
     },
     "metadata": {},
     "output_type": "display_data"
    },
    {
     "data": {
      "text/html": [
       "<pre style=\"white-space:pre;overflow-x:auto;line-height:normal;font-family:Menlo,'DejaVu Sans Mono',consolas,'Courier New',monospace\"><span style=\"color: #000080; text-decoration-color: #000080\">INFO    </span> Determined digest for rCRSd-<span style=\"color: #008080; text-decoration-color: #008080; font-weight: bold\">1</span>: ZtAkf32sCUjeSl0KxVA5DVevklHDazQM                           <a href=\"file:///Users/stolarczyk/code/refgenie1/refgenie/refgenie.py\" target=\"_blank\"><span style=\"color: #7f7f7f; text-decoration-color: #7f7f7f\">refgenie.py</span></a><span style=\"color: #7f7f7f; text-decoration-color: #7f7f7f\">:</span><a href=\"file:///Users/stolarczyk/code/refgenie1/refgenie/refgenie.py#1136\" target=\"_blank\"><span style=\"color: #7f7f7f; text-decoration-color: #7f7f7f\">1136</span></a>\n",
       "</pre>\n"
      ],
      "text/plain": [
       "\u001b[34mINFO    \u001b[0m Determined digest for rCRSd-\u001b[1;36m1\u001b[0m: ZtAkf32sCUjeSl0KxVA5DVevklHDazQM                           \u001b]8;id=877581;file:///Users/stolarczyk/code/refgenie1/refgenie/refgenie.py\u001b\\\u001b[2mrefgenie.py\u001b[0m\u001b]8;;\u001b\\\u001b[2m:\u001b[0m\u001b]8;id=127238;file:///Users/stolarczyk/code/refgenie1/refgenie/refgenie.py#1136\u001b\\\u001b[2m1136\u001b[0m\u001b]8;;\u001b\\\n"
      ]
     },
     "metadata": {},
     "output_type": "display_data"
    },
    {
     "data": {
      "text/html": [
       "<pre style=\"white-space:pre;overflow-x:auto;line-height:normal;font-family:Menlo,'DejaVu Sans Mono',consolas,'Courier New',monospace\"><span style=\"color: #000080; text-decoration-color: #000080\">INFO    </span> HTTP Request: <span style=\"color: #808000; text-decoration-color: #808000; font-weight: bold\">GET</span>                                                                          <a href=\"file:///Users/stolarczyk/code/refgenie1/.venv/lib/python3.12/site-packages/httpx/_client.py\" target=\"_blank\"><span style=\"color: #7f7f7f; text-decoration-color: #7f7f7f\">_client.py</span></a><span style=\"color: #7f7f7f; text-decoration-color: #7f7f7f\">:</span><a href=\"file:///Users/stolarczyk/code/refgenie1/.venv/lib/python3.12/site-packages/httpx/_client.py#1027\" target=\"_blank\"><span style=\"color: #7f7f7f; text-decoration-color: #7f7f7f\">1027</span></a>\n",
       "         <span style=\"color: #0000ff; text-decoration-color: #0000ff; text-decoration: underline\">http://localhost:8000/v4/asset_groups?genome_digest=ZtAkf32sCUjeSl0KxVA5DVevklHDazQM&amp;asset</span> <span style=\"color: #7f7f7f; text-decoration-color: #7f7f7f\">               </span>\n",
       "         <span style=\"color: #0000ff; text-decoration-color: #0000ff; text-decoration: underline\">_group_name=fasta</span> <span style=\"color: #008000; text-decoration-color: #008000\">\"HTTP/1.1 200 OK\"</span>                                                        <span style=\"color: #7f7f7f; text-decoration-color: #7f7f7f\">               </span>\n",
       "</pre>\n"
      ],
      "text/plain": [
       "\u001b[34mINFO    \u001b[0m HTTP Request: \u001b[1;33mGET\u001b[0m                                                                          \u001b]8;id=43518;file:///Users/stolarczyk/code/refgenie1/.venv/lib/python3.12/site-packages/httpx/_client.py\u001b\\\u001b[2m_client.py\u001b[0m\u001b]8;;\u001b\\\u001b[2m:\u001b[0m\u001b]8;id=57687;file:///Users/stolarczyk/code/refgenie1/.venv/lib/python3.12/site-packages/httpx/_client.py#1027\u001b\\\u001b[2m1027\u001b[0m\u001b]8;;\u001b\\\n",
       "         \u001b[4;94mhttp://localhost:8000/v4/asset_groups?\u001b[0m\u001b[4;94mgenome_digest\u001b[0m\u001b[4;94m=\u001b[0m\u001b[4;94mZtAkf32sCUjeSl0KxVA5DVevklHDazQM\u001b[0m\u001b[4;94m&\u001b[0m\u001b[4;94masset\u001b[0m \u001b[2m               \u001b[0m\n",
       "         \u001b[4;94m_group_name\u001b[0m\u001b[4;94m=\u001b[0m\u001b[4;94mfasta\u001b[0m \u001b[32m\"HTTP/1.1 200 OK\"\u001b[0m                                                        \u001b[2m               \u001b[0m\n"
      ]
     },
     "metadata": {},
     "output_type": "display_data"
    },
    {
     "data": {
      "text/html": [
       "<pre style=\"white-space:pre;overflow-x:auto;line-height:normal;font-family:Menlo,'DejaVu Sans Mono',consolas,'Courier New',monospace\"><span style=\"color: #000080; text-decoration-color: #000080\">INFO    </span> HTTP Request: <span style=\"color: #808000; text-decoration-color: #808000; font-weight: bold\">GET</span> <span style=\"color: #0000ff; text-decoration-color: #0000ff; text-decoration: underline\">http://localhost:8000/v4/assets?asset_group_id=1&amp;name=</span> <span style=\"color: #008000; text-decoration-color: #008000\">\"HTTP/1.1 200 OK\"</span> <a href=\"file:///Users/stolarczyk/code/refgenie1/.venv/lib/python3.12/site-packages/httpx/_client.py\" target=\"_blank\"><span style=\"color: #7f7f7f; text-decoration-color: #7f7f7f\">_client.py</span></a><span style=\"color: #7f7f7f; text-decoration-color: #7f7f7f\">:</span><a href=\"file:///Users/stolarczyk/code/refgenie1/.venv/lib/python3.12/site-packages/httpx/_client.py#1027\" target=\"_blank\"><span style=\"color: #7f7f7f; text-decoration-color: #7f7f7f\">1027</span></a>\n",
       "</pre>\n"
      ],
      "text/plain": [
       "\u001b[34mINFO    \u001b[0m HTTP Request: \u001b[1;33mGET\u001b[0m \u001b[4;94mhttp://localhost:8000/v4/assets?\u001b[0m\u001b[4;94masset_group_id\u001b[0m\u001b[4;94m=\u001b[0m\u001b[4;94m1\u001b[0m\u001b[4;94m&\u001b[0m\u001b[4;94mname\u001b[0m\u001b[4;94m=\u001b[0m \u001b[32m\"HTTP/1.1 200 OK\"\u001b[0m \u001b]8;id=720399;file:///Users/stolarczyk/code/refgenie1/.venv/lib/python3.12/site-packages/httpx/_client.py\u001b\\\u001b[2m_client.py\u001b[0m\u001b]8;;\u001b\\\u001b[2m:\u001b[0m\u001b]8;id=33073;file:///Users/stolarczyk/code/refgenie1/.venv/lib/python3.12/site-packages/httpx/_client.py#1027\u001b\\\u001b[2m1027\u001b[0m\u001b]8;;\u001b\\\n"
      ]
     },
     "metadata": {},
     "output_type": "display_data"
    },
    {
     "data": {
      "text/html": [
       "<pre style=\"white-space:pre;overflow-x:auto;line-height:normal;font-family:Menlo,'DejaVu Sans Mono',consolas,'Courier New',monospace\"><span style=\"color: #000080; text-decoration-color: #000080\">INFO    </span> HTTP Request: <span style=\"color: #808000; text-decoration-color: #808000; font-weight: bold\">GET</span>                                                                          <a href=\"file:///Users/stolarczyk/code/refgenie1/.venv/lib/python3.12/site-packages/httpx/_client.py\" target=\"_blank\"><span style=\"color: #7f7f7f; text-decoration-color: #7f7f7f\">_client.py</span></a><span style=\"color: #7f7f7f; text-decoration-color: #7f7f7f\">:</span><a href=\"file:///Users/stolarczyk/code/refgenie1/.venv/lib/python3.12/site-packages/httpx/_client.py#1027\" target=\"_blank\"><span style=\"color: #7f7f7f; text-decoration-color: #7f7f7f\">1027</span></a>\n",
       "         <span style=\"color: #0000ff; text-decoration-color: #0000ff; text-decoration: underline\">http://localhost:8000/v4/archives?asset_digest=8ccce3f01185ef75c8dabeb9e03f8822</span> <span style=\"color: #008000; text-decoration-color: #008000\">\"HTTP/1.1 </span> <span style=\"color: #7f7f7f; text-decoration-color: #7f7f7f\">               </span>\n",
       "         <span style=\"color: #008000; text-decoration-color: #008000\">200 OK\"</span>                                                                                    <span style=\"color: #7f7f7f; text-decoration-color: #7f7f7f\">               </span>\n",
       "</pre>\n"
      ],
      "text/plain": [
       "\u001b[34mINFO    \u001b[0m HTTP Request: \u001b[1;33mGET\u001b[0m                                                                          \u001b]8;id=244386;file:///Users/stolarczyk/code/refgenie1/.venv/lib/python3.12/site-packages/httpx/_client.py\u001b\\\u001b[2m_client.py\u001b[0m\u001b]8;;\u001b\\\u001b[2m:\u001b[0m\u001b]8;id=170678;file:///Users/stolarczyk/code/refgenie1/.venv/lib/python3.12/site-packages/httpx/_client.py#1027\u001b\\\u001b[2m1027\u001b[0m\u001b]8;;\u001b\\\n",
       "         \u001b[4;94mhttp://localhost:8000/v4/archives?\u001b[0m\u001b[4;94masset_digest\u001b[0m\u001b[4;94m=\u001b[0m\u001b[4;94m8ccce3f01185ef75c8dabeb9e03f8822\u001b[0m \u001b[32m\"HTTP/1.1 \u001b[0m \u001b[2m               \u001b[0m\n",
       "         \u001b[32m200 OK\"\u001b[0m                                                                                    \u001b[2m               \u001b[0m\n"
      ]
     },
     "metadata": {},
     "output_type": "display_data"
    },
    {
     "data": {
      "text/html": [
       "<pre style=\"white-space:pre;overflow-x:auto;line-height:normal;font-family:Menlo,'DejaVu Sans Mono',consolas,'Courier New',monospace\"><span style=\"color: #000080; text-decoration-color: #000080\">INFO    </span> HTTP Request: <span style=\"color: #808000; text-decoration-color: #808000; font-weight: bold\">GET</span>                                                                          <a href=\"file:///Users/stolarczyk/code/refgenie1/.venv/lib/python3.12/site-packages/httpx/_client.py\" target=\"_blank\"><span style=\"color: #7f7f7f; text-decoration-color: #7f7f7f\">_client.py</span></a><span style=\"color: #7f7f7f; text-decoration-color: #7f7f7f\">:</span><a href=\"file:///Users/stolarczyk/code/refgenie1/.venv/lib/python3.12/site-packages/httpx/_client.py#1027\" target=\"_blank\"><span style=\"color: #7f7f7f; text-decoration-color: #7f7f7f\">1027</span></a>\n",
       "         <span style=\"color: #0000ff; text-decoration-color: #0000ff; text-decoration: underline\">http://localhost:8000/v4/relationships/8ccce3f01185ef75c8dabeb9e03f8822?expand=true</span>        <span style=\"color: #7f7f7f; text-decoration-color: #7f7f7f\">               </span>\n",
       "         <span style=\"color: #008000; text-decoration-color: #008000\">\"HTTP/1.1 200 OK\"</span>                                                                          <span style=\"color: #7f7f7f; text-decoration-color: #7f7f7f\">               </span>\n",
       "</pre>\n"
      ],
      "text/plain": [
       "\u001b[34mINFO    \u001b[0m HTTP Request: \u001b[1;33mGET\u001b[0m                                                                          \u001b]8;id=80476;file:///Users/stolarczyk/code/refgenie1/.venv/lib/python3.12/site-packages/httpx/_client.py\u001b\\\u001b[2m_client.py\u001b[0m\u001b]8;;\u001b\\\u001b[2m:\u001b[0m\u001b]8;id=793490;file:///Users/stolarczyk/code/refgenie1/.venv/lib/python3.12/site-packages/httpx/_client.py#1027\u001b\\\u001b[2m1027\u001b[0m\u001b]8;;\u001b\\\n",
       "         \u001b[4;94mhttp://localhost:8000/v4/relationships/8ccce3f01185ef75c8dabeb9e03f8822?\u001b[0m\u001b[4;94mexpand\u001b[0m\u001b[4;94m=\u001b[0m\u001b[4;94mtrue\u001b[0m        \u001b[2m               \u001b[0m\n",
       "         \u001b[32m\"HTTP/1.1 200 OK\"\u001b[0m                                                                          \u001b[2m               \u001b[0m\n"
      ]
     },
     "metadata": {},
     "output_type": "display_data"
    },
    {
     "data": {
      "text/html": [
       "<pre style=\"white-space:pre;overflow-x:auto;line-height:normal;font-family:Menlo,'DejaVu Sans Mono',consolas,'Courier New',monospace\">/Users/stolarczyk/code/refgenie1/.venv/lib/python3.12/site-packages/rich/live.py:231: UserWarning: install \n",
       "\"ipywidgets\" for Jupyter support\n",
       "  warnings.warn('install \"ipywidgets\" for Jupyter support')\n",
       "</pre>\n"
      ],
      "text/plain": [
       "/Users/stolarczyk/code/refgenie1/.venv/lib/python3.12/site-packages/rich/live.py:231: UserWarning: install \n",
       "\"ipywidgets\" for Jupyter support\n",
       "  warnings.warn('install \"ipywidgets\" for Jupyter support')\n"
      ]
     },
     "metadata": {},
     "output_type": "display_data"
    },
    {
     "data": {
      "text/html": [
       "<pre style=\"white-space:pre;overflow-x:auto;line-height:normal;font-family:Menlo,'DejaVu Sans Mono',consolas,'Courier New',monospace\"><span style=\"color: #000080; text-decoration-color: #000080\">INFO    </span> HTTP Request: <span style=\"color: #808000; text-decoration-color: #808000; font-weight: bold\">GET</span>                                                                          <a href=\"file:///Users/stolarczyk/code/refgenie1/.venv/lib/python3.12/site-packages/httpx/_client.py\" target=\"_blank\"><span style=\"color: #7f7f7f; text-decoration-color: #7f7f7f\">_client.py</span></a><span style=\"color: #7f7f7f; text-decoration-color: #7f7f7f\">:</span><a href=\"file:///Users/stolarczyk/code/refgenie1/.venv/lib/python3.12/site-packages/httpx/_client.py#1027\" target=\"_blank\"><span style=\"color: #7f7f7f; text-decoration-color: #7f7f7f\">1027</span></a>\n",
       "         <span style=\"color: #0000ff; text-decoration-color: #0000ff; text-decoration: underline\">http://localhost:8000/v4/archives/a769250cd482fffc8bbabf8f00821d24/download</span> <span style=\"color: #008000; text-decoration-color: #008000\">\"HTTP/1.1 200 </span> <span style=\"color: #7f7f7f; text-decoration-color: #7f7f7f\">               </span>\n",
       "         <span style=\"color: #008000; text-decoration-color: #008000\">OK\"</span>                                                                                        <span style=\"color: #7f7f7f; text-decoration-color: #7f7f7f\">               </span>\n",
       "</pre>\n"
      ],
      "text/plain": [
       "\u001b[34mINFO    \u001b[0m HTTP Request: \u001b[1;33mGET\u001b[0m                                                                          \u001b]8;id=730650;file:///Users/stolarczyk/code/refgenie1/.venv/lib/python3.12/site-packages/httpx/_client.py\u001b\\\u001b[2m_client.py\u001b[0m\u001b]8;;\u001b\\\u001b[2m:\u001b[0m\u001b]8;id=158282;file:///Users/stolarczyk/code/refgenie1/.venv/lib/python3.12/site-packages/httpx/_client.py#1027\u001b\\\u001b[2m1027\u001b[0m\u001b]8;;\u001b\\\n",
       "         \u001b[4;94mhttp://localhost:8000/v4/archives/a769250cd482fffc8bbabf8f00821d24/download\u001b[0m \u001b[32m\"HTTP/1.1 200 \u001b[0m \u001b[2m               \u001b[0m\n",
       "         \u001b[32mOK\"\u001b[0m                                                                                        \u001b[2m               \u001b[0m\n"
      ]
     },
     "metadata": {},
     "output_type": "display_data"
    },
    {
     "data": {
      "text/html": [
       "<pre style=\"white-space:pre;overflow-x:auto;line-height:normal;font-family:Menlo,'DejaVu Sans Mono',consolas,'Courier New',monospace\"></pre>\n"
      ],
      "text/plain": []
     },
     "metadata": {},
     "output_type": "display_data"
    },
    {
     "data": {
      "text/html": [
       "<pre style=\"white-space:pre;overflow-x:auto;line-height:normal;font-family:Menlo,'DejaVu Sans Mono',consolas,'Courier New',monospace\"><span style=\"color: #000080; text-decoration-color: #000080\">INFO    </span> Extracting asset tarball:                                                                 <a href=\"file:///Users/stolarczyk/code/refgenie1/refgenie/refgenie.py\" target=\"_blank\"><span style=\"color: #7f7f7f; text-decoration-color: #7f7f7f\">refgenie.py</span></a><span style=\"color: #7f7f7f; text-decoration-color: #7f7f7f\">:</span><a href=\"file:///Users/stolarczyk/code/refgenie1/refgenie/refgenie.py#3293\" target=\"_blank\"><span style=\"color: #7f7f7f; text-decoration-color: #7f7f7f\">3293</span></a>\n",
       "         <span style=\"color: #800080; text-decoration-color: #800080\">/var/folders/18/3fc3jyt50sv9kqx6hdqg5b600000gn/T/refgenie_demo_ugm8n45l/data/ZtAkf32sCUje</span> <span style=\"color: #7f7f7f; text-decoration-color: #7f7f7f\">                </span>\n",
       "         <span style=\"color: #800080; text-decoration-color: #800080\">Sl0KxVA5DVevklHDazQM/fasta/samtools-1.21/</span><span style=\"color: #ff00ff; text-decoration-color: #ff00ff\">fasta__samtools-1.21.tgz</span>                         <span style=\"color: #7f7f7f; text-decoration-color: #7f7f7f\">                </span>\n",
       "</pre>\n"
      ],
      "text/plain": [
       "\u001b[34mINFO    \u001b[0m Extracting asset tarball:                                                                 \u001b]8;id=761607;file:///Users/stolarczyk/code/refgenie1/refgenie/refgenie.py\u001b\\\u001b[2mrefgenie.py\u001b[0m\u001b]8;;\u001b\\\u001b[2m:\u001b[0m\u001b]8;id=697682;file:///Users/stolarczyk/code/refgenie1/refgenie/refgenie.py#3293\u001b\\\u001b[2m3293\u001b[0m\u001b]8;;\u001b\\\n",
       "         \u001b[35m/var/folders/18/3fc3jyt50sv9kqx6hdqg5b600000gn/T/refgenie_demo_ugm8n45l/data/ZtAkf32sCUje\u001b[0m \u001b[2m                \u001b[0m\n",
       "         \u001b[35mSl0KxVA5DVevklHDazQM/fasta/samtools-1.21/\u001b[0m\u001b[95mfasta__samtools-1.21.tgz\u001b[0m                         \u001b[2m                \u001b[0m\n"
      ]
     },
     "metadata": {},
     "output_type": "display_data"
    },
    {
     "data": {
      "text/html": [
       "<pre style=\"white-space:pre;overflow-x:auto;line-height:normal;font-family:Menlo,'DejaVu Sans Mono',consolas,'Courier New',monospace\"><span style=\"color: #000080; text-decoration-color: #000080\">INFO    </span> HTTP Request: <span style=\"color: #808000; text-decoration-color: #808000; font-weight: bold\">GET</span> <span style=\"color: #0000ff; text-decoration-color: #0000ff; text-decoration: underline\">http://localhost:8000/v4/genomes/ZtAkf32sCUjeSl0KxVA5DVevklHDazQM</span>        <a href=\"file:///Users/stolarczyk/code/refgenie1/.venv/lib/python3.12/site-packages/httpx/_client.py\" target=\"_blank\"><span style=\"color: #7f7f7f; text-decoration-color: #7f7f7f\">_client.py</span></a><span style=\"color: #7f7f7f; text-decoration-color: #7f7f7f\">:</span><a href=\"file:///Users/stolarczyk/code/refgenie1/.venv/lib/python3.12/site-packages/httpx/_client.py#1027\" target=\"_blank\"><span style=\"color: #7f7f7f; text-decoration-color: #7f7f7f\">1027</span></a>\n",
       "         <span style=\"color: #008000; text-decoration-color: #008000\">\"HTTP/1.1 200 OK\"</span>                                                                          <span style=\"color: #7f7f7f; text-decoration-color: #7f7f7f\">               </span>\n",
       "</pre>\n"
      ],
      "text/plain": [
       "\u001b[34mINFO    \u001b[0m HTTP Request: \u001b[1;33mGET\u001b[0m \u001b[4;94mhttp://localhost:8000/v4/genomes/ZtAkf32sCUjeSl0KxVA5DVevklHDazQM\u001b[0m        \u001b]8;id=820861;file:///Users/stolarczyk/code/refgenie1/.venv/lib/python3.12/site-packages/httpx/_client.py\u001b\\\u001b[2m_client.py\u001b[0m\u001b]8;;\u001b\\\u001b[2m:\u001b[0m\u001b]8;id=346864;file:///Users/stolarczyk/code/refgenie1/.venv/lib/python3.12/site-packages/httpx/_client.py#1027\u001b\\\u001b[2m1027\u001b[0m\u001b]8;;\u001b\\\n",
       "         \u001b[32m\"HTTP/1.1 200 OK\"\u001b[0m                                                                          \u001b[2m               \u001b[0m\n"
      ]
     },
     "metadata": {},
     "output_type": "display_data"
    },
    {
     "data": {
      "text/html": [
       "<pre style=\"white-space:pre;overflow-x:auto;line-height:normal;font-family:Menlo,'DejaVu Sans Mono',consolas,'Courier New',monospace\"><span style=\"color: #000080; text-decoration-color: #000080\">INFO    </span> Initializing genome from FASTA file:                                                      <a href=\"file:///Users/stolarczyk/code/refgenie1/refgenie/refgenie.py\" target=\"_blank\"><span style=\"color: #7f7f7f; text-decoration-color: #7f7f7f\">refgenie.py</span></a><span style=\"color: #7f7f7f; text-decoration-color: #7f7f7f\">:</span><a href=\"file:///Users/stolarczyk/code/refgenie1/refgenie/refgenie.py#1238\" target=\"_blank\"><span style=\"color: #7f7f7f; text-decoration-color: #7f7f7f\">1238</span></a>\n",
       "         <span style=\"color: #800080; text-decoration-color: #800080\">/var/folders/18/3fc3jyt50sv9kqx6hdqg5b600000gn/T/refgenie_demo_ugm8n45l/data/ZtAkf32sCUje</span> <span style=\"color: #7f7f7f; text-decoration-color: #7f7f7f\">                </span>\n",
       "         <span style=\"color: #800080; text-decoration-color: #800080\">Sl0KxVA5DVevklHDazQM/fasta/samtools-1.21/</span><span style=\"color: #ff00ff; text-decoration-color: #ff00ff\">ZtAkf32sCUjeSl0KxVA5DVevklHDazQM.fa</span>              <span style=\"color: #7f7f7f; text-decoration-color: #7f7f7f\">                </span>\n",
       "</pre>\n"
      ],
      "text/plain": [
       "\u001b[34mINFO    \u001b[0m Initializing genome from FASTA file:                                                      \u001b]8;id=177088;file:///Users/stolarczyk/code/refgenie1/refgenie/refgenie.py\u001b\\\u001b[2mrefgenie.py\u001b[0m\u001b]8;;\u001b\\\u001b[2m:\u001b[0m\u001b]8;id=724694;file:///Users/stolarczyk/code/refgenie1/refgenie/refgenie.py#1238\u001b\\\u001b[2m1238\u001b[0m\u001b]8;;\u001b\\\n",
       "         \u001b[35m/var/folders/18/3fc3jyt50sv9kqx6hdqg5b600000gn/T/refgenie_demo_ugm8n45l/data/ZtAkf32sCUje\u001b[0m \u001b[2m                \u001b[0m\n",
       "         \u001b[35mSl0KxVA5DVevklHDazQM/fasta/samtools-1.21/\u001b[0m\u001b[95mZtAkf32sCUjeSl0KxVA5DVevklHDazQM.fa\u001b[0m              \u001b[2m                \u001b[0m\n"
      ]
     },
     "metadata": {},
     "output_type": "display_data"
    },
    {
     "data": {
      "text/html": [
       "<pre style=\"white-space:pre;overflow-x:auto;line-height:normal;font-family:Menlo,'DejaVu Sans Mono',consolas,'Courier New',monospace\"><span style=\"color: #000080; text-decoration-color: #000080\">INFO    </span> SeqCol: <span style=\"color: #808000; text-decoration-color: #808000\">digest</span>=<span style=\"color: #008000; text-decoration-color: #008000\">'ZtAkf32sCUjeSl0KxVA5DVevklHDazQM'</span>                                            <a href=\"file:///Users/stolarczyk/code/refgenie1/.venv/lib/python3.12/site-packages/refget/agents.py\" target=\"_blank\"><span style=\"color: #7f7f7f; text-decoration-color: #7f7f7f\">agents.py</span></a><span style=\"color: #7f7f7f; text-decoration-color: #7f7f7f\">:</span><a href=\"file:///Users/stolarczyk/code/refgenie1/.venv/lib/python3.12/site-packages/refget/agents.py#242\" target=\"_blank\"><span style=\"color: #7f7f7f; text-decoration-color: #7f7f7f\">242</span></a>\n",
       "         <span style=\"color: #808000; text-decoration-color: #808000\">sorted_name_length_pairs_digest</span>=<span style=\"color: #008000; text-decoration-color: #008000\">'cqchGk0CDISu293ibJ6WhCZ4T4scXgZW'</span>                           <span style=\"color: #7f7f7f; text-decoration-color: #7f7f7f\">             </span>\n",
       "</pre>\n"
      ],
      "text/plain": [
       "\u001b[34mINFO    \u001b[0m SeqCol: \u001b[33mdigest\u001b[0m=\u001b[32m'ZtAkf32sCUjeSl0KxVA5DVevklHDazQM'\u001b[0m                                            \u001b]8;id=328600;file:///Users/stolarczyk/code/refgenie1/.venv/lib/python3.12/site-packages/refget/agents.py\u001b\\\u001b[2magents.py\u001b[0m\u001b]8;;\u001b\\\u001b[2m:\u001b[0m\u001b]8;id=873896;file:///Users/stolarczyk/code/refgenie1/.venv/lib/python3.12/site-packages/refget/agents.py#242\u001b\\\u001b[2m242\u001b[0m\u001b]8;;\u001b\\\n",
       "         \u001b[33msorted_name_length_pairs_digest\u001b[0m=\u001b[32m'cqchGk0CDISu293ibJ6WhCZ4T4scXgZW'\u001b[0m                           \u001b[2m             \u001b[0m\n"
      ]
     },
     "metadata": {},
     "output_type": "display_data"
    },
    {
     "data": {
      "text/html": [
       "<pre style=\"white-space:pre;overflow-x:auto;line-height:normal;font-family:Menlo,'DejaVu Sans Mono',consolas,'Courier New',monospace\"><span style=\"color: #000080; text-decoration-color: #000080\">INFO    </span> Initialized genome: ZtAkf32sCUjeSl0KxVA5DVevklHDazQM <span style=\"font-weight: bold\">(</span>Yeast genome <span style=\"color: #008080; text-decoration-color: #008080; font-weight: bold\">1</span><span style=\"font-weight: bold\">)</span>                     <a href=\"file:///Users/stolarczyk/code/refgenie1/refgenie/refgenie.py\" target=\"_blank\"><span style=\"color: #7f7f7f; text-decoration-color: #7f7f7f\">refgenie.py</span></a><span style=\"color: #7f7f7f; text-decoration-color: #7f7f7f\">:</span><a href=\"file:///Users/stolarczyk/code/refgenie1/refgenie/refgenie.py#1272\" target=\"_blank\"><span style=\"color: #7f7f7f; text-decoration-color: #7f7f7f\">1272</span></a>\n",
       "</pre>\n"
      ],
      "text/plain": [
       "\u001b[34mINFO    \u001b[0m Initialized genome: ZtAkf32sCUjeSl0KxVA5DVevklHDazQM \u001b[1m(\u001b[0mYeast genome \u001b[1;36m1\u001b[0m\u001b[1m)\u001b[0m                     \u001b]8;id=139939;file:///Users/stolarczyk/code/refgenie1/refgenie/refgenie.py\u001b\\\u001b[2mrefgenie.py\u001b[0m\u001b]8;;\u001b\\\u001b[2m:\u001b[0m\u001b]8;id=280730;file:///Users/stolarczyk/code/refgenie1/refgenie/refgenie.py#1272\u001b\\\u001b[2m1272\u001b[0m\u001b]8;;\u001b\\\n"
      ]
     },
     "metadata": {},
     "output_type": "display_data"
    },
    {
     "data": {
      "text/html": [
       "<pre style=\"white-space:pre;overflow-x:auto;line-height:normal;font-family:Menlo,'DejaVu Sans Mono',consolas,'Courier New',monospace\"></pre>\n"
      ],
      "text/plain": []
     },
     "metadata": {},
     "output_type": "display_data"
    },
    {
     "data": {
      "text/html": [
       "<pre style=\"white-space:pre;overflow-x:auto;line-height:normal;font-family:Menlo,'DejaVu Sans Mono',consolas,'Courier New',monospace\"><span style=\"color: #000080; text-decoration-color: #000080\">INFO    </span> Added: <span style=\"color: #008000; text-decoration-color: #008000\">'rCRSd-1/fasta:samtools-1.21'</span>                                                       <a href=\"file:///Users/stolarczyk/code/refgenie1/refgenie/refgenie.py\" target=\"_blank\"><span style=\"color: #7f7f7f; text-decoration-color: #7f7f7f\">refgenie.py</span></a><span style=\"color: #7f7f7f; text-decoration-color: #7f7f7f\">:</span><a href=\"file:///Users/stolarczyk/code/refgenie1/refgenie/refgenie.py#773\" target=\"_blank\"><span style=\"color: #7f7f7f; text-decoration-color: #7f7f7f\">773</span></a>\n",
       "</pre>\n"
      ],
      "text/plain": [
       "\u001b[34mINFO    \u001b[0m Added: \u001b[32m'rCRSd-1/fasta:samtools-1.21'\u001b[0m                                                       \u001b]8;id=301067;file:///Users/stolarczyk/code/refgenie1/refgenie/refgenie.py\u001b\\\u001b[2mrefgenie.py\u001b[0m\u001b]8;;\u001b\\\u001b[2m:\u001b[0m\u001b]8;id=226831;file:///Users/stolarczyk/code/refgenie1/refgenie/refgenie.py#773\u001b\\\u001b[2m773\u001b[0m\u001b]8;;\u001b\\\n"
      ]
     },
     "metadata": {},
     "output_type": "display_data"
    },
    {
     "data": {
      "text/html": [
       "<pre style=\"white-space:pre;overflow-x:auto;line-height:normal;font-family:Menlo,'DejaVu Sans Mono',consolas,'Courier New',monospace\"><span style=\"color: #000080; text-decoration-color: #000080\">INFO    </span> Created alias directories:                                                                <a href=\"file:///Users/stolarczyk/code/refgenie1/refgenie/refgenie.py\" target=\"_blank\"><span style=\"color: #7f7f7f; text-decoration-color: #7f7f7f\">refgenie.py</span></a><span style=\"color: #7f7f7f; text-decoration-color: #7f7f7f\">:</span><a href=\"file:///Users/stolarczyk/code/refgenie1/refgenie/refgenie.py#3515\" target=\"_blank\"><span style=\"color: #7f7f7f; text-decoration-color: #7f7f7f\">3515</span></a>\n",
       "         <span style=\"color: #800080; text-decoration-color: #800080\">/var/folders/18/3fc3jyt50sv9kqx6hdqg5b600000gn/T/refgenie_demo_ugm8n45l/alias/rCRSd-1/fas</span> <span style=\"color: #7f7f7f; text-decoration-color: #7f7f7f\">                </span>\n",
       "         <span style=\"color: #800080; text-decoration-color: #800080\">ta/</span><span style=\"color: #ff00ff; text-decoration-color: #ff00ff\">samtools-1.21</span>                                                                          <span style=\"color: #7f7f7f; text-decoration-color: #7f7f7f\">                </span>\n",
       "</pre>\n"
      ],
      "text/plain": [
       "\u001b[34mINFO    \u001b[0m Created alias directories:                                                                \u001b]8;id=82741;file:///Users/stolarczyk/code/refgenie1/refgenie/refgenie.py\u001b\\\u001b[2mrefgenie.py\u001b[0m\u001b]8;;\u001b\\\u001b[2m:\u001b[0m\u001b]8;id=619609;file:///Users/stolarczyk/code/refgenie1/refgenie/refgenie.py#3515\u001b\\\u001b[2m3515\u001b[0m\u001b]8;;\u001b\\\n",
       "         \u001b[35m/var/folders/18/3fc3jyt50sv9kqx6hdqg5b600000gn/T/refgenie_demo_ugm8n45l/alias/rCRSd-1/fas\u001b[0m \u001b[2m                \u001b[0m\n",
       "         \u001b[35mta/\u001b[0m\u001b[95msamtools-1.21\u001b[0m                                                                          \u001b[2m                \u001b[0m\n"
      ]
     },
     "metadata": {},
     "output_type": "display_data"
    },
    {
     "data": {
      "text/html": [
       "<pre style=\"white-space:pre;overflow-x:auto;line-height:normal;font-family:Menlo,'DejaVu Sans Mono',consolas,'Courier New',monospace\"><span style=\"color: #000080; text-decoration-color: #000080\">INFO    </span> Set default asset: <span style=\"color: #008000; text-decoration-color: #008000\">'ZtAkf32sCUjeSl0KxVA5DVevklHDazQM/fasta:samtools-1.21'</span>                 <a href=\"file:///Users/stolarczyk/code/refgenie1/refgenie/refgenie.py\" target=\"_blank\"><span style=\"color: #7f7f7f; text-decoration-color: #7f7f7f\">refgenie.py</span></a><span style=\"color: #7f7f7f; text-decoration-color: #7f7f7f\">:</span><a href=\"file:///Users/stolarczyk/code/refgenie1/refgenie/refgenie.py#1640\" target=\"_blank\"><span style=\"color: #7f7f7f; text-decoration-color: #7f7f7f\">1640</span></a>\n",
       "</pre>\n"
      ],
      "text/plain": [
       "\u001b[34mINFO    \u001b[0m Set default asset: \u001b[32m'ZtAkf32sCUjeSl0KxVA5DVevklHDazQM/fasta:samtools-1.21'\u001b[0m                 \u001b]8;id=285797;file:///Users/stolarczyk/code/refgenie1/refgenie/refgenie.py\u001b\\\u001b[2mrefgenie.py\u001b[0m\u001b]8;;\u001b\\\u001b[2m:\u001b[0m\u001b]8;id=441116;file:///Users/stolarczyk/code/refgenie1/refgenie/refgenie.py#1640\u001b\\\u001b[2m1640\u001b[0m\u001b]8;;\u001b\\\n"
      ]
     },
     "metadata": {},
     "output_type": "display_data"
    },
    {
     "data": {
      "text/plain": [
       "Asset(name='samtools-1.21', description=None, size=34082, updated_at=datetime.datetime(2025, 7, 6, 18, 28, 50, 885001), path='data/ZtAkf32sCUjeSl0KxVA5DVevklHDazQM/fasta/samtools-1.21', digest='8ccce3f01185ef75c8dabeb9e03f8822', recipe_id=None, asset_group_id=1, created_at=datetime.datetime(2025, 7, 6, 18, 28, 50, 885007))"
      ]
     },
     "execution_count": 10,
     "metadata": {},
     "output_type": "execute_result"
    }
   ],
   "source": [
    "refgenie.pull(alias_name=\"rCRSd-1\", asset_group_name=\"fasta\")"
   ]
  },
  {
   "cell_type": "markdown",
   "metadata": {},
   "source": [
    "As you can see above, the genome has been initialized and `fasta` asset was pulled. Let's inspect the initialized genome.\n"
   ]
  },
  {
   "cell_type": "code",
   "execution_count": 11,
   "metadata": {},
   "outputs": [
    {
     "data": {
      "text/html": [
       "<pre style=\"white-space:pre;overflow-x:auto;line-height:normal;font-family:Menlo,'DejaVu Sans Mono',consolas,'Courier New',monospace\"><span style=\"font-style: italic\">                       Genomes                       </span>\n",
       "┏━━━━━━━━━━━━━━━━━━━━━━━━━━━━━━━━━━┳━━━━━━━━━━━━━━━━┓\n",
       "┃<span style=\"font-weight: bold\"> Digest                           </span>┃<span style=\"font-weight: bold\"> Description    </span>┃\n",
       "┡━━━━━━━━━━━━━━━━━━━━━━━━━━━━━━━━━━╇━━━━━━━━━━━━━━━━┩\n",
       "│ ZtAkf32sCUjeSl0KxVA5DVevklHDazQM │ Yeast genome 1 │\n",
       "└──────────────────────────────────┴────────────────┘\n",
       "</pre>\n"
      ],
      "text/plain": [
       "\u001b[3m                       Genomes                       \u001b[0m\n",
       "┏━━━━━━━━━━━━━━━━━━━━━━━━━━━━━━━━━━┳━━━━━━━━━━━━━━━━┓\n",
       "┃\u001b[1m \u001b[0m\u001b[1mDigest                          \u001b[0m\u001b[1m \u001b[0m┃\u001b[1m \u001b[0m\u001b[1mDescription   \u001b[0m\u001b[1m \u001b[0m┃\n",
       "┡━━━━━━━━━━━━━━━━━━━━━━━━━━━━━━━━━━╇━━━━━━━━━━━━━━━━┩\n",
       "│ ZtAkf32sCUjeSl0KxVA5DVevklHDazQM │ Yeast genome 1 │\n",
       "└──────────────────────────────────┴────────────────┘\n"
      ]
     },
     "metadata": {},
     "output_type": "display_data"
    }
   ],
   "source": [
    "print(refgenie.genomes_table())"
   ]
  },
  {
   "cell_type": "markdown",
   "metadata": {},
   "source": [
    "Now, that a `fasta` asset has been built for the `dm6` genome, let's add some custom asset classes and recipes to build an asset based on that.\n",
    "\n",
    "### Add `bowtie2_index` asset class and recipe\n",
    "\n",
    "By supplying a URL (`str` object) rather than a local path (`pathlib.Path` object), refgenie will grab the remote file and register it as if it was a local file.\n"
   ]
  },
  {
   "cell_type": "code",
   "execution_count": 12,
   "metadata": {},
   "outputs": [
    {
     "data": {
      "text/html": [
       "<pre style=\"white-space:pre;overflow-x:auto;line-height:normal;font-family:Menlo,'DejaVu Sans Mono',consolas,'Courier New',monospace\"><span style=\"color: #000080; text-decoration-color: #000080\">INFO    </span> Registered <span style=\"color: #008000; text-decoration-color: #008000\">'bowtie2_index'</span> asset class                                                       <a href=\"file:///Users/stolarczyk/code/refgenie1/refgenie/resource_manager/asset_class/manager.py\" target=\"_blank\"><span style=\"color: #7f7f7f; text-decoration-color: #7f7f7f\">manager.py</span></a><span style=\"color: #7f7f7f; text-decoration-color: #7f7f7f\">:</span><a href=\"file:///Users/stolarczyk/code/refgenie1/refgenie/resource_manager/asset_class/manager.py#71\" target=\"_blank\"><span style=\"color: #7f7f7f; text-decoration-color: #7f7f7f\">71</span></a>\n",
       "</pre>\n"
      ],
      "text/plain": [
       "\u001b[34mINFO    \u001b[0m Registered \u001b[32m'bowtie2_index'\u001b[0m asset class                                                       \u001b]8;id=559618;file:///Users/stolarczyk/code/refgenie1/refgenie/resource_manager/asset_class/manager.py\u001b\\\u001b[2mmanager.py\u001b[0m\u001b]8;;\u001b\\\u001b[2m:\u001b[0m\u001b]8;id=47268;file:///Users/stolarczyk/code/refgenie1/refgenie/resource_manager/asset_class/manager.py#71\u001b\\\u001b[2m71\u001b[0m\u001b]8;;\u001b\\\n"
      ]
     },
     "metadata": {},
     "output_type": "display_data"
    },
    {
     "data": {
      "text/html": [
       "<pre style=\"white-space:pre;overflow-x:auto;line-height:normal;font-family:Menlo,'DejaVu Sans Mono',consolas,'Courier New',monospace\"><span style=\"color: #000080; text-decoration-color: #000080\">INFO    </span> Registered <span style=\"color: #008000; text-decoration-color: #008000\">'bowtie2_index'</span> recipe                                                           <a href=\"file:///Users/stolarczyk/code/refgenie1/refgenie/resource_manager/recipe/manager.py\" target=\"_blank\"><span style=\"color: #7f7f7f; text-decoration-color: #7f7f7f\">manager.py</span></a><span style=\"color: #7f7f7f; text-decoration-color: #7f7f7f\">:</span><a href=\"file:///Users/stolarczyk/code/refgenie1/refgenie/resource_manager/recipe/manager.py#113\" target=\"_blank\"><span style=\"color: #7f7f7f; text-decoration-color: #7f7f7f\">113</span></a>\n",
       "</pre>\n"
      ],
      "text/plain": [
       "\u001b[34mINFO    \u001b[0m Registered \u001b[32m'bowtie2_index'\u001b[0m recipe                                                           \u001b]8;id=872041;file:///Users/stolarczyk/code/refgenie1/refgenie/resource_manager/recipe/manager.py\u001b\\\u001b[2mmanager.py\u001b[0m\u001b]8;;\u001b\\\u001b[2m:\u001b[0m\u001b]8;id=899989;file:///Users/stolarczyk/code/refgenie1/refgenie/resource_manager/recipe/manager.py#113\u001b\\\u001b[2m113\u001b[0m\u001b]8;;\u001b\\\n"
      ]
     },
     "metadata": {},
     "output_type": "display_data"
    },
    {
     "data": {
      "text/plain": [
       "Recipe(id=2, name='bowtie2_index', version='0.0.1', description='Genome index for bowtie2, produced with bowtie2-build', output_asset_class_id=2, command_templates=['bowtie2-build --threads {{values.params[\"threads\"]}} {{values.genome_folder}}/{{values.assets[\"fasta\"].seek_keys_dict[\"fasta\"]}} {{values.output_folder}}/{{values.genome_digest}}'], input_params={'threads': {'description': 'Number of threads to use', 'default': 1}}, input_files=None, input_assets={'fasta': {'asset_class': 'fasta', 'description': 'fasta asset for genome', 'default': 'fasta'}}, docker_image='docker.io/databio/refgenie', custom_properties={'version': \"bowtie2-build --version | awk 'NR==1{print $3}'\"}, default_asset='{{values.custom_properties.version}}', updated_at=datetime.datetime(2025, 7, 6, 18, 28, 51, 196749), created_at=datetime.datetime(2025, 7, 6, 18, 28, 51, 196751))"
      ]
     },
     "execution_count": 12,
     "metadata": {},
     "output_type": "execute_result"
    }
   ],
   "source": [
    "refgenie.asset_class.add(\n",
    "    \"https://github.com/refgenie/recipes/raw/refgenie1/asset_classes/bowtie2_index_asset_class.yaml\"\n",
    ")\n",
    "refgenie.recipe.add(\n",
    "    \"https://github.com/refgenie/recipes/raw/refgenie1/recipes/bowtie2_index_asset_recipe.yaml\"\n",
    ")"
   ]
  },
  {
   "cell_type": "markdown",
   "metadata": {},
   "source": [
    "Let's verify that it worked by listing the available asset classes and recipes:\n"
   ]
  },
  {
   "cell_type": "code",
   "execution_count": 13,
   "metadata": {},
   "outputs": [
    {
     "data": {
      "text/html": [
       "<pre style=\"white-space:pre;overflow-x:auto;line-height:normal;font-family:Menlo,'DejaVu Sans Mono',consolas,'Courier New',monospace\"><span style=\"font-style: italic\">                                                      Recipes                                                      </span>\n",
       "┏━━━━━━━━━━━━━━━┳━━━━━━━━━┳━━━━━━━━━━━━━━━━━┳━━━━━━━━━━━━━━━━┳━━━━━━━━━━━━━━━━━┳━━━━━━━━━━━━━━━━┳━━━━━━━━━━━━━━━━━┓\n",
       "┃<span style=\"font-weight: bold\">               </span>┃<span style=\"font-weight: bold\">         </span>┃<span style=\"font-weight: bold\"> Output asset    </span>┃<span style=\"font-weight: bold\"> Input asset    </span>┃<span style=\"font-weight: bold\">                 </span>┃<span style=\"font-weight: bold\">                </span>┃<span style=\"font-weight: bold\">                 </span>┃\n",
       "┃<span style=\"font-weight: bold\"> Name          </span>┃<span style=\"font-weight: bold\"> Version </span>┃<span style=\"font-weight: bold\"> class           </span>┃<span style=\"font-weight: bold\"> classes        </span>┃<span style=\"font-weight: bold\"> Input files     </span>┃<span style=\"font-weight: bold\"> Input params   </span>┃<span style=\"font-weight: bold\"> Docker image    </span>┃\n",
       "┡━━━━━━━━━━━━━━━╇━━━━━━━━━╇━━━━━━━━━━━━━━━━━╇━━━━━━━━━━━━━━━━╇━━━━━━━━━━━━━━━━━╇━━━━━━━━━━━━━━━━╇━━━━━━━━━━━━━━━━━┩\n",
       "│ fasta         │ 0.0.1   │ fasta           │ <span style=\"color: #7f7f7f; text-decoration-color: #7f7f7f\">None</span>           │ • fasta <span style=\"color: #7f7f7f; text-decoration-color: #7f7f7f\">(DNA </span>   │ <span style=\"color: #7f7f7f; text-decoration-color: #7f7f7f\">None</span>           │ docker.io/data… │\n",
       "│               │         │                 │                │ <span style=\"color: #7f7f7f; text-decoration-color: #7f7f7f\">sequences in </span>   │                │                 │\n",
       "│               │         │                 │                │ <span style=\"color: #7f7f7f; text-decoration-color: #7f7f7f\">the FASTA </span>      │                │                 │\n",
       "│               │         │                 │                │ <span style=\"color: #7f7f7f; text-decoration-color: #7f7f7f\">format) </span>        │                │                 │\n",
       "│               │         │                 │                │ <span style=\"color: #7f7f7f; text-decoration-color: #7f7f7f\">default=None</span>    │                │                 │\n",
       "├───────────────┼─────────┼─────────────────┼────────────────┼─────────────────┼────────────────┼─────────────────┤\n",
       "│ bowtie2_index │ 0.0.1   │ bowtie2_index   │ • fasta <span style=\"color: #7f7f7f; text-decoration-color: #7f7f7f\">(fasta</span> │ <span style=\"color: #7f7f7f; text-decoration-color: #7f7f7f\">None</span>            │ • threads      │ docker.io/data… │\n",
       "│               │         │                 │ <span style=\"color: #7f7f7f; text-decoration-color: #7f7f7f\">asset for </span>     │                 │ <span style=\"color: #7f7f7f; text-decoration-color: #7f7f7f\">(Number of </span>    │                 │\n",
       "│               │         │                 │ <span style=\"color: #7f7f7f; text-decoration-color: #7f7f7f\">genome) </span>       │                 │ <span style=\"color: #7f7f7f; text-decoration-color: #7f7f7f\">threads to </span>    │                 │\n",
       "│               │         │                 │ <span style=\"color: #7f7f7f; text-decoration-color: #7f7f7f\">default=fasta</span>  │                 │ <span style=\"color: #7f7f7f; text-decoration-color: #7f7f7f\">use) default=1</span> │                 │\n",
       "└───────────────┴─────────┴─────────────────┴────────────────┴─────────────────┴────────────────┴─────────────────┘\n",
       "</pre>\n"
      ],
      "text/plain": [
       "\u001b[3m                                                      Recipes                                                      \u001b[0m\n",
       "┏━━━━━━━━━━━━━━━┳━━━━━━━━━┳━━━━━━━━━━━━━━━━━┳━━━━━━━━━━━━━━━━┳━━━━━━━━━━━━━━━━━┳━━━━━━━━━━━━━━━━┳━━━━━━━━━━━━━━━━━┓\n",
       "┃\u001b[1m               \u001b[0m┃\u001b[1m         \u001b[0m┃\u001b[1m \u001b[0m\u001b[1mOutput asset   \u001b[0m\u001b[1m \u001b[0m┃\u001b[1m \u001b[0m\u001b[1mInput asset   \u001b[0m\u001b[1m \u001b[0m┃\u001b[1m                 \u001b[0m┃\u001b[1m                \u001b[0m┃\u001b[1m                 \u001b[0m┃\n",
       "┃\u001b[1m \u001b[0m\u001b[1mName         \u001b[0m\u001b[1m \u001b[0m┃\u001b[1m \u001b[0m\u001b[1mVersion\u001b[0m\u001b[1m \u001b[0m┃\u001b[1m \u001b[0m\u001b[1mclass          \u001b[0m\u001b[1m \u001b[0m┃\u001b[1m \u001b[0m\u001b[1mclasses       \u001b[0m\u001b[1m \u001b[0m┃\u001b[1m \u001b[0m\u001b[1mInput files    \u001b[0m\u001b[1m \u001b[0m┃\u001b[1m \u001b[0m\u001b[1mInput params  \u001b[0m\u001b[1m \u001b[0m┃\u001b[1m \u001b[0m\u001b[1mDocker image   \u001b[0m\u001b[1m \u001b[0m┃\n",
       "┡━━━━━━━━━━━━━━━╇━━━━━━━━━╇━━━━━━━━━━━━━━━━━╇━━━━━━━━━━━━━━━━╇━━━━━━━━━━━━━━━━━╇━━━━━━━━━━━━━━━━╇━━━━━━━━━━━━━━━━━┩\n",
       "│ fasta         │ 0.0.1   │ fasta           │ \u001b[2mNone\u001b[0m           │ • fasta \u001b[2m(DNA \u001b[0m   │ \u001b[2mNone\u001b[0m           │ docker.io/data… │\n",
       "│               │         │                 │                │ \u001b[2msequences in \u001b[0m   │                │                 │\n",
       "│               │         │                 │                │ \u001b[2mthe FASTA \u001b[0m      │                │                 │\n",
       "│               │         │                 │                │ \u001b[2mformat) \u001b[0m        │                │                 │\n",
       "│               │         │                 │                │ \u001b[2mdefault=None\u001b[0m    │                │                 │\n",
       "├───────────────┼─────────┼─────────────────┼────────────────┼─────────────────┼────────────────┼─────────────────┤\n",
       "│ bowtie2_index │ 0.0.1   │ bowtie2_index   │ • fasta \u001b[2m(fasta\u001b[0m │ \u001b[2mNone\u001b[0m            │ • threads      │ docker.io/data… │\n",
       "│               │         │                 │ \u001b[2masset for \u001b[0m     │                 │ \u001b[2m(Number of \u001b[0m    │                 │\n",
       "│               │         │                 │ \u001b[2mgenome) \u001b[0m       │                 │ \u001b[2mthreads to \u001b[0m    │                 │\n",
       "│               │         │                 │ \u001b[2mdefault=fasta\u001b[0m  │                 │ \u001b[2muse) default=1\u001b[0m │                 │\n",
       "└───────────────┴─────────┴─────────────────┴────────────────┴─────────────────┴────────────────┴─────────────────┘\n"
      ]
     },
     "metadata": {},
     "output_type": "display_data"
    },
    {
     "data": {
      "text/html": [
       "<pre style=\"white-space:pre;overflow-x:auto;line-height:normal;font-family:Menlo,'DejaVu Sans Mono',consolas,'Courier New',monospace\"><span style=\"font-style: italic\">                                                   Asset Classes                                                   </span>\n",
       "┏━━━━━━━━━━━━━━━┳━━━━━━━━━┳━━━━━━━━━━━━━━━━━━━━━━━━━┳━━━━━━━━━━━━━━━━━━━━━━━━━━━━━━━━━━━━━━━━━━━━━━━━━━━━━━━━━━━━━┓\n",
       "┃<span style=\"font-weight: bold\"> Name          </span>┃<span style=\"font-weight: bold\"> Version </span>┃<span style=\"font-weight: bold\"> Seek keys               </span>┃<span style=\"font-weight: bold\"> Description                                                 </span>┃\n",
       "┡━━━━━━━━━━━━━━━╇━━━━━━━━━╇━━━━━━━━━━━━━━━━━━━━━━━━━╇━━━━━━━━━━━━━━━━━━━━━━━━━━━━━━━━━━━━━━━━━━━━━━━━━━━━━━━━━━━━━┩\n",
       "│ fasta         │ 0.0.1   │ fasta, fai, chrom_sizes │ Sequences in the FASTA format, indexed FASTA (produced with │\n",
       "│               │         │                         │ samtools index) and chromosome sizes file                   │\n",
       "├───────────────┼─────────┼─────────────────────────┼─────────────────────────────────────────────────────────────┤\n",
       "│ bowtie2_index │ 0.0.1   │ bowtie2_index           │ Genome index for bowtie2, produced with bowtie2-build       │\n",
       "└───────────────┴─────────┴─────────────────────────┴─────────────────────────────────────────────────────────────┘\n",
       "</pre>\n"
      ],
      "text/plain": [
       "\u001b[3m                                                   Asset Classes                                                   \u001b[0m\n",
       "┏━━━━━━━━━━━━━━━┳━━━━━━━━━┳━━━━━━━━━━━━━━━━━━━━━━━━━┳━━━━━━━━━━━━━━━━━━━━━━━━━━━━━━━━━━━━━━━━━━━━━━━━━━━━━━━━━━━━━┓\n",
       "┃\u001b[1m \u001b[0m\u001b[1mName         \u001b[0m\u001b[1m \u001b[0m┃\u001b[1m \u001b[0m\u001b[1mVersion\u001b[0m\u001b[1m \u001b[0m┃\u001b[1m \u001b[0m\u001b[1mSeek keys              \u001b[0m\u001b[1m \u001b[0m┃\u001b[1m \u001b[0m\u001b[1mDescription                                                \u001b[0m\u001b[1m \u001b[0m┃\n",
       "┡━━━━━━━━━━━━━━━╇━━━━━━━━━╇━━━━━━━━━━━━━━━━━━━━━━━━━╇━━━━━━━━━━━━━━━━━━━━━━━━━━━━━━━━━━━━━━━━━━━━━━━━━━━━━━━━━━━━━┩\n",
       "│ fasta         │ 0.0.1   │ fasta, fai, chrom_sizes │ Sequences in the FASTA format, indexed FASTA (produced with │\n",
       "│               │         │                         │ samtools index) and chromosome sizes file                   │\n",
       "├───────────────┼─────────┼─────────────────────────┼─────────────────────────────────────────────────────────────┤\n",
       "│ bowtie2_index │ 0.0.1   │ bowtie2_index           │ Genome index for bowtie2, produced with bowtie2-build       │\n",
       "└───────────────┴─────────┴─────────────────────────┴─────────────────────────────────────────────────────────────┘\n"
      ]
     },
     "metadata": {},
     "output_type": "display_data"
    }
   ],
   "source": [
    "from rich import print\n",
    "\n",
    "print(refgenie.recipe.table())\n",
    "print(refgenie.asset_class.table())"
   ]
  },
  {
   "cell_type": "markdown",
   "metadata": {},
   "source": [
    "## Build a `fasta` asset\n"
   ]
  },
  {
   "cell_type": "code",
   "execution_count": 14,
   "metadata": {},
   "outputs": [
    {
     "data": {
      "text/html": [
       "<pre style=\"white-space:pre;overflow-x:auto;line-height:normal;font-family:Menlo,'DejaVu Sans Mono',consolas,'Courier New',monospace\"><span style=\"color: #000080; text-decoration-color: #000080\">INFO    </span> Initializing genome from FASTA file: <span style=\"color: #800080; text-decoration-color: #800080\">/Users/stolarczyk/code/refgenie1/tests/data/</span><span style=\"color: #ff00ff; text-decoration-color: #ff00ff\">t7.fa</span>    <a href=\"file:///Users/stolarczyk/code/refgenie1/refgenie/refgenie.py\" target=\"_blank\"><span style=\"color: #7f7f7f; text-decoration-color: #7f7f7f\">refgenie.py</span></a><span style=\"color: #7f7f7f; text-decoration-color: #7f7f7f\">:</span><a href=\"file:///Users/stolarczyk/code/refgenie1/refgenie/refgenie.py#1238\" target=\"_blank\"><span style=\"color: #7f7f7f; text-decoration-color: #7f7f7f\">1238</span></a>\n",
       "</pre>\n"
      ],
      "text/plain": [
       "\u001b[34mINFO    \u001b[0m Initializing genome from FASTA file: \u001b[35m/Users/stolarczyk/code/refgenie1/tests/data/\u001b[0m\u001b[95mt7.fa\u001b[0m    \u001b]8;id=86306;file:///Users/stolarczyk/code/refgenie1/refgenie/refgenie.py\u001b\\\u001b[2mrefgenie.py\u001b[0m\u001b]8;;\u001b\\\u001b[2m:\u001b[0m\u001b]8;id=155030;file:///Users/stolarczyk/code/refgenie1/refgenie/refgenie.py#1238\u001b\\\u001b[2m1238\u001b[0m\u001b]8;;\u001b\\\n"
      ]
     },
     "metadata": {},
     "output_type": "display_data"
    },
    {
     "data": {
      "text/html": [
       "<pre style=\"white-space:pre;overflow-x:auto;line-height:normal;font-family:Menlo,'DejaVu Sans Mono',consolas,'Courier New',monospace\"><span style=\"color: #000080; text-decoration-color: #000080\">INFO    </span> SeqCol: <span style=\"color: #808000; text-decoration-color: #808000\">digest</span>=<span style=\"color: #008000; text-decoration-color: #008000\">'kN9XHLKLS_u7ei2GH87H-qpQrkz8moPB'</span>                                            <a href=\"file:///Users/stolarczyk/code/refgenie1/.venv/lib/python3.12/site-packages/refget/agents.py\" target=\"_blank\"><span style=\"color: #7f7f7f; text-decoration-color: #7f7f7f\">agents.py</span></a><span style=\"color: #7f7f7f; text-decoration-color: #7f7f7f\">:</span><a href=\"file:///Users/stolarczyk/code/refgenie1/.venv/lib/python3.12/site-packages/refget/agents.py#242\" target=\"_blank\"><span style=\"color: #7f7f7f; text-decoration-color: #7f7f7f\">242</span></a>\n",
       "         <span style=\"color: #808000; text-decoration-color: #808000\">sorted_name_length_pairs_digest</span>=<span style=\"color: #008000; text-decoration-color: #008000\">'0R51wR5l44VrpWoLqmcfyYcrLLba--uY'</span>                           <span style=\"color: #7f7f7f; text-decoration-color: #7f7f7f\">             </span>\n",
       "</pre>\n"
      ],
      "text/plain": [
       "\u001b[34mINFO    \u001b[0m SeqCol: \u001b[33mdigest\u001b[0m=\u001b[32m'kN9XHLKLS_u7ei2GH87H-qpQrkz8moPB'\u001b[0m                                            \u001b]8;id=166147;file:///Users/stolarczyk/code/refgenie1/.venv/lib/python3.12/site-packages/refget/agents.py\u001b\\\u001b[2magents.py\u001b[0m\u001b]8;;\u001b\\\u001b[2m:\u001b[0m\u001b]8;id=313169;file:///Users/stolarczyk/code/refgenie1/.venv/lib/python3.12/site-packages/refget/agents.py#242\u001b\\\u001b[2m242\u001b[0m\u001b]8;;\u001b\\\n",
       "         \u001b[33msorted_name_length_pairs_digest\u001b[0m=\u001b[32m'0R51wR5l44VrpWoLqmcfyYcrLLba--uY'\u001b[0m                           \u001b[2m             \u001b[0m\n"
      ]
     },
     "metadata": {},
     "output_type": "display_data"
    },
    {
     "data": {
      "text/html": [
       "<pre style=\"white-space:pre;overflow-x:auto;line-height:normal;font-family:Menlo,'DejaVu Sans Mono',consolas,'Courier New',monospace\"><span style=\"color: #000080; text-decoration-color: #000080\">INFO    </span> Initialized genome: kN9XHLKLS_u7ei2GH87H-qpQrkz8moPB <span style=\"font-weight: bold\">(</span>Genome of T7 phage<span style=\"font-weight: bold\">)</span>                 <a href=\"file:///Users/stolarczyk/code/refgenie1/refgenie/refgenie.py\" target=\"_blank\"><span style=\"color: #7f7f7f; text-decoration-color: #7f7f7f\">refgenie.py</span></a><span style=\"color: #7f7f7f; text-decoration-color: #7f7f7f\">:</span><a href=\"file:///Users/stolarczyk/code/refgenie1/refgenie/refgenie.py#1272\" target=\"_blank\"><span style=\"color: #7f7f7f; text-decoration-color: #7f7f7f\">1272</span></a>\n",
       "</pre>\n"
      ],
      "text/plain": [
       "\u001b[34mINFO    \u001b[0m Initialized genome: kN9XHLKLS_u7ei2GH87H-qpQrkz8moPB \u001b[1m(\u001b[0mGenome of T7 phage\u001b[1m)\u001b[0m                 \u001b]8;id=692756;file:///Users/stolarczyk/code/refgenie1/refgenie/refgenie.py\u001b\\\u001b[2mrefgenie.py\u001b[0m\u001b]8;;\u001b\\\u001b[2m:\u001b[0m\u001b]8;id=783966;file:///Users/stolarczyk/code/refgenie1/refgenie/refgenie.py#1272\u001b\\\u001b[2m1272\u001b[0m\u001b]8;;\u001b\\\n"
      ]
     },
     "metadata": {},
     "output_type": "display_data"
    },
    {
     "data": {
      "text/html": [
       "<pre style=\"white-space:pre;overflow-x:auto;line-height:normal;font-family:Menlo,'DejaVu Sans Mono',consolas,'Courier New',monospace\"><span style=\"color: #000080; text-decoration-color: #000080\">INFO    </span> Building <span style=\"color: #008000; text-decoration-color: #008000\">'t7/fasta'</span> using recipe <span style=\"color: #008000; text-decoration-color: #008000\">'fasta (v0.0.1)'</span>                                         <a href=\"file:///Users/stolarczyk/code/refgenie1/refgenie/refgenie.py\" target=\"_blank\"><span style=\"color: #7f7f7f; text-decoration-color: #7f7f7f\">refgenie.py</span></a><span style=\"color: #7f7f7f; text-decoration-color: #7f7f7f\">:</span><a href=\"file:///Users/stolarczyk/code/refgenie1/refgenie/refgenie.py#2499\" target=\"_blank\"><span style=\"color: #7f7f7f; text-decoration-color: #7f7f7f\">2499</span></a>\n",
       "</pre>\n"
      ],
      "text/plain": [
       "\u001b[34mINFO    \u001b[0m Building \u001b[32m't7/fasta'\u001b[0m using recipe \u001b[32m'fasta \u001b[0m\u001b[32m(\u001b[0m\u001b[32mv0.0.1\u001b[0m\u001b[32m)\u001b[0m\u001b[32m'\u001b[0m                                         \u001b]8;id=540725;file:///Users/stolarczyk/code/refgenie1/refgenie/refgenie.py\u001b\\\u001b[2mrefgenie.py\u001b[0m\u001b]8;;\u001b\\\u001b[2m:\u001b[0m\u001b]8;id=264622;file:///Users/stolarczyk/code/refgenie1/refgenie/refgenie.py#2499\u001b\\\u001b[2m2499\u001b[0m\u001b]8;;\u001b\\\n"
      ]
     },
     "metadata": {},
     "output_type": "display_data"
    },
    {
     "name": "stdout",
     "output_type": "stream",
     "text": [
      "Using default schema: /Users/stolarczyk/code/refgenie1/.venv/lib/python3.12/site-packages/pipestat_output_schema.yaml\n"
     ]
    },
    {
     "data": {
      "text/html": [
       "<pre style=\"white-space:pre;overflow-x:auto;line-height:normal;font-family:Menlo,'DejaVu Sans Mono',consolas,'Courier New',monospace\"><span style=\"color: #000080; text-decoration-color: #000080\">INFO    </span> Could not locate config file.                                                         <a href=\"file:///Users/stolarczyk/code/refgenie1/.venv/lib/python3.12/site-packages/yacman/yacman_future.py\" target=\"_blank\"><span style=\"color: #7f7f7f; text-decoration-color: #7f7f7f\">yacman_future.py</span></a><span style=\"color: #7f7f7f; text-decoration-color: #7f7f7f\">:</span><a href=\"file:///Users/stolarczyk/code/refgenie1/.venv/lib/python3.12/site-packages/yacman/yacman_future.py#563\" target=\"_blank\"><span style=\"color: #7f7f7f; text-decoration-color: #7f7f7f\">563</span></a>\n",
       "</pre>\n"
      ],
      "text/plain": [
       "\u001b[34mINFO    \u001b[0m Could not locate config file.                                                         \u001b]8;id=282655;file:///Users/stolarczyk/code/refgenie1/.venv/lib/python3.12/site-packages/yacman/yacman_future.py\u001b\\\u001b[2myacman_future.py\u001b[0m\u001b]8;;\u001b\\\u001b[2m:\u001b[0m\u001b]8;id=275775;file:///Users/stolarczyk/code/refgenie1/.venv/lib/python3.12/site-packages/yacman/yacman_future.py#563\u001b\\\u001b[2m563\u001b[0m\u001b]8;;\u001b\\\n"
      ]
     },
     "metadata": {},
     "output_type": "display_data"
    },
    {
     "name": "stderr",
     "output_type": "stream",
     "text": [
      "No pipestat output schema was supplied to PipestatManager.\n",
      "Initializing results file '/var/folders/18/3fc3jyt50sv9kqx6hdqg5b600000gn/T/refgenie_demo_ugm8n45l/data/kN9XHLKLS_u7ei2GH87H-qpQrkz8moPB/fasta/samtools-1.21/_refgenie_build/stats.yaml'\n"
     ]
    },
    {
     "data": {
      "text/html": [
       "<pre style=\"white-space:pre;overflow-x:auto;line-height:normal;font-family:Menlo,'DejaVu Sans Mono',consolas,'Courier New',monospace\"><span style=\"color: #000080; text-decoration-color: #000080\">INFO    </span> File does not exist, but create_file is true. Creating<span style=\"color: #808000; text-decoration-color: #808000\">...</span>                              <a href=\"file:///Users/stolarczyk/code/refgenie1/.venv/lib/python3.12/site-packages/ubiquerg/file_locking.py\" target=\"_blank\"><span style=\"color: #7f7f7f; text-decoration-color: #7f7f7f\">file_locking.py</span></a><span style=\"color: #7f7f7f; text-decoration-color: #7f7f7f\">:</span><a href=\"file:///Users/stolarczyk/code/refgenie1/.venv/lib/python3.12/site-packages/ubiquerg/file_locking.py#251\" target=\"_blank\"><span style=\"color: #7f7f7f; text-decoration-color: #7f7f7f\">251</span></a>\n",
       "</pre>\n"
      ],
      "text/plain": [
       "\u001b[34mINFO    \u001b[0m File does not exist, but create_file is true. Creating\u001b[33m...\u001b[0m                              \u001b]8;id=634114;file:///Users/stolarczyk/code/refgenie1/.venv/lib/python3.12/site-packages/ubiquerg/file_locking.py\u001b\\\u001b[2mfile_locking.py\u001b[0m\u001b]8;;\u001b\\\u001b[2m:\u001b[0m\u001b]8;id=100617;file:///Users/stolarczyk/code/refgenie1/.venv/lib/python3.12/site-packages/ubiquerg/file_locking.py#251\u001b\\\u001b[2m251\u001b[0m\u001b]8;;\u001b\\\n"
      ]
     },
     "metadata": {},
     "output_type": "display_data"
    },
    {
     "name": "stderr",
     "output_type": "stream",
     "text": [
      "Warning: You're running an interactive python session. This works, but pypiper cannot tee the output, so results are only logged to screen.\n",
      "### Pipeline run code and environment:\n",
      "\n",
      "*          Command: `/Users/stolarczyk/code/refgenie1/.venv/lib/python3.12/site-packages/ipykernel_launcher.py --f=/Users/stolarczyk/Library/Jupyter/runtime/kernel-v3b4e8f4927474eb39f1b6ad0ce5ad7909ee3e90d0.json`\n",
      "*     Compute host: `michals-macbook-pro-2.home`\n",
      "*      Working dir: `/Users/stolarczyk/code/refgenie1/docs`\n",
      "*        Outfolder: `/var/folders/18/3fc3jyt50sv9kqx6hdqg5b600000gn/T/refgenie_demo_ugm8n45l/data/kN9XHLKLS_u7ei2GH87H-qpQrkz8moPB/fasta/samtools-1.21/_refgenie_build/`\n",
      "*         Log file: `/var/folders/18/3fc3jyt50sv9kqx6hdqg5b600000gn/T/refgenie_demo_ugm8n45l/data/kN9XHLKLS_u7ei2GH87H-qpQrkz8moPB/fasta/samtools-1.21/_refgenie_build/refgenie_t7_fasta_samtools-1.21_log.md`\n",
      "*       Start time:  (07-06 20:28:51) elapsed: 0.0 _TIME_\n",
      "\n",
      "### Version log:\n",
      "\n",
      "*   Python version: `3.12.7`\n",
      "*      Pypiper dir: `/Users/stolarczyk/code/refgenie1/.venv/lib/python3.12/site-packages/pypiper`\n",
      "*  Pypiper version: `0.14.3`\n",
      "*     Pypiper hash: `f0996bac2e9d7f66d1378360de985188a24015f7`\n",
      "*   Pypiper branch: `* master`\n",
      "*     Pypiper date: `2025-07-06 13:49:47 +0200`\n",
      "*     Pypiper diff: `9 files changed, 2323 insertions(+), 1945 deletions(-)`\n",
      "*     Pipeline dir: `/Users/stolarczyk/code/refgenie1/.venv/lib/python3.12/site-packages`\n",
      "* Pipeline version: \n",
      "*    Pipeline hash: `f0996bac2e9d7f66d1378360de985188a24015f7`\n",
      "*  Pipeline branch: `* master`\n",
      "*    Pipeline date: `2025-07-06 13:49:47 +0200`\n",
      "*    Pipeline diff: `9 files changed, 2323 insertions(+), 1945 deletions(-)`\n",
      "\n",
      "### Arguments passed to pipeline:\n",
      "\n",
      "\n",
      "### Initialized Pipestat Object:\n",
      "\n",
      "* PipestatManager (refgenie_t7_fasta_samtools-1.21)\n",
      "* Backend: File\n",
      "*  - results: /var/folders/18/3fc3jyt50sv9kqx6hdqg5b600000gn/T/refgenie_demo_ugm8n45l/data/kN9XHLKLS_u7ei2GH87H-qpQrkz8moPB/fasta/samtools-1.21/_refgenie_build/stats.yaml\n",
      "*  - status: /var/folders/18/3fc3jyt50sv9kqx6hdqg5b600000gn/T/refgenie_demo_ugm8n45l/data/kN9XHLKLS_u7ei2GH87H-qpQrkz8moPB/fasta/samtools-1.21/_refgenie_build\n",
      "* Multiple Pipelines Allowed: False\n",
      "* Pipeline name: refgenie_t7_fasta_samtools-1.21\n",
      "* Pipeline type: sample\n",
      "* Status Schema key: None\n",
      "* Results formatter: default_formatter\n",
      "* Results schema source: None\n",
      "* Status schema source: None\n",
      "* Records count: 2\n",
      "* Sample name: DEFAULT_SAMPLE_NAME\n",
      "\n",
      "\n",
      "----------------------------------------\n",
      "\n",
      "Target to produce: `/var/folders/18/3fc3jyt50sv9kqx6hdqg5b600000gn/T/refgenie_demo_ugm8n45l/data/kN9XHLKLS_u7ei2GH87H-qpQrkz8moPB/fasta/samtools-1.21/_refgenie_build/t7_fasta__samtools-1.21.flag`  \n",
      "\n",
      "> `cp /Users/stolarczyk/code/refgenie1/tests/data/t7.fa /var/folders/18/3fc3jyt50sv9kqx6hdqg5b600000gn/T/refgenie_demo_ugm8n45l/data/kN9XHLKLS_u7ei2GH87H-qpQrkz8moPB/fasta/samtools-1.21/kN9XHLKLS_u7ei2GH87H-qpQrkz8moPB.fa.gz` (247)\n",
      "<pre>\n",
      "PID still exists but it's a zombie (pid=247)\n",
      "Warning: couldn't add memory use for process: 247\n",
      "</pre>\n",
      "Command completed. Elapsed time: 0:00:00. Running peak memory: 0GB.  \n",
      "  PID: 247;\tCommand: cp;\tReturn code: 0;\tMemory used: 0GB\n",
      "\n",
      "\n",
      "> `if (file /var/folders/18/3fc3jyt50sv9kqx6hdqg5b600000gn/T/refgenie_demo_ugm8n45l/data/kN9XHLKLS_u7ei2GH87H-qpQrkz8moPB/fasta/samtools-1.21/kN9XHLKLS_u7ei2GH87H-qpQrkz8moPB.fa.gz | grep -q compressed ) ; then gzip -df /var/folders/18/3fc3jyt50sv9kqx6hdqg5b600000gn/T/refgenie_demo_ugm8n45l/data/kN9XHLKLS_u7ei2GH87H-qpQrkz8moPB/fasta/samtools-1.21/kN9XHLKLS_u7ei2GH87H-qpQrkz8moPB.fa.gz ; else mv /var/folders/18/3fc3jyt50sv9kqx6hdqg5b600000gn/T/refgenie_demo_ugm8n45l/data/kN9XHLKLS_u7ei2GH87H-qpQrkz8moPB/fasta/samtools-1.21/kN9XHLKLS_u7ei2GH87H-qpQrkz8moPB.fa.gz /var/folders/18/3fc3jyt50sv9kqx6hdqg5b600000gn/T/refgenie_demo_ugm8n45l/data/kN9XHLKLS_u7ei2GH87H-qpQrkz8moPB/fasta/samtools-1.21/kN9XHLKLS_u7ei2GH87H-qpQrkz8moPB.fa ; fi` (248)\n",
      "<pre>\n",
      "PID still exists but it's a zombie (pid=248)\n",
      "Warning: couldn't add memory use for process: 248\n",
      "</pre>\n",
      "Command completed. Elapsed time: 0:00:00. Running peak memory: 0.002GB.  \n",
      "  PID: 248;\tCommand: if;\tReturn code: 0;\tMemory used: 0.002GB\n",
      "\n",
      "\n",
      "> `samtools faidx /var/folders/18/3fc3jyt50sv9kqx6hdqg5b600000gn/T/refgenie_demo_ugm8n45l/data/kN9XHLKLS_u7ei2GH87H-qpQrkz8moPB/fasta/samtools-1.21/kN9XHLKLS_u7ei2GH87H-qpQrkz8moPB.fa` (253)\n",
      "<pre>\n",
      "PID still exists but it's a zombie (pid=253)\n",
      "Warning: couldn't add memory use for process: 253\n",
      "</pre>\n",
      "Command completed. Elapsed time: 0:00:00. Running peak memory: 0.002GB.  \n",
      "  PID: 253;\tCommand: samtools;\tReturn code: 0;\tMemory used: 0GB\n",
      "\n",
      "\n",
      "> `cut -f 1,2 /var/folders/18/3fc3jyt50sv9kqx6hdqg5b600000gn/T/refgenie_demo_ugm8n45l/data/kN9XHLKLS_u7ei2GH87H-qpQrkz8moPB/fasta/samtools-1.21/kN9XHLKLS_u7ei2GH87H-qpQrkz8moPB.fa.fai > /var/folders/18/3fc3jyt50sv9kqx6hdqg5b600000gn/T/refgenie_demo_ugm8n45l/data/kN9XHLKLS_u7ei2GH87H-qpQrkz8moPB/fasta/samtools-1.21/kN9XHLKLS_u7ei2GH87H-qpQrkz8moPB.chrom.sizes` (254)\n",
      "<pre>\n",
      "PID still exists but it's a zombie (pid=254)\n",
      "Warning: couldn't add memory use for process: 254\n",
      "</pre>\n",
      "Command completed. Elapsed time: 0:00:00. Running peak memory: 0.002GB.  \n",
      "  PID: 254;\tCommand: cut;\tReturn code: 0;\tMemory used: 0GB\n",
      "\n",
      "\n",
      "> `touch /var/folders/18/3fc3jyt50sv9kqx6hdqg5b600000gn/T/refgenie_demo_ugm8n45l/data/kN9XHLKLS_u7ei2GH87H-qpQrkz8moPB/fasta/samtools-1.21/_refgenie_build/t7_fasta__samtools-1.21.flag` (256)\n",
      "<pre>\n",
      "PID still exists but it's a zombie (pid=256)\n",
      "Warning: couldn't add memory use for process: 256\n",
      "</pre>\n",
      "Command completed. Elapsed time: 0:00:00. Running peak memory: 0.002GB.  \n",
      "  PID: 256;\tCommand: touch;\tReturn code: 0;\tMemory used: 0GB\n",
      "\n",
      "\n",
      "### Pipeline completed. Epilogue\n",
      "*        Elapsed time (this run):  0:00:00\n",
      "*  Total elapsed time (all runs):  0:00:00\n",
      "*         Peak memory (this run):  0.0017 GB\n",
      "*        Pipeline completed time: 2025-07-06 20:28:51\n"
     ]
    },
    {
     "data": {
      "text/html": [
       "<pre style=\"white-space:pre;overflow-x:auto;line-height:normal;font-family:Menlo,'DejaVu Sans Mono',consolas,'Courier New',monospace\"><span style=\"color: #000080; text-decoration-color: #000080\">INFO    </span> Asset <span style=\"color: #008000; text-decoration-color: #008000\">'t7/fasta:samtools-1.21'</span> build succeeded                                            <a href=\"file:///Users/stolarczyk/code/refgenie1/refgenie/refgenie.py\" target=\"_blank\"><span style=\"color: #7f7f7f; text-decoration-color: #7f7f7f\">refgenie.py</span></a><span style=\"color: #7f7f7f; text-decoration-color: #7f7f7f\">:</span><a href=\"file:///Users/stolarczyk/code/refgenie1/refgenie/refgenie.py#2602\" target=\"_blank\"><span style=\"color: #7f7f7f; text-decoration-color: #7f7f7f\">2602</span></a>\n",
       "</pre>\n"
      ],
      "text/plain": [
       "\u001b[34mINFO    \u001b[0m Asset \u001b[32m't7/fasta:samtools-1.21'\u001b[0m build succeeded                                            \u001b]8;id=589345;file:///Users/stolarczyk/code/refgenie1/refgenie/refgenie.py\u001b\\\u001b[2mrefgenie.py\u001b[0m\u001b]8;;\u001b\\\u001b[2m:\u001b[0m\u001b]8;id=518935;file:///Users/stolarczyk/code/refgenie1/refgenie/refgenie.py#2602\u001b\\\u001b[2m2602\u001b[0m\u001b]8;;\u001b\\\n"
      ]
     },
     "metadata": {},
     "output_type": "display_data"
    },
    {
     "data": {
      "text/html": [
       "<pre style=\"white-space:pre;overflow-x:auto;line-height:normal;font-family:Menlo,'DejaVu Sans Mono',consolas,'Courier New',monospace\"></pre>\n"
      ],
      "text/plain": []
     },
     "metadata": {},
     "output_type": "display_data"
    },
    {
     "data": {
      "text/html": [
       "<pre style=\"white-space:pre;overflow-x:auto;line-height:normal;font-family:Menlo,'DejaVu Sans Mono',consolas,'Courier New',monospace\"><span style=\"color: #000080; text-decoration-color: #000080\">INFO    </span> Added: <span style=\"color: #008000; text-decoration-color: #008000\">'t7/fasta:samtools-1.21'</span>                                                            <a href=\"file:///Users/stolarczyk/code/refgenie1/refgenie/refgenie.py\" target=\"_blank\"><span style=\"color: #7f7f7f; text-decoration-color: #7f7f7f\">refgenie.py</span></a><span style=\"color: #7f7f7f; text-decoration-color: #7f7f7f\">:</span><a href=\"file:///Users/stolarczyk/code/refgenie1/refgenie/refgenie.py#773\" target=\"_blank\"><span style=\"color: #7f7f7f; text-decoration-color: #7f7f7f\">773</span></a>\n",
       "</pre>\n"
      ],
      "text/plain": [
       "\u001b[34mINFO    \u001b[0m Added: \u001b[32m't7/fasta:samtools-1.21'\u001b[0m                                                            \u001b]8;id=186903;file:///Users/stolarczyk/code/refgenie1/refgenie/refgenie.py\u001b\\\u001b[2mrefgenie.py\u001b[0m\u001b]8;;\u001b\\\u001b[2m:\u001b[0m\u001b]8;id=12874;file:///Users/stolarczyk/code/refgenie1/refgenie/refgenie.py#773\u001b\\\u001b[2m773\u001b[0m\u001b]8;;\u001b\\\n"
      ]
     },
     "metadata": {},
     "output_type": "display_data"
    },
    {
     "data": {
      "text/html": [
       "<pre style=\"white-space:pre;overflow-x:auto;line-height:normal;font-family:Menlo,'DejaVu Sans Mono',consolas,'Courier New',monospace\"><span style=\"color: #000080; text-decoration-color: #000080\">INFO    </span> Created alias directories:                                                                <a href=\"file:///Users/stolarczyk/code/refgenie1/refgenie/refgenie.py\" target=\"_blank\"><span style=\"color: #7f7f7f; text-decoration-color: #7f7f7f\">refgenie.py</span></a><span style=\"color: #7f7f7f; text-decoration-color: #7f7f7f\">:</span><a href=\"file:///Users/stolarczyk/code/refgenie1/refgenie/refgenie.py#3515\" target=\"_blank\"><span style=\"color: #7f7f7f; text-decoration-color: #7f7f7f\">3515</span></a>\n",
       "         <span style=\"color: #800080; text-decoration-color: #800080\">/var/folders/18/3fc3jyt50sv9kqx6hdqg5b600000gn/T/refgenie_demo_ugm8n45l/alias/t7/fasta/</span><span style=\"color: #ff00ff; text-decoration-color: #ff00ff\">sa</span> <span style=\"color: #7f7f7f; text-decoration-color: #7f7f7f\">                </span>\n",
       "         <span style=\"color: #ff00ff; text-decoration-color: #ff00ff\">mtools-1.21</span>                                                                               <span style=\"color: #7f7f7f; text-decoration-color: #7f7f7f\">                </span>\n",
       "</pre>\n"
      ],
      "text/plain": [
       "\u001b[34mINFO    \u001b[0m Created alias directories:                                                                \u001b]8;id=376592;file:///Users/stolarczyk/code/refgenie1/refgenie/refgenie.py\u001b\\\u001b[2mrefgenie.py\u001b[0m\u001b]8;;\u001b\\\u001b[2m:\u001b[0m\u001b]8;id=681535;file:///Users/stolarczyk/code/refgenie1/refgenie/refgenie.py#3515\u001b\\\u001b[2m3515\u001b[0m\u001b]8;;\u001b\\\n",
       "         \u001b[35m/var/folders/18/3fc3jyt50sv9kqx6hdqg5b600000gn/T/refgenie_demo_ugm8n45l/alias/t7/fasta/\u001b[0m\u001b[95msa\u001b[0m \u001b[2m                \u001b[0m\n",
       "         \u001b[95mmtools-1.21\u001b[0m                                                                               \u001b[2m                \u001b[0m\n"
      ]
     },
     "metadata": {},
     "output_type": "display_data"
    },
    {
     "data": {
      "text/html": [
       "<pre style=\"white-space:pre;overflow-x:auto;line-height:normal;font-family:Menlo,'DejaVu Sans Mono',consolas,'Courier New',monospace\"><span style=\"color: #000080; text-decoration-color: #000080\">INFO    </span> Set default asset: <span style=\"color: #008000; text-decoration-color: #008000\">'kN9XHLKLS_u7ei2GH87H-qpQrkz8moPB/fasta:samtools-1.21'</span>                 <a href=\"file:///Users/stolarczyk/code/refgenie1/refgenie/refgenie.py\" target=\"_blank\"><span style=\"color: #7f7f7f; text-decoration-color: #7f7f7f\">refgenie.py</span></a><span style=\"color: #7f7f7f; text-decoration-color: #7f7f7f\">:</span><a href=\"file:///Users/stolarczyk/code/refgenie1/refgenie/refgenie.py#1640\" target=\"_blank\"><span style=\"color: #7f7f7f; text-decoration-color: #7f7f7f\">1640</span></a>\n",
       "</pre>\n"
      ],
      "text/plain": [
       "\u001b[34mINFO    \u001b[0m Set default asset: \u001b[32m'kN9XHLKLS_u7ei2GH87H-qpQrkz8moPB/fasta:samtools-1.21'\u001b[0m                 \u001b]8;id=217703;file:///Users/stolarczyk/code/refgenie1/refgenie/refgenie.py\u001b\\\u001b[2mrefgenie.py\u001b[0m\u001b]8;;\u001b\\\u001b[2m:\u001b[0m\u001b]8;id=775800;file:///Users/stolarczyk/code/refgenie1/refgenie/refgenie.py#1640\u001b\\\u001b[2m1640\u001b[0m\u001b]8;;\u001b\\\n"
      ]
     },
     "metadata": {},
     "output_type": "display_data"
    },
    {
     "data": {
      "text/html": [
       "<pre style=\"white-space:pre;overflow-x:auto;line-height:normal;font-family:Menlo,'DejaVu Sans Mono',consolas,'Courier New',monospace\"><span style=\"color: #000080; text-decoration-color: #000080\">INFO    </span> Added asset: kN9XHLKLS_u7ei2GH87H-qpQrkz8moPB/fasta:samtools-<span style=\"color: #008080; text-decoration-color: #008080; font-weight: bold\">1.21</span>                         <a href=\"file:///Users/stolarczyk/code/refgenie1/refgenie/refgenie.py\" target=\"_blank\"><span style=\"color: #7f7f7f; text-decoration-color: #7f7f7f\">refgenie.py</span></a><span style=\"color: #7f7f7f; text-decoration-color: #7f7f7f\">:</span><a href=\"file:///Users/stolarczyk/code/refgenie1/refgenie/refgenie.py#2618\" target=\"_blank\"><span style=\"color: #7f7f7f; text-decoration-color: #7f7f7f\">2618</span></a>\n",
       "</pre>\n"
      ],
      "text/plain": [
       "\u001b[34mINFO    \u001b[0m Added asset: kN9XHLKLS_u7ei2GH87H-qpQrkz8moPB/fasta:samtools-\u001b[1;36m1.21\u001b[0m                         \u001b]8;id=964619;file:///Users/stolarczyk/code/refgenie1/refgenie/refgenie.py\u001b\\\u001b[2mrefgenie.py\u001b[0m\u001b]8;;\u001b\\\u001b[2m:\u001b[0m\u001b]8;id=767719;file:///Users/stolarczyk/code/refgenie1/refgenie/refgenie.py#2618\u001b\\\u001b[2m2618\u001b[0m\u001b]8;;\u001b\\\n"
      ]
     },
     "metadata": {},
     "output_type": "display_data"
    },
    {
     "data": {
      "text/html": [
       "<pre style=\"white-space:pre;overflow-x:auto;line-height:normal;font-family:Menlo,'DejaVu Sans Mono',consolas,'Courier New',monospace\"><span style=\"color: #000080; text-decoration-color: #000080\">INFO    </span> Updated parents of <span style=\"color: #008000; text-decoration-color: #008000\">'kN9XHLKLS_u7ei2GH87H-qpQrkz8moPB/fasta:samtools-1.21'</span>                 <a href=\"file:///Users/stolarczyk/code/refgenie1/refgenie/refgenie.py\" target=\"_blank\"><span style=\"color: #7f7f7f; text-decoration-color: #7f7f7f\">refgenie.py</span></a><span style=\"color: #7f7f7f; text-decoration-color: #7f7f7f\">:</span><a href=\"file:///Users/stolarczyk/code/refgenie1/refgenie/refgenie.py#2856\" target=\"_blank\"><span style=\"color: #7f7f7f; text-decoration-color: #7f7f7f\">2856</span></a>\n",
       "</pre>\n"
      ],
      "text/plain": [
       "\u001b[34mINFO    \u001b[0m Updated parents of \u001b[32m'kN9XHLKLS_u7ei2GH87H-qpQrkz8moPB/fasta:samtools-1.21'\u001b[0m                 \u001b]8;id=571774;file:///Users/stolarczyk/code/refgenie1/refgenie/refgenie.py\u001b\\\u001b[2mrefgenie.py\u001b[0m\u001b]8;;\u001b\\\u001b[2m:\u001b[0m\u001b]8;id=213956;file:///Users/stolarczyk/code/refgenie1/refgenie/refgenie.py#2856\u001b\\\u001b[2m2856\u001b[0m\u001b]8;;\u001b\\\n"
      ]
     },
     "metadata": {},
     "output_type": "display_data"
    },
    {
     "data": {
      "text/plain": [
       "Asset(name='samtools-1.21', description='DNA sequences in the FASTA format, indexed FASTA (produced with samtools index), chromosome sizes file and FASTA dict (produced with samtools dict)', size=42981, updated_at=datetime.datetime(2025, 7, 6, 18, 28, 51, 515997), path='data/kN9XHLKLS_u7ei2GH87H-qpQrkz8moPB/fasta/samtools-1.21', digest='51a58ef25e4f1d7e76f226fd5655754f', recipe_id=1, asset_group_id=2, created_at=datetime.datetime(2025, 7, 6, 18, 28, 51, 516002))"
      ]
     },
     "execution_count": 14,
     "metadata": {},
     "output_type": "execute_result"
    }
   ],
   "source": [
    "from refgenie import BuildParams\n",
    "\n",
    "refgenie.build_asset(\n",
    "    recipe_name=\"fasta\",\n",
    "    genome_name=\"t7\",\n",
    "    asset_group_name=\"fasta\",\n",
    "    params=BuildParams(\n",
    "        files={\"fasta\": REFGENIE_CODE_PATH.parent / \"tests/data/t7.fa\"}\n",
    "    ),\n",
    "    genome_description=\"Genome of T7 phage\",\n",
    ")"
   ]
  },
  {
   "cell_type": "markdown",
   "metadata": {},
   "source": [
    "### Build a `bowtie2_index` asset\n",
    "\n",
    "The `bowtie2_index` asset class and recipe have been added successfully. Let's build the `bowtie2_index` asset for the `dm6` genome.\n"
   ]
  },
  {
   "cell_type": "code",
   "execution_count": 15,
   "metadata": {},
   "outputs": [
    {
     "data": {
      "text/html": [
       "<pre style=\"white-space:pre;overflow-x:auto;line-height:normal;font-family:Menlo,'DejaVu Sans Mono',consolas,'Courier New',monospace\"><span style=\"color: #000080; text-decoration-color: #000080\">INFO    </span> Building <span style=\"color: #008000; text-decoration-color: #008000\">'t7/bowtie2_index'</span> using recipe <span style=\"color: #008000; text-decoration-color: #008000\">'bowtie2_index (v0.0.1)'</span>                         <a href=\"file:///Users/stolarczyk/code/refgenie1/refgenie/refgenie.py\" target=\"_blank\"><span style=\"color: #7f7f7f; text-decoration-color: #7f7f7f\">refgenie.py</span></a><span style=\"color: #7f7f7f; text-decoration-color: #7f7f7f\">:</span><a href=\"file:///Users/stolarczyk/code/refgenie1/refgenie/refgenie.py#2499\" target=\"_blank\"><span style=\"color: #7f7f7f; text-decoration-color: #7f7f7f\">2499</span></a>\n",
       "</pre>\n"
      ],
      "text/plain": [
       "\u001b[34mINFO    \u001b[0m Building \u001b[32m't7/bowtie2_index'\u001b[0m using recipe \u001b[32m'bowtie2_index \u001b[0m\u001b[32m(\u001b[0m\u001b[32mv0.0.1\u001b[0m\u001b[32m)\u001b[0m\u001b[32m'\u001b[0m                         \u001b]8;id=333031;file:///Users/stolarczyk/code/refgenie1/refgenie/refgenie.py\u001b\\\u001b[2mrefgenie.py\u001b[0m\u001b]8;;\u001b\\\u001b[2m:\u001b[0m\u001b]8;id=211929;file:///Users/stolarczyk/code/refgenie1/refgenie/refgenie.py#2499\u001b\\\u001b[2m2499\u001b[0m\u001b]8;;\u001b\\\n"
      ]
     },
     "metadata": {},
     "output_type": "display_data"
    },
    {
     "name": "stdout",
     "output_type": "stream",
     "text": [
      "Using default schema: /Users/stolarczyk/code/refgenie1/.venv/lib/python3.12/site-packages/pipestat_output_schema.yaml\n"
     ]
    },
    {
     "data": {
      "text/html": [
       "<pre style=\"white-space:pre;overflow-x:auto;line-height:normal;font-family:Menlo,'DejaVu Sans Mono',consolas,'Courier New',monospace\"><span style=\"color: #000080; text-decoration-color: #000080\">INFO    </span> Could not locate config file.                                                         <a href=\"file:///Users/stolarczyk/code/refgenie1/.venv/lib/python3.12/site-packages/yacman/yacman_future.py\" target=\"_blank\"><span style=\"color: #7f7f7f; text-decoration-color: #7f7f7f\">yacman_future.py</span></a><span style=\"color: #7f7f7f; text-decoration-color: #7f7f7f\">:</span><a href=\"file:///Users/stolarczyk/code/refgenie1/.venv/lib/python3.12/site-packages/yacman/yacman_future.py#563\" target=\"_blank\"><span style=\"color: #7f7f7f; text-decoration-color: #7f7f7f\">563</span></a>\n",
       "</pre>\n"
      ],
      "text/plain": [
       "\u001b[34mINFO    \u001b[0m Could not locate config file.                                                         \u001b]8;id=705392;file:///Users/stolarczyk/code/refgenie1/.venv/lib/python3.12/site-packages/yacman/yacman_future.py\u001b\\\u001b[2myacman_future.py\u001b[0m\u001b]8;;\u001b\\\u001b[2m:\u001b[0m\u001b]8;id=371662;file:///Users/stolarczyk/code/refgenie1/.venv/lib/python3.12/site-packages/yacman/yacman_future.py#563\u001b\\\u001b[2m563\u001b[0m\u001b]8;;\u001b\\\n"
      ]
     },
     "metadata": {},
     "output_type": "display_data"
    },
    {
     "name": "stderr",
     "output_type": "stream",
     "text": [
      "No pipestat output schema was supplied to PipestatManager.\n",
      "Initializing results file '/var/folders/18/3fc3jyt50sv9kqx6hdqg5b600000gn/T/refgenie_demo_ugm8n45l/data/kN9XHLKLS_u7ei2GH87H-qpQrkz8moPB/bowtie2_index/2.5.3/_refgenie_build/stats.yaml'\n"
     ]
    },
    {
     "data": {
      "text/html": [
       "<pre style=\"white-space:pre;overflow-x:auto;line-height:normal;font-family:Menlo,'DejaVu Sans Mono',consolas,'Courier New',monospace\"><span style=\"color: #000080; text-decoration-color: #000080\">INFO    </span> File does not exist, but create_file is true. Creating<span style=\"color: #808000; text-decoration-color: #808000\">...</span>                              <a href=\"file:///Users/stolarczyk/code/refgenie1/.venv/lib/python3.12/site-packages/ubiquerg/file_locking.py\" target=\"_blank\"><span style=\"color: #7f7f7f; text-decoration-color: #7f7f7f\">file_locking.py</span></a><span style=\"color: #7f7f7f; text-decoration-color: #7f7f7f\">:</span><a href=\"file:///Users/stolarczyk/code/refgenie1/.venv/lib/python3.12/site-packages/ubiquerg/file_locking.py#251\" target=\"_blank\"><span style=\"color: #7f7f7f; text-decoration-color: #7f7f7f\">251</span></a>\n",
       "</pre>\n"
      ],
      "text/plain": [
       "\u001b[34mINFO    \u001b[0m File does not exist, but create_file is true. Creating\u001b[33m...\u001b[0m                              \u001b]8;id=125264;file:///Users/stolarczyk/code/refgenie1/.venv/lib/python3.12/site-packages/ubiquerg/file_locking.py\u001b\\\u001b[2mfile_locking.py\u001b[0m\u001b]8;;\u001b\\\u001b[2m:\u001b[0m\u001b]8;id=250071;file:///Users/stolarczyk/code/refgenie1/.venv/lib/python3.12/site-packages/ubiquerg/file_locking.py#251\u001b\\\u001b[2m251\u001b[0m\u001b]8;;\u001b\\\n"
      ]
     },
     "metadata": {},
     "output_type": "display_data"
    },
    {
     "name": "stderr",
     "output_type": "stream",
     "text": [
      "Warning: You're running an interactive python session. This works, but pypiper cannot tee the output, so results are only logged to screen.\n",
      "### Pipeline run code and environment:\n",
      "\n",
      "*          Command: `/Users/stolarczyk/code/refgenie1/.venv/lib/python3.12/site-packages/ipykernel_launcher.py --f=/Users/stolarczyk/Library/Jupyter/runtime/kernel-v3b4e8f4927474eb39f1b6ad0ce5ad7909ee3e90d0.json`\n",
      "*     Compute host: `michals-macbook-pro-2.home`\n",
      "*      Working dir: `/Users/stolarczyk/code/refgenie1/docs`\n",
      "*        Outfolder: `/var/folders/18/3fc3jyt50sv9kqx6hdqg5b600000gn/T/refgenie_demo_ugm8n45l/data/kN9XHLKLS_u7ei2GH87H-qpQrkz8moPB/bowtie2_index/2.5.3/_refgenie_build/`\n",
      "*         Log file: `/var/folders/18/3fc3jyt50sv9kqx6hdqg5b600000gn/T/refgenie_demo_ugm8n45l/data/kN9XHLKLS_u7ei2GH87H-qpQrkz8moPB/bowtie2_index/2.5.3/_refgenie_build/refgenie_t7_bowtie2_index_2.5.3_log.md`\n",
      "*       Start time:  (07-06 20:28:51) elapsed: 0.0 _TIME_\n",
      "\n",
      "### Version log:\n",
      "\n",
      "*   Python version: `3.12.7`\n",
      "*      Pypiper dir: `/Users/stolarczyk/code/refgenie1/.venv/lib/python3.12/site-packages/pypiper`\n",
      "*  Pypiper version: `0.14.3`\n",
      "*     Pypiper hash: `f0996bac2e9d7f66d1378360de985188a24015f7`\n",
      "*   Pypiper branch: `* master`\n",
      "*     Pypiper date: `2025-07-06 13:49:47 +0200`\n",
      "*     Pypiper diff: `9 files changed, 2323 insertions(+), 1945 deletions(-)`\n",
      "*     Pipeline dir: `/Users/stolarczyk/code/refgenie1/.venv/lib/python3.12/site-packages`\n",
      "* Pipeline version: \n",
      "*    Pipeline hash: `f0996bac2e9d7f66d1378360de985188a24015f7`\n",
      "*  Pipeline branch: `* master`\n",
      "*    Pipeline date: `2025-07-06 13:49:47 +0200`\n",
      "*    Pipeline diff: `9 files changed, 2323 insertions(+), 1945 deletions(-)`\n",
      "\n",
      "### Arguments passed to pipeline:\n",
      "\n",
      "\n",
      "### Initialized Pipestat Object:\n",
      "\n",
      "* PipestatManager (refgenie_t7_bowtie2_index_2.5.3)\n",
      "* Backend: File\n",
      "*  - results: /var/folders/18/3fc3jyt50sv9kqx6hdqg5b600000gn/T/refgenie_demo_ugm8n45l/data/kN9XHLKLS_u7ei2GH87H-qpQrkz8moPB/bowtie2_index/2.5.3/_refgenie_build/stats.yaml\n",
      "*  - status: /var/folders/18/3fc3jyt50sv9kqx6hdqg5b600000gn/T/refgenie_demo_ugm8n45l/data/kN9XHLKLS_u7ei2GH87H-qpQrkz8moPB/bowtie2_index/2.5.3/_refgenie_build\n",
      "* Multiple Pipelines Allowed: False\n",
      "* Pipeline name: refgenie_t7_bowtie2_index_2.5.3\n",
      "* Pipeline type: sample\n",
      "* Status Schema key: None\n",
      "* Results formatter: default_formatter\n",
      "* Results schema source: None\n",
      "* Status schema source: None\n",
      "* Records count: 2\n",
      "* Sample name: DEFAULT_SAMPLE_NAME\n",
      "\n",
      "\n",
      "----------------------------------------\n",
      "\n",
      "Target to produce: `/var/folders/18/3fc3jyt50sv9kqx6hdqg5b600000gn/T/refgenie_demo_ugm8n45l/data/kN9XHLKLS_u7ei2GH87H-qpQrkz8moPB/bowtie2_index/2.5.3/_refgenie_build/t7_bowtie2_index__2.5.3.flag`  \n",
      "\n",
      "> `bowtie2-build --threads 8 /var/folders/18/3fc3jyt50sv9kqx6hdqg5b600000gn/T/refgenie_demo_ugm8n45l/data/kN9XHLKLS_u7ei2GH87H-qpQrkz8moPB/fasta/samtools-1.21/kN9XHLKLS_u7ei2GH87H-qpQrkz8moPB.fa /var/folders/18/3fc3jyt50sv9kqx6hdqg5b600000gn/T/refgenie_demo_ugm8n45l/data/kN9XHLKLS_u7ei2GH87H-qpQrkz8moPB/bowtie2_index/2.5.3/kN9XHLKLS_u7ei2GH87H-qpQrkz8moPB` (315)\n",
      "<pre>\n"
     ]
    },
    {
     "name": "stdout",
     "output_type": "stream",
     "text": [
      "Settings:\n",
      "  Output files: \"/var/folders/18/3fc3jyt50sv9kqx6hdqg5b600000gn/T/refgenie_demo_ugm8n45l/data/kN9XHLKLS_u7ei2GH87H-qpQrkz8moPB/bowtie2_index/2.5.3/kN9XHLKLS_u7ei2GH87H-qpQrkz8moPB.*.bt2\"\n",
      "  Line rate: 6 (line is 64 bytes)\n",
      "  Lines per side: 1 (side is 64 bytes)\n",
      "  Offset rate: 4 (one in 16)\n",
      "  FTable chars: 10\n",
      "  Strings: unpacked\n",
      "  Max bucket size: default\n",
      "  Max bucket size, sqrt multiplier: default\n",
      "  Max bucket size, len divisor: 32\n",
      "  Difference-cover sample period: 1024\n",
      "  Endianness: little\n",
      "  Actual local endianness: little\n",
      "  Sanity checking: disabled\n",
      "  Assertions: disabled\n",
      "  Random seed: 0\n",
      "  Sizeofs: void*:8, int:4, long:8, size_t:8\n",
      "Input files DNA, FASTA:\n",
      "  /var/folders/18/3fc3jyt50sv9kqx6hdqg5b600000gn/T/refgenie_demo_ugm8n45l/data/kN9XHLKLS_u7ei2GH87H-qpQrkz8moPB/fasta/samtools-1.21/kN9XHLKLS_u7ei2GH87H-qpQrkz8moPB.fa\n",
      "Reading reference sizes\n",
      "  Time reading reference sizes: 00:00:00\n",
      "Calculating joined length\n",
      "Writing header\n",
      "Reserving space for joined string\n",
      "Joining reference sequences\n",
      "  Time to join reference sequences: 00:00:00\n",
      "bmax according to bmaxDivN setting: 1248\n",
      "Using parameters --bmax 936 --dcv 1024\n",
      "  Doing ahead-of-time memory usage test\n",
      "  Passed!  Constructing with these parameters: --bmax 936 --dcv 1024\n",
      "Constructing suffix-array element generator\n",
      "Building DifferenceCoverSample\n",
      "  Building sPrime\n",
      "  Building sPrimeOrder\n",
      "  V-Sorting samples\n",
      "  V-Sorting samples time: 00:00:00\n",
      "  Allocating rank array\n",
      "  Ranking v-sort output\n",
      "  Ranking v-sort output time: 00:00:00\n",
      "  Invoking Larsson-Sadakane on ranks\n",
      "  Invoking Larsson-Sadakane on ranks time: 00:00:00\n",
      "  Sanity-checking and returning\n",
      "Building samples\n",
      "Reserving space for 86 sample suffixes\n",
      "Generating random suffixes\n",
      "QSorting 86 sample offsets, eliminating duplicates\n",
      "QSorting sample offsets, eliminating duplicates time: 00:00:00\n",
      "Multikey QSorting 86 samples\n",
      "  (Using difference cover)\n",
      "  Multikey QSorting samples time: 00:00:00\n",
      "Calculating bucket sizes\n",
      "Splitting and merging\n",
      "  Splitting and merging time: 00:00:00\n",
      "Split 13, merged 35; iterating...\n",
      "Splitting and merging\n",
      "  Splitting and merging time: 00:00:00\n",
      "Split 7, merged 7; iterating...\n",
      "Splitting and merging\n",
      "  Splitting and merging time: 00:00:00\n",
      "Split 2, merged 4; iterating...\n",
      "Splitting and merging\n",
      "  Splitting and merging time: 00:00:00\n",
      "Avg bucket size: 653.721 (target: 935)\n",
      "Converting suffix-array elements to index image\n",
      "Allocating ftab, absorbFtab\n",
      "Entering Ebwt loop\n",
      "Getting block 1 of 61\n",
      "  Reserving size (936) for bucket 1\n",
      "Getting block 2 of 61\n",
      "  Calculating Z arrays for bucket 1\n",
      "  Reserving size (936) for bucket 2\n",
      "Getting block 3 of 61\n",
      "  Entering block accumulator loop for bucket 1:\n",
      "Getting block 4 of 61\n",
      "Getting block 5 of 61\n",
      "  Calculating Z arrays for bucket 2\n",
      "  Reserving size (936) for bucket 3\n",
      "Getting block 6 of 61\n",
      "Getting block 7 of 61\n",
      "  Reserving size (936) for bucket 4\n",
      "  Reserving size (936) for bucket 5\n",
      "  Calculating Z arrays for bucket 3\n",
      "  Entering block accumulator loop for bucket 2:\n",
      "  Reserving size (936) for bucket 6\n",
      "  Reserving size (936) for bucket 7\n",
      "  Calculating Z arrays for bucket 4\n",
      "  bucket 1: 10%\n",
      "  Calculating Z arrays for bucket 5\n",
      "  Entering block accumulator loop for bucket 3:\n",
      "  Calculating Z arrays for bucket 6\n",
      "  Calculating Z arrays for bucket 7\n",
      "  Entering block accumulator loop for bucket 4:\n",
      "  Entering block accumulator loop for bucket 5:\n",
      "  bucket 2: 10%\n",
      "  bucket 1: 20%\n",
      "  Entering block accumulator loop for bucket 6:\n",
      "  Entering block accumulator loop for bucket 7:\n",
      "  bucket 3: 10%\n",
      "  bucket 2: 20%\n",
      "  bucket 1: 30%\n",
      "  bucket 4: 10%\n",
      "  bucket 5: 10%\n",
      "  bucket 3: 20%\n",
      "  bucket 6: 10%\n",
      "  bucket 2: 30%\n",
      "  bucket 1: 40%\n",
      "  bucket 7: 10%\n",
      "  bucket 2: 40%\n",
      "  bucket 1: 50%\n",
      "  bucket 6: 20%\n",
      "  bucket 4: 20%\n",
      "  bucket 5: 20%\n",
      "  bucket 2: 50%\n",
      "  bucket 1: 60%\n",
      "  bucket 3: 30%\n",
      "  bucket 6: 30%\n",
      "  bucket 2: 60%\n",
      "  bucket 1: 70%\n",
      "  bucket 6: 40%\n",
      "  bucket 7: 20%\n",
      "  bucket 2: 70%\n",
      "  bucket 4: 30%\n",
      "  bucket 1: 80%\n",
      "  bucket 6: 50%\n",
      "  bucket 5: 30%\n",
      "  bucket 2: 80%\n",
      "  bucket 3: 40%\n",
      "  bucket 4: 40%\n",
      "  bucket 7: 30%\n",
      "  bucket 1: 90%\n",
      "  bucket 6: 60%\n",
      "  bucket 5: 40%\n",
      "  bucket 2: 90%\n",
      "  bucket 3: 50%\n",
      "  bucket 4: 50%\n",
      "  bucket 7: 40%\n",
      "  bucket 6: 70%\n",
      "  bucket 1: 100%\n",
      "  bucket 5: 50%\n",
      "  Sorting block of length 878 for bucket 1\n",
      "  (Using difference cover)\n",
      "  bucket 2: 100%\n",
      "  bucket 3: 60%\n",
      "  bucket 4: 60%\n",
      "  bucket 7: 50%\n",
      "  Sorting block of length 639 for bucket 2\n",
      "  (Using difference cover)\n",
      "  bucket 6: 80%\n",
      "  bucket 5: 60%\n",
      "  bucket 3: 70%\n",
      "  bucket 4: 70%\n",
      "  bucket 6: 90%\n",
      "  bucket 7: 60%\n",
      "  bucket 5: 70%\n",
      "  bucket 3: 80%\n",
      "  Sorting block time: 00:00:00\n",
      "Returning block of 879 for bucket 1\n",
      "  bucket 4: 80%\n",
      "  bucket 5: 80%\n",
      "  Sorting block time: 00:00:00\n",
      "  bucket 7: 70%\n",
      "  bucket 6: 100%\n",
      "Returning block of 640 for bucket 2\n",
      "  bucket 3: 90%\n",
      "  Sorting block of length 596 for bucket 6\n",
      "  (Using difference cover)\n",
      "  bucket 4: 90%\n",
      "  bucket 7: 80%\n",
      "  bucket 5: 90%\n",
      "  bucket 3: 100%\n",
      "  bucket 4: 100%\n",
      "  Sorting block of length 516 for bucket 3\n",
      "  (Using difference cover)\n",
      "  bucket 7: 90%\n",
      "  Sorting block of length 552 for bucket 4\n",
      "  (Using difference cover)\n",
      "  bucket 5: 100%\n",
      "  Sorting block of length 395 for bucket 5\n",
      "  (Using difference cover)\n",
      "  Sorting block time: 00:00:00\n",
      "Returning block of 597 for bucket 6\n",
      "  Sorting block time: 00:00:00\n",
      "Returning block of 517 for bucket 3\n",
      "  bucket 7: 100%\n",
      "  Sorting block time: 00:00:00\n",
      "  Sorting block of length 709 for bucket 7\n",
      "  (Using difference cover)\n",
      "Returning block of 553 for bucket 4\n",
      "Getting block 8 of 61\n",
      "  Reserving size (936) for bucket 8\n",
      "  Calculating Z arrays for bucket 8\n",
      "  Sorting block time: 00:00:00\n",
      "Returning block of 396 for bucket 5\n",
      "  Entering block accumulator loop for bucket 8:\n",
      "  bucket 8: 10%\n",
      "  bucket 8: 20%\n",
      "Getting block 9 of 61\n",
      "  Reserving size (936) for bucket 9\n",
      "  Calculating Z arrays for bucket 9\n",
      "  Sorting block time: 00:00:00\n",
      "Returning block of 710 for bucket 7\n",
      "  bucket 8: 30%\n",
      "  Entering block accumulator loop for bucket 9:\n",
      "Getting block 10 of 61\n",
      "  Reserving size (936) for bucket 10\n",
      "Getting block 11 of 61\n",
      "  bucket 8: 40%\n",
      "  bucket 9: 10%\n",
      "  Calculating Z arrays for bucket 10\n",
      "Getting block 12 of 61\n",
      "  Reserving size (936) for bucket 11\n",
      "Getting block 13 of 61\n",
      "  bucket 8: 50%\n",
      "  bucket 9: 20%\n",
      "  Reserving size (936) for bucket 12\n",
      "  Entering block accumulator loop for bucket 10:\n",
      "  Calculating Z arrays for bucket 11\n",
      "Getting block 14 of 61\n",
      "  Reserving size (936) for bucket 13\n",
      "  bucket 8: 60%\n",
      "  Calculating Z arrays for bucket 12\n",
      "  bucket 9: 30%\n",
      "  Reserving size (936) for bucket 14\n",
      "  Entering block accumulator loop for bucket 11:\n",
      "  Calculating Z arrays for bucket 13\n",
      "  Entering block accumulator loop for bucket 12:\n",
      "  bucket 8: 70%\n",
      "  bucket 10: 10%\n",
      "  Calculating Z arrays for bucket 14\n",
      "  bucket 9: 40%\n",
      "  Entering block accumulator loop for bucket 13:\n",
      "  Entering block accumulator loop for bucket 14:\n",
      "  bucket 10: 20%\n",
      "  bucket 8: 80%\n",
      "  bucket 13: 10%\n",
      "  bucket 11: 10%\n",
      "  bucket 11: 20%\n",
      "  bucket 13: 20%\n",
      "  bucket 12: 10%\n",
      "  bucket 8: 90%\n",
      "  bucket 9: 50%\n",
      "  bucket 10: 30%\n",
      "  bucket 14: 10%\n",
      "  bucket 11: 30%\n",
      "  bucket 13: 30%\n",
      "  bucket 11: 40%\n",
      "  bucket 13: 40%\n",
      "  bucket 8: 100%\n",
      "  Sorting block of length 598 for bucket 8\n",
      "  (Using difference cover)\n",
      "  bucket 12: 20%\n",
      "  bucket 14: 20%\n",
      "  bucket 11: 50%\n",
      "  bucket 9: 60%\n",
      "  bucket 13: 50%\n",
      "  bucket 12: 30%\n",
      "  Sorting block time: 00:00:00\n",
      "  bucket 10: 40%\n",
      "  bucket 14: 30%\n",
      "Returning block of 599 for bucket 8\n",
      "  bucket 12: 40%\n",
      "  bucket 13: 60%\n",
      "  bucket 11: 60%\n",
      "  bucket 9: 70%\n",
      "  bucket 14: 40%\n",
      "  bucket 10: 50%\n",
      "  bucket 9: 80%\n",
      "Getting block 15 of 61\n",
      "  bucket 12: 50%\n",
      "  Reserving size (936) for bucket 15\n",
      "  bucket 9: 90%\n",
      "  bucket 11: 70%\n",
      "  Calculating Z arrays for bucket 15\n",
      "  bucket 13: 70%\n",
      "  bucket 10: 60%\n",
      "  bucket 14: 50%\n",
      "  Entering block accumulator loop for bucket 15:\n",
      "  bucket 9: 100%\n",
      "  Sorting block of length 581 for bucket 9\n",
      "  (Using difference cover)\n",
      "  bucket 14: 60%\n",
      "  bucket 11: 80%\n",
      "  bucket 13: 80%\n",
      "  bucket 10: 70%\n",
      "  bucket 12: 60%\n",
      "  bucket 15: 10%\n",
      "  Sorting block time: 00:00:00\n",
      "Returning block of 582 for bucket 9\n",
      "  bucket 12: 70%\n",
      "  bucket 13: 90%\n",
      "  bucket 11: 90%\n",
      "  bucket 12: 80%\n",
      "  bucket 14: 70%\n",
      "  bucket 10: 80%\n",
      "  bucket 15: 20%\n",
      "  bucket 12: 90%\n",
      "Getting block 16 of 61\n",
      "  Reserving size (936) for bucket 16\n",
      "  Calculating Z arrays for bucket 16\n",
      "  bucket 13: 100%\n",
      "  Entering block accumulator loop for bucket 16:\n",
      "  bucket 12: 100%\n",
      "  bucket 10: 90%\n",
      "  Sorting block of length 595 for bucket 13\n",
      "  (Using difference cover)\n",
      "  bucket 11: 100%\n",
      "  bucket 14: 80%\n",
      "  Sorting block of length 686 for bucket 12\n",
      "  (Using difference cover)\n",
      "  bucket 15: 30%\n",
      "  Sorting block of length 457 for bucket 11\n",
      "  (Using difference cover)\n",
      "  bucket 10: 100%\n",
      "  bucket 16: 10%\n",
      "  Sorting block time: 00:00:00\n",
      "  Sorting block time: 00:00:00\n",
      "  bucket 15: 40%\n",
      "  bucket 14: 90%\n",
      "  Sorting block of length 703 for bucket 10\n",
      "  (Using difference cover)\n",
      "Returning block of 596 for bucket 13\n",
      "  Sorting block time: 00:00:00\n",
      "Returning block of 687 for bucket 12\n",
      "  bucket 14: 100%\n",
      "  bucket 16: 20%\n",
      "  Sorting block time: 00:00:00\n",
      "Returning block of 704 for bucket 10\n",
      "  bucket 15: 50%\n",
      "  Sorting block of length 402 for bucket 14\n",
      "  (Using difference cover)\n",
      "Returning block of 458 for bucket 11\n",
      "  Sorting block time: 00:00:00\n",
      "  bucket 16: 30%\n",
      "  bucket 15: 60%\n",
      "Returning block of 403 for bucket 14\n",
      "Getting block 17 of 61\n",
      "  Reserving size (936) for bucket 17\n",
      "  Calculating Z arrays for bucket 17\n",
      "  Entering block accumulator loop for bucket 17:\n",
      "  bucket 16: 40%\n",
      "  bucket 15: 70%\n",
      "  bucket 16: 50%\n",
      "  bucket 17: 10%\n",
      "  bucket 15: 80%\n",
      "  bucket 16: 60%\n",
      "Getting block 18 of 61\n",
      "  Reserving size (936) for bucket 18\n",
      "  Calculating Z arrays for bucket 18\n",
      "  Entering block accumulator loop for bucket 18:\n",
      "Getting block 19 of 61\n",
      "  bucket 16: 70%\n",
      "  Reserving size (936) for bucket 19\n",
      "  Calculating Z arrays for bucket 19\n",
      "  bucket 15: 90%\n",
      "  Entering block accumulator loop for bucket 19:\n",
      "  bucket 18: 10%\n",
      "  bucket 17: 20%\n",
      "Getting block 20 of 61\n",
      "  Reserving size (936) for bucket 20\n",
      "  Calculating Z arrays for bucket 20\n",
      "  bucket 15: 100%\n",
      "  bucket 18: 20%\n",
      "  bucket 19: 10%\n",
      "  Sorting block of length 819 for bucket 15\n",
      "  (Using difference cover)\n",
      "Getting block 21 of 61\n",
      "  Entering block accumulator loop for bucket 20:\n",
      "  Sorting block time: 00:00:00\n",
      "  bucket 16: 80%\n",
      "  bucket 17: 30%\n",
      "  bucket 18: 30%\n",
      "  bucket 19: 20%\n",
      "  Reserving size (936) for bucket 21\n",
      "Returning block of 820 for bucket 15\n",
      "  bucket 16: 90%\n",
      "  bucket 17: 40%\n",
      "  bucket 18: 40%\n",
      "  Calculating Z arrays for bucket 21\n",
      "  bucket 19: 30%\n",
      "  bucket 20: 10%\n",
      "  bucket 16: 100%\n",
      "  bucket 17: 50%\n",
      "  Entering block accumulator loop for bucket 21:\n",
      "  bucket 18: 50%\n",
      "  Sorting block of length 768 for bucket 16\n",
      "  (Using difference cover)\n",
      "Getting block 22 of 61\n",
      "  bucket 19: 40%\n",
      "  bucket 17: 60%\n",
      "  bucket 20: 20%\n",
      "  Reserving size (936) for bucket 22\n",
      "  Sorting block time: 00:00:00\n",
      "  bucket 18: 60%\n",
      "  Calculating Z arrays for bucket 22\n",
      "Returning block of 769 for bucket 16\n",
      "  bucket 21: 10%\n",
      "  bucket 17: 70%\n",
      "  Entering block accumulator loop for bucket 22:\n",
      "  bucket 18: 70%\n",
      "  bucket 19: 50%\n",
      "  bucket 20: 30%\n",
      "  bucket 21: 20%\n",
      "  bucket 17: 80%\n",
      "  bucket 18: 80%\n",
      "  bucket 19: 60%\n",
      "  bucket 20: 40%\n",
      "  bucket 21: 30%\n",
      "  bucket 18: 90%\n",
      "  bucket 17: 90%\n",
      "  bucket 22: 10%\n",
      "  bucket 21: 40%\n",
      "  bucket 18: 100%\n",
      "  Sorting block of length 693 for bucket 18\n",
      "  (Using difference cover)\n",
      "  bucket 19: 70%\n",
      "  bucket 21: 50%\n",
      "  bucket 20: 50%\n",
      "  bucket 17: 100%\n",
      "  Sorting block of length 736 for bucket 17\n",
      "  (Using difference cover)\n",
      "  Sorting block time: 00:00:00\n",
      "Returning block of 694 for bucket 18\n",
      "Getting block 23 of 61\n",
      "  Reserving size (936) for bucket 23\n",
      "  Calculating Z arrays for bucket 23\n",
      "  Entering block accumulator loop for bucket 23:\n",
      "  bucket 22: 20%\n",
      "  Sorting block time: 00:00:00\n",
      "  bucket 19: 80%\n",
      "Returning block of 737 for bucket 17\n",
      "  bucket 20: 60%\n",
      "  bucket 23: 10%\n",
      "  bucket 21: 60%\n",
      "  bucket 22: 30%\n",
      "  bucket 19: 90%\n",
      "Getting block 24 of 61\n",
      "  bucket 21: 70%\n",
      "  Reserving size (936) for bucket 24\n",
      "  bucket 20: 70%\n",
      "  bucket 23: 20%\n",
      "Getting block 25 of 61\n",
      "  bucket 19: 100%\n",
      "  bucket 22: 40%\n",
      "  Calculating Z arrays for bucket 24\n",
      "  Reserving size (936) for bucket 25\n",
      "  Sorting block of length 902 for bucket 19\n",
      "  (Using difference cover)\n",
      "  Entering block accumulator loop for bucket 24:\n",
      "  bucket 21: 80%\n",
      "  Calculating Z arrays for bucket 25\n",
      "  bucket 23: 30%\n",
      "  Sorting block time: 00:00:00\n",
      "  bucket 20: 80%\n",
      "  bucket 22: 50%\n",
      "  Entering block accumulator loop for bucket 25:\n",
      "Returning block of 903 for bucket 19\n",
      "  bucket 21: 90%\n",
      "  bucket 23: 40%\n",
      "  bucket 22: 60%\n",
      "  bucket 24: 10%\n",
      "  bucket 21: 100%\n",
      "  Sorting block of length 599 for bucket 21\n",
      "  (Using difference cover)\n",
      "  bucket 20: 90%\n",
      "  bucket 24: 20%\n",
      "  bucket 23: 50%\n",
      "  bucket 22: 70%\n",
      "  Sorting block time: 00:00:00\n",
      "Returning block of 600 for bucket 21\n",
      "  bucket 25: 10%\n",
      "  bucket 24: 30%\n",
      "  bucket 20: 100%\n",
      "  Sorting block of length 578 for bucket 20\n",
      "  (Using difference cover)\n",
      "  bucket 25: 20%\n",
      "  bucket 24: 40%\n",
      "  bucket 22: 80%\n",
      "  bucket 23: 60%\n",
      "  bucket 25: 30%\n",
      "  bucket 24: 50%\n",
      "  bucket 22: 90%\n",
      "  bucket 24: 60%\n",
      "Getting block 26 of 61\n",
      "  Reserving size (936) for bucket 26\n",
      "  Sorting block time: 00:00:00\n",
      "  bucket 25: 40%\n",
      "  Calculating Z arrays for bucket 26\n",
      "Returning block of 579 for bucket 20\n",
      "  bucket 24: 70%\n",
      "  bucket 23: 70%\n",
      "  bucket 22: 100%\n",
      "  bucket 25: 50%\n",
      "  Entering block accumulator loop for bucket 26:\n",
      "  Sorting block of length 895 for bucket 22\n",
      "  (Using difference cover)\n",
      "  bucket 24: 80%\n",
      "  bucket 23: 80%\n",
      "  bucket 25: 60%\n",
      "Getting block 27 of 61\n",
      "Getting block 28 of 61\n",
      "  Reserving size (936) for bucket 27\n",
      "  Sorting block time: 00:00:00\n",
      "  bucket 24: 90%\n",
      "  Reserving size (936) for bucket 28\n",
      "  bucket 25: 70%\n",
      "  Calculating Z arrays for bucket 27\n",
      "  bucket 23: 90%\n",
      "Returning block of 896 for bucket 22\n",
      "  bucket 26: 10%\n",
      "  Calculating Z arrays for bucket 28\n",
      "  Entering block accumulator loop for bucket 27:\n",
      "  bucket 24: 100%\n",
      "  bucket 25: 80%\n",
      "  Entering block accumulator loop for bucket 28:\n",
      "  bucket 26: 20%\n",
      "  bucket 23: 100%\n",
      "  Sorting block of length 583 for bucket 24\n",
      "  (Using difference cover)\n",
      "  bucket 25: 90%\n",
      "  Sorting block time: 00:00:00\n",
      "  bucket 27: 10%\n",
      "  Sorting block of length 917 for bucket 23\n",
      "  (Using difference cover)\n",
      "  bucket 26: 30%\n",
      "Returning block of 584 for bucket 24\n",
      "  bucket 25: 100%\n",
      "  bucket 28: 10%\n",
      "  bucket 27: 20%\n",
      "Getting block 29 of 61\n",
      "  Sorting block time: 00:00:00\n",
      "  Sorting block of length 490 for bucket 25\n",
      "  (Using difference cover)\n",
      "  bucket 26: 40%\n",
      "  Reserving size (936) for bucket 29\n",
      "Returning block of 918 for bucket 23\n",
      "  Sorting block time: 00:00:00\n",
      "  bucket 27: 30%\n",
      "  Calculating Z arrays for bucket 29\n",
      "  bucket 28: 20%\n",
      "Returning block of 491 for bucket 25\n",
      "  bucket 26: 50%\n",
      "  Entering block accumulator loop for bucket 29:\n",
      "  bucket 27: 40%\n",
      "  bucket 28: 30%\n",
      "Getting block 30 of 61\n",
      "  bucket 26: 60%\n",
      "Getting block 31 of 61\n",
      "  Reserving size (936) for bucket 30\n",
      "  bucket 28: 40%\n",
      "  bucket 27: 50%\n",
      "  Reserving size (936) for bucket 31\n",
      "Getting block 32 of 61\n",
      "  bucket 29: 10%\n",
      "  Calculating Z arrays for bucket 30\n",
      "  bucket 26: 70%\n",
      "  Calculating Z arrays for bucket 31\n",
      "  bucket 28: 50%\n",
      "  Reserving size (936) for bucket 32\n",
      "  bucket 27: 60%\n",
      "  Entering block accumulator loop for bucket 30:\n",
      "  bucket 29: 20%\n",
      "  Entering block accumulator loop for bucket 31:\n",
      "  Calculating Z arrays for bucket 32\n",
      "  bucket 26: 80%\n",
      "  Entering block accumulator loop for bucket 32:\n",
      "  bucket 29: 30%\n",
      "  bucket 27: 70%\n",
      "  bucket 28: 60%\n",
      "  bucket 30: 10%\n",
      "  bucket 27: 80%\n",
      "  bucket 28: 70%\n",
      "  bucket 31: 10%\n",
      "  bucket 29: 40%\n",
      "  bucket 26: 90%\n",
      "  bucket 32: 10%\n",
      "  bucket 30: 20%\n",
      "  bucket 27: 90%\n",
      "  bucket 28: 80%\n",
      "  bucket 27: 100%\n",
      "  Sorting block of length 532 for bucket 27\n",
      "  (Using difference cover)\n",
      "  bucket 29: 50%\n",
      "  bucket 30: 30%\n",
      "  bucket 31: 20%\n",
      "  Sorting block time: 00:00:00\n",
      "  bucket 26: 100%\n",
      "  bucket 28: 90%\n",
      "  bucket 32: 20%\n",
      "Returning block of 533 for bucket 27\n",
      "  Sorting block of length 625 for bucket 26\n",
      "  (Using difference cover)\n",
      "  bucket 30: 40%\n",
      "  bucket 29: 60%\n",
      "  bucket 31: 30%\n",
      "  bucket 28: 100%\n",
      "  bucket 32: 30%\n",
      "  Sorting block of length 775 for bucket 28\n",
      "  (Using difference cover)\n",
      "  Sorting block time: 00:00:00\n",
      "  bucket 29: 70%\n",
      "  bucket 30: 50%\n",
      "Returning block of 626 for bucket 26\n",
      "  bucket 31: 40%\n",
      "  Sorting block time: 00:00:00\n",
      "  bucket 32: 40%\n",
      "Returning block of 776 for bucket 28\n",
      "  bucket 29: 80%\n",
      "  bucket 31: 50%\n",
      "  bucket 30: 60%\n",
      "Getting block 33 of 61\n",
      "  bucket 32: 50%\n",
      "  Reserving size (936) for bucket 33\n",
      "  Calculating Z arrays for bucket 33\n",
      "  bucket 29: 90%\n",
      "  Entering block accumulator loop for bucket 33:\n",
      "  bucket 30: 70%\n",
      "  bucket 32: 60%\n",
      "  bucket 31: 60%\n",
      "  bucket 30: 80%\n",
      "  bucket 32: 70%\n",
      "  bucket 33: 10%\n",
      "  bucket 29: 100%\n",
      "  Sorting block of length 397 for bucket 29\n",
      "  (Using difference cover)\n",
      "  bucket 30: 90%\n",
      "  bucket 32: 80%\n",
      "Getting block 34 of 61\n",
      "  Reserving size (936) for bucket 34\n",
      "  Calculating Z arrays for bucket 34\n",
      "Getting block 35 of 61\n",
      "  Reserving size (936) for bucket 35\n",
      "  Calculating Z arrays for bucket 35\n",
      "  Entering block accumulator loop for bucket 35:\n",
      "  Entering block accumulator loop for bucket 34:\n",
      "  bucket 31: 70%\n",
      "  bucket 32: 90%\n",
      "  bucket 33: 20%\n",
      "  bucket 35: 10%\n",
      "  bucket 34: 10%\n",
      "  Sorting block time: 00:00:00\n",
      "  bucket 30: 100%\n",
      "Returning block of 398 for bucket 29\n",
      "  Sorting block of length 837 for bucket 30\n",
      "  (Using difference cover)\n",
      "  bucket 32: 100%\n",
      "  bucket 35: 20%\n",
      "  bucket 34: 20%\n",
      "  Sorting block of length 542 for bucket 32\n",
      "  (Using difference cover)\n",
      "  bucket 33: 30%\n",
      "  Sorting block time: 00:00:00\n",
      "  bucket 31: 80%\n",
      "Returning block of 838 for bucket 30\n",
      "  bucket 34: 30%\n",
      "  bucket 35: 30%\n",
      "  Sorting block time: 00:00:00\n",
      "  bucket 34: 40%\n",
      "  bucket 33: 40%\n",
      "Returning block of 543 for bucket 32\n",
      "  bucket 31: 90%\n",
      "  bucket 35: 40%\n",
      "  bucket 33: 50%\n",
      "  bucket 34: 50%\n",
      "  bucket 31: 100%\n",
      "  bucket 35: 50%\n",
      "Getting block 36 of 61\n",
      "  Sorting block of length 852 for bucket 31\n",
      "  (Using difference cover)\n",
      "  bucket 34: 60%\n",
      "  Reserving size (936) for bucket 36\n",
      "Getting block 37 of 61\n",
      "Getting block 38 of 61\n",
      "  bucket 35: 60%\n",
      "  bucket 33: 60%\n",
      "  Calculating Z arrays for bucket 36\n",
      "  Sorting block time: 00:00:00\n",
      "  Reserving size (936) for bucket 37\n",
      "  Reserving size (936) for bucket 38\n",
      "  bucket 34: 70%\n",
      "Returning block of 853 for bucket 31\n",
      "  Calculating Z arrays for bucket 37\n",
      "  Calculating Z arrays for bucket 38\n",
      "  Entering block accumulator loop for bucket 36:\n",
      "  bucket 33: 70%\n",
      "  bucket 35: 70%\n",
      "  Entering block accumulator loop for bucket 37:\n",
      "  Entering block accumulator loop for bucket 38:\n",
      "  bucket 34: 80%\n",
      "  bucket 35: 80%\n",
      "  bucket 33: 80%\n",
      "  bucket 36: 10%\n",
      "  bucket 37: 10%\n",
      "  bucket 34: 90%\n",
      "Getting block 39 of 61\n",
      "  bucket 38: 10%\n",
      "  bucket 35: 90%\n",
      "  Reserving size (936) for bucket 39\n",
      "  bucket 36: 20%\n",
      "  bucket 37: 20%\n",
      "  Calculating Z arrays for bucket 39\n",
      "  bucket 33: 90%\n",
      "  bucket 34: 100%\n",
      "  bucket 35: 100%\n",
      "  Entering block accumulator loop for bucket 39:\n",
      "  bucket 38: 20%\n",
      "  Sorting block of length 581 for bucket 34\n",
      "  (Using difference cover)\n",
      "  bucket 37: 30%\n",
      "  Sorting block of length 593 for bucket 35\n",
      "  (Using difference cover)\n",
      "  bucket 36: 30%\n",
      "  bucket 33: 100%\n",
      "  Sorting block time: 00:00:00\n",
      "  Sorting block time: 00:00:00\n",
      "  bucket 37: 40%\n",
      "  bucket 38: 30%\n",
      "  Sorting block of length 571 for bucket 33\n",
      "  (Using difference cover)\n",
      "Returning block of 594 for bucket 35\n",
      "Returning block of 582 for bucket 34\n",
      "  bucket 36: 40%\n",
      "  bucket 39: 10%\n",
      "  bucket 37: 50%\n",
      "  bucket 37: 60%\n",
      "Getting block 40 of 61\n",
      "  Reserving size (936) for bucket 40\n",
      "  Calculating Z arrays for bucket 40\n",
      "  bucket 38: 40%\n",
      "  Entering block accumulator loop for bucket 40:\n",
      "  bucket 37: 70%\n",
      "  bucket 36: 50%\n",
      "  bucket 39: 20%\n",
      "  Sorting block time: 00:00:00\n",
      "  bucket 38: 50%\n",
      "Returning block of 572 for bucket 33\n",
      "  bucket 40: 10%\n",
      "  bucket 37: 80%\n",
      "  bucket 38: 60%\n",
      "  bucket 39: 30%\n",
      "  bucket 40: 20%\n",
      "  bucket 36: 60%\n",
      "  bucket 38: 70%\n",
      "  bucket 39: 40%\n",
      "Getting block 41 of 61\n",
      "  Reserving size (936) for bucket 41\n",
      "  Calculating Z arrays for bucket 41\n",
      "  Entering block accumulator loop for bucket 41:\n",
      "  bucket 36: 70%\n",
      "  bucket 37: 90%\n",
      "  bucket 40: 30%\n",
      "  bucket 39: 50%\n",
      "  bucket 41: 10%\n",
      "  bucket 36: 80%\n",
      "  bucket 38: 80%\n",
      "  bucket 37: 100%\n",
      "  bucket 40: 40%\n",
      "  Sorting block of length 600 for bucket 37\n",
      "  (Using difference cover)\n",
      "Getting block 42 of 61\n",
      "  Reserving size (936) for bucket 42\n",
      "  Calculating Z arrays for bucket 42\n",
      "  bucket 41: 20%\n",
      "  bucket 36: 90%\n",
      "  Entering block accumulator loop for bucket 42:\n",
      "  bucket 39: 60%\n",
      "  bucket 38: 90%\n",
      "  bucket 41: 30%\n",
      "  bucket 36: 100%\n",
      "  Sorting block of length 379 for bucket 36\n",
      "  (Using difference cover)\n",
      "  bucket 40: 50%\n",
      "  bucket 41: 40%\n",
      "  Sorting block time: 00:00:00\n",
      "Returning block of 601 for bucket 37\n",
      "  bucket 42: 10%\n",
      "  Sorting block time: 00:00:00\n",
      "  bucket 39: 70%\n",
      "Returning block of 380 for bucket 36\n",
      "  bucket 38: 100%\n",
      "  bucket 40: 60%\n",
      "  bucket 41: 50%\n",
      "  Sorting block of length 697 for bucket 38\n",
      "  (Using difference cover)\n",
      "  bucket 39: 80%\n",
      "  bucket 42: 20%\n",
      "  bucket 40: 70%\n",
      "Getting block 43 of 61\n",
      "  Reserving size (936) for bucket 43\n",
      "  bucket 40: 80%\n",
      "  Calculating Z arrays for bucket 43\n",
      "  bucket 42: 30%\n",
      "  bucket 41: 60%\n",
      "  Entering block accumulator loop for bucket 43:\n",
      "  bucket 39: 90%\n",
      "Getting block 44 of 61\n",
      "  Reserving size (936) for bucket 44\n",
      "  Calculating Z arrays for bucket 44\n",
      "  Entering block accumulator loop for bucket 44:\n",
      "  bucket 41: 70%\n",
      "  bucket 40: 90%\n",
      "  bucket 39: 100%\n",
      "  Sorting block of length 889 for bucket 39\n",
      "  (Using difference cover)\n",
      "  Sorting block time: 00:00:00\n",
      "Returning block of 698 for bucket 38\n",
      "  bucket 41: 80%\n",
      "  bucket 44: 10%\n",
      "  bucket 42: 40%\n",
      "  bucket 41: 90%\n",
      "  bucket 44: 20%\n",
      "  Sorting block time: 00:00:00\n",
      "Returning block of 890 for bucket 39\n",
      "  bucket 40: 100%\n",
      "  bucket 43: 10%\n",
      "  Sorting block of length 619 for bucket 40\n",
      "  (Using difference cover)\n",
      "  bucket 41: 100%\n",
      "  bucket 44: 30%\n",
      "  Sorting block of length 892 for bucket 41\n",
      "  (Using difference cover)\n",
      "  Sorting block time: 00:00:00\n",
      "  bucket 42: 50%\n",
      "Returning block of 620 for bucket 40\n",
      "  bucket 44: 40%\n",
      "  bucket 43: 20%\n",
      "  bucket 44: 50%\n",
      "  bucket 42: 60%\n",
      "Getting block 45 of 61\n",
      "  Reserving size (936) for bucket 45\n",
      "  Calculating Z arrays for bucket 45\n",
      "  Entering block accumulator loop for bucket 45:\n",
      "  bucket 44: 60%\n",
      "  bucket 43: 30%\n",
      "  bucket 45: 10%\n",
      "Getting block 46 of 61\n",
      "  bucket 44: 70%\n",
      "  Sorting block time: 00:00:00\n",
      "  bucket 42: 70%\n",
      "  Reserving size (936) for bucket 46\n",
      "Returning block of 893 for bucket 41\n",
      "  bucket 45: 20%\n",
      "  Calculating Z arrays for bucket 46\n",
      "  bucket 44: 80%\n",
      "  bucket 43: 40%\n",
      "  bucket 42: 80%\n",
      "  Entering block accumulator loop for bucket 46:\n",
      "  bucket 44: 90%\n",
      "  bucket 45: 30%\n",
      "Getting block 47 of 61\n",
      "Getting block 48 of 61\n",
      "  bucket 43: 50%\n",
      "  bucket 44: 100%\n",
      "  Reserving size (936) for bucket 47\n",
      "  Reserving size (936) for bucket 48\n",
      "  bucket 42: 90%\n",
      "  Sorting block of length 463 for bucket 44\n",
      "  (Using difference cover)\n",
      "  Calculating Z arrays for bucket 47\n",
      "  bucket 46: 10%\n",
      "  Calculating Z arrays for bucket 48\n",
      "  bucket 45: 40%\n",
      "  bucket 43: 60%\n",
      "  Sorting block time: 00:00:00\n",
      "  Entering block accumulator loop for bucket 47:\n",
      "  bucket 42: 100%\n",
      "  Entering block accumulator loop for bucket 48:\n",
      "Returning block of 464 for bucket 44\n",
      "  bucket 46: 20%\n",
      "  Sorting block of length 652 for bucket 42\n",
      "  (Using difference cover)\n",
      "  bucket 43: 70%\n",
      "  bucket 45: 50%\n",
      "  Sorting block time: 00:00:00\n",
      "  bucket 46: 30%\n",
      "Returning block of 653 for bucket 42\n",
      "  bucket 43: 80%\n",
      "  bucket 47: 10%\n",
      "  bucket 48: 10%\n",
      "  bucket 46: 40%\n",
      "  bucket 45: 60%\n",
      "  bucket 43: 90%\n",
      "  bucket 48: 20%\n",
      "Getting block 49 of 61\n",
      "  bucket 47: 20%\n",
      "  bucket 45: 70%\n",
      "  bucket 43: 100%\n",
      "Getting block 50 of 61\n",
      "  bucket 46: 50%\n",
      "  Reserving size (936) for bucket 49\n",
      "  Sorting block of length 811 for bucket 43\n",
      "  (Using difference cover)\n",
      "  bucket 48: 30%\n",
      "  Reserving size (936) for bucket 50\n",
      "  bucket 47: 30%\n",
      "  Calculating Z arrays for bucket 49\n",
      "  bucket 45: 80%\n",
      "  Calculating Z arrays for bucket 50\n",
      "  bucket 48: 40%\n",
      "  Sorting block time: 00:00:00\n",
      "  bucket 46: 60%\n",
      "  Entering block accumulator loop for bucket 49:\n",
      "  Entering block accumulator loop for bucket 50:\n",
      "Returning block of 812 for bucket 43\n",
      "  bucket 47: 40%\n",
      "  bucket 48: 50%\n",
      "  bucket 46: 70%\n",
      "  bucket 45: 90%\n",
      "  bucket 48: 60%\n",
      "  bucket 50: 10%\n",
      "  bucket 49: 10%\n",
      "  bucket 46: 80%\n",
      "  bucket 48: 70%\n",
      "Getting block 51 of 61\n",
      "  bucket 45: 100%\n",
      "  Reserving size (936) for bucket 51\n",
      "  bucket 47: 50%\n",
      "  Sorting block of length 749 for bucket 45\n",
      "  (Using difference cover)\n",
      "  Calculating Z arrays for bucket 51\n",
      "  bucket 48: 80%\n",
      "  bucket 49: 20%\n",
      "  Sorting block time: 00:00:00\n",
      "  bucket 50: 20%\n",
      "  bucket 46: 90%\n",
      "  Entering block accumulator loop for bucket 51:\n",
      "  bucket 47: 60%\n",
      "Returning block of 750 for bucket 45\n",
      "  bucket 48: 90%\n",
      "  bucket 50: 30%\n",
      "  bucket 49: 30%\n",
      "  bucket 46: 100%\n",
      "  bucket 47: 70%\n",
      "  Sorting block of length 368 for bucket 46\n",
      "  (Using difference cover)\n",
      "  bucket 49: 40%\n",
      "  bucket 51: 10%\n",
      "  bucket 50: 40%\n",
      "  bucket 48: 100%\n",
      "Getting block 52 of 61\n",
      "  Sorting block of length 419 for bucket 48\n",
      "  (Using difference cover)\n",
      "  Sorting block time: 00:00:00\n",
      "  Reserving size (936) for bucket 52\n",
      "  bucket 49: 50%\n",
      "  Sorting block time: 00:00:00\n",
      "  bucket 50: 50%\n",
      "  bucket 51: 20%\n",
      "Returning block of 369 for bucket 46\n",
      "  Calculating Z arrays for bucket 52\n",
      "  bucket 47: 80%\n",
      "Returning block of 420 for bucket 48\n",
      "  bucket 49: 60%\n",
      "  bucket 50: 60%\n",
      "  Entering block accumulator loop for bucket 52:\n",
      "  bucket 51: 30%\n",
      "  bucket 47: 90%\n",
      "  bucket 49: 70%\n",
      "  bucket 50: 70%\n",
      "Getting block 53 of 61\n",
      "  Reserving size (936) for bucket 53\n",
      "  Calculating Z arrays for bucket 53\n",
      "  bucket 51: 40%\n",
      "  Entering block accumulator loop for bucket 53:\n",
      "  bucket 50: 80%\n",
      "  bucket 53: 10%\n",
      "  bucket 51: 50%\n",
      "  bucket 47: 100%\n",
      "  bucket 49: 80%\n",
      "  Sorting block of length 928 for bucket 47\n",
      "  (Using difference cover)\n",
      "  bucket 50: 90%\n",
      "  bucket 52: 10%\n",
      "  bucket 53: 20%\n",
      "  Sorting block time: 00:00:00\n",
      "  bucket 51: 60%\n",
      "  bucket 49: 90%\n",
      "Returning block of 929 for bucket 47\n",
      "  bucket 50: 100%\n",
      "Getting block 54 of 61\n",
      "  Sorting block of length 218 for bucket 50\n",
      "  (Using difference cover)\n",
      "  bucket 51: 70%\n",
      "  bucket 53: 30%\n",
      "  Reserving size (936) for bucket 54\n",
      "  bucket 52: 20%\n",
      "  Calculating Z arrays for bucket 54\n",
      "  bucket 49: 100%\n",
      "  Entering block accumulator loop for bucket 54:\n",
      "  Sorting block time: 00:00:00\n",
      "  bucket 53: 40%\n",
      "  Sorting block of length 893 for bucket 49\n",
      "  (Using difference cover)\n",
      "Returning block of 219 for bucket 50\n",
      "  bucket 51: 80%\n",
      "  bucket 52: 30%\n",
      "  bucket 53: 50%\n",
      "  bucket 54: 10%\n",
      "  Sorting block time: 00:00:00\n",
      "Returning block of 894 for bucket 49\n",
      "  bucket 51: 90%\n",
      "  bucket 53: 60%\n",
      "  bucket 52: 40%\n",
      "  bucket 54: 20%\n",
      "  bucket 51: 100%\n",
      "  bucket 53: 70%\n",
      "  Sorting block of length 889 for bucket 51\n",
      "  (Using difference cover)\n",
      "Getting block 55 of 61\n",
      "  Reserving size (936) for bucket 55\n",
      "  Calculating Z arrays for bucket 55\n",
      "  Entering block accumulator loop for bucket 55:\n",
      "  bucket 52: 50%\n",
      "  bucket 54: 30%\n",
      "Getting block 56 of 61\n",
      "  Sorting block time: 00:00:00\n",
      "  Reserving size (936) for bucket 56\n",
      "Returning block of 890 for bucket 51\n",
      "Getting block 57 of 61\n",
      "  bucket 53: 80%\n",
      "  Calculating Z arrays for bucket 56\n",
      "  bucket 54: 40%\n",
      "  bucket 55: 10%\n",
      "  bucket 52: 60%\n",
      "  Reserving size (936) for bucket 57\n",
      "  Entering block accumulator loop for bucket 56:\n",
      "  bucket 53: 90%\n",
      "  Calculating Z arrays for bucket 57\n",
      "Getting block 58 of 61\n",
      "  bucket 54: 50%\n",
      "  bucket 52: 70%\n",
      "  bucket 55: 20%\n",
      "  Entering block accumulator loop for bucket 57:\n",
      "  Reserving size (936) for bucket 58\n",
      "  bucket 53: 100%\n",
      "  bucket 54: 60%\n",
      "  bucket 56: 10%\n",
      "  Calculating Z arrays for bucket 58\n",
      "  bucket 52: 80%\n",
      "  Sorting block of length 934 for bucket 53\n",
      "  (Using difference cover)\n",
      "  bucket 55: 30%\n",
      "  bucket 54: 70%\n",
      "  Entering block accumulator loop for bucket 58:\n",
      "  bucket 56: 20%\n",
      "  bucket 57: 10%\n",
      "  bucket 54: 80%\n",
      "  bucket 58: 10%\n",
      "  bucket 52: 90%\n",
      "  Sorting block time: 00:00:00\n",
      "  bucket 55: 40%\n",
      "  bucket 56: 30%\n",
      "  bucket 54: 90%\n",
      "Returning block of 935 for bucket 53\n",
      "  bucket 57: 20%\n",
      "  bucket 58: 20%\n",
      "  bucket 52: 100%\n",
      "  bucket 55: 50%\n",
      "  bucket 56: 40%\n",
      "  Sorting block of length 845 for bucket 52\n",
      "  (Using difference cover)\n",
      "  bucket 57: 30%\n",
      "  bucket 54: 100%\n",
      "  bucket 56: 50%\n",
      "  Sorting block of length 62 for bucket 54\n",
      "  (Using difference cover)\n",
      "  bucket 57: 40%\n",
      "  bucket 55: 60%\n",
      "  bucket 58: 30%\n",
      "  Sorting block time: 00:00:00\n",
      "  Sorting block time: 00:00:00\n",
      "  bucket 56: 60%\n",
      "  bucket 57: 50%\n",
      "Returning block of 63 for bucket 54\n",
      "Returning block of 846 for bucket 52\n",
      "  bucket 58: 40%\n",
      "  bucket 55: 70%\n",
      "  bucket 56: 70%\n",
      "  bucket 57: 60%\n",
      "Getting block 59 of 61\n",
      "  Reserving size (936) for bucket 59\n",
      "  bucket 55: 80%\n",
      "  Calculating Z arrays for bucket 59\n",
      "  bucket 58: 50%\n",
      "  Entering block accumulator loop for bucket 59:\n",
      "  bucket 57: 70%\n",
      "  bucket 56: 80%\n",
      "  bucket 58: 60%\n",
      "  bucket 55: 90%\n",
      "Getting block 60 of 61\n",
      "  bucket 57: 80%\n",
      "Getting block 61 of 61\n",
      "  Reserving size (936) for bucket 60\n",
      "  bucket 58: 70%\n",
      "  bucket 55: 100%\n",
      "  bucket 59: 10%\n",
      "  bucket 56: 90%\n",
      "  Reserving size (936) for bucket 61\n",
      "  Calculating Z arrays for bucket 60\n",
      "  bucket 57: 90%\n",
      "  Sorting block of length 897 for bucket 55\n",
      "  (Using difference cover)\n",
      "  bucket 58: 80%\n",
      "  bucket 59: 20%\n",
      "  Calculating Z arrays for bucket 61\n",
      "  Entering block accumulator loop for bucket 60:\n",
      "  Sorting block time: 00:00:00\n",
      "  bucket 56: 100%\n",
      "  bucket 57: 100%\n",
      "  Entering block accumulator loop for bucket 61:\n",
      "Returning block of 898 for bucket 55\n",
      "  bucket 58: 90%\n",
      "  bucket 59: 30%\n",
      "  Sorting block of length 606 for bucket 56\n",
      "  (Using difference cover)\n",
      "  Sorting block of length 493 for bucket 57\n",
      "  (Using difference cover)\n",
      "  bucket 60: 10%\n",
      "  bucket 58: 100%\n",
      "  bucket 59: 40%\n",
      "  Sorting block time: 00:00:00\n",
      "  Sorting block time: 00:00:00\n",
      "  Sorting block of length 924 for bucket 58\n",
      "  (Using difference cover)\n",
      "  bucket 61: 10%\n",
      "Returning block of 607 for bucket 56\n",
      "Returning block of 494 for bucket 57\n",
      "  bucket 60: 20%\n",
      "  bucket 59: 50%\n",
      "  bucket 61: 20%\n",
      "  bucket 61: 30%\n",
      "  bucket 60: 30%\n",
      "  Sorting block time: 00:00:00\n",
      "Returning block of 925 for bucket 58\n",
      "  bucket 61: 40%\n",
      "  bucket 60: 40%\n",
      "  bucket 61: 50%\n",
      "  bucket 59: 60%\n",
      "  bucket 61: 60%\n",
      "  bucket 60: 50%\n",
      "  bucket 61: 70%\n",
      "  bucket 60: 60%\n",
      "  bucket 61: 80%\n",
      "  bucket 61: 90%\n",
      "  bucket 60: 70%\n",
      "  bucket 59: 70%\n",
      "  bucket 60: 80%\n",
      "  bucket 61: 100%\n",
      "  Sorting block of length 693 for bucket 61\n",
      "  (Using difference cover)\n",
      "  bucket 60: 90%\n",
      "  bucket 59: 80%\n",
      "  Sorting block time: 00:00:00\n",
      "Returning block of 694 for bucket 61\n",
      "  bucket 60: 100%\n",
      "  Sorting block of length 727 for bucket 60\n",
      "  (Using difference cover)\n",
      "  bucket 59: 90%\n",
      "  Sorting block time: 00:00:00\n",
      "Returning block of 728 for bucket 60\n",
      "  bucket 59: 100%\n",
      "  Sorting block of length 638 for bucket 59\n",
      "  (Using difference cover)\n",
      "  Sorting block time: 00:00:00\n",
      "Returning block of 639 for bucket 59\n",
      "Exited Ebwt loop\n",
      "fchr[A]: 0\n",
      "fchr[C]: 10842\n",
      "fchr[G]: 19880\n",
      "fchr[T]: 30171\n",
      "fchr[$]: 39937\n",
      "Exiting Ebwt::buildToDisk()\n",
      "Returning from initFromVector\n",
      "Wrote 4207850 bytes to primary EBWT file: /var/folders/18/3fc3jyt50sv9kqx6hdqg5b600000gn/T/refgenie_demo_ugm8n45l/data/kN9XHLKLS_u7ei2GH87H-qpQrkz8moPB/bowtie2_index/2.5.3/kN9XHLKLS_u7ei2GH87H-qpQrkz8moPB.1.bt2.tmp\n",
      "Wrote 9992 bytes to secondary EBWT file: /var/folders/18/3fc3jyt50sv9kqx6hdqg5b600000gn/T/refgenie_demo_ugm8n45l/data/kN9XHLKLS_u7ei2GH87H-qpQrkz8moPB/bowtie2_index/2.5.3/kN9XHLKLS_u7ei2GH87H-qpQrkz8moPB.2.bt2.tmp\n",
      "Re-opening _in1 and _in2 as input streams\n",
      "Returning from Ebwt constructor\n",
      "Headers:\n",
      "    len: 39937\n",
      "    bwtLen: 39938\n",
      "    sz: 9985\n",
      "    bwtSz: 9985\n",
      "    lineRate: 6\n",
      "    offRate: 4\n",
      "    offMask: 0xfffffff0\n",
      "    ftabChars: 10\n",
      "    eftabLen: 20\n",
      "    eftabSz: 80\n",
      "    ftabLen: 1048577\n",
      "    ftabSz: 4194308\n",
      "    offsLen: 2497\n",
      "    offsSz: 9988\n",
      "    lineSz: 64\n",
      "    sideSz: 64\n",
      "    sideBwtSz: 48\n",
      "    sideBwtLen: 192\n",
      "    numSides: 209\n",
      "    numLines: 209\n",
      "    ebwtTotLen: 13376\n",
      "    ebwtTotSz: 13376\n",
      "    color: 0\n",
      "    reverse: 0\n",
      "Total time for call to driver() for forward index: 00:00:00\n",
      "Reading reference sizes\n",
      "  Time reading reference sizes: 00:00:00\n",
      "Calculating joined length\n",
      "Writing header\n",
      "Reserving space for joined string\n",
      "Joining reference sequences\n",
      "  Time to join reference sequences: 00:00:00\n",
      "  Time to reverse reference sequence: 00:00:00\n",
      "bmax according to bmaxDivN setting: 1248\n",
      "Using parameters --bmax 936 --dcv 1024\n",
      "  Doing ahead-of-time memory usage test\n",
      "  Passed!  Constructing with these parameters: --bmax 936 --dcv 1024\n",
      "Constructing suffix-array element generator\n",
      "Building DifferenceCoverSample\n",
      "  Building sPrime\n",
      "  Building sPrimeOrder\n",
      "  V-Sorting samples\n",
      "  V-Sorting samples time: 00:00:00\n",
      "  Allocating rank array\n",
      "  Ranking v-sort output\n",
      "  Ranking v-sort output time: 00:00:00\n",
      "  Invoking Larsson-Sadakane on ranks\n",
      "  Invoking Larsson-Sadakane on ranks time: 00:00:00\n",
      "  Sanity-checking and returning\n",
      "Building samples\n",
      "Reserving space for 86 sample suffixes\n",
      "Generating random suffixes\n",
      "QSorting 86 sample offsets, eliminating duplicates\n",
      "QSorting sample offsets, eliminating duplicates time: 00:00:00\n",
      "Multikey QSorting 86 samples\n",
      "  (Using difference cover)\n",
      "  Multikey QSorting samples time: 00:00:00\n",
      "Calculating bucket sizes\n",
      "Splitting and merging\n",
      "  Splitting and merging time: 00:00:00\n",
      "Split 13, merged 40; iterating...\n",
      "Splitting and merging\n",
      "  Splitting and merging time: 00:00:00\n",
      "Split 7, merged 6; iterating...\n",
      "Splitting and merging\n",
      "  Splitting and merging time: 00:00:00\n",
      "Split 3, merged 4; iterating...\n",
      "Splitting and merging\n",
      "  Splitting and merging time: 00:00:00\n",
      "Split 2, merged 3; iterating...\n",
      "Splitting and merging\n",
      "  Splitting and merging time: 00:00:00\n",
      "Split 2, merged 1; iterating...\n",
      "Avg bucket size: 664.633 (target: 935)\n",
      "Converting suffix-array elements to index image\n",
      "Allocating ftab, absorbFtab\n",
      "Entering Ebwt loop\n",
      "Getting block 1 of 60\n",
      "  Reserving size (936) for bucket 1\n",
      "Getting block 2 of 60\n",
      "  Calculating Z arrays for bucket 1\n",
      "Getting block 3 of 60\n",
      "Getting block 4 of 60\n",
      "Getting block 5 of 60\n",
      "  Reserving size (936) for bucket 2\n",
      "Getting block 6 of 60\n",
      "Getting block 7 of 60\n",
      "  Entering block accumulator loop for bucket 1:\n",
      "  Reserving size (936) for bucket 3\n",
      "  Reserving size (936) for bucket 4\n",
      "  Reserving size (936) for bucket 5\n",
      "  Calculating Z arrays for bucket 2\n",
      "  Reserving size (936) for bucket 6\n",
      "  Reserving size (936) for bucket 7\n",
      "  Calculating Z arrays for bucket 3\n",
      "  Calculating Z arrays for bucket 4\n",
      "  Calculating Z arrays for bucket 5\n",
      "  Entering block accumulator loop for bucket 2:\n",
      "  Calculating Z arrays for bucket 6\n",
      "  Calculating Z arrays for bucket 7\n",
      "  bucket 1: 10%\n",
      "  Entering block accumulator loop for bucket 3:\n",
      "  Entering block accumulator loop for bucket 4:\n",
      "  Entering block accumulator loop for bucket 5:\n",
      "  Entering block accumulator loop for bucket 6:\n",
      "  Entering block accumulator loop for bucket 7:\n",
      "  bucket 1: 20%\n",
      "  bucket 2: 10%\n",
      "  bucket 3: 10%\n",
      "  bucket 1: 30%\n",
      "  bucket 4: 10%\n",
      "  bucket 2: 20%\n",
      "  bucket 5: 10%\n",
      "  bucket 6: 10%\n",
      "  bucket 1: 40%\n",
      "  bucket 7: 10%\n",
      "  bucket 4: 20%\n",
      "  bucket 6: 20%\n",
      "  bucket 1: 50%\n",
      "  bucket 5: 20%\n",
      "  bucket 2: 30%\n",
      "  bucket 3: 20%\n",
      "  bucket 4: 30%\n",
      "  bucket 6: 30%\n",
      "  bucket 1: 60%\n",
      "  bucket 7: 20%\n",
      "  bucket 5: 30%\n",
      "  bucket 3: 30%\n",
      "  bucket 2: 40%\n",
      "  bucket 4: 40%\n",
      "  bucket 6: 40%\n",
      "  bucket 1: 70%\n",
      "  bucket 7: 30%\n",
      "  bucket 5: 40%\n",
      "  bucket 3: 40%\n",
      "  bucket 2: 50%\n",
      "  bucket 4: 50%\n",
      "  bucket 6: 50%\n",
      "  bucket 1: 80%\n",
      "  bucket 7: 40%\n",
      "  bucket 5: 50%\n",
      "  bucket 4: 60%\n",
      "  bucket 3: 50%\n",
      "  bucket 2: 60%\n",
      "  bucket 1: 90%\n",
      "  bucket 6: 60%\n",
      "  bucket 7: 50%\n",
      "  bucket 5: 60%\n",
      "  bucket 4: 70%\n",
      "  bucket 2: 70%\n",
      "  bucket 1: 100%\n",
      "  Sorting block of length 854 for bucket 1\n",
      "  (Using difference cover)\n",
      "  bucket 6: 70%\n",
      "  bucket 3: 60%\n",
      "  bucket 6: 80%\n",
      "  bucket 3: 70%\n",
      "  bucket 5: 70%\n",
      "  bucket 7: 60%\n",
      "  Sorting block time: 00:00:00\n",
      "  bucket 6: 90%\n",
      "  bucket 4: 80%\n",
      "Returning block of 855 for bucket 1\n",
      "  bucket 2: 80%\n",
      "  bucket 3: 80%\n",
      "  bucket 6: 100%\n",
      "  bucket 4: 90%\n",
      "  Sorting block of length 214 for bucket 6\n",
      "  (Using difference cover)\n",
      "  bucket 7: 70%\n",
      "  bucket 5: 80%\n",
      "  bucket 2: 90%\n",
      "  bucket 4: 100%\n",
      "  Sorting block of length 602 for bucket 4\n",
      "  (Using difference cover)\n",
      "  bucket 7: 80%\n",
      "  Sorting block time: 00:00:00\n",
      "  bucket 3: 90%\n",
      "Returning block of 215 for bucket 6\n",
      "  bucket 7: 90%\n",
      "  bucket 2: 100%\n",
      "  Sorting block time: 00:00:00\n",
      "  bucket 7: 100%\n",
      "  bucket 3: 100%\n",
      "Returning block of 603 for bucket 4\n",
      "  bucket 5: 90%\n",
      "  Sorting block of length 671 for bucket 2\n",
      "  (Using difference cover)\n",
      "  Sorting block of length 914 for bucket 7\n",
      "  (Using difference cover)\n",
      "  Sorting block of length 814 for bucket 3\n",
      "  (Using difference cover)\n",
      "  bucket 5: 100%\n",
      "  Sorting block time: 00:00:00\n",
      "Getting block 8 of 60\n",
      "  Sorting block of length 754 for bucket 5\n",
      "  (Using difference cover)\n",
      "Returning block of 915 for bucket 7\n",
      "  Sorting block time: 00:00:00\n",
      "  Reserving size (936) for bucket 8\n",
      "Getting block 9 of 60\n",
      "Returning block of 815 for bucket 3\n",
      "  Sorting block time: 00:00:00\n",
      "  Calculating Z arrays for bucket 8\n",
      "  Reserving size (936) for bucket 9\n",
      "Returning block of 672 for bucket 2\n",
      "  Sorting block time: 00:00:00\n",
      "  Calculating Z arrays for bucket 9\n",
      "  Entering block accumulator loop for bucket 8:\n",
      "Returning block of 755 for bucket 5\n",
      "  Entering block accumulator loop for bucket 9:\n",
      "Getting block 10 of 60\n",
      "  Reserving size (936) for bucket 10\n",
      "  Calculating Z arrays for bucket 10\n",
      "  Entering block accumulator loop for bucket 10:\n",
      "Getting block 11 of 60\n",
      "  Reserving size (936) for bucket 11\n",
      "  Calculating Z arrays for bucket 11\n",
      "Getting block 12 of 60\n",
      "  Reserving size (936) for bucket 12\n",
      "  Calculating Z arrays for bucket 12\n",
      "Getting block 13 of 60\n",
      "  Reserving size (936) for bucket 13\n",
      "  Calculating Z arrays for bucket 13\n",
      "  Entering block accumulator loop for bucket 11:\n",
      "  Entering block accumulator loop for bucket 12:\n",
      "  Entering block accumulator loop for bucket 13:\n",
      "  bucket 8: 10%\n",
      "Getting block 14 of 60\n",
      "  Reserving size (936) for bucket 14\n",
      "  Calculating Z arrays for bucket 14\n",
      "  bucket 11: 10%\n",
      "  Entering block accumulator loop for bucket 14:\n",
      "  bucket 13: 10%\n",
      "  bucket 8: 20%\n",
      "  bucket 10: 10%\n",
      "  bucket 9: 10%\n",
      "  bucket 11: 20%\n",
      "  bucket 14: 10%\n",
      "  bucket 13: 20%\n",
      "  bucket 8: 30%\n",
      "  bucket 12: 10%\n",
      "  bucket 10: 20%\n",
      "  bucket 11: 30%\n",
      "  bucket 9: 20%\n",
      "  bucket 8: 40%\n",
      "  bucket 13: 30%\n",
      "  bucket 11: 40%\n",
      "  bucket 9: 30%\n",
      "  bucket 14: 20%\n",
      "  bucket 12: 20%\n",
      "  bucket 10: 30%\n",
      "  bucket 11: 50%\n",
      "  bucket 14: 30%\n",
      "  bucket 9: 40%\n",
      "  bucket 8: 50%\n",
      "  bucket 13: 40%\n",
      "  bucket 14: 40%\n",
      "  bucket 11: 60%\n",
      "  bucket 9: 50%\n",
      "  bucket 12: 30%\n",
      "  bucket 10: 40%\n",
      "  bucket 14: 50%\n",
      "  bucket 11: 70%\n",
      "  bucket 8: 60%\n",
      "  bucket 9: 60%\n",
      "  bucket 14: 60%\n",
      "  bucket 13: 50%\n",
      "  bucket 11: 80%\n",
      "  bucket 9: 70%\n",
      "  bucket 12: 40%\n",
      "  bucket 10: 50%\n",
      "  bucket 14: 70%\n",
      "  bucket 11: 90%\n",
      "  bucket 9: 80%\n",
      "  bucket 13: 60%\n",
      "  bucket 12: 50%\n",
      "  bucket 8: 70%\n",
      "  bucket 10: 60%\n",
      "  bucket 14: 80%\n",
      "  bucket 11: 100%\n",
      "  bucket 12: 60%\n",
      "  bucket 9: 90%\n",
      "  Sorting block of length 538 for bucket 11\n",
      "  (Using difference cover)\n",
      "  bucket 13: 70%\n",
      "  bucket 10: 70%\n",
      "  bucket 14: 90%\n",
      "  bucket 8: 80%\n",
      "  bucket 12: 70%\n",
      "  bucket 9: 100%\n",
      "  Sorting block of length 908 for bucket 9\n",
      "  (Using difference cover)\n",
      "  bucket 10: 80%\n",
      "  Sorting block time: 00:00:00\n",
      "Returning block of 539 for bucket 11\n",
      "  bucket 13: 80%\n",
      "  bucket 12: 80%\n",
      "  bucket 14: 100%\n",
      "  Sorting block of length 759 for bucket 14\n",
      "  (Using difference cover)\n",
      "  bucket 8: 90%\n",
      "  bucket 10: 90%\n",
      "  bucket 12: 90%\n",
      "  bucket 10: 100%\n",
      "  Sorting block of length 806 for bucket 10\n",
      "  (Using difference cover)\n",
      "  bucket 13: 90%\n",
      "  bucket 8: 100%\n",
      "  Sorting block of length 902 for bucket 8\n",
      "  Sorting block time: 00:00:00\n",
      "  (Using difference cover)\n",
      "  bucket 12: 100%\n",
      "Returning block of 909 for bucket 9\n",
      "  Sorting block of length 684 for bucket 12\n",
      "  (Using difference cover)\n",
      "  Sorting block time: 00:00:00\n",
      "  Sorting block time: 00:00:00\n",
      "Getting block 15 of 60\n",
      "  bucket 13: 100%\n",
      "Returning block of 807 for bucket 10\n",
      "Returning block of 760 for bucket 14\n",
      "  Reserving size (936) for bucket 15\n",
      "  Sorting block of length 290 for bucket 13\n",
      "  (Using difference cover)\n",
      "  Sorting block time: 00:00:00\n",
      "  Calculating Z arrays for bucket 15\n",
      "  Sorting block time: 00:00:00\n",
      "Returning block of 903 for bucket 8\n",
      "Returning block of 685 for bucket 12\n",
      "  Entering block accumulator loop for bucket 15:\n",
      "  bucket 15: 10%\n",
      "  bucket 15: 20%\n",
      "  Sorting block time: 00:00:00\n",
      "Returning block of 291 for bucket 13\n",
      "  bucket 15: 30%\n",
      "  bucket 15: 40%\n",
      "  bucket 15: 50%\n",
      "  bucket 15: 60%\n",
      "  bucket 15: 70%\n",
      "  bucket 15: 80%\n",
      "  bucket 15: 90%\n",
      "  bucket 15: 100%\n",
      "  Sorting block of length 715 for bucket 15\n",
      "  (Using difference cover)\n",
      "Getting block 16 of 60\n",
      "  Reserving size (936) for bucket 16\n",
      "  Calculating Z arrays for bucket 16\n",
      "  Entering block accumulator loop for bucket 16:\n",
      "  bucket 16: 10%\n",
      "Getting block 17 of 60\n",
      "  Reserving size (936) for bucket 17\n",
      "  Calculating Z arrays for bucket 17\n",
      "  Entering block accumulator loop for bucket 17:\n",
      "  Sorting block time: 00:00:00\n",
      "Returning block of 716 for bucket 15\n",
      "Getting block 18 of 60\n",
      "  Reserving size (936) for bucket 18\n",
      "  Calculating Z arrays for bucket 18\n",
      "  Entering block accumulator loop for bucket 18:\n",
      "Getting block 19 of 60\n",
      "  bucket 17: 10%\n",
      "  Reserving size (936) for bucket 19\n",
      "  bucket 16: 20%\n",
      "  Calculating Z arrays for bucket 19\n",
      "Getting block 20 of 60\n",
      "  bucket 17: 20%\n",
      "  Entering block accumulator loop for bucket 19:\n",
      "  Reserving size (936) for bucket 20\n",
      "  bucket 16: 30%\n",
      "  Calculating Z arrays for bucket 20\n",
      "Getting block 21 of 60\n",
      "  bucket 18: 10%\n",
      "  bucket 19: 10%\n",
      "  bucket 16: 40%\n",
      "  bucket 17: 30%\n",
      "  Reserving size (936) for bucket 21\n",
      "  Entering block accumulator loop for bucket 20:\n",
      "  bucket 19: 20%\n",
      "  bucket 16: 50%\n",
      "  Calculating Z arrays for bucket 21\n",
      "  bucket 18: 20%\n",
      "  bucket 17: 40%\n",
      "  bucket 19: 30%\n",
      "  bucket 16: 60%\n",
      "  Entering block accumulator loop for bucket 21:\n",
      "  bucket 20: 10%\n",
      "  bucket 17: 50%\n",
      "  bucket 19: 40%\n",
      "Getting block 22 of 60\n",
      "  bucket 18: 30%\n",
      "  bucket 16: 70%\n",
      "  Reserving size (936) for bucket 22\n",
      "  bucket 20: 20%\n",
      "  bucket 19: 50%\n",
      "  Calculating Z arrays for bucket 22\n",
      "  bucket 21: 10%\n",
      "  bucket 17: 60%\n",
      "  bucket 20: 30%\n",
      "  bucket 18: 40%\n",
      "  bucket 19: 60%\n",
      "  Entering block accumulator loop for bucket 22:\n",
      "  bucket 16: 80%\n",
      "  bucket 21: 20%\n",
      "  bucket 20: 40%\n",
      "  bucket 17: 70%\n",
      "  bucket 18: 50%\n",
      "  bucket 19: 70%\n",
      "  bucket 21: 30%\n",
      "  bucket 20: 50%\n",
      "  bucket 16: 90%\n",
      "  bucket 19: 80%\n",
      "  bucket 22: 10%\n",
      "  bucket 20: 60%\n",
      "  bucket 18: 60%\n",
      "  bucket 17: 80%\n",
      "  bucket 19: 90%\n",
      "  bucket 16: 100%\n",
      "  Sorting block of length 865 for bucket 16\n",
      "  (Using difference cover)\n",
      "  bucket 20: 70%\n",
      "  bucket 21: 40%\n",
      "  bucket 19: 100%\n",
      "  Sorting block of length 736 for bucket 19\n",
      "  (Using difference cover)\n",
      "  bucket 20: 80%\n",
      "  bucket 18: 70%\n",
      "  Sorting block time: 00:00:00\n",
      "  bucket 22: 20%\n",
      "  bucket 17: 90%\n",
      "  Sorting block time: 00:00:00\n",
      "Returning block of 866 for bucket 16\n",
      "  bucket 20: 90%\n",
      "Returning block of 737 for bucket 19\n",
      "  bucket 21: 50%\n",
      "  bucket 17: 100%\n",
      "  bucket 18: 80%\n",
      "  bucket 20: 100%\n",
      "  Sorting block of length 817 for bucket 17\n",
      "  (Using difference cover)\n",
      "  bucket 22: 30%\n",
      "  Sorting block of length 408 for bucket 20\n",
      "  (Using difference cover)\n",
      "  bucket 21: 60%\n",
      "  bucket 18: 90%\n",
      "Getting block 23 of 60\n",
      "  Sorting block time: 00:00:00\n",
      "Getting block 24 of 60\n",
      "  bucket 22: 40%\n",
      "  Reserving size (936) for bucket 23\n",
      "Returning block of 818 for bucket 17\n",
      "  bucket 21: 70%\n",
      "  Reserving size (936) for bucket 24\n",
      "  bucket 18: 100%\n",
      "  Calculating Z arrays for bucket 23\n",
      "  Sorting block time: 00:00:00\n",
      "  Calculating Z arrays for bucket 24\n",
      "  Sorting block of length 604 for bucket 18\n",
      "  (Using difference cover)\n",
      "Returning block of 409 for bucket 20\n",
      "  Entering block accumulator loop for bucket 23:\n",
      "  Entering block accumulator loop for bucket 24:\n",
      "  bucket 22: 50%\n",
      "  bucket 21: 80%\n",
      "  Sorting block time: 00:00:00\n",
      "Returning block of 605 for bucket 18\n",
      "  bucket 24: 10%\n",
      "  bucket 23: 10%\n",
      "  bucket 22: 60%\n",
      "Getting block 25 of 60\n",
      "  Reserving size (936) for bucket 25\n",
      "  Calculating Z arrays for bucket 25\n",
      "  bucket 21: 90%\n",
      "  bucket 24: 20%\n",
      "  Entering block accumulator loop for bucket 25:\n",
      "Getting block 26 of 60\n",
      "Getting block 27 of 60\n",
      "  bucket 21: 100%\n",
      "  Reserving size (936) for bucket 26\n",
      "  Reserving size (936) for bucket 27\n",
      "  Sorting block of length 681 for bucket 21\n",
      "  (Using difference cover)\n",
      "  Calculating Z arrays for bucket 26\n",
      "  bucket 23: 20%\n",
      "  Calculating Z arrays for bucket 27\n",
      "  bucket 22: 70%\n",
      "  bucket 24: 30%\n",
      "  Entering block accumulator loop for bucket 26:\n",
      "  bucket 25: 10%\n",
      "  Sorting block time: 00:00:00\n",
      "  Entering block accumulator loop for bucket 27:\n",
      "  bucket 22: 80%\n",
      "Returning block of 682 for bucket 21\n",
      "  bucket 24: 40%\n",
      "  bucket 23: 30%\n",
      "  bucket 25: 20%\n",
      "  bucket 22: 90%\n",
      "  bucket 26: 10%\n",
      "  bucket 27: 10%\n",
      "  bucket 23: 40%\n",
      "  bucket 25: 30%\n",
      "  bucket 26: 20%\n",
      "  bucket 22: 100%\n",
      "  Sorting block of length 839 for bucket 22\n",
      "  (Using difference cover)\n",
      "  bucket 24: 50%\n",
      "  bucket 25: 40%\n",
      "  bucket 26: 30%\n",
      "  bucket 23: 50%\n",
      "  Sorting block time: 00:00:00\n",
      "Returning block of 840 for bucket 22\n",
      "  bucket 25: 50%\n",
      "  bucket 26: 40%\n",
      "  bucket 24: 60%\n",
      "  bucket 27: 20%\n",
      "  bucket 25: 60%\n",
      "  bucket 26: 50%\n",
      "  bucket 25: 70%\n",
      "  bucket 24: 70%\n",
      "  bucket 26: 60%\n",
      "  bucket 23: 60%\n",
      "Getting block 28 of 60\n",
      "Getting block 29 of 60\n",
      "  Reserving size (936) for bucket 28\n",
      "  Reserving size (936) for bucket 29\n",
      "  Calculating Z arrays for bucket 28\n",
      "  Calculating Z arrays for bucket 29\n",
      "  bucket 25: 80%\n",
      "  bucket 24: 80%\n",
      "  Entering block accumulator loop for bucket 28:\n",
      "  bucket 27: 30%\n",
      "  Entering block accumulator loop for bucket 29:\n",
      "  bucket 26: 70%\n",
      "  bucket 24: 90%\n",
      "  bucket 25: 90%\n",
      "  bucket 23: 70%\n",
      "  bucket 27: 40%\n",
      "  bucket 28: 10%\n",
      "  bucket 26: 80%\n",
      "  bucket 29: 10%\n",
      "  bucket 23: 80%\n",
      "  bucket 24: 100%\n",
      "  bucket 25: 100%\n",
      "  bucket 26: 90%\n",
      "  Sorting block of length 461 for bucket 24\n",
      "  (Using difference cover)\n",
      "  bucket 27: 50%\n",
      "  Sorting block of length 879 for bucket 25\n",
      "  (Using difference cover)\n",
      "  bucket 29: 20%\n",
      "  bucket 28: 20%\n",
      "  bucket 26: 100%\n",
      "  bucket 23: 90%\n",
      "  Sorting block time: 00:00:00\n",
      "  Sorting block of length 732 for bucket 26\n",
      "  (Using difference cover)\n",
      "Returning block of 462 for bucket 24\n",
      "  Sorting block time: 00:00:00\n",
      "  bucket 29: 30%\n",
      "  bucket 27: 60%\n",
      "  bucket 28: 30%\n",
      "Returning block of 880 for bucket 25\n",
      "  bucket 23: 100%\n",
      "  Sorting block of length 601 for bucket 23\n",
      "  Sorting block time: 00:00:00\n",
      "  (Using difference cover)\n",
      "  bucket 27: 70%\n",
      "Returning block of 733 for bucket 26\n",
      "  bucket 28: 40%\n",
      "  bucket 27: 80%\n",
      "  Sorting block time: 00:00:00\n",
      "Returning block of 602 for bucket 23\n",
      "  bucket 28: 50%\n",
      "  bucket 29: 40%\n",
      "  bucket 27: 90%\n",
      "  bucket 28: 60%\n",
      "  bucket 27: 100%\n",
      "  Sorting block of length 827 for bucket 27\n",
      "  (Using difference cover)\n",
      "  bucket 29: 50%\n",
      "  bucket 28: 70%\n",
      "Getting block 30 of 60\n",
      "  Reserving size (936) for bucket 30\n",
      "  Sorting block time: 00:00:00\n",
      "  Calculating Z arrays for bucket 30\n",
      "Returning block of 828 for bucket 27\n",
      "  Entering block accumulator loop for bucket 30:\n",
      "Getting block 31 of 60\n",
      "  Reserving size (936) for bucket 31\n",
      "  Calculating Z arrays for bucket 31\n",
      "  Entering block accumulator loop for bucket 31:\n",
      "  bucket 28: 80%\n",
      "Getting block 32 of 60\n",
      "  Reserving size (936) for bucket 32\n",
      "  Calculating Z arrays for bucket 32\n",
      "  Entering block accumulator loop for bucket 32:\n",
      "  bucket 31: 10%\n",
      "  bucket 30: 10%\n",
      "  bucket 29: 60%\n",
      "  bucket 32: 10%\n",
      "  bucket 31: 20%\n",
      "  bucket 30: 20%\n",
      "Getting block 33 of 60\n",
      "  Reserving size (936) for bucket 33\n",
      "  Calculating Z arrays for bucket 33\n",
      "  Entering block accumulator loop for bucket 33:\n",
      "  bucket 32: 20%\n",
      "  bucket 28: 90%\n",
      "  bucket 31: 30%\n",
      "  bucket 29: 70%\n",
      "  bucket 30: 30%\n",
      "  bucket 32: 30%\n",
      "  bucket 33: 10%\n",
      "  bucket 31: 40%\n",
      "  bucket 28: 100%\n",
      "Getting block 34 of 60\n",
      "  bucket 30: 40%\n",
      "  bucket 32: 40%\n",
      "  Sorting block of length 862 for bucket 28\n",
      "  (Using difference cover)\n",
      "  bucket 33: 20%\n",
      "  bucket 29: 80%\n",
      "  Reserving size (936) for bucket 34\n",
      "  bucket 31: 50%\n",
      "  bucket 30: 50%\n",
      "  Sorting block time: 00:00:00\n",
      "  bucket 32: 50%\n",
      "  Calculating Z arrays for bucket 34\n",
      "  bucket 33: 30%\n",
      "  bucket 29: 90%\n",
      "Returning block of 863 for bucket 28\n",
      "  bucket 31: 60%\n",
      "  Entering block accumulator loop for bucket 34:\n",
      "  bucket 32: 60%\n",
      "  bucket 30: 60%\n",
      "  bucket 33: 40%\n",
      "  bucket 29: 100%\n",
      "  bucket 31: 70%\n",
      "  Sorting block of length 616 for bucket 29\n",
      "  (Using difference cover)\n",
      "  bucket 30: 70%\n",
      "  bucket 32: 70%\n",
      "  bucket 33: 50%\n",
      "  bucket 31: 80%\n",
      "Getting block 35 of 60\n",
      "  bucket 34: 10%\n",
      "  bucket 30: 80%\n",
      "  Reserving size (936) for bucket 35\n",
      "  bucket 32: 80%\n",
      "  Sorting block time: 00:00:00\n",
      "  Calculating Z arrays for bucket 35\n",
      "  bucket 33: 60%\n",
      "Returning block of 617 for bucket 29\n",
      "  bucket 34: 20%\n",
      "  bucket 31: 90%\n",
      "  Entering block accumulator loop for bucket 35:\n",
      "  bucket 33: 70%\n",
      "  bucket 30: 90%\n",
      "  bucket 32: 90%\n",
      "  bucket 34: 30%\n",
      "  bucket 31: 100%\n",
      "  Sorting block of length 720 for bucket 31\n",
      "  (Using difference cover)\n",
      "  bucket 33: 80%\n",
      "  bucket 30: 100%\n",
      "  Sorting block of length 449 for bucket 30\n",
      "  (Using difference cover)\n",
      "  bucket 32: 100%\n",
      "  Sorting block of length 607 for bucket 32\n",
      "  (Using difference cover)\n",
      "  bucket 33: 90%\n",
      "  Sorting block time: 00:00:00\n",
      "Returning block of 450 for bucket 30\n",
      "  bucket 35: 10%\n",
      "  Sorting block time: 00:00:00\n",
      "  bucket 34: 40%\n",
      "  bucket 33: 100%\n",
      "  Sorting block time: 00:00:00\n",
      "Returning block of 608 for bucket 32\n",
      "  Sorting block of length 608 for bucket 33\n",
      "  (Using difference cover)\n",
      "  bucket 35: 20%\n",
      "Returning block of 721 for bucket 31\n",
      "  bucket 34: 50%\n",
      "Getting block 36 of 60\n",
      "Getting block 37 of 60\n",
      "  Reserving size (936) for bucket 36\n",
      "  Reserving size (936) for bucket 37\n",
      "  Sorting block time: 00:00:00\n",
      "  Calculating Z arrays for bucket 36\n",
      "  Calculating Z arrays for bucket 37\n",
      "Returning block of 609 for bucket 33\n",
      "  bucket 35: 30%\n",
      "Getting block 38 of 60\n",
      "  Entering block accumulator loop for bucket 37:\n",
      "  Entering block accumulator loop for bucket 36:\n",
      "  bucket 34: 60%\n",
      "  Reserving size (936) for bucket 38\n",
      "  Calculating Z arrays for bucket 38\n",
      "Getting block 39 of 60\n",
      "  bucket 34: 70%\n",
      "  bucket 35: 40%\n",
      "  Reserving size (936) for bucket 39\n",
      "Getting block 40 of 60\n",
      "  Entering block accumulator loop for bucket 38:\n",
      "  Calculating Z arrays for bucket 39\n",
      "  Reserving size (936) for bucket 40\n",
      "  bucket 35: 50%\n",
      "  bucket 34: 80%\n",
      "  bucket 37: 10%\n",
      "  Entering block accumulator loop for bucket 39:\n",
      "  Calculating Z arrays for bucket 40\n",
      "  bucket 36: 10%\n",
      "  bucket 38: 10%\n",
      "  bucket 35: 60%\n",
      "  Entering block accumulator loop for bucket 40:\n",
      "  bucket 34: 90%\n",
      "  bucket 39: 10%\n",
      "  bucket 37: 20%\n",
      "  bucket 35: 70%\n",
      "  bucket 36: 20%\n",
      "  bucket 38: 20%\n",
      "  bucket 34: 100%\n",
      "  bucket 40: 10%\n",
      "  Sorting block of length 631 for bucket 34\n",
      "  (Using difference cover)\n",
      "  bucket 37: 30%\n",
      "  bucket 39: 20%\n",
      "  bucket 36: 30%\n",
      "  bucket 35: 80%\n",
      "  Sorting block time: 00:00:00\n",
      "  bucket 38: 30%\n",
      "Returning block of 632 for bucket 34\n",
      "  bucket 40: 20%\n",
      "  bucket 39: 30%\n",
      "  bucket 37: 40%\n",
      "  bucket 39: 40%\n",
      "  bucket 35: 90%\n",
      "  bucket 37: 50%\n",
      "  bucket 40: 30%\n",
      "Getting block 41 of 60\n",
      "  Reserving size (936) for bucket 41\n",
      "  Calculating Z arrays for bucket 41\n",
      "  bucket 36: 40%\n",
      "  bucket 38: 40%\n",
      "  Entering block accumulator loop for bucket 41:\n",
      "  bucket 39: 50%\n",
      "  bucket 35: 100%\n",
      "  bucket 37: 60%\n",
      "  bucket 38: 50%\n",
      "  Sorting block of length 346 for bucket 35\n",
      "  (Using difference cover)\n",
      "  bucket 40: 40%\n",
      "  bucket 36: 50%\n",
      "  bucket 39: 60%\n",
      "  Sorting block time: 00:00:00\n",
      "  bucket 37: 70%\n",
      "  bucket 38: 60%\n",
      "Returning block of 347 for bucket 35\n",
      "  bucket 41: 10%\n",
      "  bucket 36: 60%\n",
      "  bucket 39: 70%\n",
      "  bucket 37: 80%\n",
      "  bucket 40: 50%\n",
      "  bucket 39: 80%\n",
      "  bucket 36: 70%\n",
      "  bucket 37: 90%\n",
      "  bucket 38: 70%\n",
      "  bucket 40: 60%\n",
      "  bucket 41: 20%\n",
      "  bucket 39: 90%\n",
      "Getting block 42 of 60\n",
      "  bucket 40: 70%\n",
      "  bucket 37: 100%\n",
      "  bucket 38: 80%\n",
      "  Reserving size (936) for bucket 42\n",
      "  bucket 36: 80%\n",
      "  bucket 39: 100%\n",
      "  bucket 41: 30%\n",
      "  Sorting block of length 926 for bucket 37\n",
      "  (Using difference cover)\n",
      "  Calculating Z arrays for bucket 42\n",
      "  bucket 40: 80%\n",
      "  bucket 38: 90%\n",
      "  Sorting block of length 988 for bucket 39\n",
      "  (Using difference cover)\n",
      "  bucket 36: 90%\n",
      "  bucket 41: 40%\n",
      "  Sorting block time: 00:00:00\n",
      "  Entering block accumulator loop for bucket 42:\n",
      "Returning block of 927 for bucket 37\n",
      "  bucket 40: 90%\n",
      "  bucket 38: 100%\n",
      "  Sorting block of length 774 for bucket 38\n",
      "  (Using difference cover)\n",
      "  bucket 41: 50%\n",
      "  bucket 36: 100%\n",
      "  bucket 40: 100%\n",
      "  Sorting block time: 00:00:00\n",
      "  Sorting block of length 446 for bucket 36\n",
      "  (Using difference cover)\n",
      "  bucket 42: 10%\n",
      "  Sorting block of length 146 for bucket 40\n",
      "  (Using difference cover)\n",
      "  Sorting block time: 00:00:00\n",
      "Returning block of 989 for bucket 39\n",
      "  Sorting block time: 00:00:00\n",
      "  bucket 41: 60%\n",
      "Returning block of 775 for bucket 38\n",
      "Returning block of 447 for bucket 36\n",
      "  bucket 42: 20%\n",
      "  Sorting block time: 00:00:00\n",
      "Returning block of 147 for bucket 40\n",
      "Getting block 43 of 60\n",
      "  Reserving size (936) for bucket 43\n",
      "  Calculating Z arrays for bucket 43\n",
      "  Entering block accumulator loop for bucket 43:\n",
      "  bucket 42: 30%\n",
      "  bucket 41: 70%\n",
      "  bucket 42: 40%\n",
      "  bucket 41: 80%\n",
      "  bucket 42: 50%\n",
      "  bucket 41: 90%\n",
      "  bucket 43: 10%\n",
      "  bucket 42: 60%\n",
      "  bucket 41: 100%\n",
      "  Sorting block of length 554 for bucket 41\n",
      "  (Using difference cover)\n",
      "  bucket 42: 70%\n",
      "Getting block 44 of 60\n",
      "Getting block 45 of 60\n",
      "Getting block 46 of 60\n",
      "  Reserving size (936) for bucket 44\n",
      "  Sorting block time: 00:00:00\n",
      "  Reserving size (936) for bucket 45\n",
      "  Reserving size (936) for bucket 46\n",
      "  Calculating Z arrays for bucket 44\n",
      "Returning block of 555 for bucket 41\n",
      "  Calculating Z arrays for bucket 45\n",
      "  bucket 43: 20%\n",
      "  Calculating Z arrays for bucket 46\n",
      "  bucket 42: 80%\n",
      "Getting block 47 of 60\n",
      "  Entering block accumulator loop for bucket 44:\n",
      "  Entering block accumulator loop for bucket 45:\n",
      "  Entering block accumulator loop for bucket 46:\n",
      "  bucket 43: 30%\n",
      "  Reserving size (936) for bucket 47\n",
      "  bucket 42: 90%\n",
      "  Calculating Z arrays for bucket 47\n",
      "  bucket 43: 40%\n",
      "Getting block 48 of 60\n",
      "  bucket 44: 10%\n",
      "  Entering block accumulator loop for bucket 47:\n",
      "  bucket 45: 10%\n",
      "  Reserving size (936) for bucket 48\n",
      "  bucket 42: 100%\n",
      "  bucket 46: 10%\n",
      "  Calculating Z arrays for bucket 48\n",
      "  Sorting block of length 478 for bucket 42\n",
      "  (Using difference cover)\n",
      "  bucket 43: 50%\n",
      "  Entering block accumulator loop for bucket 48:\n",
      "  bucket 44: 20%\n",
      "  Sorting block time: 00:00:00\n",
      "Returning block of 479 for bucket 42\n",
      "  bucket 47: 10%\n",
      "  bucket 45: 20%\n",
      "  bucket 46: 20%\n",
      "  bucket 43: 60%\n",
      "  bucket 44: 30%\n",
      "  bucket 48: 10%\n",
      "  bucket 47: 20%\n",
      "  bucket 45: 30%\n",
      "  bucket 46: 30%\n",
      "  bucket 44: 40%\n",
      "  bucket 43: 70%\n",
      "Getting block 49 of 60\n",
      "  bucket 47: 30%\n",
      "  Reserving size (936) for bucket 49\n",
      "  bucket 48: 20%\n",
      "  bucket 46: 40%\n",
      "  Calculating Z arrays for bucket 49\n",
      "  bucket 45: 40%\n",
      "  bucket 47: 40%\n",
      "  bucket 48: 30%\n",
      "  bucket 44: 50%\n",
      "  bucket 43: 80%\n",
      "  bucket 46: 50%\n",
      "  Entering block accumulator loop for bucket 49:\n",
      "  bucket 45: 50%\n",
      "  bucket 47: 50%\n",
      "  bucket 48: 40%\n",
      "  bucket 43: 90%\n",
      "  bucket 44: 60%\n",
      "  bucket 43: 100%\n",
      "  Sorting block of length 734 for bucket 43\n",
      "  (Using difference cover)\n",
      "  bucket 47: 60%\n",
      "  bucket 45: 60%\n",
      "  bucket 48: 50%\n",
      "  bucket 49: 10%\n",
      "  bucket 47: 70%\n",
      "  Sorting block time: 00:00:00\n",
      "Returning block of 735 for bucket 43\n",
      "  bucket 46: 60%\n",
      "  bucket 44: 70%\n",
      "  bucket 45: 70%\n",
      "  bucket 47: 80%\n",
      "  bucket 49: 20%\n",
      "  bucket 48: 60%\n",
      "  bucket 46: 70%\n",
      "  bucket 44: 80%\n",
      "  bucket 47: 90%\n",
      "Getting block 50 of 60\n",
      "  bucket 46: 80%\n",
      "  Reserving size (936) for bucket 50\n",
      "  bucket 45: 80%\n",
      "  bucket 48: 70%\n",
      "  Calculating Z arrays for bucket 50\n",
      "  bucket 49: 30%\n",
      "  Entering block accumulator loop for bucket 50:\n",
      "  bucket 46: 90%\n",
      "  bucket 45: 90%\n",
      "  bucket 47: 100%\n",
      "  bucket 44: 90%\n",
      "  bucket 48: 80%\n",
      "  Sorting block of length 434 for bucket 47\n",
      "  bucket 48: 90%\n",
      "  bucket 49: 40%\n",
      "  (Using difference cover)\n",
      "  bucket 44: 100%\n",
      "  bucket 45: 100%\n",
      "  bucket 46: 100%\n",
      "  Sorting block of length 628 for bucket 44\n",
      "  (Using difference cover)\n",
      "  bucket 50: 10%\n",
      "  Sorting block of length 883 for bucket 45\n",
      "  (Using difference cover)\n",
      "  Sorting block of length 683 for bucket 46\n",
      "  (Using difference cover)\n",
      "  bucket 48: 100%\n",
      "  Sorting block time: 00:00:00\n",
      "  bucket 49: 50%\n",
      "  Sorting block of length 643 for bucket 48\n",
      "  (Using difference cover)\n",
      "Returning block of 435 for bucket 47\n",
      "  Sorting block time: 00:00:00\n",
      "Returning block of 684 for bucket 46\n",
      "  bucket 50: 20%\n",
      "  Sorting block time: 00:00:00\n",
      "Returning block of 884 for bucket 45\n",
      "  bucket 49: 60%\n",
      "  Sorting block time: 00:00:00\n",
      "Returning block of 629 for bucket 44\n",
      "  bucket 50: 30%\n",
      "  Sorting block time: 00:00:00\n",
      "Returning block of 644 for bucket 48\n",
      "  bucket 49: 70%\n",
      "  bucket 50: 40%\n",
      "Getting block 51 of 60\n",
      "  Reserving size (936) for bucket 51\n",
      "  Calculating Z arrays for bucket 51\n",
      "  Entering block accumulator loop for bucket 51:\n",
      "Getting block 52 of 60\n",
      "  Reserving size (936) for bucket 52\n",
      "  Calculating Z arrays for bucket 52\n",
      "  Entering block accumulator loop for bucket 52:\n",
      "  bucket 50: 50%\n",
      "  bucket 51: 10%\n",
      "  bucket 49: 80%\n",
      "  bucket 52: 10%\n",
      "  bucket 50: 60%\n",
      "  bucket 51: 20%\n",
      "  bucket 52: 20%\n",
      "  bucket 50: 70%\n",
      "  bucket 51: 30%\n",
      "Getting block 53 of 60\n",
      "  Reserving size (936) for bucket 53\n",
      "  Calculating Z arrays for bucket 53\n",
      "  bucket 52: 30%\n",
      "  bucket 50: 80%\n",
      "  Entering block accumulator loop for bucket 53:\n",
      "  bucket 51: 40%\n",
      "  bucket 49: 90%\n",
      "  bucket 50: 90%\n",
      "  bucket 52: 40%\n",
      "Getting block 54 of 60\n",
      "Getting block 55 of 60\n",
      "  Reserving size (936) for bucket 54\n",
      "  Reserving size (936) for bucket 55\n",
      "  bucket 53: 10%\n",
      "  bucket 50: 100%\n",
      "  Calculating Z arrays for bucket 54\n",
      "  bucket 52: 50%\n",
      "  bucket 49: 100%\n",
      "  bucket 51: 50%\n",
      "  Calculating Z arrays for bucket 55\n",
      "  Sorting block of length 302 for bucket 50\n",
      "  (Using difference cover)\n",
      "  Entering block accumulator loop for bucket 54:\n",
      "  Sorting block time: 00:00:00\n",
      "  Sorting block of length 757 for bucket 49\n",
      "  (Using difference cover)\n",
      "  bucket 53: 20%\n",
      "  bucket 52: 60%\n",
      "  Entering block accumulator loop for bucket 55:\n",
      "  bucket 51: 60%\n",
      "  Sorting block time: 00:00:00\n",
      "Returning block of 303 for bucket 50\n",
      "  bucket 53: 30%\n",
      "Returning block of 758 for bucket 49\n",
      "  bucket 52: 70%\n",
      "  bucket 51: 70%\n",
      "  bucket 54: 10%\n",
      "  bucket 55: 10%\n",
      "  bucket 53: 40%\n",
      "  bucket 52: 80%\n",
      "  bucket 55: 20%\n",
      "  bucket 54: 20%\n",
      "  bucket 51: 80%\n",
      "Getting block 56 of 60\n",
      "  Reserving size (936) for bucket 56\n",
      "  bucket 55: 30%\n",
      "  Calculating Z arrays for bucket 56\n",
      "  bucket 54: 30%\n",
      "  bucket 53: 50%\n",
      "  Entering block accumulator loop for bucket 56:\n",
      "  bucket 55: 40%\n",
      "  bucket 53: 60%\n",
      "  bucket 54: 40%\n",
      "  bucket 55: 50%\n",
      "  bucket 52: 90%\n",
      "  bucket 51: 90%\n",
      "  bucket 53: 70%\n",
      "  bucket 54: 50%\n",
      "Getting block 57 of 60\n",
      "  Reserving size (936) for bucket 57\n",
      "  Calculating Z arrays for bucket 57\n",
      "  bucket 55: 60%\n",
      "  Entering block accumulator loop for bucket 57:\n",
      "  bucket 54: 60%\n",
      "  bucket 56: 10%\n",
      "  bucket 53: 80%\n",
      "  bucket 55: 70%\n",
      "  bucket 54: 70%\n",
      "  bucket 53: 90%\n",
      "  bucket 55: 80%\n",
      "  bucket 52: 100%\n",
      "  Sorting block of length 613 for bucket 52\n",
      "  (Using difference cover)\n",
      "  bucket 51: 100%\n",
      "  Sorting block of length 653 for bucket 51\n",
      "  (Using difference cover)\n",
      "  bucket 53: 100%\n",
      "  bucket 55: 90%\n",
      "  bucket 54: 80%\n",
      "  Sorting block of length 614 for bucket 53\n",
      "  (Using difference cover)\n",
      "  bucket 57: 10%\n",
      "  bucket 56: 20%\n",
      "  Sorting block time: 00:00:00\n",
      "  bucket 55: 100%\n",
      "  Sorting block time: 00:00:00\n",
      "Returning block of 614 for bucket 52\n",
      "Returning block of 654 for bucket 51\n",
      "  Sorting block of length 812 for bucket 55\n",
      "  (Using difference cover)\n",
      "  Sorting block time: 00:00:00\n",
      "  bucket 54: 90%\n",
      "  bucket 57: 20%\n",
      "  bucket 56: 30%\n",
      "  Sorting block time: 00:00:00\n",
      "Returning block of 615 for bucket 53\n",
      "  bucket 54: 100%\n",
      "Returning block of 813 for bucket 55\n",
      "  bucket 56: 40%\n",
      "  bucket 57: 30%\n",
      "  Sorting block of length 507 for bucket 54\n",
      "  (Using difference cover)\n",
      "Getting block 58 of 60\n",
      "  Reserving size (936) for bucket 58\n",
      "Getting block 59 of 60\n",
      "  bucket 56: 50%\n",
      "  bucket 57: 40%\n",
      "  Calculating Z arrays for bucket 58\n",
      "  Sorting block time: 00:00:00\n",
      "  Reserving size (936) for bucket 59\n",
      "Returning block of 508 for bucket 54\n",
      "  Calculating Z arrays for bucket 59\n",
      "  Entering block accumulator loop for bucket 58:\n",
      "Getting block 60 of 60\n",
      "  bucket 56: 60%\n",
      "  Entering block accumulator loop for bucket 59:\n",
      "  Reserving size (936) for bucket 60\n",
      "  bucket 57: 50%\n",
      "  Calculating Z arrays for bucket 60\n",
      "  bucket 56: 70%\n",
      "  Entering block accumulator loop for bucket 60:\n",
      "  bucket 57: 60%\n",
      "  bucket 58: 10%\n",
      "  bucket 56: 80%\n",
      "  bucket 59: 10%\n",
      "  bucket 57: 70%\n",
      "  bucket 60: 10%\n",
      "  bucket 56: 90%\n",
      "  bucket 58: 20%\n",
      "  bucket 57: 80%\n",
      "  bucket 56: 100%\n",
      "  Sorting block of length 721 for bucket 56\n",
      "  (Using difference cover)\n",
      "  bucket 59: 20%\n",
      "  bucket 60: 20%\n",
      "  bucket 58: 30%\n",
      "  Sorting block time: 00:00:00\n",
      "Returning block of 722 for bucket 56\n",
      "  bucket 58: 40%\n",
      "  bucket 57: 90%\n",
      "  bucket 60: 30%\n",
      "  bucket 59: 30%\n",
      "  bucket 58: 50%\n",
      "  bucket 59: 40%\n",
      "  bucket 60: 40%\n",
      "  bucket 58: 60%\n",
      "  bucket 57: 100%\n",
      "  bucket 60: 50%\n",
      "  Sorting block of length 633 for bucket 57\n",
      "  (Using difference cover)\n",
      "  bucket 59: 50%\n",
      "  bucket 58: 70%\n",
      "  bucket 60: 60%\n",
      "  Sorting block time: 00:00:00\n",
      "Returning block of 634 for bucket 57\n",
      "  bucket 59: 60%\n",
      "  bucket 60: 70%\n",
      "  bucket 59: 70%\n",
      "  bucket 58: 80%\n",
      "  bucket 59: 80%\n",
      "  bucket 60: 80%\n",
      "  bucket 59: 90%\n",
      "  bucket 60: 90%\n",
      "  bucket 60: 100%\n",
      "  Sorting block of length 754 for bucket 60\n",
      "  (Using difference cover)\n",
      "  bucket 59: 100%\n",
      "  Sorting block of length 878 for bucket 59\n",
      "  (Using difference cover)\n",
      "  bucket 58: 90%\n",
      "  Sorting block time: 00:00:00\n",
      "Returning block of 755 for bucket 60\n",
      "  Sorting block time: 00:00:00\n",
      "Returning block of 879 for bucket 59\n",
      "  bucket 58: 100%\n",
      "  Sorting block of length 603 for bucket 58\n",
      "  (Using difference cover)\n",
      "  Sorting block time: 00:00:00\n",
      "Returning block of 604 for bucket 58\n"
     ]
    },
    {
     "name": "stderr",
     "output_type": "stream",
     "text": [
      "Building a SMALL index\n",
      "Renaming /var/folders/18/3fc3jyt50sv9kqx6hdqg5b600000gn/T/refgenie_demo_ugm8n45l/data/kN9XHLKLS_u7ei2GH87H-qpQrkz8moPB/bowtie2_index/2.5.3/kN9XHLKLS_u7ei2GH87H-qpQrkz8moPB.3.bt2.tmp to /var/folders/18/3fc3jyt50sv9kqx6hdqg5b600000gn/T/refgenie_demo_ugm8n45l/data/kN9XHLKLS_u7ei2GH87H-qpQrkz8moPB/bowtie2_index/2.5.3/kN9XHLKLS_u7ei2GH87H-qpQrkz8moPB.3.bt2\n",
      "Renaming /var/folders/18/3fc3jyt50sv9kqx6hdqg5b600000gn/T/refgenie_demo_ugm8n45l/data/kN9XHLKLS_u7ei2GH87H-qpQrkz8moPB/bowtie2_index/2.5.3/kN9XHLKLS_u7ei2GH87H-qpQrkz8moPB.4.bt2.tmp to /var/folders/18/3fc3jyt50sv9kqx6hdqg5b600000gn/T/refgenie_demo_ugm8n45l/data/kN9XHLKLS_u7ei2GH87H-qpQrkz8moPB/bowtie2_index/2.5.3/kN9XHLKLS_u7ei2GH87H-qpQrkz8moPB.4.bt2\n",
      "Renaming /var/folders/18/3fc3jyt50sv9kqx6hdqg5b600000gn/T/refgenie_demo_ugm8n45l/data/kN9XHLKLS_u7ei2GH87H-qpQrkz8moPB/bowtie2_index/2.5.3/kN9XHLKLS_u7ei2GH87H-qpQrkz8moPB.1.bt2.tmp to /var/folders/18/3fc3jyt50sv9kqx6hdqg5b600000gn/T/refgenie_demo_ugm8n45l/data/kN9XHLKLS_u7ei2GH87H-qpQrkz8moPB/bowtie2_index/2.5.3/kN9XHLKLS_u7ei2GH87H-qpQrkz8moPB.1.bt2\n",
      "Renaming /var/folders/18/3fc3jyt50sv9kqx6hdqg5b600000gn/T/refgenie_demo_ugm8n45l/data/kN9XHLKLS_u7ei2GH87H-qpQrkz8moPB/bowtie2_index/2.5.3/kN9XHLKLS_u7ei2GH87H-qpQrkz8moPB.2.bt2.tmp to /var/folders/18/3fc3jyt50sv9kqx6hdqg5b600000gn/T/refgenie_demo_ugm8n45l/data/kN9XHLKLS_u7ei2GH87H-qpQrkz8moPB/bowtie2_index/2.5.3/kN9XHLKLS_u7ei2GH87H-qpQrkz8moPB.2.bt2\n",
      "Renaming /var/folders/18/3fc3jyt50sv9kqx6hdqg5b600000gn/T/refgenie_demo_ugm8n45l/data/kN9XHLKLS_u7ei2GH87H-qpQrkz8moPB/bowtie2_index/2.5.3/kN9XHLKLS_u7ei2GH87H-qpQrkz8moPB.rev.1.bt2.tmp to /var/folders/18/3fc3jyt50sv9kqx6hdqg5b600000gn/T/refgenie_demo_ugm8n45l/data/kN9XHLKLS_u7ei2GH87H-qpQrkz8moPB/bowtie2_index/2.5.3/kN9XHLKLS_u7ei2GH87H-qpQrkz8moPB.rev.1.bt2\n",
      "Renaming /var/folders/18/3fc3jyt50sv9kqx6hdqg5b600000gn/T/refgenie_demo_ugm8n45l/data/kN9XHLKLS_u7ei2GH87H-qpQrkz8moPB/bowtie2_index/2.5.3/kN9XHLKLS_u7ei2GH87H-qpQrkz8moPB.rev.2.bt2.tmp to /var/folders/18/3fc3jyt50sv9kqx6hdqg5b600000gn/T/refgenie_demo_ugm8n45l/data/kN9XHLKLS_u7ei2GH87H-qpQrkz8moPB/bowtie2_index/2.5.3/kN9XHLKLS_u7ei2GH87H-qpQrkz8moPB.rev.2.bt2\n",
      "</pre>\n",
      "Command completed. Elapsed time: 0:00:00. Running peak memory: 0.01GB.  \n",
      "  PID: 315;\tCommand: bowtie2-build;\tReturn code: 0;\tMemory used: 0.01GB\n",
      "\n",
      "\n",
      "> `touch /var/folders/18/3fc3jyt50sv9kqx6hdqg5b600000gn/T/refgenie_demo_ugm8n45l/data/kN9XHLKLS_u7ei2GH87H-qpQrkz8moPB/bowtie2_index/2.5.3/_refgenie_build/t7_bowtie2_index__2.5.3.flag` (318)\n",
      "<pre>\n",
      "PID still exists but it's a zombie (pid=318)\n",
      "Warning: couldn't add memory use for process: 318\n",
      "</pre>\n",
      "Command completed. Elapsed time: 0:00:00. Running peak memory: 0.01GB.  \n",
      "  PID: 318;\tCommand: touch;\tReturn code: 0;\tMemory used: 0GB\n",
      "\n",
      "\n",
      "### Pipeline completed. Epilogue\n",
      "*        Elapsed time (this run):  0:00:00\n",
      "*  Total elapsed time (all runs):  0:00:00\n",
      "*         Peak memory (this run):  0.0103 GB\n",
      "*        Pipeline completed time: 2025-07-06 20:28:51\n"
     ]
    },
    {
     "name": "stdout",
     "output_type": "stream",
     "text": [
      "Exited Ebwt loop\n",
      "fchr[A]: 0\n",
      "fchr[C]: 10842\n",
      "fchr[G]: 19880\n",
      "fchr[T]: 30171\n",
      "fchr[$]: 39937\n",
      "Exiting Ebwt::buildToDisk()\n",
      "Returning from initFromVector\n",
      "Wrote 4207850 bytes to primary EBWT file: /var/folders/18/3fc3jyt50sv9kqx6hdqg5b600000gn/T/refgenie_demo_ugm8n45l/data/kN9XHLKLS_u7ei2GH87H-qpQrkz8moPB/bowtie2_index/2.5.3/kN9XHLKLS_u7ei2GH87H-qpQrkz8moPB.rev.1.bt2.tmp\n",
      "Wrote 9992 bytes to secondary EBWT file: /var/folders/18/3fc3jyt50sv9kqx6hdqg5b600000gn/T/refgenie_demo_ugm8n45l/data/kN9XHLKLS_u7ei2GH87H-qpQrkz8moPB/bowtie2_index/2.5.3/kN9XHLKLS_u7ei2GH87H-qpQrkz8moPB.rev.2.bt2.tmp\n",
      "Re-opening _in1 and _in2 as input streams\n",
      "Returning from Ebwt constructor\n",
      "Headers:\n",
      "    len: 39937\n",
      "    bwtLen: 39938\n",
      "    sz: 9985\n",
      "    bwtSz: 9985\n",
      "    lineRate: 6\n",
      "    offRate: 4\n",
      "    offMask: 0xfffffff0\n",
      "    ftabChars: 10\n",
      "    eftabLen: 20\n",
      "    eftabSz: 80\n",
      "    ftabLen: 1048577\n",
      "    ftabSz: 4194308\n",
      "    offsLen: 2497\n",
      "    offsSz: 9988\n",
      "    lineSz: 64\n",
      "    sideSz: 64\n",
      "    sideBwtSz: 48\n",
      "    sideBwtLen: 192\n",
      "    numSides: 209\n",
      "    numLines: 209\n",
      "    ebwtTotLen: 13376\n",
      "    ebwtTotSz: 13376\n",
      "    color: 0\n",
      "    reverse: 1\n",
      "Total time for backward call to driver() for mirror index: 00:00:00\n"
     ]
    },
    {
     "data": {
      "text/html": [
       "<pre style=\"white-space:pre;overflow-x:auto;line-height:normal;font-family:Menlo,'DejaVu Sans Mono',consolas,'Courier New',monospace\"><span style=\"color: #000080; text-decoration-color: #000080\">INFO    </span> Asset <span style=\"color: #008000; text-decoration-color: #008000\">'t7/bowtie2_index:2.5.3'</span> build succeeded                                            <a href=\"file:///Users/stolarczyk/code/refgenie1/refgenie/refgenie.py\" target=\"_blank\"><span style=\"color: #7f7f7f; text-decoration-color: #7f7f7f\">refgenie.py</span></a><span style=\"color: #7f7f7f; text-decoration-color: #7f7f7f\">:</span><a href=\"file:///Users/stolarczyk/code/refgenie1/refgenie/refgenie.py#2602\" target=\"_blank\"><span style=\"color: #7f7f7f; text-decoration-color: #7f7f7f\">2602</span></a>\n",
       "</pre>\n"
      ],
      "text/plain": [
       "\u001b[34mINFO    \u001b[0m Asset \u001b[32m't7/bowtie2_index:2.5.3'\u001b[0m build succeeded                                            \u001b]8;id=929078;file:///Users/stolarczyk/code/refgenie1/refgenie/refgenie.py\u001b\\\u001b[2mrefgenie.py\u001b[0m\u001b]8;;\u001b\\\u001b[2m:\u001b[0m\u001b]8;id=217139;file:///Users/stolarczyk/code/refgenie1/refgenie/refgenie.py#2602\u001b\\\u001b[2m2602\u001b[0m\u001b]8;;\u001b\\\n"
      ]
     },
     "metadata": {},
     "output_type": "display_data"
    },
    {
     "data": {
      "text/html": [
       "<pre style=\"white-space:pre;overflow-x:auto;line-height:normal;font-family:Menlo,'DejaVu Sans Mono',consolas,'Courier New',monospace\"></pre>\n"
      ],
      "text/plain": []
     },
     "metadata": {},
     "output_type": "display_data"
    },
    {
     "data": {
      "text/html": [
       "<pre style=\"white-space:pre;overflow-x:auto;line-height:normal;font-family:Menlo,'DejaVu Sans Mono',consolas,'Courier New',monospace\"><span style=\"color: #000080; text-decoration-color: #000080\">INFO    </span> Added: <span style=\"color: #008000; text-decoration-color: #008000\">'t7/bowtie2_index:2.5.3'</span>                                                            <a href=\"file:///Users/stolarczyk/code/refgenie1/refgenie/refgenie.py\" target=\"_blank\"><span style=\"color: #7f7f7f; text-decoration-color: #7f7f7f\">refgenie.py</span></a><span style=\"color: #7f7f7f; text-decoration-color: #7f7f7f\">:</span><a href=\"file:///Users/stolarczyk/code/refgenie1/refgenie/refgenie.py#773\" target=\"_blank\"><span style=\"color: #7f7f7f; text-decoration-color: #7f7f7f\">773</span></a>\n",
       "</pre>\n"
      ],
      "text/plain": [
       "\u001b[34mINFO    \u001b[0m Added: \u001b[32m't7/bowtie2_index:2.5.3'\u001b[0m                                                            \u001b]8;id=562659;file:///Users/stolarczyk/code/refgenie1/refgenie/refgenie.py\u001b\\\u001b[2mrefgenie.py\u001b[0m\u001b]8;;\u001b\\\u001b[2m:\u001b[0m\u001b]8;id=535114;file:///Users/stolarczyk/code/refgenie1/refgenie/refgenie.py#773\u001b\\\u001b[2m773\u001b[0m\u001b]8;;\u001b\\\n"
      ]
     },
     "metadata": {},
     "output_type": "display_data"
    },
    {
     "data": {
      "text/html": [
       "<pre style=\"white-space:pre;overflow-x:auto;line-height:normal;font-family:Menlo,'DejaVu Sans Mono',consolas,'Courier New',monospace\"><span style=\"color: #000080; text-decoration-color: #000080\">INFO    </span> Created alias directories:                                                                <a href=\"file:///Users/stolarczyk/code/refgenie1/refgenie/refgenie.py\" target=\"_blank\"><span style=\"color: #7f7f7f; text-decoration-color: #7f7f7f\">refgenie.py</span></a><span style=\"color: #7f7f7f; text-decoration-color: #7f7f7f\">:</span><a href=\"file:///Users/stolarczyk/code/refgenie1/refgenie/refgenie.py#3515\" target=\"_blank\"><span style=\"color: #7f7f7f; text-decoration-color: #7f7f7f\">3515</span></a>\n",
       "         <span style=\"color: #800080; text-decoration-color: #800080\">/var/folders/18/3fc3jyt50sv9kqx6hdqg5b600000gn/T/refgenie_demo_ugm8n45l/alias/t7/bowtie2_</span> <span style=\"color: #7f7f7f; text-decoration-color: #7f7f7f\">                </span>\n",
       "         <span style=\"color: #800080; text-decoration-color: #800080\">index/</span><span style=\"color: #ff00ff; text-decoration-color: #ff00ff\">2.5.3</span>                                                                               <span style=\"color: #7f7f7f; text-decoration-color: #7f7f7f\">                </span>\n",
       "</pre>\n"
      ],
      "text/plain": [
       "\u001b[34mINFO    \u001b[0m Created alias directories:                                                                \u001b]8;id=467722;file:///Users/stolarczyk/code/refgenie1/refgenie/refgenie.py\u001b\\\u001b[2mrefgenie.py\u001b[0m\u001b]8;;\u001b\\\u001b[2m:\u001b[0m\u001b]8;id=239445;file:///Users/stolarczyk/code/refgenie1/refgenie/refgenie.py#3515\u001b\\\u001b[2m3515\u001b[0m\u001b]8;;\u001b\\\n",
       "         \u001b[35m/var/folders/18/3fc3jyt50sv9kqx6hdqg5b600000gn/T/refgenie_demo_ugm8n45l/alias/t7/bowtie2_\u001b[0m \u001b[2m                \u001b[0m\n",
       "         \u001b[35mindex/\u001b[0m\u001b[95m2.5.3\u001b[0m                                                                               \u001b[2m                \u001b[0m\n"
      ]
     },
     "metadata": {},
     "output_type": "display_data"
    },
    {
     "data": {
      "text/html": [
       "<pre style=\"white-space:pre;overflow-x:auto;line-height:normal;font-family:Menlo,'DejaVu Sans Mono',consolas,'Courier New',monospace\"><span style=\"color: #000080; text-decoration-color: #000080\">INFO    </span> Set default asset: <span style=\"color: #008000; text-decoration-color: #008000\">'kN9XHLKLS_u7ei2GH87H-qpQrkz8moPB/bowtie2_index:2.5.3'</span>                 <a href=\"file:///Users/stolarczyk/code/refgenie1/refgenie/refgenie.py\" target=\"_blank\"><span style=\"color: #7f7f7f; text-decoration-color: #7f7f7f\">refgenie.py</span></a><span style=\"color: #7f7f7f; text-decoration-color: #7f7f7f\">:</span><a href=\"file:///Users/stolarczyk/code/refgenie1/refgenie/refgenie.py#1640\" target=\"_blank\"><span style=\"color: #7f7f7f; text-decoration-color: #7f7f7f\">1640</span></a>\n",
       "</pre>\n"
      ],
      "text/plain": [
       "\u001b[34mINFO    \u001b[0m Set default asset: \u001b[32m'kN9XHLKLS_u7ei2GH87H-qpQrkz8moPB/bowtie2_index:2.5.3'\u001b[0m                 \u001b]8;id=576257;file:///Users/stolarczyk/code/refgenie1/refgenie/refgenie.py\u001b\\\u001b[2mrefgenie.py\u001b[0m\u001b]8;;\u001b\\\u001b[2m:\u001b[0m\u001b]8;id=67054;file:///Users/stolarczyk/code/refgenie1/refgenie/refgenie.py#1640\u001b\\\u001b[2m1640\u001b[0m\u001b]8;;\u001b\\\n"
      ]
     },
     "metadata": {},
     "output_type": "display_data"
    },
    {
     "data": {
      "text/html": [
       "<pre style=\"white-space:pre;overflow-x:auto;line-height:normal;font-family:Menlo,'DejaVu Sans Mono',consolas,'Courier New',monospace\"><span style=\"color: #000080; text-decoration-color: #000080\">INFO    </span> Added asset: kN9XHLKLS_u7ei2GH87H-qpQrkz8moPB/bowtie2_index:<span style=\"color: #008080; text-decoration-color: #008080; font-weight: bold\">2.5</span>.<span style=\"color: #008080; text-decoration-color: #008080; font-weight: bold\">3</span>                         <a href=\"file:///Users/stolarczyk/code/refgenie1/refgenie/refgenie.py\" target=\"_blank\"><span style=\"color: #7f7f7f; text-decoration-color: #7f7f7f\">refgenie.py</span></a><span style=\"color: #7f7f7f; text-decoration-color: #7f7f7f\">:</span><a href=\"file:///Users/stolarczyk/code/refgenie1/refgenie/refgenie.py#2618\" target=\"_blank\"><span style=\"color: #7f7f7f; text-decoration-color: #7f7f7f\">2618</span></a>\n",
       "</pre>\n"
      ],
      "text/plain": [
       "\u001b[34mINFO    \u001b[0m Added asset: kN9XHLKLS_u7ei2GH87H-qpQrkz8moPB/bowtie2_index:\u001b[1;36m2.5\u001b[0m.\u001b[1;36m3\u001b[0m                         \u001b]8;id=659011;file:///Users/stolarczyk/code/refgenie1/refgenie/refgenie.py\u001b\\\u001b[2mrefgenie.py\u001b[0m\u001b]8;;\u001b\\\u001b[2m:\u001b[0m\u001b]8;id=881959;file:///Users/stolarczyk/code/refgenie1/refgenie/refgenie.py#2618\u001b\\\u001b[2m2618\u001b[0m\u001b]8;;\u001b\\\n"
      ]
     },
     "metadata": {},
     "output_type": "display_data"
    },
    {
     "data": {
      "text/html": [
       "<pre style=\"white-space:pre;overflow-x:auto;line-height:normal;font-family:Menlo,'DejaVu Sans Mono',consolas,'Courier New',monospace\"><span style=\"color: #000080; text-decoration-color: #000080\">INFO    </span> Updated parents of <span style=\"color: #008000; text-decoration-color: #008000\">'kN9XHLKLS_u7ei2GH87H-qpQrkz8moPB/bowtie2_index:2.5.3'</span>                 <a href=\"file:///Users/stolarczyk/code/refgenie1/refgenie/refgenie.py\" target=\"_blank\"><span style=\"color: #7f7f7f; text-decoration-color: #7f7f7f\">refgenie.py</span></a><span style=\"color: #7f7f7f; text-decoration-color: #7f7f7f\">:</span><a href=\"file:///Users/stolarczyk/code/refgenie1/refgenie/refgenie.py#2856\" target=\"_blank\"><span style=\"color: #7f7f7f; text-decoration-color: #7f7f7f\">2856</span></a>\n",
       "</pre>\n"
      ],
      "text/plain": [
       "\u001b[34mINFO    \u001b[0m Updated parents of \u001b[32m'kN9XHLKLS_u7ei2GH87H-qpQrkz8moPB/bowtie2_index:2.5.3'\u001b[0m                 \u001b]8;id=104281;file:///Users/stolarczyk/code/refgenie1/refgenie/refgenie.py\u001b\\\u001b[2mrefgenie.py\u001b[0m\u001b]8;;\u001b\\\u001b[2m:\u001b[0m\u001b]8;id=65904;file:///Users/stolarczyk/code/refgenie1/refgenie/refgenie.py#2856\u001b\\\u001b[2m2856\u001b[0m\u001b]8;;\u001b\\\n"
      ]
     },
     "metadata": {},
     "output_type": "display_data"
    },
    {
     "data": {
      "text/html": [
       "<pre style=\"white-space:pre;overflow-x:auto;line-height:normal;font-family:Menlo,'DejaVu Sans Mono',consolas,'Courier New',monospace\"><span style=\"color: #000080; text-decoration-color: #000080\">INFO    </span> Archiving asset: kN9XHLKLS_u7ei2GH87H-qpQrkz8moPB/bowtie2_index:<span style=\"color: #008080; text-decoration-color: #008080; font-weight: bold\">2.5</span>.<span style=\"color: #008080; text-decoration-color: #008080; font-weight: bold\">3</span>                        <a href=\"file:///Users/stolarczyk/code/refgenie1/refgenie/resource_manager/archive/manager.py\" target=\"_blank\"><span style=\"color: #7f7f7f; text-decoration-color: #7f7f7f\">manager.py</span></a><span style=\"color: #7f7f7f; text-decoration-color: #7f7f7f\">:</span><a href=\"file:///Users/stolarczyk/code/refgenie1/refgenie/resource_manager/archive/manager.py#49\" target=\"_blank\"><span style=\"color: #7f7f7f; text-decoration-color: #7f7f7f\">49</span></a>\n",
       "</pre>\n"
      ],
      "text/plain": [
       "\u001b[34mINFO    \u001b[0m Archiving asset: kN9XHLKLS_u7ei2GH87H-qpQrkz8moPB/bowtie2_index:\u001b[1;36m2.5\u001b[0m.\u001b[1;36m3\u001b[0m                        \u001b]8;id=207248;file:///Users/stolarczyk/code/refgenie1/refgenie/resource_manager/archive/manager.py\u001b\\\u001b[2mmanager.py\u001b[0m\u001b]8;;\u001b\\\u001b[2m:\u001b[0m\u001b]8;id=529164;file:///Users/stolarczyk/code/refgenie1/refgenie/resource_manager/archive/manager.py#49\u001b\\\u001b[2m49\u001b[0m\u001b]8;;\u001b\\\n"
      ]
     },
     "metadata": {},
     "output_type": "display_data"
    },
    {
     "data": {
      "text/html": [
       "<pre style=\"white-space:pre;overflow-x:auto;line-height:normal;font-family:Menlo,'DejaVu Sans Mono',consolas,'Courier New',monospace\"><span style=\"color: #000080; text-decoration-color: #000080\">INFO    </span> Running: rsync -rvL --exclude <span style=\"color: #008000; text-decoration-color: #008000\">'_refgenie_build'</span>                                            <a href=\"file:///Users/stolarczyk/code/refgenie1/refgenie/utils/archiving.py\" target=\"_blank\"><span style=\"color: #7f7f7f; text-decoration-color: #7f7f7f\">archiving.py</span></a><span style=\"color: #7f7f7f; text-decoration-color: #7f7f7f\">:</span><a href=\"file:///Users/stolarczyk/code/refgenie1/refgenie/utils/archiving.py#64\" target=\"_blank\"><span style=\"color: #7f7f7f; text-decoration-color: #7f7f7f\">64</span></a>\n",
       "         <span style=\"color: #800080; text-decoration-color: #800080\">/var/folders/18/3fc3jyt50sv9kqx6hdqg5b600000gn/T/refgenie_demo_ugm8n45l/data/kN9XHLKLS_u7e</span> <span style=\"color: #7f7f7f; text-decoration-color: #7f7f7f\">               </span>\n",
       "         <span style=\"color: #800080; text-decoration-color: #800080\">i2GH87H-qpQrkz8moPB/bowtie2_index/2.5.3/</span>                                                   <span style=\"color: #7f7f7f; text-decoration-color: #7f7f7f\">               </span>\n",
       "         <span style=\"color: #800080; text-decoration-color: #800080\">/var/folders/18/3fc3jyt50sv9kqx6hdqg5b600000gn/T/refgenie_archive_demo_mthufo3u/kN9XHLKLS_</span> <span style=\"color: #7f7f7f; text-decoration-color: #7f7f7f\">               </span>\n",
       "         <span style=\"color: #800080; text-decoration-color: #800080\">u7ei2GH87H-qpQrkz8moPB/bowtie2_index/2.5.3/</span>                                                <span style=\"color: #7f7f7f; text-decoration-color: #7f7f7f\">               </span>\n",
       "</pre>\n"
      ],
      "text/plain": [
       "\u001b[34mINFO    \u001b[0m Running: rsync -rvL --exclude \u001b[32m'_refgenie_build'\u001b[0m                                            \u001b]8;id=72229;file:///Users/stolarczyk/code/refgenie1/refgenie/utils/archiving.py\u001b\\\u001b[2marchiving.py\u001b[0m\u001b]8;;\u001b\\\u001b[2m:\u001b[0m\u001b]8;id=212166;file:///Users/stolarczyk/code/refgenie1/refgenie/utils/archiving.py#64\u001b\\\u001b[2m64\u001b[0m\u001b]8;;\u001b\\\n",
       "         \u001b[35m/var/folders/18/3fc3jyt50sv9kqx6hdqg5b600000gn/T/refgenie_demo_ugm8n45l/data/kN9XHLKLS_u7e\u001b[0m \u001b[2m               \u001b[0m\n",
       "         \u001b[35mi2GH87H-qpQrkz8moPB/bowtie2_index/2.5.3/\u001b[0m                                                   \u001b[2m               \u001b[0m\n",
       "         \u001b[35m/var/folders/18/3fc3jyt50sv9kqx6hdqg5b600000gn/T/refgenie_archive_demo_mthufo3u/kN9XHLKLS_\u001b[0m \u001b[2m               \u001b[0m\n",
       "         \u001b[35mu7ei2GH87H-qpQrkz8moPB/bowtie2_index/2.5.3/\u001b[0m                                                \u001b[2m               \u001b[0m\n"
      ]
     },
     "metadata": {},
     "output_type": "display_data"
    },
    {
     "name": "stdout",
     "output_type": "stream",
     "text": [
      "building file list ... done\n",
      "kN9XHLKLS_u7ei2GH87H-qpQrkz8moPB.1.bt2\n",
      "kN9XHLKLS_u7ei2GH87H-qpQrkz8moPB.2.bt2\n",
      "kN9XHLKLS_u7ei2GH87H-qpQrkz8moPB.3.bt2\n",
      "kN9XHLKLS_u7ei2GH87H-qpQrkz8moPB.4.bt2\n",
      "kN9XHLKLS_u7ei2GH87H-qpQrkz8moPB.rev.1.bt2\n",
      "kN9XHLKLS_u7ei2GH87H-qpQrkz8moPB.rev.2.bt2\n",
      "\n",
      "sent 8447138 bytes  received 152 bytes  16894580.00 bytes/sec\n",
      "total size is 8445686  speedup is 1.00\n"
     ]
    },
    {
     "data": {
      "text/html": [
       "<pre style=\"white-space:pre;overflow-x:auto;line-height:normal;font-family:Menlo,'DejaVu Sans Mono',consolas,'Courier New',monospace\"></pre>\n"
      ],
      "text/plain": []
     },
     "metadata": {},
     "output_type": "display_data"
    },
    {
     "data": {
      "text/html": [
       "<pre style=\"white-space:pre;overflow-x:auto;line-height:normal;font-family:Menlo,'DejaVu Sans Mono',consolas,'Courier New',monospace\"><span style=\"color: #000080; text-decoration-color: #000080\">INFO    </span> Running: tar --exclude <span style=\"color: #008000; text-decoration-color: #008000\">'_refgenie_build'</span> -C                                                <a href=\"file:///Users/stolarczyk/code/refgenie1/refgenie/utils/archiving.py\" target=\"_blank\"><span style=\"color: #7f7f7f; text-decoration-color: #7f7f7f\">archiving.py</span></a><span style=\"color: #7f7f7f; text-decoration-color: #7f7f7f\">:</span><a href=\"file:///Users/stolarczyk/code/refgenie1/refgenie/utils/archiving.py#19\" target=\"_blank\"><span style=\"color: #7f7f7f; text-decoration-color: #7f7f7f\">19</span></a>\n",
       "         <span style=\"color: #800080; text-decoration-color: #800080\">/var/folders/18/3fc3jyt50sv9kqx6hdqg5b600000gn/T/refgenie_demo_ugm8n45l/data/kN9XHLKLS_u7e</span> <span style=\"color: #7f7f7f; text-decoration-color: #7f7f7f\">               </span>\n",
       "         <span style=\"color: #800080; text-decoration-color: #800080\">i2GH87H-qpQrkz8moPB/</span><span style=\"color: #ff00ff; text-decoration-color: #ff00ff\">bowtie2_index</span> -cvf - <span style=\"color: #008080; text-decoration-color: #008080; font-weight: bold\">2.5</span>.<span style=\"color: #008080; text-decoration-color: #008080; font-weight: bold\">3</span> | pigz &gt;                                    <span style=\"color: #7f7f7f; text-decoration-color: #7f7f7f\">               </span>\n",
       "         <span style=\"color: #800080; text-decoration-color: #800080\">/var/folders/18/3fc3jyt50sv9kqx6hdqg5b600000gn/T/refgenie_archive_demo_mthufo3u/kN9XHLKLS_</span> <span style=\"color: #7f7f7f; text-decoration-color: #7f7f7f\">               </span>\n",
       "         <span style=\"color: #800080; text-decoration-color: #800080\">u7ei2GH87H-qpQrkz8moPB/bowtie2_index/2.5.3/</span><span style=\"color: #ff00ff; text-decoration-color: #ff00ff\">bowtie2_index__2.5.3.tgz</span>                        <span style=\"color: #7f7f7f; text-decoration-color: #7f7f7f\">               </span>\n",
       "</pre>\n"
      ],
      "text/plain": [
       "\u001b[34mINFO    \u001b[0m Running: tar --exclude \u001b[32m'_refgenie_build'\u001b[0m -C                                                \u001b]8;id=930526;file:///Users/stolarczyk/code/refgenie1/refgenie/utils/archiving.py\u001b\\\u001b[2marchiving.py\u001b[0m\u001b]8;;\u001b\\\u001b[2m:\u001b[0m\u001b]8;id=628552;file:///Users/stolarczyk/code/refgenie1/refgenie/utils/archiving.py#19\u001b\\\u001b[2m19\u001b[0m\u001b]8;;\u001b\\\n",
       "         \u001b[35m/var/folders/18/3fc3jyt50sv9kqx6hdqg5b600000gn/T/refgenie_demo_ugm8n45l/data/kN9XHLKLS_u7e\u001b[0m \u001b[2m               \u001b[0m\n",
       "         \u001b[35mi2GH87H-qpQrkz8moPB/\u001b[0m\u001b[95mbowtie2_index\u001b[0m -cvf - \u001b[1;36m2.5\u001b[0m.\u001b[1;36m3\u001b[0m | pigz >                                    \u001b[2m               \u001b[0m\n",
       "         \u001b[35m/var/folders/18/3fc3jyt50sv9kqx6hdqg5b600000gn/T/refgenie_archive_demo_mthufo3u/kN9XHLKLS_\u001b[0m \u001b[2m               \u001b[0m\n",
       "         \u001b[35mu7ei2GH87H-qpQrkz8moPB/bowtie2_index/2.5.3/\u001b[0m\u001b[95mbowtie2_index__2.5.3.tgz\u001b[0m                        \u001b[2m               \u001b[0m\n"
      ]
     },
     "metadata": {},
     "output_type": "display_data"
    },
    {
     "name": "stderr",
     "output_type": "stream",
     "text": [
      "a 2.5.3\n",
      "a 2.5.3/kN9XHLKLS_u7ei2GH87H-qpQrkz8moPB.4.bt2\n",
      "a 2.5.3/kN9XHLKLS_u7ei2GH87H-qpQrkz8moPB.rev.2.bt2\n",
      "a 2.5.3/kN9XHLKLS_u7ei2GH87H-qpQrkz8moPB.2.bt2\n",
      "a 2.5.3/kN9XHLKLS_u7ei2GH87H-qpQrkz8moPB.3.bt2\n",
      "a 2.5.3/kN9XHLKLS_u7ei2GH87H-qpQrkz8moPB.1.bt2\n",
      "a 2.5.3/kN9XHLKLS_u7ei2GH87H-qpQrkz8moPB.rev.1.bt2\n"
     ]
    },
    {
     "data": {
      "text/html": [
       "<pre style=\"white-space:pre;overflow-x:auto;line-height:normal;font-family:Menlo,'DejaVu Sans Mono',consolas,'Courier New',monospace\"></pre>\n"
      ],
      "text/plain": []
     },
     "metadata": {},
     "output_type": "display_data"
    },
    {
     "data": {
      "text/html": [
       "<pre style=\"white-space:pre;overflow-x:auto;line-height:normal;font-family:Menlo,'DejaVu Sans Mono',consolas,'Courier New',monospace\"><span style=\"color: #000080; text-decoration-color: #000080\">INFO    </span> Created asset archive at:                                                                    <a href=\"file:///Users/stolarczyk/code/refgenie1/refgenie/resource_manager/archive/manager.py\" target=\"_blank\"><span style=\"color: #7f7f7f; text-decoration-color: #7f7f7f\">manager.py</span></a><span style=\"color: #7f7f7f; text-decoration-color: #7f7f7f\">:</span><a href=\"file:///Users/stolarczyk/code/refgenie1/refgenie/resource_manager/archive/manager.py#85\" target=\"_blank\"><span style=\"color: #7f7f7f; text-decoration-color: #7f7f7f\">85</span></a>\n",
       "         <span style=\"color: #800080; text-decoration-color: #800080\">/var/folders/18/3fc3jyt50sv9kqx6hdqg5b600000gn/T/refgenie_archive_demo_mthufo3u/kN9XHLKLS_u7</span> <span style=\"color: #7f7f7f; text-decoration-color: #7f7f7f\">             </span>\n",
       "         <span style=\"color: #800080; text-decoration-color: #800080\">ei2GH87H-qpQrkz8moPB/bowtie2_index/2.5.3/</span><span style=\"color: #ff00ff; text-decoration-color: #ff00ff\">bowtie2_index__2.5.3.tgz</span>                            <span style=\"color: #7f7f7f; text-decoration-color: #7f7f7f\">             </span>\n",
       "</pre>\n"
      ],
      "text/plain": [
       "\u001b[34mINFO    \u001b[0m Created asset archive at:                                                                    \u001b]8;id=85231;file:///Users/stolarczyk/code/refgenie1/refgenie/resource_manager/archive/manager.py\u001b\\\u001b[2mmanager.py\u001b[0m\u001b]8;;\u001b\\\u001b[2m:\u001b[0m\u001b]8;id=110289;file:///Users/stolarczyk/code/refgenie1/refgenie/resource_manager/archive/manager.py#85\u001b\\\u001b[2m85\u001b[0m\u001b]8;;\u001b\\\n",
       "         \u001b[35m/var/folders/18/3fc3jyt50sv9kqx6hdqg5b600000gn/T/refgenie_archive_demo_mthufo3u/kN9XHLKLS_u7\u001b[0m \u001b[2m             \u001b[0m\n",
       "         \u001b[35mei2GH87H-qpQrkz8moPB/bowtie2_index/2.5.3/\u001b[0m\u001b[95mbowtie2_index__2.5.3.tgz\u001b[0m                            \u001b[2m             \u001b[0m\n"
      ]
     },
     "metadata": {},
     "output_type": "display_data"
    },
    {
     "data": {
      "text/plain": [
       "Asset(name='2.5.3', description='Genome index for bowtie2, produced with bowtie2-build', size=8446757, updated_at=datetime.datetime(2025, 7, 6, 18, 28, 51, 871146), path='data/kN9XHLKLS_u7ei2GH87H-qpQrkz8moPB/bowtie2_index/2.5.3', digest='40a7b72a358850f722b6734a836b0fa8', recipe_id=2, asset_group_id=3, created_at=datetime.datetime(2025, 7, 6, 18, 28, 51, 871153))"
      ]
     },
     "execution_count": 15,
     "metadata": {},
     "output_type": "execute_result"
    }
   ],
   "source": [
    "from refgenie.models import BuildParams\n",
    "\n",
    "refgenie.build_asset(\n",
    "    recipe_name=\"bowtie2_index\",\n",
    "    genome_name=\"t7\",\n",
    "    asset_group_name=\"bowtie2_index\",\n",
    "    params=BuildParams(params={\"threads\": 8}),\n",
    "    archive=True,  # archive the asset right after building\n",
    ")"
   ]
  },
  {
   "cell_type": "markdown",
   "metadata": {},
   "source": [
    "Let's list the assets for the genome `t7` to verify that the `bowtie2_index` asset has been built successfully.\n"
   ]
  },
  {
   "cell_type": "code",
   "execution_count": 16,
   "metadata": {},
   "outputs": [
    {
     "data": {
      "text/html": [
       "<pre style=\"white-space:pre;overflow-x:auto;line-height:normal;font-family:Menlo,'DejaVu Sans Mono',consolas,'Courier New',monospace\"><span style=\"font-style: italic\">                   Refgenie assets. Source: local                   </span>\n",
       "┏━━━━━━━━━━━━━━━━━━━━━━━━━━━━━━━━━━┳━━━━━━━━━━━━━━━┳━━━━━━━━━━━━━━━┓\n",
       "┃<span style=\"font-weight: bold\"> Genome digest                    </span>┃<span style=\"font-weight: bold\"> Asset group   </span>┃<span style=\"font-weight: bold\"> Asset         </span>┃\n",
       "┡━━━━━━━━━━━━━━━━━━━━━━━━━━━━━━━━━━╇━━━━━━━━━━━━━━━╇━━━━━━━━━━━━━━━┩\n",
       "│ kN9XHLKLS_u7ei2GH87H-qpQrkz8moPB │ fasta         │ samtools-1.21 │\n",
       "│ kN9XHLKLS_u7ei2GH87H-qpQrkz8moPB │ bowtie2_index │ 2.5.3         │\n",
       "└──────────────────────────────────┴───────────────┴───────────────┘\n",
       "</pre>\n"
      ],
      "text/plain": [
       "\u001b[3m                   Refgenie assets. Source: local                   \u001b[0m\n",
       "┏━━━━━━━━━━━━━━━━━━━━━━━━━━━━━━━━━━┳━━━━━━━━━━━━━━━┳━━━━━━━━━━━━━━━┓\n",
       "┃\u001b[1m \u001b[0m\u001b[1mGenome digest                   \u001b[0m\u001b[1m \u001b[0m┃\u001b[1m \u001b[0m\u001b[1mAsset group  \u001b[0m\u001b[1m \u001b[0m┃\u001b[1m \u001b[0m\u001b[1mAsset        \u001b[0m\u001b[1m \u001b[0m┃\n",
       "┡━━━━━━━━━━━━━━━━━━━━━━━━━━━━━━━━━━╇━━━━━━━━━━━━━━━╇━━━━━━━━━━━━━━━┩\n",
       "│ kN9XHLKLS_u7ei2GH87H-qpQrkz8moPB │ fasta         │ samtools-1.21 │\n",
       "│ kN9XHLKLS_u7ei2GH87H-qpQrkz8moPB │ bowtie2_index │ 2.5.3         │\n",
       "└──────────────────────────────────┴───────────────┴───────────────┘\n"
      ]
     },
     "execution_count": 16,
     "metadata": {},
     "output_type": "execute_result"
    }
   ],
   "source": [
    "refgenie.assets_table(genome_names=[\"t7\"])[0]"
   ]
  },
  {
   "cell_type": "markdown",
   "metadata": {},
   "source": [
    "One of the assets was also archived (a neccessary step to serve the assets via the refgenie server). Let's list the archived assets."
   ]
  },
  {
   "cell_type": "code",
   "execution_count": 17,
   "metadata": {},
   "outputs": [
    {
     "data": {
      "text/html": [
       "<pre style=\"white-space:pre;overflow-x:auto;line-height:normal;font-family:Menlo,'DejaVu Sans Mono',consolas,'Courier New',monospace\"><span style=\"font-style: italic\">                                                  Asset Archives                                                   </span>\n",
       "┏━━━━━━━━━━━━━━━━━━━━━━━━━━━━━━━━━┳━━━━━━━━━━━━━━━━━━━━━━━━━━━━━━━━━┳━━━━━━━━━━━━━━━━━━━━━━━━━━━━━━━━━┳━━━━━━━━━━━┓\n",
       "┃<span style=\"font-weight: bold\"> Digest                          </span>┃<span style=\"font-weight: bold\"> Asset name                      </span>┃<span style=\"font-weight: bold\"> Path                            </span>┃<span style=\"font-weight: bold\"> Size      </span>┃\n",
       "┡━━━━━━━━━━━━━━━━━━━━━━━━━━━━━━━━━╇━━━━━━━━━━━━━━━━━━━━━━━━━━━━━━━━━╇━━━━━━━━━━━━━━━━━━━━━━━━━━━━━━━━━╇━━━━━━━━━━━┩\n",
       "│ ddf6f41d9d21d404fe5c7f07adb2f2… │ kN9XHLKLS_u7ei2GH87H-qpQrkz8mo… │ /var/folders/18/3fc3jyt50sv9kq… │ 230.38 KB │\n",
       "└─────────────────────────────────┴─────────────────────────────────┴─────────────────────────────────┴───────────┘\n",
       "</pre>\n"
      ],
      "text/plain": [
       "\u001b[3m                                                  Asset Archives                                                   \u001b[0m\n",
       "┏━━━━━━━━━━━━━━━━━━━━━━━━━━━━━━━━━┳━━━━━━━━━━━━━━━━━━━━━━━━━━━━━━━━━┳━━━━━━━━━━━━━━━━━━━━━━━━━━━━━━━━━┳━━━━━━━━━━━┓\n",
       "┃\u001b[1m \u001b[0m\u001b[1mDigest                         \u001b[0m\u001b[1m \u001b[0m┃\u001b[1m \u001b[0m\u001b[1mAsset name                     \u001b[0m\u001b[1m \u001b[0m┃\u001b[1m \u001b[0m\u001b[1mPath                           \u001b[0m\u001b[1m \u001b[0m┃\u001b[1m \u001b[0m\u001b[1mSize     \u001b[0m\u001b[1m \u001b[0m┃\n",
       "┡━━━━━━━━━━━━━━━━━━━━━━━━━━━━━━━━━╇━━━━━━━━━━━━━━━━━━━━━━━━━━━━━━━━━╇━━━━━━━━━━━━━━━━━━━━━━━━━━━━━━━━━╇━━━━━━━━━━━┩\n",
       "│ ddf6f41d9d21d404fe5c7f07adb2f2… │ kN9XHLKLS_u7ei2GH87H-qpQrkz8mo… │ /var/folders/18/3fc3jyt50sv9kq… │ 230.38 KB │\n",
       "└─────────────────────────────────┴─────────────────────────────────┴─────────────────────────────────┴───────────┘\n"
      ]
     },
     "metadata": {},
     "output_type": "display_data"
    }
   ],
   "source": [
    "print(refgenie.archive.table())"
   ]
  },
  {
   "cell_type": "markdown",
   "metadata": {},
   "source": [
    "Asset `bowtie2_index` has been built successfully for the `dm6` genome, and automatically tagged with `2.5.3`, indicating the version of Bowtie2 software used (this behavior is encoded in the recipe).\n"
   ]
  },
  {
   "cell_type": "markdown",
   "metadata": {},
   "source": [
    "## Interact with aliases\n",
    "\n",
    "Let's list the aliases:"
   ]
  },
  {
   "cell_type": "code",
   "execution_count": 18,
   "metadata": {},
   "outputs": [
    {
     "data": {
      "text/html": [
       "<pre style=\"white-space:pre;overflow-x:auto;line-height:normal;font-family:Menlo,'DejaVu Sans Mono',consolas,'Courier New',monospace\"><span style=\"font-style: italic\">                           Genome aliases                            </span>\n",
       "┏━━━━━━━━━━━┳━━━━━━━━━━━━━━━━━━━━━━━━━━━━━━━━━━┳━━━━━━━━━━━━━━━━━━━━┓\n",
       "┃<span style=\"font-weight: bold\"> Alias(es) </span>┃<span style=\"font-weight: bold\"> Genome digest                    </span>┃<span style=\"font-weight: bold\"> Genome description </span>┃\n",
       "┡━━━━━━━━━━━╇━━━━━━━━━━━━━━━━━━━━━━━━━━━━━━━━━━╇━━━━━━━━━━━━━━━━━━━━┩\n",
       "│ rCRSd-1   │ ZtAkf32sCUjeSl0KxVA5DVevklHDazQM │ Yeast genome 1     │\n",
       "│ t7        │ kN9XHLKLS_u7ei2GH87H-qpQrkz8moPB │ Genome of T7 phage │\n",
       "└───────────┴──────────────────────────────────┴────────────────────┘\n",
       "</pre>\n"
      ],
      "text/plain": [
       "\u001b[3m                           Genome aliases                            \u001b[0m\n",
       "┏━━━━━━━━━━━┳━━━━━━━━━━━━━━━━━━━━━━━━━━━━━━━━━━┳━━━━━━━━━━━━━━━━━━━━┓\n",
       "┃\u001b[1m \u001b[0m\u001b[1mAlias(es)\u001b[0m\u001b[1m \u001b[0m┃\u001b[1m \u001b[0m\u001b[1mGenome digest                   \u001b[0m\u001b[1m \u001b[0m┃\u001b[1m \u001b[0m\u001b[1mGenome description\u001b[0m\u001b[1m \u001b[0m┃\n",
       "┡━━━━━━━━━━━╇━━━━━━━━━━━━━━━━━━━━━━━━━━━━━━━━━━╇━━━━━━━━━━━━━━━━━━━━┩\n",
       "│ rCRSd-1   │ ZtAkf32sCUjeSl0KxVA5DVevklHDazQM │ Yeast genome 1     │\n",
       "│ t7        │ kN9XHLKLS_u7ei2GH87H-qpQrkz8moPB │ Genome of T7 phage │\n",
       "└───────────┴──────────────────────────────────┴────────────────────┘\n"
      ]
     },
     "execution_count": 18,
     "metadata": {},
     "output_type": "execute_result"
    }
   ],
   "source": [
    "refgenie.aliases_table()"
   ]
  },
  {
   "cell_type": "markdown",
   "metadata": {},
   "source": [
    "Let's assign another alias to the same genome digest, this way we can refer to the same genome in multiple ways."
   ]
  },
  {
   "cell_type": "code",
   "execution_count": 19,
   "metadata": {},
   "outputs": [
    {
     "data": {
      "text/html": [
       "<pre style=\"white-space:pre;overflow-x:auto;line-height:normal;font-family:Menlo,'DejaVu Sans Mono',consolas,'Courier New',monospace\"><span style=\"color: #000080; text-decoration-color: #000080\">INFO    </span> Added alias: Bacteriophage-T7                                                             <a href=\"file:///Users/stolarczyk/code/refgenie1/refgenie/refgenie.py\" target=\"_blank\"><span style=\"color: #7f7f7f; text-decoration-color: #7f7f7f\">refgenie.py</span></a><span style=\"color: #7f7f7f; text-decoration-color: #7f7f7f\">:</span><a href=\"file:///Users/stolarczyk/code/refgenie1/refgenie/refgenie.py#1153\" target=\"_blank\"><span style=\"color: #7f7f7f; text-decoration-color: #7f7f7f\">1153</span></a>\n",
       "</pre>\n"
      ],
      "text/plain": [
       "\u001b[34mINFO    \u001b[0m Added alias: Bacteriophage-T7                                                             \u001b]8;id=211677;file:///Users/stolarczyk/code/refgenie1/refgenie/refgenie.py\u001b\\\u001b[2mrefgenie.py\u001b[0m\u001b]8;;\u001b\\\u001b[2m:\u001b[0m\u001b]8;id=17658;file:///Users/stolarczyk/code/refgenie1/refgenie/refgenie.py#1153\u001b\\\u001b[2m1153\u001b[0m\u001b]8;;\u001b\\\n"
      ]
     },
     "metadata": {},
     "output_type": "display_data"
    },
    {
     "data": {
      "text/html": [
       "<pre style=\"white-space:pre;overflow-x:auto;line-height:normal;font-family:Menlo,'DejaVu Sans Mono',consolas,'Courier New',monospace\"><span style=\"color: #000080; text-decoration-color: #000080\">INFO    </span> Created alias directories:                                                                <a href=\"file:///Users/stolarczyk/code/refgenie1/refgenie/refgenie.py\" target=\"_blank\"><span style=\"color: #7f7f7f; text-decoration-color: #7f7f7f\">refgenie.py</span></a><span style=\"color: #7f7f7f; text-decoration-color: #7f7f7f\">:</span><a href=\"file:///Users/stolarczyk/code/refgenie1/refgenie/refgenie.py#3515\" target=\"_blank\"><span style=\"color: #7f7f7f; text-decoration-color: #7f7f7f\">3515</span></a>\n",
       "         <span style=\"color: #800080; text-decoration-color: #800080\">/var/folders/18/3fc3jyt50sv9kqx6hdqg5b600000gn/T/refgenie_demo_ugm8n45l/alias/</span><span style=\"color: #ff00ff; text-decoration-color: #ff00ff\">Bacteriopha</span> <span style=\"color: #7f7f7f; text-decoration-color: #7f7f7f\">                </span>\n",
       "         <span style=\"color: #ff00ff; text-decoration-color: #ff00ff\">ge-T7</span>                                                                                     <span style=\"color: #7f7f7f; text-decoration-color: #7f7f7f\">                </span>\n",
       "</pre>\n"
      ],
      "text/plain": [
       "\u001b[34mINFO    \u001b[0m Created alias directories:                                                                \u001b]8;id=652504;file:///Users/stolarczyk/code/refgenie1/refgenie/refgenie.py\u001b\\\u001b[2mrefgenie.py\u001b[0m\u001b]8;;\u001b\\\u001b[2m:\u001b[0m\u001b]8;id=41561;file:///Users/stolarczyk/code/refgenie1/refgenie/refgenie.py#3515\u001b\\\u001b[2m3515\u001b[0m\u001b]8;;\u001b\\\n",
       "         \u001b[35m/var/folders/18/3fc3jyt50sv9kqx6hdqg5b600000gn/T/refgenie_demo_ugm8n45l/alias/\u001b[0m\u001b[95mBacteriopha\u001b[0m \u001b[2m                \u001b[0m\n",
       "         \u001b[95mge-T7\u001b[0m                                                                                     \u001b[2m                \u001b[0m\n"
      ]
     },
     "metadata": {},
     "output_type": "display_data"
    },
    {
     "data": {
      "text/html": [
       "<pre style=\"white-space:pre;overflow-x:auto;line-height:normal;font-family:Menlo,'DejaVu Sans Mono',consolas,'Courier New',monospace\"><span style=\"color: #000080; text-decoration-color: #000080\">INFO    </span> Added alias: myFavGenome                                                                  <a href=\"file:///Users/stolarczyk/code/refgenie1/refgenie/refgenie.py\" target=\"_blank\"><span style=\"color: #7f7f7f; text-decoration-color: #7f7f7f\">refgenie.py</span></a><span style=\"color: #7f7f7f; text-decoration-color: #7f7f7f\">:</span><a href=\"file:///Users/stolarczyk/code/refgenie1/refgenie/refgenie.py#1153\" target=\"_blank\"><span style=\"color: #7f7f7f; text-decoration-color: #7f7f7f\">1153</span></a>\n",
       "</pre>\n"
      ],
      "text/plain": [
       "\u001b[34mINFO    \u001b[0m Added alias: myFavGenome                                                                  \u001b]8;id=684505;file:///Users/stolarczyk/code/refgenie1/refgenie/refgenie.py\u001b\\\u001b[2mrefgenie.py\u001b[0m\u001b]8;;\u001b\\\u001b[2m:\u001b[0m\u001b]8;id=419575;file:///Users/stolarczyk/code/refgenie1/refgenie/refgenie.py#1153\u001b\\\u001b[2m1153\u001b[0m\u001b]8;;\u001b\\\n"
      ]
     },
     "metadata": {},
     "output_type": "display_data"
    },
    {
     "data": {
      "text/html": [
       "<pre style=\"white-space:pre;overflow-x:auto;line-height:normal;font-family:Menlo,'DejaVu Sans Mono',consolas,'Courier New',monospace\"><span style=\"color: #000080; text-decoration-color: #000080\">INFO    </span> Created alias directories:                                                                <a href=\"file:///Users/stolarczyk/code/refgenie1/refgenie/refgenie.py\" target=\"_blank\"><span style=\"color: #7f7f7f; text-decoration-color: #7f7f7f\">refgenie.py</span></a><span style=\"color: #7f7f7f; text-decoration-color: #7f7f7f\">:</span><a href=\"file:///Users/stolarczyk/code/refgenie1/refgenie/refgenie.py#3515\" target=\"_blank\"><span style=\"color: #7f7f7f; text-decoration-color: #7f7f7f\">3515</span></a>\n",
       "         <span style=\"color: #800080; text-decoration-color: #800080\">/var/folders/18/3fc3jyt50sv9kqx6hdqg5b600000gn/T/refgenie_demo_ugm8n45l/alias/</span><span style=\"color: #ff00ff; text-decoration-color: #ff00ff\">myFavGenome</span> <span style=\"color: #7f7f7f; text-decoration-color: #7f7f7f\">                </span>\n",
       "</pre>\n"
      ],
      "text/plain": [
       "\u001b[34mINFO    \u001b[0m Created alias directories:                                                                \u001b]8;id=7727;file:///Users/stolarczyk/code/refgenie1/refgenie/refgenie.py\u001b\\\u001b[2mrefgenie.py\u001b[0m\u001b]8;;\u001b\\\u001b[2m:\u001b[0m\u001b]8;id=803708;file:///Users/stolarczyk/code/refgenie1/refgenie/refgenie.py#3515\u001b\\\u001b[2m3515\u001b[0m\u001b]8;;\u001b\\\n",
       "         \u001b[35m/var/folders/18/3fc3jyt50sv9kqx6hdqg5b600000gn/T/refgenie_demo_ugm8n45l/alias/\u001b[0m\u001b[95mmyFavGenome\u001b[0m \u001b[2m                \u001b[0m\n"
      ]
     },
     "metadata": {},
     "output_type": "display_data"
    }
   ],
   "source": [
    "t7_alias = refgenie.set_genome_alias(\n",
    "    alias_name=\"Bacteriophage-T7\",\n",
    "    genome_digest=\"kN9XHLKLS_u7ei2GH87H-qpQrkz8moPB\",\n",
    "    genome_description=\"My favorite genome\",\n",
    ")\n",
    "fav_alias = refgenie.set_genome_alias(\n",
    "    alias_name=\"myFavGenome\",\n",
    "    genome_digest=\"kN9XHLKLS_u7ei2GH87H-qpQrkz8moPB\",\n",
    "    genome_description=\"My favorite genome\",\n",
    ")"
   ]
  },
  {
   "cell_type": "markdown",
   "metadata": {},
   "source": [
    "The new alias should be listed in the aliases:"
   ]
  },
  {
   "cell_type": "code",
   "execution_count": 20,
   "metadata": {},
   "outputs": [
    {
     "data": {
      "text/html": [
       "<pre style=\"white-space:pre;overflow-x:auto;line-height:normal;font-family:Menlo,'DejaVu Sans Mono',consolas,'Courier New',monospace\"><span style=\"font-style: italic\">                                       Genome aliases                                        </span>\n",
       "┏━━━━━━━━━━━━━━━━━━━━━━━━━━━━━━━━━━━┳━━━━━━━━━━━━━━━━━━━━━━━━━━━━━━━━━━┳━━━━━━━━━━━━━━━━━━━━┓\n",
       "┃<span style=\"font-weight: bold\"> Alias(es)                         </span>┃<span style=\"font-weight: bold\"> Genome digest                    </span>┃<span style=\"font-weight: bold\"> Genome description </span>┃\n",
       "┡━━━━━━━━━━━━━━━━━━━━━━━━━━━━━━━━━━━╇━━━━━━━━━━━━━━━━━━━━━━━━━━━━━━━━━━╇━━━━━━━━━━━━━━━━━━━━┩\n",
       "│ rCRSd-1                           │ ZtAkf32sCUjeSl0KxVA5DVevklHDazQM │ Yeast genome 1     │\n",
       "│ t7, Bacteriophage-T7, myFavGenome │ kN9XHLKLS_u7ei2GH87H-qpQrkz8moPB │ Genome of T7 phage │\n",
       "└───────────────────────────────────┴──────────────────────────────────┴────────────────────┘\n",
       "</pre>\n"
      ],
      "text/plain": [
       "\u001b[3m                                       Genome aliases                                        \u001b[0m\n",
       "┏━━━━━━━━━━━━━━━━━━━━━━━━━━━━━━━━━━━┳━━━━━━━━━━━━━━━━━━━━━━━━━━━━━━━━━━┳━━━━━━━━━━━━━━━━━━━━┓\n",
       "┃\u001b[1m \u001b[0m\u001b[1mAlias(es)                        \u001b[0m\u001b[1m \u001b[0m┃\u001b[1m \u001b[0m\u001b[1mGenome digest                   \u001b[0m\u001b[1m \u001b[0m┃\u001b[1m \u001b[0m\u001b[1mGenome description\u001b[0m\u001b[1m \u001b[0m┃\n",
       "┡━━━━━━━━━━━━━━━━━━━━━━━━━━━━━━━━━━━╇━━━━━━━━━━━━━━━━━━━━━━━━━━━━━━━━━━╇━━━━━━━━━━━━━━━━━━━━┩\n",
       "│ rCRSd-1                           │ ZtAkf32sCUjeSl0KxVA5DVevklHDazQM │ Yeast genome 1     │\n",
       "│ t7, Bacteriophage-T7, myFavGenome │ kN9XHLKLS_u7ei2GH87H-qpQrkz8moPB │ Genome of T7 phage │\n",
       "└───────────────────────────────────┴──────────────────────────────────┴────────────────────┘\n"
      ]
     },
     "execution_count": 20,
     "metadata": {},
     "output_type": "execute_result"
    }
   ],
   "source": [
    "refgenie.aliases_table()"
   ]
  },
  {
   "cell_type": "markdown",
   "metadata": {},
   "source": [
    "The command not only creates a new alias, but also creates a symbolic links to the files in the `data` directory for that genome.\n",
    "\n",
    "Conversely, alias removal will remove the symbolic links, but not the files in the `data` directory."
   ]
  },
  {
   "cell_type": "code",
   "execution_count": 21,
   "metadata": {},
   "outputs": [
    {
     "data": {
      "text/html": [
       "<pre style=\"white-space:pre;overflow-x:auto;line-height:normal;font-family:Menlo,'DejaVu Sans Mono',consolas,'Courier New',monospace\"><span style=\"color: #000080; text-decoration-color: #000080\">INFO    </span> Deleting alias files:                                                                         <a href=\"file:///Users/stolarczyk/code/refgenie1/refgenie/db/events.py\" target=\"_blank\"><span style=\"color: #7f7f7f; text-decoration-color: #7f7f7f\">events.py</span></a><span style=\"color: #7f7f7f; text-decoration-color: #7f7f7f\">:</span><a href=\"file:///Users/stolarczyk/code/refgenie1/refgenie/db/events.py#49\" target=\"_blank\"><span style=\"color: #7f7f7f; text-decoration-color: #7f7f7f\">49</span></a>\n",
       "         <span style=\"color: #800080; text-decoration-color: #800080\">/var/folders/18/3fc3jyt50sv9kqx6hdqg5b600000gn/T/refgenie_demo_ugm8n45l/alias/</span><span style=\"color: #ff00ff; text-decoration-color: #ff00ff\">myFavGenome</span>     <span style=\"color: #7f7f7f; text-decoration-color: #7f7f7f\">            </span>\n",
       "</pre>\n"
      ],
      "text/plain": [
       "\u001b[34mINFO    \u001b[0m Deleting alias files:                                                                         \u001b]8;id=487449;file:///Users/stolarczyk/code/refgenie1/refgenie/db/events.py\u001b\\\u001b[2mevents.py\u001b[0m\u001b]8;;\u001b\\\u001b[2m:\u001b[0m\u001b]8;id=56337;file:///Users/stolarczyk/code/refgenie1/refgenie/db/events.py#49\u001b\\\u001b[2m49\u001b[0m\u001b]8;;\u001b\\\n",
       "         \u001b[35m/var/folders/18/3fc3jyt50sv9kqx6hdqg5b600000gn/T/refgenie_demo_ugm8n45l/alias/\u001b[0m\u001b[95mmyFavGenome\u001b[0m     \u001b[2m            \u001b[0m\n"
      ]
     },
     "metadata": {},
     "output_type": "display_data"
    },
    {
     "data": {
      "text/html": [
       "<pre style=\"white-space:pre;overflow-x:auto;line-height:normal;font-family:Menlo,'DejaVu Sans Mono',consolas,'Courier New',monospace\"><span style=\"color: #000080; text-decoration-color: #000080\">INFO    </span> Removed alias: myFavGenome                                                                <a href=\"file:///Users/stolarczyk/code/refgenie1/refgenie/refgenie.py\" target=\"_blank\"><span style=\"color: #7f7f7f; text-decoration-color: #7f7f7f\">refgenie.py</span></a><span style=\"color: #7f7f7f; text-decoration-color: #7f7f7f\">:</span><a href=\"file:///Users/stolarczyk/code/refgenie1/refgenie/refgenie.py#1401\" target=\"_blank\"><span style=\"color: #7f7f7f; text-decoration-color: #7f7f7f\">1401</span></a>\n",
       "</pre>\n"
      ],
      "text/plain": [
       "\u001b[34mINFO    \u001b[0m Removed alias: myFavGenome                                                                \u001b]8;id=843484;file:///Users/stolarczyk/code/refgenie1/refgenie/refgenie.py\u001b\\\u001b[2mrefgenie.py\u001b[0m\u001b]8;;\u001b\\\u001b[2m:\u001b[0m\u001b]8;id=742516;file:///Users/stolarczyk/code/refgenie1/refgenie/refgenie.py#1401\u001b\\\u001b[2m1401\u001b[0m\u001b]8;;\u001b\\\n"
      ]
     },
     "metadata": {},
     "output_type": "display_data"
    }
   ],
   "source": [
    "refgenie.remove_alias(\"myFavGenome\")"
   ]
  },
  {
   "cell_type": "markdown",
   "metadata": {},
   "source": [
    "## Retrieve paths to assets\n",
    "\n",
    "Most importantly, we can retrieve paths to refgenie-managed files.\n",
    "\n",
    "All below commands will return the same path to the fasta file managed by Refgenie:"
   ]
  },
  {
   "cell_type": "code",
   "execution_count": 22,
   "metadata": {},
   "outputs": [
    {
     "data": {
      "text/html": [
       "<pre style=\"white-space:pre;overflow-x:auto;line-height:normal;font-family:Menlo,'DejaVu Sans Mono',consolas,'Courier New',monospace\"><span style=\"color: #800080; text-decoration-color: #800080\">/var/folders/18/3fc3jyt50sv9kqx6hdqg5b600000gn/T/refgenie_demo_ugm8n45l/data/kN9XHLKLS_u7ei2GH87H-qpQrkz8moPB/fasta</span>\n",
       "<span style=\"color: #800080; text-decoration-color: #800080\">/samtools-1.21/</span><span style=\"color: #ff00ff; text-decoration-color: #ff00ff\">kN9XHLKLS_u7ei2GH87H-qpQrkz8moPB.fa</span>\n",
       "</pre>\n"
      ],
      "text/plain": [
       "\u001b[35m/var/folders/18/3fc3jyt50sv9kqx6hdqg5b600000gn/T/refgenie_demo_ugm8n45l/data/kN9XHLKLS_u7ei2GH87H-qpQrkz8moPB/fasta\u001b[0m\n",
       "\u001b[35m/samtools-1.21/\u001b[0m\u001b[95mkN9XHLKLS_u7ei2GH87H-qpQrkz8moPB.fa\u001b[0m\n"
      ]
     },
     "metadata": {},
     "output_type": "display_data"
    },
    {
     "data": {
      "text/html": [
       "<pre style=\"white-space:pre;overflow-x:auto;line-height:normal;font-family:Menlo,'DejaVu Sans Mono',consolas,'Courier New',monospace\"><span style=\"color: #800080; text-decoration-color: #800080\">/var/folders/18/3fc3jyt50sv9kqx6hdqg5b600000gn/T/refgenie_demo_ugm8n45l/data/kN9XHLKLS_u7ei2GH87H-qpQrkz8moPB/fasta</span>\n",
       "<span style=\"color: #800080; text-decoration-color: #800080\">/samtools-1.21/</span><span style=\"color: #ff00ff; text-decoration-color: #ff00ff\">kN9XHLKLS_u7ei2GH87H-qpQrkz8moPB.fa</span>\n",
       "</pre>\n"
      ],
      "text/plain": [
       "\u001b[35m/var/folders/18/3fc3jyt50sv9kqx6hdqg5b600000gn/T/refgenie_demo_ugm8n45l/data/kN9XHLKLS_u7ei2GH87H-qpQrkz8moPB/fasta\u001b[0m\n",
       "\u001b[35m/samtools-1.21/\u001b[0m\u001b[95mkN9XHLKLS_u7ei2GH87H-qpQrkz8moPB.fa\u001b[0m\n"
      ]
     },
     "metadata": {},
     "output_type": "display_data"
    },
    {
     "data": {
      "text/html": [
       "<pre style=\"white-space:pre;overflow-x:auto;line-height:normal;font-family:Menlo,'DejaVu Sans Mono',consolas,'Courier New',monospace\"><span style=\"color: #800080; text-decoration-color: #800080\">/var/folders/18/3fc3jyt50sv9kqx6hdqg5b600000gn/T/refgenie_demo_ugm8n45l/data/kN9XHLKLS_u7ei2GH87H-qpQrkz8moPB/fasta</span>\n",
       "<span style=\"color: #800080; text-decoration-color: #800080\">/samtools-1.21/</span><span style=\"color: #ff00ff; text-decoration-color: #ff00ff\">kN9XHLKLS_u7ei2GH87H-qpQrkz8moPB.fa</span>\n",
       "</pre>\n"
      ],
      "text/plain": [
       "\u001b[35m/var/folders/18/3fc3jyt50sv9kqx6hdqg5b600000gn/T/refgenie_demo_ugm8n45l/data/kN9XHLKLS_u7ei2GH87H-qpQrkz8moPB/fasta\u001b[0m\n",
       "\u001b[35m/samtools-1.21/\u001b[0m\u001b[95mkN9XHLKLS_u7ei2GH87H-qpQrkz8moPB.fa\u001b[0m\n"
      ]
     },
     "metadata": {},
     "output_type": "display_data"
    }
   ],
   "source": [
    "print(refgenie.seek(\"t7\", \"fasta\"))\n",
    "print(refgenie.seek(\"Bacteriophage-T7\", \"fasta\", \"samtools-1.21\"))\n",
    "print(refgenie.seek(\"t7\", \"fasta\", \"samtools-1.21\", \"fasta\"))"
   ]
  },
  {
   "cell_type": "markdown",
   "metadata": {},
   "source": [
    "## Remove an asset\n",
    "\n",
    "Let's remove the `bowtie2_index` asset for the `dm6` genome."
   ]
  },
  {
   "cell_type": "code",
   "execution_count": 23,
   "metadata": {},
   "outputs": [
    {
     "data": {
      "text/html": [
       "<pre style=\"white-space:pre;overflow-x:auto;line-height:normal;font-family:Menlo,'DejaVu Sans Mono',consolas,'Courier New',monospace\"><span style=\"color: #000080; text-decoration-color: #000080\">INFO    </span> Deleting archive files:                                                                       <a href=\"file:///Users/stolarczyk/code/refgenie1/refgenie/db/events.py\" target=\"_blank\"><span style=\"color: #7f7f7f; text-decoration-color: #7f7f7f\">events.py</span></a><span style=\"color: #7f7f7f; text-decoration-color: #7f7f7f\">:</span><a href=\"file:///Users/stolarczyk/code/refgenie1/refgenie/db/events.py#59\" target=\"_blank\"><span style=\"color: #7f7f7f; text-decoration-color: #7f7f7f\">59</span></a>\n",
       "         <span style=\"color: #800080; text-decoration-color: #800080\">/var/folders/18/3fc3jyt50sv9kqx6hdqg5b600000gn/T/refgenie_archive_demo_mthufo3u/kN9XHLKLS_u7e</span> <span style=\"color: #7f7f7f; text-decoration-color: #7f7f7f\">            </span>\n",
       "         <span style=\"color: #800080; text-decoration-color: #800080\">i2GH87H-qpQrkz8moPB/bowtie2_index/</span><span style=\"color: #ff00ff; text-decoration-color: #ff00ff\">2.5.3</span>                                                       <span style=\"color: #7f7f7f; text-decoration-color: #7f7f7f\">            </span>\n",
       "</pre>\n"
      ],
      "text/plain": [
       "\u001b[34mINFO    \u001b[0m Deleting archive files:                                                                       \u001b]8;id=188691;file:///Users/stolarczyk/code/refgenie1/refgenie/db/events.py\u001b\\\u001b[2mevents.py\u001b[0m\u001b]8;;\u001b\\\u001b[2m:\u001b[0m\u001b]8;id=56642;file:///Users/stolarczyk/code/refgenie1/refgenie/db/events.py#59\u001b\\\u001b[2m59\u001b[0m\u001b]8;;\u001b\\\n",
       "         \u001b[35m/var/folders/18/3fc3jyt50sv9kqx6hdqg5b600000gn/T/refgenie_archive_demo_mthufo3u/kN9XHLKLS_u7e\u001b[0m \u001b[2m            \u001b[0m\n",
       "         \u001b[35mi2GH87H-qpQrkz8moPB/bowtie2_index/\u001b[0m\u001b[95m2.5.3\u001b[0m                                                       \u001b[2m            \u001b[0m\n"
      ]
     },
     "metadata": {},
     "output_type": "display_data"
    },
    {
     "data": {
      "text/html": [
       "<pre style=\"white-space:pre;overflow-x:auto;line-height:normal;font-family:Menlo,'DejaVu Sans Mono',consolas,'Courier New',monospace\"><span style=\"color: #000080; text-decoration-color: #000080\">INFO    </span> Deleting asset files:                                                                         <a href=\"file:///Users/stolarczyk/code/refgenie1/refgenie/db/events.py\" target=\"_blank\"><span style=\"color: #7f7f7f; text-decoration-color: #7f7f7f\">events.py</span></a><span style=\"color: #7f7f7f; text-decoration-color: #7f7f7f\">:</span><a href=\"file:///Users/stolarczyk/code/refgenie1/refgenie/db/events.py#32\" target=\"_blank\"><span style=\"color: #7f7f7f; text-decoration-color: #7f7f7f\">32</span></a>\n",
       "         <span style=\"color: #800080; text-decoration-color: #800080\">/var/folders/18/3fc3jyt50sv9kqx6hdqg5b600000gn/T/refgenie_demo_ugm8n45l/data/kN9XHLKLS_u7ei2G</span> <span style=\"color: #7f7f7f; text-decoration-color: #7f7f7f\">            </span>\n",
       "         <span style=\"color: #800080; text-decoration-color: #800080\">H87H-qpQrkz8moPB/bowtie2_index/</span><span style=\"color: #ff00ff; text-decoration-color: #ff00ff\">2.5.3</span>                                                          <span style=\"color: #7f7f7f; text-decoration-color: #7f7f7f\">            </span>\n",
       "</pre>\n"
      ],
      "text/plain": [
       "\u001b[34mINFO    \u001b[0m Deleting asset files:                                                                         \u001b]8;id=400807;file:///Users/stolarczyk/code/refgenie1/refgenie/db/events.py\u001b\\\u001b[2mevents.py\u001b[0m\u001b]8;;\u001b\\\u001b[2m:\u001b[0m\u001b]8;id=356769;file:///Users/stolarczyk/code/refgenie1/refgenie/db/events.py#32\u001b\\\u001b[2m32\u001b[0m\u001b]8;;\u001b\\\n",
       "         \u001b[35m/var/folders/18/3fc3jyt50sv9kqx6hdqg5b600000gn/T/refgenie_demo_ugm8n45l/data/kN9XHLKLS_u7ei2G\u001b[0m \u001b[2m            \u001b[0m\n",
       "         \u001b[35mH87H-qpQrkz8moPB/bowtie2_index/\u001b[0m\u001b[95m2.5.3\u001b[0m                                                          \u001b[2m            \u001b[0m\n"
      ]
     },
     "metadata": {},
     "output_type": "display_data"
    },
    {
     "data": {
      "text/html": [
       "<pre style=\"white-space:pre;overflow-x:auto;line-height:normal;font-family:Menlo,'DejaVu Sans Mono',consolas,'Courier New',monospace\"><span style=\"color: #000080; text-decoration-color: #000080\">INFO    </span> Removed asset group and all assets <span style=\"color: #008000; text-decoration-color: #008000\">'kN9XHLKLS_u7ei2GH87H-qpQrkz8moPB/bowtie2_index'</span>        <a href=\"file:///Users/stolarczyk/code/refgenie1/refgenie/refgenie.py\" target=\"_blank\"><span style=\"color: #7f7f7f; text-decoration-color: #7f7f7f\">refgenie.py</span></a><span style=\"color: #7f7f7f; text-decoration-color: #7f7f7f\">:</span><a href=\"file:///Users/stolarczyk/code/refgenie1/refgenie/refgenie.py#919\" target=\"_blank\"><span style=\"color: #7f7f7f; text-decoration-color: #7f7f7f\">919</span></a>\n",
       "</pre>\n"
      ],
      "text/plain": [
       "\u001b[34mINFO    \u001b[0m Removed asset group and all assets \u001b[32m'kN9XHLKLS_u7ei2GH87H-qpQrkz8moPB/bowtie2_index'\u001b[0m        \u001b]8;id=967535;file:///Users/stolarczyk/code/refgenie1/refgenie/refgenie.py\u001b\\\u001b[2mrefgenie.py\u001b[0m\u001b]8;;\u001b\\\u001b[2m:\u001b[0m\u001b]8;id=725790;file:///Users/stolarczyk/code/refgenie1/refgenie/refgenie.py#919\u001b\\\u001b[2m919\u001b[0m\u001b]8;;\u001b\\\n"
      ]
     },
     "metadata": {},
     "output_type": "display_data"
    }
   ],
   "source": [
    "refgenie.remove_asset_group(\n",
    "    genome_name=\"t7\", asset_group_name=\"bowtie2_index\", force=True\n",
    ")"
   ]
  },
  {
   "cell_type": "markdown",
   "metadata": {},
   "source": [
    "## Data channels\n",
    "\n",
    "Refgenie supports data channels, which are used to allow third-party tool developers to expose their recipes and asset classes to Refgenie ecosystem.\n",
    "In the simplest case, data channels is just a github repository with an index file that lists available asset classes and recipes, like so:\n",
    "\n",
    "```yaml\n",
    "asset_class:\n",
    "  dir: asset_classes # optional, needed only if the asset classes are stored in a subdirectory\n",
    "  files: # list of asset class files, relative to the index file (or directory)\n",
    "    - fasta.yaml \n",
    "    - bowtie2_index.yaml\n",
    "recipe:\n",
    "  dir: recipes # optional, needed only if the recipes are stored in a subdirectory\n",
    "  files: # list of recipe files, relative to the index file (or directory)\n",
    "    - fasta.yaml\n",
    "    - bowtie2_index.yaml\n",
    "```\n",
    "\n",
    "One such example is the [refgenie/recipes](https://github.com/refgenie/recipes/blob/refgenie1/index.yaml) repository, which can be added as a data channel to refgenie in the following way:"
   ]
  },
  {
   "cell_type": "code",
   "execution_count": 24,
   "metadata": {},
   "outputs": [
    {
     "data": {
      "text/html": [
       "<pre style=\"white-space:pre;overflow-x:auto;line-height:normal;font-family:Menlo,'DejaVu Sans Mono',consolas,'Courier New',monospace\"><span style=\"font-style: italic\">                                                   Data Channels                                                   </span>\n",
       "┏━━━━━━━━━━━━━━━━━━┳━━━━━━┳━━━━━━━━━━━━━━━━━━━━━━━━━━━━━━━━━━━━━━━━━━┳━━━━━━━━━━━━━━━━━━━━━━━━━━┳━━━━━━━━━━━━━━━━━┓\n",
       "┃<span style=\"font-weight: bold\"> Name             </span>┃<span style=\"font-weight: bold\"> Type </span>┃<span style=\"font-weight: bold\"> Index Address                            </span>┃<span style=\"font-weight: bold\"> Description              </span>┃<span style=\"font-weight: bold\"> Credentials set </span>┃\n",
       "┡━━━━━━━━━━━━━━━━━━╇━━━━━━╇━━━━━━━━━━━━━━━━━━━━━━━━━━━━━━━━━━━━━━━━━━╇━━━━━━━━━━━━━━━━━━━━━━━━━━╇━━━━━━━━━━━━━━━━━┩\n",
       "│<span style=\"color: #008080; text-decoration-color: #008080\"> refgenie-recipes </span>│ http │ https://refgenie.github.io/recipes/inde… │ Refgenie recipes channel │ False           │\n",
       "└──────────────────┴──────┴──────────────────────────────────────────┴──────────────────────────┴─────────────────┘\n",
       "</pre>\n"
      ],
      "text/plain": [
       "\u001b[3m                                                   Data Channels                                                   \u001b[0m\n",
       "┏━━━━━━━━━━━━━━━━━━┳━━━━━━┳━━━━━━━━━━━━━━━━━━━━━━━━━━━━━━━━━━━━━━━━━━┳━━━━━━━━━━━━━━━━━━━━━━━━━━┳━━━━━━━━━━━━━━━━━┓\n",
       "┃\u001b[1m \u001b[0m\u001b[1mName            \u001b[0m\u001b[1m \u001b[0m┃\u001b[1m \u001b[0m\u001b[1mType\u001b[0m\u001b[1m \u001b[0m┃\u001b[1m \u001b[0m\u001b[1mIndex Address                           \u001b[0m\u001b[1m \u001b[0m┃\u001b[1m \u001b[0m\u001b[1mDescription             \u001b[0m\u001b[1m \u001b[0m┃\u001b[1m \u001b[0m\u001b[1mCredentials set\u001b[0m\u001b[1m \u001b[0m┃\n",
       "┡━━━━━━━━━━━━━━━━━━╇━━━━━━╇━━━━━━━━━━━━━━━━━━━━━━━━━━━━━━━━━━━━━━━━━━╇━━━━━━━━━━━━━━━━━━━━━━━━━━╇━━━━━━━━━━━━━━━━━┩\n",
       "│\u001b[36m \u001b[0m\u001b[36mrefgenie-recipes\u001b[0m\u001b[36m \u001b[0m│ http │ https://refgenie.github.io/recipes/inde… │ Refgenie recipes channel │ False           │\n",
       "└──────────────────┴──────┴──────────────────────────────────────────┴──────────────────────────┴─────────────────┘\n"
      ]
     },
     "metadata": {},
     "output_type": "display_data"
    }
   ],
   "source": [
    "data_channel = refgenie.data_channel.add(\n",
    "    name=\"refgenie-recipes\",\n",
    "    type=\"http\",\n",
    "    index_address=\"https://refgenie.github.io/recipes/index.yaml\",\n",
    "    description=\"Refgenie recipes channel\",\n",
    ")\n",
    "\n",
    "print(refgenie.data_channel.table())"
   ]
  },
  {
   "cell_type": "markdown",
   "metadata": {},
   "source": [
    "Subsequently, the asset classes and recipes from the data channel can be listed and added to the refgenie instance."
   ]
  },
  {
   "cell_type": "code",
   "execution_count": 25,
   "metadata": {},
   "outputs": [
    {
     "data": {
      "text/html": [
       "<pre style=\"white-space:pre;overflow-x:auto;line-height:normal;font-family:Menlo,'DejaVu Sans Mono',consolas,'Courier New',monospace\"><span style=\"color: #000080; text-decoration-color: #000080\">INFO    </span> HTTP Request: <span style=\"color: #808000; text-decoration-color: #808000; font-weight: bold\">GET</span> <span style=\"color: #0000ff; text-decoration-color: #0000ff; text-decoration: underline\">https://refgenie.github.io/recipes/index.yaml</span> <span style=\"color: #008000; text-decoration-color: #008000\">\"HTTP/1.1 200 OK\"</span>          <a href=\"file:///Users/stolarczyk/code/refgenie1/.venv/lib/python3.12/site-packages/httpx/_client.py\" target=\"_blank\"><span style=\"color: #7f7f7f; text-decoration-color: #7f7f7f\">_client.py</span></a><span style=\"color: #7f7f7f; text-decoration-color: #7f7f7f\">:</span><a href=\"file:///Users/stolarczyk/code/refgenie1/.venv/lib/python3.12/site-packages/httpx/_client.py#1027\" target=\"_blank\"><span style=\"color: #7f7f7f; text-decoration-color: #7f7f7f\">1027</span></a>\n",
       "</pre>\n"
      ],
      "text/plain": [
       "\u001b[34mINFO    \u001b[0m HTTP Request: \u001b[1;33mGET\u001b[0m \u001b[4;94mhttps://refgenie.github.io/recipes/index.yaml\u001b[0m \u001b[32m\"HTTP/1.1 200 OK\"\u001b[0m          \u001b]8;id=557378;file:///Users/stolarczyk/code/refgenie1/.venv/lib/python3.12/site-packages/httpx/_client.py\u001b\\\u001b[2m_client.py\u001b[0m\u001b]8;;\u001b\\\u001b[2m:\u001b[0m\u001b]8;id=826819;file:///Users/stolarczyk/code/refgenie1/.venv/lib/python3.12/site-packages/httpx/_client.py#1027\u001b\\\u001b[2m1027\u001b[0m\u001b]8;;\u001b\\\n"
      ]
     },
     "metadata": {},
     "output_type": "display_data"
    },
    {
     "data": {
      "text/html": [
       "<pre style=\"white-space:pre;overflow-x:auto;line-height:normal;font-family:Menlo,'DejaVu Sans Mono',consolas,'Courier New',monospace\"><span style=\"color: #000080; text-decoration-color: #000080\">INFO    </span> Registered <span style=\"color: #008000; text-decoration-color: #008000\">'abundant_sequences'</span> asset class                                                  <a href=\"file:///Users/stolarczyk/code/refgenie1/refgenie/resource_manager/asset_class/manager.py\" target=\"_blank\"><span style=\"color: #7f7f7f; text-decoration-color: #7f7f7f\">manager.py</span></a><span style=\"color: #7f7f7f; text-decoration-color: #7f7f7f\">:</span><a href=\"file:///Users/stolarczyk/code/refgenie1/refgenie/resource_manager/asset_class/manager.py#71\" target=\"_blank\"><span style=\"color: #7f7f7f; text-decoration-color: #7f7f7f\">71</span></a>\n",
       "</pre>\n"
      ],
      "text/plain": [
       "\u001b[34mINFO    \u001b[0m Registered \u001b[32m'abundant_sequences'\u001b[0m asset class                                                  \u001b]8;id=330617;file:///Users/stolarczyk/code/refgenie1/refgenie/resource_manager/asset_class/manager.py\u001b\\\u001b[2mmanager.py\u001b[0m\u001b]8;;\u001b\\\u001b[2m:\u001b[0m\u001b]8;id=892320;file:///Users/stolarczyk/code/refgenie1/refgenie/resource_manager/asset_class/manager.py#71\u001b\\\u001b[2m71\u001b[0m\u001b]8;;\u001b\\\n"
      ]
     },
     "metadata": {},
     "output_type": "display_data"
    },
    {
     "data": {
      "text/html": [
       "<pre style=\"white-space:pre;overflow-x:auto;line-height:normal;font-family:Menlo,'DejaVu Sans Mono',consolas,'Courier New',monospace\"><span style=\"color: #000080; text-decoration-color: #000080\">INFO    </span> Registered <span style=\"color: #008000; text-decoration-color: #008000\">'bed'</span> asset class                                                                 <a href=\"file:///Users/stolarczyk/code/refgenie1/refgenie/resource_manager/asset_class/manager.py\" target=\"_blank\"><span style=\"color: #7f7f7f; text-decoration-color: #7f7f7f\">manager.py</span></a><span style=\"color: #7f7f7f; text-decoration-color: #7f7f7f\">:</span><a href=\"file:///Users/stolarczyk/code/refgenie1/refgenie/resource_manager/asset_class/manager.py#71\" target=\"_blank\"><span style=\"color: #7f7f7f; text-decoration-color: #7f7f7f\">71</span></a>\n",
       "</pre>\n"
      ],
      "text/plain": [
       "\u001b[34mINFO    \u001b[0m Registered \u001b[32m'bed'\u001b[0m asset class                                                                 \u001b]8;id=69834;file:///Users/stolarczyk/code/refgenie1/refgenie/resource_manager/asset_class/manager.py\u001b\\\u001b[2mmanager.py\u001b[0m\u001b]8;;\u001b\\\u001b[2m:\u001b[0m\u001b]8;id=702813;file:///Users/stolarczyk/code/refgenie1/refgenie/resource_manager/asset_class/manager.py#71\u001b\\\u001b[2m71\u001b[0m\u001b]8;;\u001b\\\n"
      ]
     },
     "metadata": {},
     "output_type": "display_data"
    },
    {
     "data": {
      "text/html": [
       "<pre style=\"white-space:pre;overflow-x:auto;line-height:normal;font-family:Menlo,'DejaVu Sans Mono',consolas,'Courier New',monospace\"><span style=\"color: #000080; text-decoration-color: #000080\">INFO    </span> Registered <span style=\"color: #008000; text-decoration-color: #008000\">'bismark_bt1_index'</span> asset class                                                   <a href=\"file:///Users/stolarczyk/code/refgenie1/refgenie/resource_manager/asset_class/manager.py\" target=\"_blank\"><span style=\"color: #7f7f7f; text-decoration-color: #7f7f7f\">manager.py</span></a><span style=\"color: #7f7f7f; text-decoration-color: #7f7f7f\">:</span><a href=\"file:///Users/stolarczyk/code/refgenie1/refgenie/resource_manager/asset_class/manager.py#71\" target=\"_blank\"><span style=\"color: #7f7f7f; text-decoration-color: #7f7f7f\">71</span></a>\n",
       "</pre>\n"
      ],
      "text/plain": [
       "\u001b[34mINFO    \u001b[0m Registered \u001b[32m'bismark_bt1_index'\u001b[0m asset class                                                   \u001b]8;id=642076;file:///Users/stolarczyk/code/refgenie1/refgenie/resource_manager/asset_class/manager.py\u001b\\\u001b[2mmanager.py\u001b[0m\u001b]8;;\u001b\\\u001b[2m:\u001b[0m\u001b]8;id=628252;file:///Users/stolarczyk/code/refgenie1/refgenie/resource_manager/asset_class/manager.py#71\u001b\\\u001b[2m71\u001b[0m\u001b]8;;\u001b\\\n"
      ]
     },
     "metadata": {},
     "output_type": "display_data"
    },
    {
     "data": {
      "text/html": [
       "<pre style=\"white-space:pre;overflow-x:auto;line-height:normal;font-family:Menlo,'DejaVu Sans Mono',consolas,'Courier New',monospace\"><span style=\"color: #000080; text-decoration-color: #000080\">INFO    </span> Registered <span style=\"color: #008000; text-decoration-color: #008000\">'bismark_bt2_index'</span> asset class                                                   <a href=\"file:///Users/stolarczyk/code/refgenie1/refgenie/resource_manager/asset_class/manager.py\" target=\"_blank\"><span style=\"color: #7f7f7f; text-decoration-color: #7f7f7f\">manager.py</span></a><span style=\"color: #7f7f7f; text-decoration-color: #7f7f7f\">:</span><a href=\"file:///Users/stolarczyk/code/refgenie1/refgenie/resource_manager/asset_class/manager.py#71\" target=\"_blank\"><span style=\"color: #7f7f7f; text-decoration-color: #7f7f7f\">71</span></a>\n",
       "</pre>\n"
      ],
      "text/plain": [
       "\u001b[34mINFO    \u001b[0m Registered \u001b[32m'bismark_bt2_index'\u001b[0m asset class                                                   \u001b]8;id=144701;file:///Users/stolarczyk/code/refgenie1/refgenie/resource_manager/asset_class/manager.py\u001b\\\u001b[2mmanager.py\u001b[0m\u001b]8;;\u001b\\\u001b[2m:\u001b[0m\u001b]8;id=349081;file:///Users/stolarczyk/code/refgenie1/refgenie/resource_manager/asset_class/manager.py#71\u001b\\\u001b[2m71\u001b[0m\u001b]8;;\u001b\\\n"
      ]
     },
     "metadata": {},
     "output_type": "display_data"
    },
    {
     "data": {
      "text/html": [
       "<pre style=\"white-space:pre;overflow-x:auto;line-height:normal;font-family:Menlo,'DejaVu Sans Mono',consolas,'Courier New',monospace\"><span style=\"color: #000080; text-decoration-color: #000080\">INFO    </span> Registered <span style=\"color: #008000; text-decoration-color: #008000\">'blacklist'</span> asset class                                                           <a href=\"file:///Users/stolarczyk/code/refgenie1/refgenie/resource_manager/asset_class/manager.py\" target=\"_blank\"><span style=\"color: #7f7f7f; text-decoration-color: #7f7f7f\">manager.py</span></a><span style=\"color: #7f7f7f; text-decoration-color: #7f7f7f\">:</span><a href=\"file:///Users/stolarczyk/code/refgenie1/refgenie/resource_manager/asset_class/manager.py#71\" target=\"_blank\"><span style=\"color: #7f7f7f; text-decoration-color: #7f7f7f\">71</span></a>\n",
       "</pre>\n"
      ],
      "text/plain": [
       "\u001b[34mINFO    \u001b[0m Registered \u001b[32m'blacklist'\u001b[0m asset class                                                           \u001b]8;id=346425;file:///Users/stolarczyk/code/refgenie1/refgenie/resource_manager/asset_class/manager.py\u001b\\\u001b[2mmanager.py\u001b[0m\u001b]8;;\u001b\\\u001b[2m:\u001b[0m\u001b]8;id=868273;file:///Users/stolarczyk/code/refgenie1/refgenie/resource_manager/asset_class/manager.py#71\u001b\\\u001b[2m71\u001b[0m\u001b]8;;\u001b\\\n"
      ]
     },
     "metadata": {},
     "output_type": "display_data"
    },
    {
     "data": {
      "text/html": [
       "<pre style=\"white-space:pre;overflow-x:auto;line-height:normal;font-family:Menlo,'DejaVu Sans Mono',consolas,'Courier New',monospace\"><span style=\"color: #000080; text-decoration-color: #000080\">INFO    </span> Registered <span style=\"color: #008000; text-decoration-color: #008000\">'bowtie1_index'</span> asset class                                                       <a href=\"file:///Users/stolarczyk/code/refgenie1/refgenie/resource_manager/asset_class/manager.py\" target=\"_blank\"><span style=\"color: #7f7f7f; text-decoration-color: #7f7f7f\">manager.py</span></a><span style=\"color: #7f7f7f; text-decoration-color: #7f7f7f\">:</span><a href=\"file:///Users/stolarczyk/code/refgenie1/refgenie/resource_manager/asset_class/manager.py#71\" target=\"_blank\"><span style=\"color: #7f7f7f; text-decoration-color: #7f7f7f\">71</span></a>\n",
       "</pre>\n"
      ],
      "text/plain": [
       "\u001b[34mINFO    \u001b[0m Registered \u001b[32m'bowtie1_index'\u001b[0m asset class                                                       \u001b]8;id=101575;file:///Users/stolarczyk/code/refgenie1/refgenie/resource_manager/asset_class/manager.py\u001b\\\u001b[2mmanager.py\u001b[0m\u001b]8;;\u001b\\\u001b[2m:\u001b[0m\u001b]8;id=508515;file:///Users/stolarczyk/code/refgenie1/refgenie/resource_manager/asset_class/manager.py#71\u001b\\\u001b[2m71\u001b[0m\u001b]8;;\u001b\\\n"
      ]
     },
     "metadata": {},
     "output_type": "display_data"
    },
    {
     "data": {
      "text/html": [
       "<pre style=\"white-space:pre;overflow-x:auto;line-height:normal;font-family:Menlo,'DejaVu Sans Mono',consolas,'Courier New',monospace\">Asset class <span style=\"color: #008000; text-decoration-color: #008000\">'bowtie2_index'</span> version <span style=\"color: #008000; text-decoration-color: #008000\">'0.0.1'</span> already exists.\n",
       "</pre>\n"
      ],
      "text/plain": [
       "Asset class \u001b[32m'bowtie2_index'\u001b[0m version \u001b[32m'0.0.1'\u001b[0m already exists.\n"
      ]
     },
     "metadata": {},
     "output_type": "display_data"
    },
    {
     "data": {
      "text/html": [
       "<pre style=\"white-space:pre;overflow-x:auto;line-height:normal;font-family:Menlo,'DejaVu Sans Mono',consolas,'Courier New',monospace\"><span style=\"color: #000080; text-decoration-color: #000080\">INFO    </span> Registered <span style=\"color: #008000; text-decoration-color: #008000\">'bwa_index'</span> asset class                                                           <a href=\"file:///Users/stolarczyk/code/refgenie1/refgenie/resource_manager/asset_class/manager.py\" target=\"_blank\"><span style=\"color: #7f7f7f; text-decoration-color: #7f7f7f\">manager.py</span></a><span style=\"color: #7f7f7f; text-decoration-color: #7f7f7f\">:</span><a href=\"file:///Users/stolarczyk/code/refgenie1/refgenie/resource_manager/asset_class/manager.py#71\" target=\"_blank\"><span style=\"color: #7f7f7f; text-decoration-color: #7f7f7f\">71</span></a>\n",
       "</pre>\n"
      ],
      "text/plain": [
       "\u001b[34mINFO    \u001b[0m Registered \u001b[32m'bwa_index'\u001b[0m asset class                                                           \u001b]8;id=216297;file:///Users/stolarczyk/code/refgenie1/refgenie/resource_manager/asset_class/manager.py\u001b\\\u001b[2mmanager.py\u001b[0m\u001b]8;;\u001b\\\u001b[2m:\u001b[0m\u001b]8;id=756374;file:///Users/stolarczyk/code/refgenie1/refgenie/resource_manager/asset_class/manager.py#71\u001b\\\u001b[2m71\u001b[0m\u001b]8;;\u001b\\\n"
      ]
     },
     "metadata": {},
     "output_type": "display_data"
    },
    {
     "data": {
      "text/html": [
       "<pre style=\"white-space:pre;overflow-x:auto;line-height:normal;font-family:Menlo,'DejaVu Sans Mono',consolas,'Courier New',monospace\"><span style=\"color: #000080; text-decoration-color: #000080\">INFO    </span> Registered <span style=\"color: #008000; text-decoration-color: #008000\">'cellranger_reference'</span> asset class                                                <a href=\"file:///Users/stolarczyk/code/refgenie1/refgenie/resource_manager/asset_class/manager.py\" target=\"_blank\"><span style=\"color: #7f7f7f; text-decoration-color: #7f7f7f\">manager.py</span></a><span style=\"color: #7f7f7f; text-decoration-color: #7f7f7f\">:</span><a href=\"file:///Users/stolarczyk/code/refgenie1/refgenie/resource_manager/asset_class/manager.py#71\" target=\"_blank\"><span style=\"color: #7f7f7f; text-decoration-color: #7f7f7f\">71</span></a>\n",
       "</pre>\n"
      ],
      "text/plain": [
       "\u001b[34mINFO    \u001b[0m Registered \u001b[32m'cellranger_reference'\u001b[0m asset class                                                \u001b]8;id=696277;file:///Users/stolarczyk/code/refgenie1/refgenie/resource_manager/asset_class/manager.py\u001b\\\u001b[2mmanager.py\u001b[0m\u001b]8;;\u001b\\\u001b[2m:\u001b[0m\u001b]8;id=365282;file:///Users/stolarczyk/code/refgenie1/refgenie/resource_manager/asset_class/manager.py#71\u001b\\\u001b[2m71\u001b[0m\u001b]8;;\u001b\\\n"
      ]
     },
     "metadata": {},
     "output_type": "display_data"
    },
    {
     "data": {
      "text/html": [
       "<pre style=\"white-space:pre;overflow-x:auto;line-height:normal;font-family:Menlo,'DejaVu Sans Mono',consolas,'Courier New',monospace\"><span style=\"color: #000080; text-decoration-color: #000080\">INFO    </span> Registered <span style=\"color: #008000; text-decoration-color: #008000\">'dbnsfp'</span> asset class                                                              <a href=\"file:///Users/stolarczyk/code/refgenie1/refgenie/resource_manager/asset_class/manager.py\" target=\"_blank\"><span style=\"color: #7f7f7f; text-decoration-color: #7f7f7f\">manager.py</span></a><span style=\"color: #7f7f7f; text-decoration-color: #7f7f7f\">:</span><a href=\"file:///Users/stolarczyk/code/refgenie1/refgenie/resource_manager/asset_class/manager.py#71\" target=\"_blank\"><span style=\"color: #7f7f7f; text-decoration-color: #7f7f7f\">71</span></a>\n",
       "</pre>\n"
      ],
      "text/plain": [
       "\u001b[34mINFO    \u001b[0m Registered \u001b[32m'dbnsfp'\u001b[0m asset class                                                              \u001b]8;id=36682;file:///Users/stolarczyk/code/refgenie1/refgenie/resource_manager/asset_class/manager.py\u001b\\\u001b[2mmanager.py\u001b[0m\u001b]8;;\u001b\\\u001b[2m:\u001b[0m\u001b]8;id=398337;file:///Users/stolarczyk/code/refgenie1/refgenie/resource_manager/asset_class/manager.py#71\u001b\\\u001b[2m71\u001b[0m\u001b]8;;\u001b\\\n"
      ]
     },
     "metadata": {},
     "output_type": "display_data"
    },
    {
     "data": {
      "text/html": [
       "<pre style=\"white-space:pre;overflow-x:auto;line-height:normal;font-family:Menlo,'DejaVu Sans Mono',consolas,'Courier New',monospace\"><span style=\"color: #000080; text-decoration-color: #000080\">INFO    </span> Registered <span style=\"color: #008000; text-decoration-color: #008000\">'dbsnp'</span> asset class                                                               <a href=\"file:///Users/stolarczyk/code/refgenie1/refgenie/resource_manager/asset_class/manager.py\" target=\"_blank\"><span style=\"color: #7f7f7f; text-decoration-color: #7f7f7f\">manager.py</span></a><span style=\"color: #7f7f7f; text-decoration-color: #7f7f7f\">:</span><a href=\"file:///Users/stolarczyk/code/refgenie1/refgenie/resource_manager/asset_class/manager.py#71\" target=\"_blank\"><span style=\"color: #7f7f7f; text-decoration-color: #7f7f7f\">71</span></a>\n",
       "</pre>\n"
      ],
      "text/plain": [
       "\u001b[34mINFO    \u001b[0m Registered \u001b[32m'dbsnp'\u001b[0m asset class                                                               \u001b]8;id=580486;file:///Users/stolarczyk/code/refgenie1/refgenie/resource_manager/asset_class/manager.py\u001b\\\u001b[2mmanager.py\u001b[0m\u001b]8;;\u001b\\\u001b[2m:\u001b[0m\u001b]8;id=940413;file:///Users/stolarczyk/code/refgenie1/refgenie/resource_manager/asset_class/manager.py#71\u001b\\\u001b[2m71\u001b[0m\u001b]8;;\u001b\\\n"
      ]
     },
     "metadata": {},
     "output_type": "display_data"
    },
    {
     "data": {
      "text/html": [
       "<pre style=\"white-space:pre;overflow-x:auto;line-height:normal;font-family:Menlo,'DejaVu Sans Mono',consolas,'Courier New',monospace\"><span style=\"color: #000080; text-decoration-color: #000080\">INFO    </span> Registered <span style=\"color: #008000; text-decoration-color: #008000\">'ensembl_rb'</span> asset class                                                          <a href=\"file:///Users/stolarczyk/code/refgenie1/refgenie/resource_manager/asset_class/manager.py\" target=\"_blank\"><span style=\"color: #7f7f7f; text-decoration-color: #7f7f7f\">manager.py</span></a><span style=\"color: #7f7f7f; text-decoration-color: #7f7f7f\">:</span><a href=\"file:///Users/stolarczyk/code/refgenie1/refgenie/resource_manager/asset_class/manager.py#71\" target=\"_blank\"><span style=\"color: #7f7f7f; text-decoration-color: #7f7f7f\">71</span></a>\n",
       "</pre>\n"
      ],
      "text/plain": [
       "\u001b[34mINFO    \u001b[0m Registered \u001b[32m'ensembl_rb'\u001b[0m asset class                                                          \u001b]8;id=382139;file:///Users/stolarczyk/code/refgenie1/refgenie/resource_manager/asset_class/manager.py\u001b\\\u001b[2mmanager.py\u001b[0m\u001b]8;;\u001b\\\u001b[2m:\u001b[0m\u001b]8;id=860401;file:///Users/stolarczyk/code/refgenie1/refgenie/resource_manager/asset_class/manager.py#71\u001b\\\u001b[2m71\u001b[0m\u001b]8;;\u001b\\\n"
      ]
     },
     "metadata": {},
     "output_type": "display_data"
    },
    {
     "data": {
      "text/html": [
       "<pre style=\"white-space:pre;overflow-x:auto;line-height:normal;font-family:Menlo,'DejaVu Sans Mono',consolas,'Courier New',monospace\"><span style=\"color: #000080; text-decoration-color: #000080\">INFO    </span> Registered <span style=\"color: #008000; text-decoration-color: #008000\">'epilog_index'</span> asset class                                                        <a href=\"file:///Users/stolarczyk/code/refgenie1/refgenie/resource_manager/asset_class/manager.py\" target=\"_blank\"><span style=\"color: #7f7f7f; text-decoration-color: #7f7f7f\">manager.py</span></a><span style=\"color: #7f7f7f; text-decoration-color: #7f7f7f\">:</span><a href=\"file:///Users/stolarczyk/code/refgenie1/refgenie/resource_manager/asset_class/manager.py#71\" target=\"_blank\"><span style=\"color: #7f7f7f; text-decoration-color: #7f7f7f\">71</span></a>\n",
       "</pre>\n"
      ],
      "text/plain": [
       "\u001b[34mINFO    \u001b[0m Registered \u001b[32m'epilog_index'\u001b[0m asset class                                                        \u001b]8;id=446561;file:///Users/stolarczyk/code/refgenie1/refgenie/resource_manager/asset_class/manager.py\u001b\\\u001b[2mmanager.py\u001b[0m\u001b]8;;\u001b\\\u001b[2m:\u001b[0m\u001b]8;id=568669;file:///Users/stolarczyk/code/refgenie1/refgenie/resource_manager/asset_class/manager.py#71\u001b\\\u001b[2m71\u001b[0m\u001b]8;;\u001b\\\n"
      ]
     },
     "metadata": {},
     "output_type": "display_data"
    },
    {
     "data": {
      "text/html": [
       "<pre style=\"white-space:pre;overflow-x:auto;line-height:normal;font-family:Menlo,'DejaVu Sans Mono',consolas,'Courier New',monospace\">Asset class <span style=\"color: #008000; text-decoration-color: #008000\">'fasta'</span> version <span style=\"color: #008000; text-decoration-color: #008000\">'0.0.1'</span> already exists.\n",
       "</pre>\n"
      ],
      "text/plain": [
       "Asset class \u001b[32m'fasta'\u001b[0m version \u001b[32m'0.0.1'\u001b[0m already exists.\n"
      ]
     },
     "metadata": {},
     "output_type": "display_data"
    },
    {
     "data": {
      "text/html": [
       "<pre style=\"white-space:pre;overflow-x:auto;line-height:normal;font-family:Menlo,'DejaVu Sans Mono',consolas,'Courier New',monospace\"><span style=\"color: #000080; text-decoration-color: #000080\">INFO    </span> Registered <span style=\"color: #008000; text-decoration-color: #008000\">'feat_annotation'</span> asset class                                                     <a href=\"file:///Users/stolarczyk/code/refgenie1/refgenie/resource_manager/asset_class/manager.py\" target=\"_blank\"><span style=\"color: #7f7f7f; text-decoration-color: #7f7f7f\">manager.py</span></a><span style=\"color: #7f7f7f; text-decoration-color: #7f7f7f\">:</span><a href=\"file:///Users/stolarczyk/code/refgenie1/refgenie/resource_manager/asset_class/manager.py#71\" target=\"_blank\"><span style=\"color: #7f7f7f; text-decoration-color: #7f7f7f\">71</span></a>\n",
       "</pre>\n"
      ],
      "text/plain": [
       "\u001b[34mINFO    \u001b[0m Registered \u001b[32m'feat_annotation'\u001b[0m asset class                                                     \u001b]8;id=86332;file:///Users/stolarczyk/code/refgenie1/refgenie/resource_manager/asset_class/manager.py\u001b\\\u001b[2mmanager.py\u001b[0m\u001b]8;;\u001b\\\u001b[2m:\u001b[0m\u001b]8;id=26612;file:///Users/stolarczyk/code/refgenie1/refgenie/resource_manager/asset_class/manager.py#71\u001b\\\u001b[2m71\u001b[0m\u001b]8;;\u001b\\\n"
      ]
     },
     "metadata": {},
     "output_type": "display_data"
    },
    {
     "data": {
      "text/html": [
       "<pre style=\"white-space:pre;overflow-x:auto;line-height:normal;font-family:Menlo,'DejaVu Sans Mono',consolas,'Courier New',monospace\"><span style=\"color: #000080; text-decoration-color: #000080\">INFO    </span> Registered <span style=\"color: #008000; text-decoration-color: #008000\">'gtf'</span> asset class                                                                 <a href=\"file:///Users/stolarczyk/code/refgenie1/refgenie/resource_manager/asset_class/manager.py\" target=\"_blank\"><span style=\"color: #7f7f7f; text-decoration-color: #7f7f7f\">manager.py</span></a><span style=\"color: #7f7f7f; text-decoration-color: #7f7f7f\">:</span><a href=\"file:///Users/stolarczyk/code/refgenie1/refgenie/resource_manager/asset_class/manager.py#71\" target=\"_blank\"><span style=\"color: #7f7f7f; text-decoration-color: #7f7f7f\">71</span></a>\n",
       "</pre>\n"
      ],
      "text/plain": [
       "\u001b[34mINFO    \u001b[0m Registered \u001b[32m'gtf'\u001b[0m asset class                                                                 \u001b]8;id=704522;file:///Users/stolarczyk/code/refgenie1/refgenie/resource_manager/asset_class/manager.py\u001b\\\u001b[2mmanager.py\u001b[0m\u001b]8;;\u001b\\\u001b[2m:\u001b[0m\u001b]8;id=950764;file:///Users/stolarczyk/code/refgenie1/refgenie/resource_manager/asset_class/manager.py#71\u001b\\\u001b[2m71\u001b[0m\u001b]8;;\u001b\\\n"
      ]
     },
     "metadata": {},
     "output_type": "display_data"
    },
    {
     "data": {
      "text/html": [
       "<pre style=\"white-space:pre;overflow-x:auto;line-height:normal;font-family:Menlo,'DejaVu Sans Mono',consolas,'Courier New',monospace\"><span style=\"color: #000080; text-decoration-color: #000080\">INFO    </span> Registered <span style=\"color: #008000; text-decoration-color: #008000\">'hisat2_index'</span> asset class                                                        <a href=\"file:///Users/stolarczyk/code/refgenie1/refgenie/resource_manager/asset_class/manager.py\" target=\"_blank\"><span style=\"color: #7f7f7f; text-decoration-color: #7f7f7f\">manager.py</span></a><span style=\"color: #7f7f7f; text-decoration-color: #7f7f7f\">:</span><a href=\"file:///Users/stolarczyk/code/refgenie1/refgenie/resource_manager/asset_class/manager.py#71\" target=\"_blank\"><span style=\"color: #7f7f7f; text-decoration-color: #7f7f7f\">71</span></a>\n",
       "</pre>\n"
      ],
      "text/plain": [
       "\u001b[34mINFO    \u001b[0m Registered \u001b[32m'hisat2_index'\u001b[0m asset class                                                        \u001b]8;id=161001;file:///Users/stolarczyk/code/refgenie1/refgenie/resource_manager/asset_class/manager.py\u001b\\\u001b[2mmanager.py\u001b[0m\u001b]8;;\u001b\\\u001b[2m:\u001b[0m\u001b]8;id=53232;file:///Users/stolarczyk/code/refgenie1/refgenie/resource_manager/asset_class/manager.py#71\u001b\\\u001b[2m71\u001b[0m\u001b]8;;\u001b\\\n"
      ]
     },
     "metadata": {},
     "output_type": "display_data"
    },
    {
     "data": {
      "text/html": [
       "<pre style=\"white-space:pre;overflow-x:auto;line-height:normal;font-family:Menlo,'DejaVu Sans Mono',consolas,'Courier New',monospace\"><span style=\"color: #000080; text-decoration-color: #000080\">INFO    </span> Registered <span style=\"color: #008000; text-decoration-color: #008000\">'kallisto_index'</span> asset class                                                      <a href=\"file:///Users/stolarczyk/code/refgenie1/refgenie/resource_manager/asset_class/manager.py\" target=\"_blank\"><span style=\"color: #7f7f7f; text-decoration-color: #7f7f7f\">manager.py</span></a><span style=\"color: #7f7f7f; text-decoration-color: #7f7f7f\">:</span><a href=\"file:///Users/stolarczyk/code/refgenie1/refgenie/resource_manager/asset_class/manager.py#71\" target=\"_blank\"><span style=\"color: #7f7f7f; text-decoration-color: #7f7f7f\">71</span></a>\n",
       "</pre>\n"
      ],
      "text/plain": [
       "\u001b[34mINFO    \u001b[0m Registered \u001b[32m'kallisto_index'\u001b[0m asset class                                                      \u001b]8;id=509078;file:///Users/stolarczyk/code/refgenie1/refgenie/resource_manager/asset_class/manager.py\u001b\\\u001b[2mmanager.py\u001b[0m\u001b]8;;\u001b\\\u001b[2m:\u001b[0m\u001b]8;id=28648;file:///Users/stolarczyk/code/refgenie1/refgenie/resource_manager/asset_class/manager.py#71\u001b\\\u001b[2m71\u001b[0m\u001b]8;;\u001b\\\n"
      ]
     },
     "metadata": {},
     "output_type": "display_data"
    },
    {
     "data": {
      "text/html": [
       "<pre style=\"white-space:pre;overflow-x:auto;line-height:normal;font-family:Menlo,'DejaVu Sans Mono',consolas,'Courier New',monospace\"><span style=\"color: #000080; text-decoration-color: #000080\">INFO    </span> Registered <span style=\"color: #008000; text-decoration-color: #008000\">'refgene_anno'</span> asset class                                                        <a href=\"file:///Users/stolarczyk/code/refgenie1/refgenie/resource_manager/asset_class/manager.py\" target=\"_blank\"><span style=\"color: #7f7f7f; text-decoration-color: #7f7f7f\">manager.py</span></a><span style=\"color: #7f7f7f; text-decoration-color: #7f7f7f\">:</span><a href=\"file:///Users/stolarczyk/code/refgenie1/refgenie/resource_manager/asset_class/manager.py#71\" target=\"_blank\"><span style=\"color: #7f7f7f; text-decoration-color: #7f7f7f\">71</span></a>\n",
       "</pre>\n"
      ],
      "text/plain": [
       "\u001b[34mINFO    \u001b[0m Registered \u001b[32m'refgene_anno'\u001b[0m asset class                                                        \u001b]8;id=603509;file:///Users/stolarczyk/code/refgenie1/refgenie/resource_manager/asset_class/manager.py\u001b\\\u001b[2mmanager.py\u001b[0m\u001b]8;;\u001b\\\u001b[2m:\u001b[0m\u001b]8;id=892176;file:///Users/stolarczyk/code/refgenie1/refgenie/resource_manager/asset_class/manager.py#71\u001b\\\u001b[2m71\u001b[0m\u001b]8;;\u001b\\\n"
      ]
     },
     "metadata": {},
     "output_type": "display_data"
    },
    {
     "data": {
      "text/html": [
       "<pre style=\"white-space:pre;overflow-x:auto;line-height:normal;font-family:Menlo,'DejaVu Sans Mono',consolas,'Courier New',monospace\"><span style=\"color: #000080; text-decoration-color: #000080\">INFO    </span> Registered <span style=\"color: #008000; text-decoration-color: #008000\">'salmon_index'</span> asset class                                                        <a href=\"file:///Users/stolarczyk/code/refgenie1/refgenie/resource_manager/asset_class/manager.py\" target=\"_blank\"><span style=\"color: #7f7f7f; text-decoration-color: #7f7f7f\">manager.py</span></a><span style=\"color: #7f7f7f; text-decoration-color: #7f7f7f\">:</span><a href=\"file:///Users/stolarczyk/code/refgenie1/refgenie/resource_manager/asset_class/manager.py#71\" target=\"_blank\"><span style=\"color: #7f7f7f; text-decoration-color: #7f7f7f\">71</span></a>\n",
       "</pre>\n"
      ],
      "text/plain": [
       "\u001b[34mINFO    \u001b[0m Registered \u001b[32m'salmon_index'\u001b[0m asset class                                                        \u001b]8;id=59036;file:///Users/stolarczyk/code/refgenie1/refgenie/resource_manager/asset_class/manager.py\u001b\\\u001b[2mmanager.py\u001b[0m\u001b]8;;\u001b\\\u001b[2m:\u001b[0m\u001b]8;id=879277;file:///Users/stolarczyk/code/refgenie1/refgenie/resource_manager/asset_class/manager.py#71\u001b\\\u001b[2m71\u001b[0m\u001b]8;;\u001b\\\n"
      ]
     },
     "metadata": {},
     "output_type": "display_data"
    },
    {
     "data": {
      "text/html": [
       "<pre style=\"white-space:pre;overflow-x:auto;line-height:normal;font-family:Menlo,'DejaVu Sans Mono',consolas,'Courier New',monospace\"><span style=\"color: #000080; text-decoration-color: #000080\">INFO    </span> Registered <span style=\"color: #008000; text-decoration-color: #008000\">'salmon_partial_sa_index'</span> asset class                                             <a href=\"file:///Users/stolarczyk/code/refgenie1/refgenie/resource_manager/asset_class/manager.py\" target=\"_blank\"><span style=\"color: #7f7f7f; text-decoration-color: #7f7f7f\">manager.py</span></a><span style=\"color: #7f7f7f; text-decoration-color: #7f7f7f\">:</span><a href=\"file:///Users/stolarczyk/code/refgenie1/refgenie/resource_manager/asset_class/manager.py#71\" target=\"_blank\"><span style=\"color: #7f7f7f; text-decoration-color: #7f7f7f\">71</span></a>\n",
       "</pre>\n"
      ],
      "text/plain": [
       "\u001b[34mINFO    \u001b[0m Registered \u001b[32m'salmon_partial_sa_index'\u001b[0m asset class                                             \u001b]8;id=698960;file:///Users/stolarczyk/code/refgenie1/refgenie/resource_manager/asset_class/manager.py\u001b\\\u001b[2mmanager.py\u001b[0m\u001b]8;;\u001b\\\u001b[2m:\u001b[0m\u001b]8;id=387921;file:///Users/stolarczyk/code/refgenie1/refgenie/resource_manager/asset_class/manager.py#71\u001b\\\u001b[2m71\u001b[0m\u001b]8;;\u001b\\\n"
      ]
     },
     "metadata": {},
     "output_type": "display_data"
    },
    {
     "data": {
      "text/html": [
       "<pre style=\"white-space:pre;overflow-x:auto;line-height:normal;font-family:Menlo,'DejaVu Sans Mono',consolas,'Courier New',monospace\"><span style=\"color: #000080; text-decoration-color: #000080\">INFO    </span> Registered <span style=\"color: #008000; text-decoration-color: #008000\">'salmon_sa_index'</span> asset class                                                     <a href=\"file:///Users/stolarczyk/code/refgenie1/refgenie/resource_manager/asset_class/manager.py\" target=\"_blank\"><span style=\"color: #7f7f7f; text-decoration-color: #7f7f7f\">manager.py</span></a><span style=\"color: #7f7f7f; text-decoration-color: #7f7f7f\">:</span><a href=\"file:///Users/stolarczyk/code/refgenie1/refgenie/resource_manager/asset_class/manager.py#71\" target=\"_blank\"><span style=\"color: #7f7f7f; text-decoration-color: #7f7f7f\">71</span></a>\n",
       "</pre>\n"
      ],
      "text/plain": [
       "\u001b[34mINFO    \u001b[0m Registered \u001b[32m'salmon_sa_index'\u001b[0m asset class                                                     \u001b]8;id=398923;file:///Users/stolarczyk/code/refgenie1/refgenie/resource_manager/asset_class/manager.py\u001b\\\u001b[2mmanager.py\u001b[0m\u001b]8;;\u001b\\\u001b[2m:\u001b[0m\u001b]8;id=396985;file:///Users/stolarczyk/code/refgenie1/refgenie/resource_manager/asset_class/manager.py#71\u001b\\\u001b[2m71\u001b[0m\u001b]8;;\u001b\\\n"
      ]
     },
     "metadata": {},
     "output_type": "display_data"
    },
    {
     "data": {
      "text/html": [
       "<pre style=\"white-space:pre;overflow-x:auto;line-height:normal;font-family:Menlo,'DejaVu Sans Mono',consolas,'Courier New',monospace\"><span style=\"color: #000080; text-decoration-color: #000080\">INFO    </span> Registered <span style=\"color: #008000; text-decoration-color: #008000\">'small_rna'</span> asset class                                                           <a href=\"file:///Users/stolarczyk/code/refgenie1/refgenie/resource_manager/asset_class/manager.py\" target=\"_blank\"><span style=\"color: #7f7f7f; text-decoration-color: #7f7f7f\">manager.py</span></a><span style=\"color: #7f7f7f; text-decoration-color: #7f7f7f\">:</span><a href=\"file:///Users/stolarczyk/code/refgenie1/refgenie/resource_manager/asset_class/manager.py#71\" target=\"_blank\"><span style=\"color: #7f7f7f; text-decoration-color: #7f7f7f\">71</span></a>\n",
       "</pre>\n"
      ],
      "text/plain": [
       "\u001b[34mINFO    \u001b[0m Registered \u001b[32m'small_rna'\u001b[0m asset class                                                           \u001b]8;id=365615;file:///Users/stolarczyk/code/refgenie1/refgenie/resource_manager/asset_class/manager.py\u001b\\\u001b[2mmanager.py\u001b[0m\u001b]8;;\u001b\\\u001b[2m:\u001b[0m\u001b]8;id=399086;file:///Users/stolarczyk/code/refgenie1/refgenie/resource_manager/asset_class/manager.py#71\u001b\\\u001b[2m71\u001b[0m\u001b]8;;\u001b\\\n"
      ]
     },
     "metadata": {},
     "output_type": "display_data"
    },
    {
     "data": {
      "text/html": [
       "<pre style=\"white-space:pre;overflow-x:auto;line-height:normal;font-family:Menlo,'DejaVu Sans Mono',consolas,'Courier New',monospace\"><span style=\"color: #000080; text-decoration-color: #000080\">INFO    </span> Registered <span style=\"color: #008000; text-decoration-color: #008000\">'star_index'</span> asset class                                                          <a href=\"file:///Users/stolarczyk/code/refgenie1/refgenie/resource_manager/asset_class/manager.py\" target=\"_blank\"><span style=\"color: #7f7f7f; text-decoration-color: #7f7f7f\">manager.py</span></a><span style=\"color: #7f7f7f; text-decoration-color: #7f7f7f\">:</span><a href=\"file:///Users/stolarczyk/code/refgenie1/refgenie/resource_manager/asset_class/manager.py#71\" target=\"_blank\"><span style=\"color: #7f7f7f; text-decoration-color: #7f7f7f\">71</span></a>\n",
       "</pre>\n"
      ],
      "text/plain": [
       "\u001b[34mINFO    \u001b[0m Registered \u001b[32m'star_index'\u001b[0m asset class                                                          \u001b]8;id=924660;file:///Users/stolarczyk/code/refgenie1/refgenie/resource_manager/asset_class/manager.py\u001b\\\u001b[2mmanager.py\u001b[0m\u001b]8;;\u001b\\\u001b[2m:\u001b[0m\u001b]8;id=395617;file:///Users/stolarczyk/code/refgenie1/refgenie/resource_manager/asset_class/manager.py#71\u001b\\\u001b[2m71\u001b[0m\u001b]8;;\u001b\\\n"
      ]
     },
     "metadata": {},
     "output_type": "display_data"
    },
    {
     "data": {
      "text/html": [
       "<pre style=\"white-space:pre;overflow-x:auto;line-height:normal;font-family:Menlo,'DejaVu Sans Mono',consolas,'Courier New',monospace\"><span style=\"color: #000080; text-decoration-color: #000080\">INFO    </span> Registered <span style=\"color: #008000; text-decoration-color: #008000\">'suffixerator_index'</span> asset class                                                  <a href=\"file:///Users/stolarczyk/code/refgenie1/refgenie/resource_manager/asset_class/manager.py\" target=\"_blank\"><span style=\"color: #7f7f7f; text-decoration-color: #7f7f7f\">manager.py</span></a><span style=\"color: #7f7f7f; text-decoration-color: #7f7f7f\">:</span><a href=\"file:///Users/stolarczyk/code/refgenie1/refgenie/resource_manager/asset_class/manager.py#71\" target=\"_blank\"><span style=\"color: #7f7f7f; text-decoration-color: #7f7f7f\">71</span></a>\n",
       "</pre>\n"
      ],
      "text/plain": [
       "\u001b[34mINFO    \u001b[0m Registered \u001b[32m'suffixerator_index'\u001b[0m asset class                                                  \u001b]8;id=665239;file:///Users/stolarczyk/code/refgenie1/refgenie/resource_manager/asset_class/manager.py\u001b\\\u001b[2mmanager.py\u001b[0m\u001b]8;;\u001b\\\u001b[2m:\u001b[0m\u001b]8;id=675781;file:///Users/stolarczyk/code/refgenie1/refgenie/resource_manager/asset_class/manager.py#71\u001b\\\u001b[2m71\u001b[0m\u001b]8;;\u001b\\\n"
      ]
     },
     "metadata": {},
     "output_type": "display_data"
    },
    {
     "data": {
      "text/html": [
       "<pre style=\"white-space:pre;overflow-x:auto;line-height:normal;font-family:Menlo,'DejaVu Sans Mono',consolas,'Courier New',monospace\"><span style=\"color: #000080; text-decoration-color: #000080\">INFO    </span> Registered <span style=\"color: #008000; text-decoration-color: #008000\">'tallymer_index'</span> asset class                                                      <a href=\"file:///Users/stolarczyk/code/refgenie1/refgenie/resource_manager/asset_class/manager.py\" target=\"_blank\"><span style=\"color: #7f7f7f; text-decoration-color: #7f7f7f\">manager.py</span></a><span style=\"color: #7f7f7f; text-decoration-color: #7f7f7f\">:</span><a href=\"file:///Users/stolarczyk/code/refgenie1/refgenie/resource_manager/asset_class/manager.py#71\" target=\"_blank\"><span style=\"color: #7f7f7f; text-decoration-color: #7f7f7f\">71</span></a>\n",
       "</pre>\n"
      ],
      "text/plain": [
       "\u001b[34mINFO    \u001b[0m Registered \u001b[32m'tallymer_index'\u001b[0m asset class                                                      \u001b]8;id=597609;file:///Users/stolarczyk/code/refgenie1/refgenie/resource_manager/asset_class/manager.py\u001b\\\u001b[2mmanager.py\u001b[0m\u001b]8;;\u001b\\\u001b[2m:\u001b[0m\u001b]8;id=300863;file:///Users/stolarczyk/code/refgenie1/refgenie/resource_manager/asset_class/manager.py#71\u001b\\\u001b[2m71\u001b[0m\u001b]8;;\u001b\\\n"
      ]
     },
     "metadata": {},
     "output_type": "display_data"
    },
    {
     "data": {
      "text/html": [
       "<pre style=\"white-space:pre;overflow-x:auto;line-height:normal;font-family:Menlo,'DejaVu Sans Mono',consolas,'Courier New',monospace\"><span style=\"color: #000080; text-decoration-color: #000080\">INFO    </span> Registered <span style=\"color: #008000; text-decoration-color: #008000\">'tgMap'</span> asset class                                                               <a href=\"file:///Users/stolarczyk/code/refgenie1/refgenie/resource_manager/asset_class/manager.py\" target=\"_blank\"><span style=\"color: #7f7f7f; text-decoration-color: #7f7f7f\">manager.py</span></a><span style=\"color: #7f7f7f; text-decoration-color: #7f7f7f\">:</span><a href=\"file:///Users/stolarczyk/code/refgenie1/refgenie/resource_manager/asset_class/manager.py#71\" target=\"_blank\"><span style=\"color: #7f7f7f; text-decoration-color: #7f7f7f\">71</span></a>\n",
       "</pre>\n"
      ],
      "text/plain": [
       "\u001b[34mINFO    \u001b[0m Registered \u001b[32m'tgMap'\u001b[0m asset class                                                               \u001b]8;id=74433;file:///Users/stolarczyk/code/refgenie1/refgenie/resource_manager/asset_class/manager.py\u001b\\\u001b[2mmanager.py\u001b[0m\u001b]8;;\u001b\\\u001b[2m:\u001b[0m\u001b]8;id=978505;file:///Users/stolarczyk/code/refgenie1/refgenie/resource_manager/asset_class/manager.py#71\u001b\\\u001b[2m71\u001b[0m\u001b]8;;\u001b\\\n"
      ]
     },
     "metadata": {},
     "output_type": "display_data"
    },
    {
     "data": {
      "text/html": [
       "<pre style=\"white-space:pre;overflow-x:auto;line-height:normal;font-family:Menlo,'DejaVu Sans Mono',consolas,'Courier New',monospace\"><span style=\"color: #000080; text-decoration-color: #000080\">INFO    </span> HTTP Request: <span style=\"color: #808000; text-decoration-color: #808000; font-weight: bold\">GET</span> <span style=\"color: #0000ff; text-decoration-color: #0000ff; text-decoration: underline\">https://refgenie.github.io/recipes/index.yaml</span> <span style=\"color: #008000; text-decoration-color: #008000\">\"HTTP/1.1 200 OK\"</span>          <a href=\"file:///Users/stolarczyk/code/refgenie1/.venv/lib/python3.12/site-packages/httpx/_client.py\" target=\"_blank\"><span style=\"color: #7f7f7f; text-decoration-color: #7f7f7f\">_client.py</span></a><span style=\"color: #7f7f7f; text-decoration-color: #7f7f7f\">:</span><a href=\"file:///Users/stolarczyk/code/refgenie1/.venv/lib/python3.12/site-packages/httpx/_client.py#1027\" target=\"_blank\"><span style=\"color: #7f7f7f; text-decoration-color: #7f7f7f\">1027</span></a>\n",
       "</pre>\n"
      ],
      "text/plain": [
       "\u001b[34mINFO    \u001b[0m HTTP Request: \u001b[1;33mGET\u001b[0m \u001b[4;94mhttps://refgenie.github.io/recipes/index.yaml\u001b[0m \u001b[32m\"HTTP/1.1 200 OK\"\u001b[0m          \u001b]8;id=269866;file:///Users/stolarczyk/code/refgenie1/.venv/lib/python3.12/site-packages/httpx/_client.py\u001b\\\u001b[2m_client.py\u001b[0m\u001b]8;;\u001b\\\u001b[2m:\u001b[0m\u001b]8;id=417477;file:///Users/stolarczyk/code/refgenie1/.venv/lib/python3.12/site-packages/httpx/_client.py#1027\u001b\\\u001b[2m1027\u001b[0m\u001b]8;;\u001b\\\n"
      ]
     },
     "metadata": {},
     "output_type": "display_data"
    },
    {
     "data": {
      "text/html": [
       "<pre style=\"white-space:pre;overflow-x:auto;line-height:normal;font-family:Menlo,'DejaVu Sans Mono',consolas,'Courier New',monospace\"><span style=\"color: #000080; text-decoration-color: #000080\">INFO    </span> Registered <span style=\"color: #008000; text-decoration-color: #008000\">'abundant_sequences'</span> recipe                                                      <a href=\"file:///Users/stolarczyk/code/refgenie1/refgenie/resource_manager/recipe/manager.py\" target=\"_blank\"><span style=\"color: #7f7f7f; text-decoration-color: #7f7f7f\">manager.py</span></a><span style=\"color: #7f7f7f; text-decoration-color: #7f7f7f\">:</span><a href=\"file:///Users/stolarczyk/code/refgenie1/refgenie/resource_manager/recipe/manager.py#113\" target=\"_blank\"><span style=\"color: #7f7f7f; text-decoration-color: #7f7f7f\">113</span></a>\n",
       "</pre>\n"
      ],
      "text/plain": [
       "\u001b[34mINFO    \u001b[0m Registered \u001b[32m'abundant_sequences'\u001b[0m recipe                                                      \u001b]8;id=415533;file:///Users/stolarczyk/code/refgenie1/refgenie/resource_manager/recipe/manager.py\u001b\\\u001b[2mmanager.py\u001b[0m\u001b]8;;\u001b\\\u001b[2m:\u001b[0m\u001b]8;id=523072;file:///Users/stolarczyk/code/refgenie1/refgenie/resource_manager/recipe/manager.py#113\u001b\\\u001b[2m113\u001b[0m\u001b]8;;\u001b\\\n"
      ]
     },
     "metadata": {},
     "output_type": "display_data"
    },
    {
     "data": {
      "text/html": [
       "<pre style=\"white-space:pre;overflow-x:auto;line-height:normal;font-family:Menlo,'DejaVu Sans Mono',consolas,'Courier New',monospace\"><span style=\"color: #000080; text-decoration-color: #000080\">INFO    </span> Registered <span style=\"color: #008000; text-decoration-color: #008000\">'bed12'</span> recipe                                                                   <a href=\"file:///Users/stolarczyk/code/refgenie1/refgenie/resource_manager/recipe/manager.py\" target=\"_blank\"><span style=\"color: #7f7f7f; text-decoration-color: #7f7f7f\">manager.py</span></a><span style=\"color: #7f7f7f; text-decoration-color: #7f7f7f\">:</span><a href=\"file:///Users/stolarczyk/code/refgenie1/refgenie/resource_manager/recipe/manager.py#113\" target=\"_blank\"><span style=\"color: #7f7f7f; text-decoration-color: #7f7f7f\">113</span></a>\n",
       "</pre>\n"
      ],
      "text/plain": [
       "\u001b[34mINFO    \u001b[0m Registered \u001b[32m'bed12'\u001b[0m recipe                                                                   \u001b]8;id=831632;file:///Users/stolarczyk/code/refgenie1/refgenie/resource_manager/recipe/manager.py\u001b\\\u001b[2mmanager.py\u001b[0m\u001b]8;;\u001b\\\u001b[2m:\u001b[0m\u001b]8;id=669102;file:///Users/stolarczyk/code/refgenie1/refgenie/resource_manager/recipe/manager.py#113\u001b\\\u001b[2m113\u001b[0m\u001b]8;;\u001b\\\n"
      ]
     },
     "metadata": {},
     "output_type": "display_data"
    },
    {
     "data": {
      "text/html": [
       "<pre style=\"white-space:pre;overflow-x:auto;line-height:normal;font-family:Menlo,'DejaVu Sans Mono',consolas,'Courier New',monospace\"><span style=\"color: #000080; text-decoration-color: #000080\">INFO    </span> Registered <span style=\"color: #008000; text-decoration-color: #008000\">'bismark_bt1_index'</span> recipe                                                       <a href=\"file:///Users/stolarczyk/code/refgenie1/refgenie/resource_manager/recipe/manager.py\" target=\"_blank\"><span style=\"color: #7f7f7f; text-decoration-color: #7f7f7f\">manager.py</span></a><span style=\"color: #7f7f7f; text-decoration-color: #7f7f7f\">:</span><a href=\"file:///Users/stolarczyk/code/refgenie1/refgenie/resource_manager/recipe/manager.py#113\" target=\"_blank\"><span style=\"color: #7f7f7f; text-decoration-color: #7f7f7f\">113</span></a>\n",
       "</pre>\n"
      ],
      "text/plain": [
       "\u001b[34mINFO    \u001b[0m Registered \u001b[32m'bismark_bt1_index'\u001b[0m recipe                                                       \u001b]8;id=638020;file:///Users/stolarczyk/code/refgenie1/refgenie/resource_manager/recipe/manager.py\u001b\\\u001b[2mmanager.py\u001b[0m\u001b]8;;\u001b\\\u001b[2m:\u001b[0m\u001b]8;id=287662;file:///Users/stolarczyk/code/refgenie1/refgenie/resource_manager/recipe/manager.py#113\u001b\\\u001b[2m113\u001b[0m\u001b]8;;\u001b\\\n"
      ]
     },
     "metadata": {},
     "output_type": "display_data"
    },
    {
     "data": {
      "text/html": [
       "<pre style=\"white-space:pre;overflow-x:auto;line-height:normal;font-family:Menlo,'DejaVu Sans Mono',consolas,'Courier New',monospace\"><span style=\"color: #000080; text-decoration-color: #000080\">INFO    </span> Registered <span style=\"color: #008000; text-decoration-color: #008000\">'bismark_bt2_index'</span> recipe                                                       <a href=\"file:///Users/stolarczyk/code/refgenie1/refgenie/resource_manager/recipe/manager.py\" target=\"_blank\"><span style=\"color: #7f7f7f; text-decoration-color: #7f7f7f\">manager.py</span></a><span style=\"color: #7f7f7f; text-decoration-color: #7f7f7f\">:</span><a href=\"file:///Users/stolarczyk/code/refgenie1/refgenie/resource_manager/recipe/manager.py#113\" target=\"_blank\"><span style=\"color: #7f7f7f; text-decoration-color: #7f7f7f\">113</span></a>\n",
       "</pre>\n"
      ],
      "text/plain": [
       "\u001b[34mINFO    \u001b[0m Registered \u001b[32m'bismark_bt2_index'\u001b[0m recipe                                                       \u001b]8;id=480269;file:///Users/stolarczyk/code/refgenie1/refgenie/resource_manager/recipe/manager.py\u001b\\\u001b[2mmanager.py\u001b[0m\u001b]8;;\u001b\\\u001b[2m:\u001b[0m\u001b]8;id=240836;file:///Users/stolarczyk/code/refgenie1/refgenie/resource_manager/recipe/manager.py#113\u001b\\\u001b[2m113\u001b[0m\u001b]8;;\u001b\\\n"
      ]
     },
     "metadata": {},
     "output_type": "display_data"
    },
    {
     "data": {
      "text/html": [
       "<pre style=\"white-space:pre;overflow-x:auto;line-height:normal;font-family:Menlo,'DejaVu Sans Mono',consolas,'Courier New',monospace\"><span style=\"color: #000080; text-decoration-color: #000080\">INFO    </span> Registered <span style=\"color: #008000; text-decoration-color: #008000\">'blacklist'</span> recipe                                                               <a href=\"file:///Users/stolarczyk/code/refgenie1/refgenie/resource_manager/recipe/manager.py\" target=\"_blank\"><span style=\"color: #7f7f7f; text-decoration-color: #7f7f7f\">manager.py</span></a><span style=\"color: #7f7f7f; text-decoration-color: #7f7f7f\">:</span><a href=\"file:///Users/stolarczyk/code/refgenie1/refgenie/resource_manager/recipe/manager.py#113\" target=\"_blank\"><span style=\"color: #7f7f7f; text-decoration-color: #7f7f7f\">113</span></a>\n",
       "</pre>\n"
      ],
      "text/plain": [
       "\u001b[34mINFO    \u001b[0m Registered \u001b[32m'blacklist'\u001b[0m recipe                                                               \u001b]8;id=720030;file:///Users/stolarczyk/code/refgenie1/refgenie/resource_manager/recipe/manager.py\u001b\\\u001b[2mmanager.py\u001b[0m\u001b]8;;\u001b\\\u001b[2m:\u001b[0m\u001b]8;id=370462;file:///Users/stolarczyk/code/refgenie1/refgenie/resource_manager/recipe/manager.py#113\u001b\\\u001b[2m113\u001b[0m\u001b]8;;\u001b\\\n"
      ]
     },
     "metadata": {},
     "output_type": "display_data"
    },
    {
     "data": {
      "text/html": [
       "<pre style=\"white-space:pre;overflow-x:auto;line-height:normal;font-family:Menlo,'DejaVu Sans Mono',consolas,'Courier New',monospace\"><span style=\"color: #000080; text-decoration-color: #000080\">INFO    </span> Registered <span style=\"color: #008000; text-decoration-color: #008000\">'bowtie1_index'</span> recipe                                                           <a href=\"file:///Users/stolarczyk/code/refgenie1/refgenie/resource_manager/recipe/manager.py\" target=\"_blank\"><span style=\"color: #7f7f7f; text-decoration-color: #7f7f7f\">manager.py</span></a><span style=\"color: #7f7f7f; text-decoration-color: #7f7f7f\">:</span><a href=\"file:///Users/stolarczyk/code/refgenie1/refgenie/resource_manager/recipe/manager.py#113\" target=\"_blank\"><span style=\"color: #7f7f7f; text-decoration-color: #7f7f7f\">113</span></a>\n",
       "</pre>\n"
      ],
      "text/plain": [
       "\u001b[34mINFO    \u001b[0m Registered \u001b[32m'bowtie1_index'\u001b[0m recipe                                                           \u001b]8;id=455458;file:///Users/stolarczyk/code/refgenie1/refgenie/resource_manager/recipe/manager.py\u001b\\\u001b[2mmanager.py\u001b[0m\u001b]8;;\u001b\\\u001b[2m:\u001b[0m\u001b]8;id=626561;file:///Users/stolarczyk/code/refgenie1/refgenie/resource_manager/recipe/manager.py#113\u001b\\\u001b[2m113\u001b[0m\u001b]8;;\u001b\\\n"
      ]
     },
     "metadata": {},
     "output_type": "display_data"
    },
    {
     "data": {
      "text/html": [
       "<pre style=\"white-space:pre;overflow-x:auto;line-height:normal;font-family:Menlo,'DejaVu Sans Mono',consolas,'Courier New',monospace\">Recipe <span style=\"color: #008000; text-decoration-color: #008000\">'bowtie2_index'</span> version <span style=\"color: #008000; text-decoration-color: #008000\">'0.0.1'</span> already exists.\n",
       "</pre>\n"
      ],
      "text/plain": [
       "Recipe \u001b[32m'bowtie2_index'\u001b[0m version \u001b[32m'0.0.1'\u001b[0m already exists.\n"
      ]
     },
     "metadata": {},
     "output_type": "display_data"
    },
    {
     "data": {
      "text/html": [
       "<pre style=\"white-space:pre;overflow-x:auto;line-height:normal;font-family:Menlo,'DejaVu Sans Mono',consolas,'Courier New',monospace\"><span style=\"color: #000080; text-decoration-color: #000080\">INFO    </span> Registered <span style=\"color: #008000; text-decoration-color: #008000\">'bwa_index'</span> recipe                                                               <a href=\"file:///Users/stolarczyk/code/refgenie1/refgenie/resource_manager/recipe/manager.py\" target=\"_blank\"><span style=\"color: #7f7f7f; text-decoration-color: #7f7f7f\">manager.py</span></a><span style=\"color: #7f7f7f; text-decoration-color: #7f7f7f\">:</span><a href=\"file:///Users/stolarczyk/code/refgenie1/refgenie/resource_manager/recipe/manager.py#113\" target=\"_blank\"><span style=\"color: #7f7f7f; text-decoration-color: #7f7f7f\">113</span></a>\n",
       "</pre>\n"
      ],
      "text/plain": [
       "\u001b[34mINFO    \u001b[0m Registered \u001b[32m'bwa_index'\u001b[0m recipe                                                               \u001b]8;id=880711;file:///Users/stolarczyk/code/refgenie1/refgenie/resource_manager/recipe/manager.py\u001b\\\u001b[2mmanager.py\u001b[0m\u001b]8;;\u001b\\\u001b[2m:\u001b[0m\u001b]8;id=263192;file:///Users/stolarczyk/code/refgenie1/refgenie/resource_manager/recipe/manager.py#113\u001b\\\u001b[2m113\u001b[0m\u001b]8;;\u001b\\\n"
      ]
     },
     "metadata": {},
     "output_type": "display_data"
    },
    {
     "data": {
      "text/html": [
       "<pre style=\"white-space:pre;overflow-x:auto;line-height:normal;font-family:Menlo,'DejaVu Sans Mono',consolas,'Courier New',monospace\"><span style=\"color: #000080; text-decoration-color: #000080\">INFO    </span> Registered <span style=\"color: #008000; text-decoration-color: #008000\">'cellranger_reference'</span> recipe                                                    <a href=\"file:///Users/stolarczyk/code/refgenie1/refgenie/resource_manager/recipe/manager.py\" target=\"_blank\"><span style=\"color: #7f7f7f; text-decoration-color: #7f7f7f\">manager.py</span></a><span style=\"color: #7f7f7f; text-decoration-color: #7f7f7f\">:</span><a href=\"file:///Users/stolarczyk/code/refgenie1/refgenie/resource_manager/recipe/manager.py#113\" target=\"_blank\"><span style=\"color: #7f7f7f; text-decoration-color: #7f7f7f\">113</span></a>\n",
       "</pre>\n"
      ],
      "text/plain": [
       "\u001b[34mINFO    \u001b[0m Registered \u001b[32m'cellranger_reference'\u001b[0m recipe                                                    \u001b]8;id=798583;file:///Users/stolarczyk/code/refgenie1/refgenie/resource_manager/recipe/manager.py\u001b\\\u001b[2mmanager.py\u001b[0m\u001b]8;;\u001b\\\u001b[2m:\u001b[0m\u001b]8;id=864124;file:///Users/stolarczyk/code/refgenie1/refgenie/resource_manager/recipe/manager.py#113\u001b\\\u001b[2m113\u001b[0m\u001b]8;;\u001b\\\n"
      ]
     },
     "metadata": {},
     "output_type": "display_data"
    },
    {
     "data": {
      "text/html": [
       "<pre style=\"white-space:pre;overflow-x:auto;line-height:normal;font-family:Menlo,'DejaVu Sans Mono',consolas,'Courier New',monospace\"><span style=\"color: #000080; text-decoration-color: #000080\">INFO    </span> Registered <span style=\"color: #008000; text-decoration-color: #008000\">'dbnsfp'</span> recipe                                                                  <a href=\"file:///Users/stolarczyk/code/refgenie1/refgenie/resource_manager/recipe/manager.py\" target=\"_blank\"><span style=\"color: #7f7f7f; text-decoration-color: #7f7f7f\">manager.py</span></a><span style=\"color: #7f7f7f; text-decoration-color: #7f7f7f\">:</span><a href=\"file:///Users/stolarczyk/code/refgenie1/refgenie/resource_manager/recipe/manager.py#113\" target=\"_blank\"><span style=\"color: #7f7f7f; text-decoration-color: #7f7f7f\">113</span></a>\n",
       "</pre>\n"
      ],
      "text/plain": [
       "\u001b[34mINFO    \u001b[0m Registered \u001b[32m'dbnsfp'\u001b[0m recipe                                                                  \u001b]8;id=995294;file:///Users/stolarczyk/code/refgenie1/refgenie/resource_manager/recipe/manager.py\u001b\\\u001b[2mmanager.py\u001b[0m\u001b]8;;\u001b\\\u001b[2m:\u001b[0m\u001b]8;id=603637;file:///Users/stolarczyk/code/refgenie1/refgenie/resource_manager/recipe/manager.py#113\u001b\\\u001b[2m113\u001b[0m\u001b]8;;\u001b\\\n"
      ]
     },
     "metadata": {},
     "output_type": "display_data"
    },
    {
     "data": {
      "text/html": [
       "<pre style=\"white-space:pre;overflow-x:auto;line-height:normal;font-family:Menlo,'DejaVu Sans Mono',consolas,'Courier New',monospace\"><span style=\"color: #000080; text-decoration-color: #000080\">INFO    </span> Registered <span style=\"color: #008000; text-decoration-color: #008000\">'dbsnp'</span> recipe                                                                   <a href=\"file:///Users/stolarczyk/code/refgenie1/refgenie/resource_manager/recipe/manager.py\" target=\"_blank\"><span style=\"color: #7f7f7f; text-decoration-color: #7f7f7f\">manager.py</span></a><span style=\"color: #7f7f7f; text-decoration-color: #7f7f7f\">:</span><a href=\"file:///Users/stolarczyk/code/refgenie1/refgenie/resource_manager/recipe/manager.py#113\" target=\"_blank\"><span style=\"color: #7f7f7f; text-decoration-color: #7f7f7f\">113</span></a>\n",
       "</pre>\n"
      ],
      "text/plain": [
       "\u001b[34mINFO    \u001b[0m Registered \u001b[32m'dbsnp'\u001b[0m recipe                                                                   \u001b]8;id=769501;file:///Users/stolarczyk/code/refgenie1/refgenie/resource_manager/recipe/manager.py\u001b\\\u001b[2mmanager.py\u001b[0m\u001b]8;;\u001b\\\u001b[2m:\u001b[0m\u001b]8;id=581344;file:///Users/stolarczyk/code/refgenie1/refgenie/resource_manager/recipe/manager.py#113\u001b\\\u001b[2m113\u001b[0m\u001b]8;;\u001b\\\n"
      ]
     },
     "metadata": {},
     "output_type": "display_data"
    },
    {
     "data": {
      "text/html": [
       "<pre style=\"white-space:pre;overflow-x:auto;line-height:normal;font-family:Menlo,'DejaVu Sans Mono',consolas,'Courier New',monospace\"><span style=\"color: #000080; text-decoration-color: #000080\">INFO    </span> Registered <span style=\"color: #008000; text-decoration-color: #008000\">'ensembl_gtf'</span> recipe                                                             <a href=\"file:///Users/stolarczyk/code/refgenie1/refgenie/resource_manager/recipe/manager.py\" target=\"_blank\"><span style=\"color: #7f7f7f; text-decoration-color: #7f7f7f\">manager.py</span></a><span style=\"color: #7f7f7f; text-decoration-color: #7f7f7f\">:</span><a href=\"file:///Users/stolarczyk/code/refgenie1/refgenie/resource_manager/recipe/manager.py#113\" target=\"_blank\"><span style=\"color: #7f7f7f; text-decoration-color: #7f7f7f\">113</span></a>\n",
       "</pre>\n"
      ],
      "text/plain": [
       "\u001b[34mINFO    \u001b[0m Registered \u001b[32m'ensembl_gtf'\u001b[0m recipe                                                             \u001b]8;id=171844;file:///Users/stolarczyk/code/refgenie1/refgenie/resource_manager/recipe/manager.py\u001b\\\u001b[2mmanager.py\u001b[0m\u001b]8;;\u001b\\\u001b[2m:\u001b[0m\u001b]8;id=388362;file:///Users/stolarczyk/code/refgenie1/refgenie/resource_manager/recipe/manager.py#113\u001b\\\u001b[2m113\u001b[0m\u001b]8;;\u001b\\\n"
      ]
     },
     "metadata": {},
     "output_type": "display_data"
    },
    {
     "data": {
      "text/html": [
       "<pre style=\"white-space:pre;overflow-x:auto;line-height:normal;font-family:Menlo,'DejaVu Sans Mono',consolas,'Courier New',monospace\"><span style=\"color: #000080; text-decoration-color: #000080\">INFO    </span> Registered <span style=\"color: #008000; text-decoration-color: #008000\">'ensembl_rb'</span> recipe                                                              <a href=\"file:///Users/stolarczyk/code/refgenie1/refgenie/resource_manager/recipe/manager.py\" target=\"_blank\"><span style=\"color: #7f7f7f; text-decoration-color: #7f7f7f\">manager.py</span></a><span style=\"color: #7f7f7f; text-decoration-color: #7f7f7f\">:</span><a href=\"file:///Users/stolarczyk/code/refgenie1/refgenie/resource_manager/recipe/manager.py#113\" target=\"_blank\"><span style=\"color: #7f7f7f; text-decoration-color: #7f7f7f\">113</span></a>\n",
       "</pre>\n"
      ],
      "text/plain": [
       "\u001b[34mINFO    \u001b[0m Registered \u001b[32m'ensembl_rb'\u001b[0m recipe                                                              \u001b]8;id=851897;file:///Users/stolarczyk/code/refgenie1/refgenie/resource_manager/recipe/manager.py\u001b\\\u001b[2mmanager.py\u001b[0m\u001b]8;;\u001b\\\u001b[2m:\u001b[0m\u001b]8;id=142458;file:///Users/stolarczyk/code/refgenie1/refgenie/resource_manager/recipe/manager.py#113\u001b\\\u001b[2m113\u001b[0m\u001b]8;;\u001b\\\n"
      ]
     },
     "metadata": {},
     "output_type": "display_data"
    },
    {
     "data": {
      "text/html": [
       "<pre style=\"white-space:pre;overflow-x:auto;line-height:normal;font-family:Menlo,'DejaVu Sans Mono',consolas,'Courier New',monospace\"><span style=\"color: #000080; text-decoration-color: #000080\">INFO    </span> Registered <span style=\"color: #008000; text-decoration-color: #008000\">'epilog_index'</span> recipe                                                            <a href=\"file:///Users/stolarczyk/code/refgenie1/refgenie/resource_manager/recipe/manager.py\" target=\"_blank\"><span style=\"color: #7f7f7f; text-decoration-color: #7f7f7f\">manager.py</span></a><span style=\"color: #7f7f7f; text-decoration-color: #7f7f7f\">:</span><a href=\"file:///Users/stolarczyk/code/refgenie1/refgenie/resource_manager/recipe/manager.py#113\" target=\"_blank\"><span style=\"color: #7f7f7f; text-decoration-color: #7f7f7f\">113</span></a>\n",
       "</pre>\n"
      ],
      "text/plain": [
       "\u001b[34mINFO    \u001b[0m Registered \u001b[32m'epilog_index'\u001b[0m recipe                                                            \u001b]8;id=228566;file:///Users/stolarczyk/code/refgenie1/refgenie/resource_manager/recipe/manager.py\u001b\\\u001b[2mmanager.py\u001b[0m\u001b]8;;\u001b\\\u001b[2m:\u001b[0m\u001b]8;id=258895;file:///Users/stolarczyk/code/refgenie1/refgenie/resource_manager/recipe/manager.py#113\u001b\\\u001b[2m113\u001b[0m\u001b]8;;\u001b\\\n"
      ]
     },
     "metadata": {},
     "output_type": "display_data"
    },
    {
     "data": {
      "text/html": [
       "<pre style=\"white-space:pre;overflow-x:auto;line-height:normal;font-family:Menlo,'DejaVu Sans Mono',consolas,'Courier New',monospace\">Recipe <span style=\"color: #008000; text-decoration-color: #008000\">'fasta'</span> version <span style=\"color: #008000; text-decoration-color: #008000\">'0.0.1'</span> already exists.\n",
       "</pre>\n"
      ],
      "text/plain": [
       "Recipe \u001b[32m'fasta'\u001b[0m version \u001b[32m'0.0.1'\u001b[0m already exists.\n"
      ]
     },
     "metadata": {},
     "output_type": "display_data"
    },
    {
     "data": {
      "text/html": [
       "<pre style=\"white-space:pre;overflow-x:auto;line-height:normal;font-family:Menlo,'DejaVu Sans Mono',consolas,'Courier New',monospace\"><span style=\"color: #000080; text-decoration-color: #000080\">INFO    </span> Registered <span style=\"color: #008000; text-decoration-color: #008000\">'fasta_txome'</span> recipe                                                             <a href=\"file:///Users/stolarczyk/code/refgenie1/refgenie/resource_manager/recipe/manager.py\" target=\"_blank\"><span style=\"color: #7f7f7f; text-decoration-color: #7f7f7f\">manager.py</span></a><span style=\"color: #7f7f7f; text-decoration-color: #7f7f7f\">:</span><a href=\"file:///Users/stolarczyk/code/refgenie1/refgenie/resource_manager/recipe/manager.py#113\" target=\"_blank\"><span style=\"color: #7f7f7f; text-decoration-color: #7f7f7f\">113</span></a>\n",
       "</pre>\n"
      ],
      "text/plain": [
       "\u001b[34mINFO    \u001b[0m Registered \u001b[32m'fasta_txome'\u001b[0m recipe                                                             \u001b]8;id=957042;file:///Users/stolarczyk/code/refgenie1/refgenie/resource_manager/recipe/manager.py\u001b\\\u001b[2mmanager.py\u001b[0m\u001b]8;;\u001b\\\u001b[2m:\u001b[0m\u001b]8;id=734872;file:///Users/stolarczyk/code/refgenie1/refgenie/resource_manager/recipe/manager.py#113\u001b\\\u001b[2m113\u001b[0m\u001b]8;;\u001b\\\n"
      ]
     },
     "metadata": {},
     "output_type": "display_data"
    },
    {
     "data": {
      "text/html": [
       "<pre style=\"white-space:pre;overflow-x:auto;line-height:normal;font-family:Menlo,'DejaVu Sans Mono',consolas,'Courier New',monospace\"><span style=\"color: #000080; text-decoration-color: #000080\">INFO    </span> Registered <span style=\"color: #008000; text-decoration-color: #008000\">'feat_annotation'</span> recipe                                                         <a href=\"file:///Users/stolarczyk/code/refgenie1/refgenie/resource_manager/recipe/manager.py\" target=\"_blank\"><span style=\"color: #7f7f7f; text-decoration-color: #7f7f7f\">manager.py</span></a><span style=\"color: #7f7f7f; text-decoration-color: #7f7f7f\">:</span><a href=\"file:///Users/stolarczyk/code/refgenie1/refgenie/resource_manager/recipe/manager.py#113\" target=\"_blank\"><span style=\"color: #7f7f7f; text-decoration-color: #7f7f7f\">113</span></a>\n",
       "</pre>\n"
      ],
      "text/plain": [
       "\u001b[34mINFO    \u001b[0m Registered \u001b[32m'feat_annotation'\u001b[0m recipe                                                         \u001b]8;id=963648;file:///Users/stolarczyk/code/refgenie1/refgenie/resource_manager/recipe/manager.py\u001b\\\u001b[2mmanager.py\u001b[0m\u001b]8;;\u001b\\\u001b[2m:\u001b[0m\u001b]8;id=589963;file:///Users/stolarczyk/code/refgenie1/refgenie/resource_manager/recipe/manager.py#113\u001b\\\u001b[2m113\u001b[0m\u001b]8;;\u001b\\\n"
      ]
     },
     "metadata": {},
     "output_type": "display_data"
    },
    {
     "data": {
      "text/html": [
       "<pre style=\"white-space:pre;overflow-x:auto;line-height:normal;font-family:Menlo,'DejaVu Sans Mono',consolas,'Courier New',monospace\"><span style=\"color: #000080; text-decoration-color: #000080\">INFO    </span> Registered <span style=\"color: #008000; text-decoration-color: #008000\">'gencode_gtf'</span> recipe                                                             <a href=\"file:///Users/stolarczyk/code/refgenie1/refgenie/resource_manager/recipe/manager.py\" target=\"_blank\"><span style=\"color: #7f7f7f; text-decoration-color: #7f7f7f\">manager.py</span></a><span style=\"color: #7f7f7f; text-decoration-color: #7f7f7f\">:</span><a href=\"file:///Users/stolarczyk/code/refgenie1/refgenie/resource_manager/recipe/manager.py#113\" target=\"_blank\"><span style=\"color: #7f7f7f; text-decoration-color: #7f7f7f\">113</span></a>\n",
       "</pre>\n"
      ],
      "text/plain": [
       "\u001b[34mINFO    \u001b[0m Registered \u001b[32m'gencode_gtf'\u001b[0m recipe                                                             \u001b]8;id=21056;file:///Users/stolarczyk/code/refgenie1/refgenie/resource_manager/recipe/manager.py\u001b\\\u001b[2mmanager.py\u001b[0m\u001b]8;;\u001b\\\u001b[2m:\u001b[0m\u001b]8;id=438740;file:///Users/stolarczyk/code/refgenie1/refgenie/resource_manager/recipe/manager.py#113\u001b\\\u001b[2m113\u001b[0m\u001b]8;;\u001b\\\n"
      ]
     },
     "metadata": {},
     "output_type": "display_data"
    },
    {
     "data": {
      "text/html": [
       "<pre style=\"white-space:pre;overflow-x:auto;line-height:normal;font-family:Menlo,'DejaVu Sans Mono',consolas,'Courier New',monospace\"><span style=\"color: #000080; text-decoration-color: #000080\">INFO    </span> Registered <span style=\"color: #008000; text-decoration-color: #008000\">'hisat2_index'</span> recipe                                                            <a href=\"file:///Users/stolarczyk/code/refgenie1/refgenie/resource_manager/recipe/manager.py\" target=\"_blank\"><span style=\"color: #7f7f7f; text-decoration-color: #7f7f7f\">manager.py</span></a><span style=\"color: #7f7f7f; text-decoration-color: #7f7f7f\">:</span><a href=\"file:///Users/stolarczyk/code/refgenie1/refgenie/resource_manager/recipe/manager.py#113\" target=\"_blank\"><span style=\"color: #7f7f7f; text-decoration-color: #7f7f7f\">113</span></a>\n",
       "</pre>\n"
      ],
      "text/plain": [
       "\u001b[34mINFO    \u001b[0m Registered \u001b[32m'hisat2_index'\u001b[0m recipe                                                            \u001b]8;id=169504;file:///Users/stolarczyk/code/refgenie1/refgenie/resource_manager/recipe/manager.py\u001b\\\u001b[2mmanager.py\u001b[0m\u001b]8;;\u001b\\\u001b[2m:\u001b[0m\u001b]8;id=47399;file:///Users/stolarczyk/code/refgenie1/refgenie/resource_manager/recipe/manager.py#113\u001b\\\u001b[2m113\u001b[0m\u001b]8;;\u001b\\\n"
      ]
     },
     "metadata": {},
     "output_type": "display_data"
    },
    {
     "data": {
      "text/html": [
       "<pre style=\"white-space:pre;overflow-x:auto;line-height:normal;font-family:Menlo,'DejaVu Sans Mono',consolas,'Courier New',monospace\"><span style=\"color: #000080; text-decoration-color: #000080\">INFO    </span> Registered <span style=\"color: #008000; text-decoration-color: #008000\">'kallisto_index'</span> recipe                                                          <a href=\"file:///Users/stolarczyk/code/refgenie1/refgenie/resource_manager/recipe/manager.py\" target=\"_blank\"><span style=\"color: #7f7f7f; text-decoration-color: #7f7f7f\">manager.py</span></a><span style=\"color: #7f7f7f; text-decoration-color: #7f7f7f\">:</span><a href=\"file:///Users/stolarczyk/code/refgenie1/refgenie/resource_manager/recipe/manager.py#113\" target=\"_blank\"><span style=\"color: #7f7f7f; text-decoration-color: #7f7f7f\">113</span></a>\n",
       "</pre>\n"
      ],
      "text/plain": [
       "\u001b[34mINFO    \u001b[0m Registered \u001b[32m'kallisto_index'\u001b[0m recipe                                                          \u001b]8;id=652587;file:///Users/stolarczyk/code/refgenie1/refgenie/resource_manager/recipe/manager.py\u001b\\\u001b[2mmanager.py\u001b[0m\u001b]8;;\u001b\\\u001b[2m:\u001b[0m\u001b]8;id=390074;file:///Users/stolarczyk/code/refgenie1/refgenie/resource_manager/recipe/manager.py#113\u001b\\\u001b[2m113\u001b[0m\u001b]8;;\u001b\\\n"
      ]
     },
     "metadata": {},
     "output_type": "display_data"
    },
    {
     "data": {
      "text/html": [
       "<pre style=\"white-space:pre;overflow-x:auto;line-height:normal;font-family:Menlo,'DejaVu Sans Mono',consolas,'Courier New',monospace\"><span style=\"color: #000080; text-decoration-color: #000080\">INFO    </span> Registered <span style=\"color: #008000; text-decoration-color: #008000\">'refgene_anno'</span> recipe                                                            <a href=\"file:///Users/stolarczyk/code/refgenie1/refgenie/resource_manager/recipe/manager.py\" target=\"_blank\"><span style=\"color: #7f7f7f; text-decoration-color: #7f7f7f\">manager.py</span></a><span style=\"color: #7f7f7f; text-decoration-color: #7f7f7f\">:</span><a href=\"file:///Users/stolarczyk/code/refgenie1/refgenie/resource_manager/recipe/manager.py#113\" target=\"_blank\"><span style=\"color: #7f7f7f; text-decoration-color: #7f7f7f\">113</span></a>\n",
       "</pre>\n"
      ],
      "text/plain": [
       "\u001b[34mINFO    \u001b[0m Registered \u001b[32m'refgene_anno'\u001b[0m recipe                                                            \u001b]8;id=586842;file:///Users/stolarczyk/code/refgenie1/refgenie/resource_manager/recipe/manager.py\u001b\\\u001b[2mmanager.py\u001b[0m\u001b]8;;\u001b\\\u001b[2m:\u001b[0m\u001b]8;id=72327;file:///Users/stolarczyk/code/refgenie1/refgenie/resource_manager/recipe/manager.py#113\u001b\\\u001b[2m113\u001b[0m\u001b]8;;\u001b\\\n"
      ]
     },
     "metadata": {},
     "output_type": "display_data"
    },
    {
     "data": {
      "text/html": [
       "<pre style=\"white-space:pre;overflow-x:auto;line-height:normal;font-family:Menlo,'DejaVu Sans Mono',consolas,'Courier New',monospace\"><span style=\"color: #000080; text-decoration-color: #000080\">INFO    </span> Registered <span style=\"color: #008000; text-decoration-color: #008000\">'salmon_index'</span> recipe                                                            <a href=\"file:///Users/stolarczyk/code/refgenie1/refgenie/resource_manager/recipe/manager.py\" target=\"_blank\"><span style=\"color: #7f7f7f; text-decoration-color: #7f7f7f\">manager.py</span></a><span style=\"color: #7f7f7f; text-decoration-color: #7f7f7f\">:</span><a href=\"file:///Users/stolarczyk/code/refgenie1/refgenie/resource_manager/recipe/manager.py#113\" target=\"_blank\"><span style=\"color: #7f7f7f; text-decoration-color: #7f7f7f\">113</span></a>\n",
       "</pre>\n"
      ],
      "text/plain": [
       "\u001b[34mINFO    \u001b[0m Registered \u001b[32m'salmon_index'\u001b[0m recipe                                                            \u001b]8;id=743707;file:///Users/stolarczyk/code/refgenie1/refgenie/resource_manager/recipe/manager.py\u001b\\\u001b[2mmanager.py\u001b[0m\u001b]8;;\u001b\\\u001b[2m:\u001b[0m\u001b]8;id=874546;file:///Users/stolarczyk/code/refgenie1/refgenie/resource_manager/recipe/manager.py#113\u001b\\\u001b[2m113\u001b[0m\u001b]8;;\u001b\\\n"
      ]
     },
     "metadata": {},
     "output_type": "display_data"
    },
    {
     "data": {
      "text/html": [
       "<pre style=\"white-space:pre;overflow-x:auto;line-height:normal;font-family:Menlo,'DejaVu Sans Mono',consolas,'Courier New',monospace\"><span style=\"color: #000080; text-decoration-color: #000080\">INFO    </span> Registered <span style=\"color: #008000; text-decoration-color: #008000\">'salmon_partial_sa_index'</span> recipe                                                 <a href=\"file:///Users/stolarczyk/code/refgenie1/refgenie/resource_manager/recipe/manager.py\" target=\"_blank\"><span style=\"color: #7f7f7f; text-decoration-color: #7f7f7f\">manager.py</span></a><span style=\"color: #7f7f7f; text-decoration-color: #7f7f7f\">:</span><a href=\"file:///Users/stolarczyk/code/refgenie1/refgenie/resource_manager/recipe/manager.py#113\" target=\"_blank\"><span style=\"color: #7f7f7f; text-decoration-color: #7f7f7f\">113</span></a>\n",
       "</pre>\n"
      ],
      "text/plain": [
       "\u001b[34mINFO    \u001b[0m Registered \u001b[32m'salmon_partial_sa_index'\u001b[0m recipe                                                 \u001b]8;id=75648;file:///Users/stolarczyk/code/refgenie1/refgenie/resource_manager/recipe/manager.py\u001b\\\u001b[2mmanager.py\u001b[0m\u001b]8;;\u001b\\\u001b[2m:\u001b[0m\u001b]8;id=590464;file:///Users/stolarczyk/code/refgenie1/refgenie/resource_manager/recipe/manager.py#113\u001b\\\u001b[2m113\u001b[0m\u001b]8;;\u001b\\\n"
      ]
     },
     "metadata": {},
     "output_type": "display_data"
    },
    {
     "data": {
      "text/html": [
       "<pre style=\"white-space:pre;overflow-x:auto;line-height:normal;font-family:Menlo,'DejaVu Sans Mono',consolas,'Courier New',monospace\"><span style=\"color: #000080; text-decoration-color: #000080\">INFO    </span> Registered <span style=\"color: #008000; text-decoration-color: #008000\">'salmon_sa_index'</span> recipe                                                         <a href=\"file:///Users/stolarczyk/code/refgenie1/refgenie/resource_manager/recipe/manager.py\" target=\"_blank\"><span style=\"color: #7f7f7f; text-decoration-color: #7f7f7f\">manager.py</span></a><span style=\"color: #7f7f7f; text-decoration-color: #7f7f7f\">:</span><a href=\"file:///Users/stolarczyk/code/refgenie1/refgenie/resource_manager/recipe/manager.py#113\" target=\"_blank\"><span style=\"color: #7f7f7f; text-decoration-color: #7f7f7f\">113</span></a>\n",
       "</pre>\n"
      ],
      "text/plain": [
       "\u001b[34mINFO    \u001b[0m Registered \u001b[32m'salmon_sa_index'\u001b[0m recipe                                                         \u001b]8;id=68285;file:///Users/stolarczyk/code/refgenie1/refgenie/resource_manager/recipe/manager.py\u001b\\\u001b[2mmanager.py\u001b[0m\u001b]8;;\u001b\\\u001b[2m:\u001b[0m\u001b]8;id=37092;file:///Users/stolarczyk/code/refgenie1/refgenie/resource_manager/recipe/manager.py#113\u001b\\\u001b[2m113\u001b[0m\u001b]8;;\u001b\\\n"
      ]
     },
     "metadata": {},
     "output_type": "display_data"
    },
    {
     "data": {
      "text/html": [
       "<pre style=\"white-space:pre;overflow-x:auto;line-height:normal;font-family:Menlo,'DejaVu Sans Mono',consolas,'Courier New',monospace\"><span style=\"color: #000080; text-decoration-color: #000080\">INFO    </span> Registered <span style=\"color: #008000; text-decoration-color: #008000\">'small_rna'</span> recipe                                                               <a href=\"file:///Users/stolarczyk/code/refgenie1/refgenie/resource_manager/recipe/manager.py\" target=\"_blank\"><span style=\"color: #7f7f7f; text-decoration-color: #7f7f7f\">manager.py</span></a><span style=\"color: #7f7f7f; text-decoration-color: #7f7f7f\">:</span><a href=\"file:///Users/stolarczyk/code/refgenie1/refgenie/resource_manager/recipe/manager.py#113\" target=\"_blank\"><span style=\"color: #7f7f7f; text-decoration-color: #7f7f7f\">113</span></a>\n",
       "</pre>\n"
      ],
      "text/plain": [
       "\u001b[34mINFO    \u001b[0m Registered \u001b[32m'small_rna'\u001b[0m recipe                                                               \u001b]8;id=491164;file:///Users/stolarczyk/code/refgenie1/refgenie/resource_manager/recipe/manager.py\u001b\\\u001b[2mmanager.py\u001b[0m\u001b]8;;\u001b\\\u001b[2m:\u001b[0m\u001b]8;id=8782;file:///Users/stolarczyk/code/refgenie1/refgenie/resource_manager/recipe/manager.py#113\u001b\\\u001b[2m113\u001b[0m\u001b]8;;\u001b\\\n"
      ]
     },
     "metadata": {},
     "output_type": "display_data"
    },
    {
     "data": {
      "text/html": [
       "<pre style=\"white-space:pre;overflow-x:auto;line-height:normal;font-family:Menlo,'DejaVu Sans Mono',consolas,'Courier New',monospace\"><span style=\"color: #000080; text-decoration-color: #000080\">INFO    </span> Registered <span style=\"color: #008000; text-decoration-color: #008000\">'star_index'</span> recipe                                                              <a href=\"file:///Users/stolarczyk/code/refgenie1/refgenie/resource_manager/recipe/manager.py\" target=\"_blank\"><span style=\"color: #7f7f7f; text-decoration-color: #7f7f7f\">manager.py</span></a><span style=\"color: #7f7f7f; text-decoration-color: #7f7f7f\">:</span><a href=\"file:///Users/stolarczyk/code/refgenie1/refgenie/resource_manager/recipe/manager.py#113\" target=\"_blank\"><span style=\"color: #7f7f7f; text-decoration-color: #7f7f7f\">113</span></a>\n",
       "</pre>\n"
      ],
      "text/plain": [
       "\u001b[34mINFO    \u001b[0m Registered \u001b[32m'star_index'\u001b[0m recipe                                                              \u001b]8;id=601788;file:///Users/stolarczyk/code/refgenie1/refgenie/resource_manager/recipe/manager.py\u001b\\\u001b[2mmanager.py\u001b[0m\u001b]8;;\u001b\\\u001b[2m:\u001b[0m\u001b]8;id=759285;file:///Users/stolarczyk/code/refgenie1/refgenie/resource_manager/recipe/manager.py#113\u001b\\\u001b[2m113\u001b[0m\u001b]8;;\u001b\\\n"
      ]
     },
     "metadata": {},
     "output_type": "display_data"
    },
    {
     "data": {
      "text/html": [
       "<pre style=\"white-space:pre;overflow-x:auto;line-height:normal;font-family:Menlo,'DejaVu Sans Mono',consolas,'Courier New',monospace\"><span style=\"color: #000080; text-decoration-color: #000080\">INFO    </span> Registered <span style=\"color: #008000; text-decoration-color: #008000\">'suffixerator_index'</span> recipe                                                      <a href=\"file:///Users/stolarczyk/code/refgenie1/refgenie/resource_manager/recipe/manager.py\" target=\"_blank\"><span style=\"color: #7f7f7f; text-decoration-color: #7f7f7f\">manager.py</span></a><span style=\"color: #7f7f7f; text-decoration-color: #7f7f7f\">:</span><a href=\"file:///Users/stolarczyk/code/refgenie1/refgenie/resource_manager/recipe/manager.py#113\" target=\"_blank\"><span style=\"color: #7f7f7f; text-decoration-color: #7f7f7f\">113</span></a>\n",
       "</pre>\n"
      ],
      "text/plain": [
       "\u001b[34mINFO    \u001b[0m Registered \u001b[32m'suffixerator_index'\u001b[0m recipe                                                      \u001b]8;id=864134;file:///Users/stolarczyk/code/refgenie1/refgenie/resource_manager/recipe/manager.py\u001b\\\u001b[2mmanager.py\u001b[0m\u001b]8;;\u001b\\\u001b[2m:\u001b[0m\u001b]8;id=136058;file:///Users/stolarczyk/code/refgenie1/refgenie/resource_manager/recipe/manager.py#113\u001b\\\u001b[2m113\u001b[0m\u001b]8;;\u001b\\\n"
      ]
     },
     "metadata": {},
     "output_type": "display_data"
    },
    {
     "data": {
      "text/html": [
       "<pre style=\"white-space:pre;overflow-x:auto;line-height:normal;font-family:Menlo,'DejaVu Sans Mono',consolas,'Courier New',monospace\"><span style=\"color: #000080; text-decoration-color: #000080\">INFO    </span> Registered <span style=\"color: #008000; text-decoration-color: #008000\">'tallymer_index'</span> recipe                                                          <a href=\"file:///Users/stolarczyk/code/refgenie1/refgenie/resource_manager/recipe/manager.py\" target=\"_blank\"><span style=\"color: #7f7f7f; text-decoration-color: #7f7f7f\">manager.py</span></a><span style=\"color: #7f7f7f; text-decoration-color: #7f7f7f\">:</span><a href=\"file:///Users/stolarczyk/code/refgenie1/refgenie/resource_manager/recipe/manager.py#113\" target=\"_blank\"><span style=\"color: #7f7f7f; text-decoration-color: #7f7f7f\">113</span></a>\n",
       "</pre>\n"
      ],
      "text/plain": [
       "\u001b[34mINFO    \u001b[0m Registered \u001b[32m'tallymer_index'\u001b[0m recipe                                                          \u001b]8;id=430821;file:///Users/stolarczyk/code/refgenie1/refgenie/resource_manager/recipe/manager.py\u001b\\\u001b[2mmanager.py\u001b[0m\u001b]8;;\u001b\\\u001b[2m:\u001b[0m\u001b]8;id=8618;file:///Users/stolarczyk/code/refgenie1/refgenie/resource_manager/recipe/manager.py#113\u001b\\\u001b[2m113\u001b[0m\u001b]8;;\u001b\\\n"
      ]
     },
     "metadata": {},
     "output_type": "display_data"
    },
    {
     "data": {
      "text/html": [
       "<pre style=\"white-space:pre;overflow-x:auto;line-height:normal;font-family:Menlo,'DejaVu Sans Mono',consolas,'Courier New',monospace\"><span style=\"color: #000080; text-decoration-color: #000080\">INFO    </span> Registered <span style=\"color: #008000; text-decoration-color: #008000\">'tgMap'</span> recipe                                                                   <a href=\"file:///Users/stolarczyk/code/refgenie1/refgenie/resource_manager/recipe/manager.py\" target=\"_blank\"><span style=\"color: #7f7f7f; text-decoration-color: #7f7f7f\">manager.py</span></a><span style=\"color: #7f7f7f; text-decoration-color: #7f7f7f\">:</span><a href=\"file:///Users/stolarczyk/code/refgenie1/refgenie/resource_manager/recipe/manager.py#113\" target=\"_blank\"><span style=\"color: #7f7f7f; text-decoration-color: #7f7f7f\">113</span></a>\n",
       "</pre>\n"
      ],
      "text/plain": [
       "\u001b[34mINFO    \u001b[0m Registered \u001b[32m'tgMap'\u001b[0m recipe                                                                   \u001b]8;id=998292;file:///Users/stolarczyk/code/refgenie1/refgenie/resource_manager/recipe/manager.py\u001b\\\u001b[2mmanager.py\u001b[0m\u001b]8;;\u001b\\\u001b[2m:\u001b[0m\u001b]8;id=89803;file:///Users/stolarczyk/code/refgenie1/refgenie/resource_manager/recipe/manager.py#113\u001b\\\u001b[2m113\u001b[0m\u001b]8;;\u001b\\\n"
      ]
     },
     "metadata": {},
     "output_type": "display_data"
    }
   ],
   "source": [
    "for asset_class in refgenie.data_channel.iter_asset_classes(\"refgenie-recipes\"):\n",
    "    try:\n",
    "        refgenie.asset_class.add(asset_class)\n",
    "    except Exception as e:\n",
    "        print(e)\n",
    "\n",
    "for recipe in refgenie.data_channel.iter_recipes(\"refgenie-recipes\"):\n",
    "    try:\n",
    "        refgenie.recipe.add(recipe)\n",
    "    except Exception as e:\n",
    "        print(e)\n",
    "        \n"
   ]
  },
  {
   "cell_type": "markdown",
   "metadata": {},
   "source": [
    "Alternatively, the same can be achieved by running the following CLI command:\n",
    "\n",
    "```bash\n",
    "refgenie1 data_channel sync refgenie-recipes --exists-ok\n",
    "```"
   ]
  },
  {
   "cell_type": "markdown",
   "metadata": {},
   "source": [
    "## SeqCol interface\n",
    "\n",
    "Refgenie also provides a `SeqCol` interface, which is standard for working with sequence collections. More details on this interface can be found on the [SeqCol project website](https://seqcol.readthedocs.io/en/latest/).\n",
    "Under the hood, refgenie uses the `SeqCol` digests to uniquely identify genomes."
   ]
  },
  {
   "cell_type": "code",
   "execution_count": 26,
   "metadata": {},
   "outputs": [
    {
     "data": {
      "text/html": [
       "<pre style=\"white-space:pre;overflow-x:auto;line-height:normal;font-family:Menlo,'DejaVu Sans Mono',consolas,'Courier New',monospace\"><span style=\"color: #000080; text-decoration-color: #000080\">INFO    </span> SeqCol: <span style=\"color: #808000; text-decoration-color: #808000\">digest</span>=<span style=\"color: #008000; text-decoration-color: #008000\">'jthDpfNIgzM5AGJlOkRtfnky4rXMBIUP'</span>                                            <a href=\"file:///Users/stolarczyk/code/refgenie1/.venv/lib/python3.12/site-packages/refget/agents.py\" target=\"_blank\"><span style=\"color: #7f7f7f; text-decoration-color: #7f7f7f\">agents.py</span></a><span style=\"color: #7f7f7f; text-decoration-color: #7f7f7f\">:</span><a href=\"file:///Users/stolarczyk/code/refgenie1/.venv/lib/python3.12/site-packages/refget/agents.py#242\" target=\"_blank\"><span style=\"color: #7f7f7f; text-decoration-color: #7f7f7f\">242</span></a>\n",
       "         <span style=\"color: #808000; text-decoration-color: #808000\">sorted_name_length_pairs_digest</span>=<span style=\"color: #008000; text-decoration-color: #008000\">'AYk42eFmfBv_Q3GRVXWRKv2BWJ-2rWaN'</span>                           <span style=\"color: #7f7f7f; text-decoration-color: #7f7f7f\">             </span>\n",
       "</pre>\n"
      ],
      "text/plain": [
       "\u001b[34mINFO    \u001b[0m SeqCol: \u001b[33mdigest\u001b[0m=\u001b[32m'jthDpfNIgzM5AGJlOkRtfnky4rXMBIUP'\u001b[0m                                            \u001b]8;id=546164;file:///Users/stolarczyk/code/refgenie1/.venv/lib/python3.12/site-packages/refget/agents.py\u001b\\\u001b[2magents.py\u001b[0m\u001b]8;;\u001b\\\u001b[2m:\u001b[0m\u001b]8;id=793969;file:///Users/stolarczyk/code/refgenie1/.venv/lib/python3.12/site-packages/refget/agents.py#242\u001b\\\u001b[2m242\u001b[0m\u001b]8;;\u001b\\\n",
       "         \u001b[33msorted_name_length_pairs_digest\u001b[0m=\u001b[32m'AYk42eFmfBv_Q3GRVXWRKv2BWJ-2rWaN'\u001b[0m                           \u001b[2m             \u001b[0m\n"
      ]
     },
     "metadata": {},
     "output_type": "display_data"
    },
    {
     "data": {
      "text/html": [
       "<pre style=\"white-space:pre;overflow-x:auto;line-height:normal;font-family:Menlo,'DejaVu Sans Mono',consolas,'Courier New',monospace\"><span style=\"color: #000080; text-decoration-color: #000080\">INFO    </span> SeqCol: <span style=\"color: #808000; text-decoration-color: #808000\">digest</span>=<span style=\"color: #008000; text-decoration-color: #008000\">'smiTbD3jP5EwF4DNWVm0c6DGKRlFHfas'</span>                                            <a href=\"file:///Users/stolarczyk/code/refgenie1/.venv/lib/python3.12/site-packages/refget/agents.py\" target=\"_blank\"><span style=\"color: #7f7f7f; text-decoration-color: #7f7f7f\">agents.py</span></a><span style=\"color: #7f7f7f; text-decoration-color: #7f7f7f\">:</span><a href=\"file:///Users/stolarczyk/code/refgenie1/.venv/lib/python3.12/site-packages/refget/agents.py#242\" target=\"_blank\"><span style=\"color: #7f7f7f; text-decoration-color: #7f7f7f\">242</span></a>\n",
       "         <span style=\"color: #808000; text-decoration-color: #808000\">sorted_name_length_pairs_digest</span>=<span style=\"color: #008000; text-decoration-color: #008000\">'C4yiaCS1eR4cxiQCg4tInGAIiJ8rG6UG'</span>                           <span style=\"color: #7f7f7f; text-decoration-color: #7f7f7f\">             </span>\n",
       "</pre>\n"
      ],
      "text/plain": [
       "\u001b[34mINFO    \u001b[0m SeqCol: \u001b[33mdigest\u001b[0m=\u001b[32m'smiTbD3jP5EwF4DNWVm0c6DGKRlFHfas'\u001b[0m                                            \u001b]8;id=433183;file:///Users/stolarczyk/code/refgenie1/.venv/lib/python3.12/site-packages/refget/agents.py\u001b\\\u001b[2magents.py\u001b[0m\u001b]8;;\u001b\\\u001b[2m:\u001b[0m\u001b]8;id=67038;file:///Users/stolarczyk/code/refgenie1/.venv/lib/python3.12/site-packages/refget/agents.py#242\u001b\\\u001b[2m242\u001b[0m\u001b]8;;\u001b\\\n",
       "         \u001b[33msorted_name_length_pairs_digest\u001b[0m=\u001b[32m'C4yiaCS1eR4cxiQCg4tInGAIiJ8rG6UG'\u001b[0m                           \u001b[2m             \u001b[0m\n"
      ]
     },
     "metadata": {},
     "output_type": "display_data"
    },
    {
     "data": {
      "text/plain": [
       "{'attributes': {'a_only': [],\n",
       "  'b_only': [],\n",
       "  'a_and_b': ['lengths',\n",
       "   'name_length_pairs',\n",
       "   'names',\n",
       "   'sequences',\n",
       "   'sorted_sequences']},\n",
       " 'array_elements': {'a': {'lengths': 1,\n",
       "   'name_length_pairs': 1,\n",
       "   'names': 1,\n",
       "   'sequences': 1,\n",
       "   'sorted_sequences': 1},\n",
       "  'b': {'lengths': 2,\n",
       "   'name_length_pairs': 2,\n",
       "   'names': 2,\n",
       "   'sequences': 2,\n",
       "   'sorted_sequences': 2},\n",
       "  'a_and_b': {'lengths': 1,\n",
       "   'name_length_pairs': 1,\n",
       "   'names': 1,\n",
       "   'sequences': 1,\n",
       "   'sorted_sequences': 1},\n",
       "  'a_and_b_same_order': {'lengths': True,\n",
       "   'name_length_pairs': True,\n",
       "   'names': True,\n",
       "   'sequences': True,\n",
       "   'sorted_sequences': True}}}"
      ]
     },
     "execution_count": 26,
     "metadata": {},
     "output_type": "execute_result"
    }
   ],
   "source": [
    "d1 = refgenie.refget_db_agent.seqcol.add_from_fasta_file(\n",
    "    \"/Users/stolarczyk/code/refgenie1/tests/data/rCRSd.fa\"\n",
    ").digest\n",
    "d2 = refgenie.refget_db_agent.seqcol.add_from_fasta_file(\n",
    "    \"/Users/stolarczyk/code/refgenie1/tests/data/rCRSd-extra.fa\"\n",
    ").digest\n",
    "refgenie.refget_db_agent.compare_digests(d1, d2)"
   ]
  }
 ],
 "metadata": {
  "kernelspec": {
   "display_name": "refgenie1-docs",
   "language": "python",
   "name": "python3"
  },
  "language_info": {
   "codemirror_mode": {
    "name": "ipython",
    "version": 3
   },
   "file_extension": ".py",
   "mimetype": "text/x-python",
   "name": "python",
   "nbconvert_exporter": "python",
   "pygments_lexer": "ipython3",
   "version": "3.10.15"
  }
 },
 "nbformat": 4,
 "nbformat_minor": 2
}
