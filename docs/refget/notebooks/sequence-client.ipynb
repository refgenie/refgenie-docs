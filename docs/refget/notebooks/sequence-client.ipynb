{
 "cells": [
  {
   "cell_type": "markdown",
   "metadata": {},
   "source": [
    "# Sequences Client tutorial\n",
    "\n",
    "## Introduction \n",
    "\n",
    "This tutorial will show you how to use the `refget.SequenceClient` class to interact with a remote Refget sequences API.\n",
    "\n",
    "First, record some versions used in this tutorial:"
   ]
  },
  {
   "cell_type": "code",
   "execution_count": 1,
   "metadata": {},
   "outputs": [
    {
     "data": {
      "text/plain": [
       "'3.12.3'"
      ]
     },
     "execution_count": 1,
     "metadata": {},
     "output_type": "execute_result"
    }
   ],
   "source": [
    "from platform import python_version \n",
    "python_version()"
   ]
  },
  {
   "cell_type": "code",
   "execution_count": 2,
   "metadata": {},
   "outputs": [
    {
     "data": {
      "text/plain": [
       "'0.8.0'"
      ]
     },
     "execution_count": 2,
     "metadata": {},
     "output_type": "execute_result"
    }
   ],
   "source": [
    "import refget\n",
    "refget.__version__"
   ]
  },
  {
   "cell_type": "markdown",
   "metadata": {},
   "source": [
    "## Connecting to a remote API\n",
    "\n",
    "The refget package provides a simple Python wrapper around a remote hosted refget sequences API. Provide the base url when construction a `SequenceClient` object and you can retrieve sequences from the remote server."
   ]
  },
  {
   "cell_type": "code",
   "execution_count": 6,
   "metadata": {},
   "outputs": [],
   "source": [
    "seq_client = refget.SequenceClient(urls=[\"https://beta.ensembl.org/data/refget/\"])"
   ]
  },
  {
   "cell_type": "code",
   "execution_count": 7,
   "metadata": {},
   "outputs": [
    {
     "data": {
      "text/plain": [
       "'CCACACCACA'"
      ]
     },
     "execution_count": 7,
     "metadata": {},
     "output_type": "execute_result"
    }
   ],
   "source": [
    "seq_client.get_sequence(\"6681ac2f62509cfc220d78751b8dc524\", start=0, end=10)"
   ]
  },
  {
   "cell_type": "code",
   "execution_count": 8,
   "metadata": {},
   "outputs": [
    {
     "data": {
      "text/plain": [
       "'CCACACCACACCCACACACCCACACACCACACCACACACCACACCACACC'"
      ]
     },
     "execution_count": 8,
     "metadata": {},
     "output_type": "execute_result"
    }
   ],
   "source": [
    "seq_client.get_sequence(\"6681ac2f62509cfc220d78751b8dc524\", start=0, end=50)"
   ]
  },
  {
   "cell_type": "markdown",
   "metadata": {},
   "source": [
    "You can also hit the `{digest}/metadata` and `service_info` API endpoints described in the refget API specification:"
   ]
  },
  {
   "cell_type": "code",
   "execution_count": 9,
   "metadata": {},
   "outputs": [
    {
     "data": {
      "text/plain": [
       "{'metadata': {'id': '6681ac2f62509cfc220d78751b8dc524',\n",
       "  'md5': '6681ac2f62509cfc220d78751b8dc524',\n",
       "  'trunc512': '959cb1883fc1ca9ae1394ceb475a356ead1ecceff5824ae7',\n",
       "  'ga4gh': 'SQ.lZyxiD_ByprhOUzrR1o1bq0ezO_1gkrn',\n",
       "  'length': 230218,\n",
       "  'aliases': []}}"
      ]
     },
     "execution_count": 9,
     "metadata": {},
     "output_type": "execute_result"
    }
   ],
   "source": [
    "seq_client.get_metadata(\"6681ac2f62509cfc220d78751b8dc524\")"
   ]
  },
  {
   "cell_type": "code",
   "execution_count": 10,
   "metadata": {},
   "outputs": [
    {
     "data": {
      "text/plain": [
       "{'id': 'refget.infra.ebi.ac.uk',\n",
       " 'name': 'Refget server',\n",
       " 'type': {'group': 'org.ga4gh', 'artifact': 'refget', 'version': '2.0.0'},\n",
       " 'description': None,\n",
       " 'organization': {'name': 'EMBL-EBI', 'url': 'https://ebi.ac.uk/'},\n",
       " 'contactUrl': None,\n",
       " 'documentationUrl': None,\n",
       " 'createdAt': None,\n",
       " 'updatedAt': None,\n",
       " 'environment': None,\n",
       " 'version': '1.0.0',\n",
       " 'refget': {'circular_supported': False,\n",
       "  'subsequence_limit': None,\n",
       "  'algorithms': ['md5', 'ga4gh', 'trunc512'],\n",
       "  'identifier_types': None}}"
      ]
     },
     "execution_count": 10,
     "metadata": {},
     "output_type": "execute_result"
    }
   ],
   "source": [
    "seq_client.service_info()"
   ]
  },
  {
   "cell_type": "markdown",
   "metadata": {},
   "source": [
    "When requesting a sequence that is not found, the service responds appropriately:"
   ]
  },
  {
   "cell_type": "code",
   "execution_count": 11,
   "metadata": {},
   "outputs": [
    {
     "name": "stderr",
     "output_type": "stream",
     "text": [
      "ERROR:refget.clients:All URLs failed:\n",
      "Error from https://beta.ensembl.org/data/refget: 500 Server Error: Internal Server Error for url: https://beta.ensembl.org/data/refget/sequence/BogusDigest\n"
     ]
    }
   ],
   "source": [
    "seq_client.get_sequence('BogusDigest')"
   ]
  }
 ],
 "metadata": {
  "kernelspec": {
   "display_name": "Python 3",
   "language": "python",
   "name": "python3"
  },
  "language_info": {
   "codemirror_mode": {
    "name": "ipython",
    "version": 3
   },
   "file_extension": ".py",
   "mimetype": "text/x-python",
   "name": "python",
   "nbconvert_exporter": "python",
   "pygments_lexer": "ipython3",
   "version": "3.12.3"
  }
 },
 "nbformat": 4,
 "nbformat_minor": 2
}
