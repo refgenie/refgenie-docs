{
 "cells": [
  {
   "cell_type": "markdown",
   "metadata": {},
   "source": [
    "# Computing digests locally\n",
    "\n",
    "The `refget` Python package includes general-purpose functions for computing GA4GH-style digests. These functions can be used to compute digests of sequences or sequence collections.\n"
   ]
  },
  {
   "cell_type": "markdown",
   "metadata": {},
   "source": [
    "Show some results for sequence digests:"
   ]
  },
  {
   "cell_type": "code",
   "execution_count": 3,
   "metadata": {},
   "outputs": [],
   "source": [
    "from refget import sha512t24u_digest, fasta_to_digest, fasta_to_seqcol_dict, fasta_to_seq_digests"
   ]
  },
  {
   "cell_type": "code",
   "execution_count": 13,
   "metadata": {},
   "outputs": [
    {
     "data": {
      "text/plain": [
       "'YBbVX0dLKG1ieEDCiMmkrTZFt_Z5Vdaj'"
      ]
     },
     "execution_count": 13,
     "metadata": {},
     "output_type": "execute_result"
    }
   ],
   "source": [
    "sha512t24u_digest('GGAA')"
   ]
  },
  {
   "cell_type": "markdown",
   "metadata": {},
   "source": [
    "You can also compute a top-level (level 0) digest for a FASTA file like this:"
   ]
  },
  {
   "cell_type": "code",
   "execution_count": 5,
   "metadata": {},
   "outputs": [
    {
     "data": {
      "text/plain": [
       "'XZlrcEGi6mlopZ2uD8ObHkQB1d0oDwKk'"
      ]
     },
     "execution_count": 5,
     "metadata": {},
     "output_type": "execute_result"
    }
   ],
   "source": [
    "fasta_to_digest('../../../test_fasta/base.fa')"
   ]
  },
  {
   "cell_type": "markdown",
   "metadata": {},
   "source": [
    "If you want to get the complete level 2 representation of the sequence collection from the fasta file, use the `fasta_to_seqcol` function:"
   ]
  },
  {
   "cell_type": "code",
   "execution_count": 7,
   "metadata": {},
   "outputs": [
    {
     "data": {
      "text/plain": [
       "{'lengths': [8, 4, 4],\n",
       " 'names': ['chrX', 'chr1', 'chr2'],\n",
       " 'sequences': ['SQ.iYtREV555dUFKg2_agSJW6suquUyPpMw',\n",
       "  'SQ.YBbVX0dLKG1ieEDCiMmkrTZFt_Z5Vdaj',\n",
       "  'SQ.AcLxtBuKEPk_7PGE_H4dGElwZHCujwH6'],\n",
       " 'sorted_name_length_pairs': [b'{\"length\":4,\"name\":\"chr1\"}',\n",
       "  b'{\"length\":4,\"name\":\"chr2\"}',\n",
       "  b'{\"length\":8,\"name\":\"chrX\"}'],\n",
       " 'sorted_sequences': ['SQ.iYtREV555dUFKg2_agSJW6suquUyPpMw',\n",
       "  'SQ.YBbVX0dLKG1ieEDCiMmkrTZFt_Z5Vdaj',\n",
       "  'SQ.AcLxtBuKEPk_7PGE_H4dGElwZHCujwH6']}"
      ]
     },
     "execution_count": 7,
     "metadata": {},
     "output_type": "execute_result"
    }
   ],
   "source": [
    "fasta_to_seqcol_dict('../../../test_fasta/base.fa')\n"
   ]
  },
  {
   "cell_type": "markdown",
   "metadata": {},
   "source": [
    "Or, if you want to use the lower-level function to just compute individual sequence digests for each sequence in the file, use the `fasta_to_seq_digests` function:"
   ]
  },
  {
   "cell_type": "code",
   "execution_count": null,
   "metadata": {},
   "outputs": [
    {
     "name": "stdout",
     "output_type": "stream",
     "text": [
      "chrX\t8\tiYtREV555dUFKg2_agSJW6suquUyPpMw\t5f63cfaa3ef61f88c9635fb9d18ec945\n",
      "chr1\t4\tYBbVX0dLKG1ieEDCiMmkrTZFt_Z5Vdaj\t31fc6ca291a32fb9df82b85e5f077e31\n",
      "chr2\t4\tAcLxtBuKEPk_7PGE_H4dGElwZHCujwH6\t92c6a56c9e9459d8a42b96f7884710bc\n"
     ]
    }
   ],
   "source": [
    "for x in fasta_to_seq_digests('../../../test_fasta/base.fa'):\n",
    "    print(f\"{x.metadata.name}\\t{x.metadata.length}\\t{x.metadata.sha512t24u}\\t{x.metadata.md5}\")"
   ]
  }
 ],
 "metadata": {
  "kernelspec": {
   "display_name": "Python 3",
   "language": "python",
   "name": "python3"
  },
  "language_info": {
   "codemirror_mode": {
    "name": "ipython",
    "version": 3
   },
   "file_extension": ".py",
   "mimetype": "text/x-python",
   "name": "python",
   "nbconvert_exporter": "python",
   "pygments_lexer": "ipython3",
   "version": "3.12.3"
  }
 },
 "nbformat": 4,
 "nbformat_minor": 2
}
