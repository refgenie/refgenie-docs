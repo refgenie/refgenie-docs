{
 "cells": [
  {
   "cell_type": "markdown",
   "id": "f14f4a1a",
   "metadata": {},
   "source": [
    "# Using GlobalRefgetStore\n",
    "\n",
    "This functionality requires an implementation of refget written in Rust located in gtars.\n",
    "\n",
    "GlobalRefgetStore allows a user to store sequence collections on disk and retrieve sequences and substrings of sequences. It also allows a user to retrieve sequences from specific regions given an input BED file."
   ]
  },
  {
   "cell_type": "code",
   "execution_count": null,
   "id": "40b8daac",
   "metadata": {},
   "outputs": [
    {
     "name": "stdout",
     "output_type": "stream",
     "text": [
      "Requirement already satisfied: gtars in /home/drc/GITHUB/refgenie-docs/.venv/lib/python3.10/site-packages (0.3.0)\r\n",
      "Requirement already satisfied: pytest>=8.3.4 in /home/drc/GITHUB/refgenie-docs/.venv/lib/python3.10/site-packages (from gtars) (8.4.1)\r\n",
      "Requirement already satisfied: pytest-cov>=6.0.0 in /home/drc/GITHUB/refgenie-docs/.venv/lib/python3.10/site-packages (from gtars) (6.2.1)\r\n",
      "Requirement already satisfied: maturin>=1.8.1 in /home/drc/GITHUB/refgenie-docs/.venv/lib/python3.10/site-packages (from gtars) (1.9.3)\r\n",
      "Requirement already satisfied: tomli>=1.1.0 in /home/drc/GITHUB/refgenie-docs/.venv/lib/python3.10/site-packages (from maturin>=1.8.1->gtars) (2.2.1)\r\n",
      "Requirement already satisfied: exceptiongroup>=1 in /home/drc/GITHUB/refgenie-docs/.venv/lib/python3.10/site-packages (from pytest>=8.3.4->gtars) (1.3.0)\r\n",
      "Requirement already satisfied: iniconfig>=1 in /home/drc/GITHUB/refgenie-docs/.venv/lib/python3.10/site-packages (from pytest>=8.3.4->gtars) (2.1.0)\r\n",
      "Requirement already satisfied: packaging>=20 in /home/drc/GITHUB/refgenie-docs/.venv/lib/python3.10/site-packages (from pytest>=8.3.4->gtars) (25.0)\r\n",
      "Requirement already satisfied: pluggy<2,>=1.5 in /home/drc/GITHUB/refgenie-docs/.venv/lib/python3.10/site-packages (from pytest>=8.3.4->gtars) (1.6.0)\r\n",
      "Requirement already satisfied: pygments>=2.7.2 in /home/drc/GITHUB/refgenie-docs/.venv/lib/python3.10/site-packages (from pytest>=8.3.4->gtars) (2.19.2)\r\n",
      "Requirement already satisfied: typing-extensions>=4.6.0 in /home/drc/GITHUB/refgenie-docs/.venv/lib/python3.10/site-packages (from exceptiongroup>=1->pytest>=8.3.4->gtars) (4.14.1)\r\n",
      "Requirement already satisfied: coverage>=7.5 in /home/drc/GITHUB/refgenie-docs/.venv/lib/python3.10/site-packages (from coverage[toml]>=7.5->pytest-cov>=6.0.0->gtars) (7.10.2)\r\n"
     ]
    }
   ],
   "source": [
    "%pip install refget\n",
    "import os\n",
    "import tempfile"
   ]
  },
  {
   "cell_type": "code",
   "execution_count": null,
   "id": "1d4e5a9855964f75",
   "metadata": {},
   "outputs": [],
   "source": [
    "from refget.refget_store import GlobalRefgetStore, StorageMode\n",
    "from refget.digest_functions import fasta_to_seq_digests"
   ]
  },
  {
   "cell_type": "code",
   "execution_count": 26,
   "id": "89b89372",
   "metadata": {},
   "outputs": [],
   "source": [
    "temp_dir_obj = tempfile.TemporaryDirectory()\n",
    "temp_dir_path = temp_dir_obj.name"
   ]
  },
  {
   "cell_type": "code",
   "execution_count": 27,
   "id": "9d767844",
   "metadata": {},
   "outputs": [],
   "source": [
    "# 1. Prepare a dummy FASTA file\n",
    "fasta_content = (\n",
    "    \">chr1\\n\"\n",
    "    \"ATGCATGCATGCAGTCGTAGC\\n\"\n",
    "    \">chr2\\n\"\n",
    "    \"GGGGAAAA\\n\"\n",
    ")\n",
    "source_fasta_path = os.path.join(temp_dir_path, \"source.fa\")\n",
    "with open(source_fasta_path, \"w\") as f:\n",
    "    f.write(fasta_content)"
   ]
  },
  {
   "cell_type": "code",
   "execution_count": null,
   "id": "0bb9fc63",
   "metadata": {},
   "outputs": [
    {
     "name": "stdout",
     "output_type": "stream",
     "text": [
      "Source FASTA digested. Collection digest: aep4zTAZpy0wOIfWEQ5o8oykl9M47YVJ\n",
      "\n",
      "Processing FASTA file: /tmp/tmposoumopu/source.fa\n",
      "lvl1 digest: aep4zTAZpy0wOIfWEQ5o8oykl9M47YVJ\n"
     ]
    }
   ],
   "source": [
    "# 2. Digest the FASTA to get collection info and digest\n",
    "collection = fasta_to_seq_digests(source_fasta_path)\n",
    "collection_digest = collection.digest\n",
    "print(f\"Source FASTA digested. Collection digest: {collection_digest}\\n\")"
   ]
  },
  {
   "cell_type": "code",
   "execution_count": 29,
   "id": "79becee5",
   "metadata": {},
   "outputs": [
    {
     "name": "stdout",
     "output_type": "stream",
     "text": [
      "Initialized store: SeqColStore object:\n",
      ">Sequences (n=0):\n",
      ">Collections (n=1):\n",
      "  1. Collection Digest: \"DEFAULT_REFGET_SEQUENCE_COLLECTI\"\n",
      "\n",
      "\n"
     ]
    }
   ],
   "source": [
    "# 3. Initialize GlobalRefgetStore in Encoded mode\n",
    "store = GlobalRefgetStore(StorageMode.Encoded)\n",
    "print(f\"Initialized store: {store}\\n\")"
   ]
  },
  {
   "cell_type": "code",
   "execution_count": 30,
   "id": "e01c4c77",
   "metadata": {},
   "outputs": [
    {
     "name": "stdout",
     "output_type": "stream",
     "text": [
      "FASTA imported into the store.\n",
      "\n",
      "Loading farg index...\n",
      "from path with cache: reading from file: \"/tmp/tmposoumopu/source.fa\"\n",
      "Farg file path: \"/tmp/tmposoumopu/source.farg\"\n",
      "Computing digests...: \"/tmp/tmposoumopu/source.farg\"\n",
      "Processing FASTA file: /tmp/tmposoumopu/source.fa\n",
      "lvl1 digest: aep4zTAZpy0wOIfWEQ5o8oykl9M47YVJ\n",
      "Writing farg file: \"/tmp/tmposoumopu/source.farg\"\n",
      "Farg file written to \"/tmp/tmposoumopu/source.farg\"\n",
      "Preparing to load sequences into refget SeqColStore...\n",
      "Digest result: SequenceMetadata { name: \"chr1\", length: 21, sha512t24u: \"k4ZQ03Uo81xEjENxmvAkcLnTez9OFlQE\", md5: \"0de429429b73df6142414eb38293c84e\", alphabet: Dna2bit }\n",
      "Storing encoded sequence. Name: chr1; Alphabet: dna2bit; Digest: k4ZQ03Uo81xEjENxmvAkcLnTez9OFlQE\n",
      "Digest result: SequenceMetadata { name: \"chr2\", length: 8, sha512t24u: \"OyXJErGtjgcIVSdobGkHE3sBdQ5faDTf\", md5: \"362f911bd5c5ffb1ca50a3910774a764\", alphabet: Dna2bit }\n",
      "Storing encoded sequence. Name: chr2; Alphabet: dna2bit; Digest: OyXJErGtjgcIVSdobGkHE3sBdQ5faDTf\n",
      "Finished loading sequences into refget SeqColStore.\n"
     ]
    }
   ],
   "source": [
    "# 4. Import FASTA into the store\n",
    "store.import_fasta(source_fasta_path)\n",
    "print(\"FASTA imported into the store.\\n\")"
   ]
  },
  {
   "cell_type": "code",
   "execution_count": 31,
   "id": "3e570491",
   "metadata": {},
   "outputs": [
    {
     "name": "stdout",
     "output_type": "stream",
     "text": [
      "Retrieved sequence by ID: chr1, length 21\n",
      "  Sequence (full): ATGCATGCATGCAGTCGTAGC\n",
      "\n"
     ]
    }
   ],
   "source": [
    "# 5. Get a sequence by its ID (using the digest from the first sequence in collection)\n",
    "seq_digest_chr1 = collection[0].metadata.sha512t24u\n",
    "record_chr1 = store.get_sequence_by_id(seq_digest_chr1)\n",
    "if record_chr1:\n",
    "    print(f\"Retrieved sequence by ID: {record_chr1.metadata.name}, length {record_chr1.metadata.length}\")\n",
    "    # Note: record_chr1.data might be None if store mode is Encoded and data isn't decoded automatically\n",
    "    print(f\"  Sequence (full): {store.get_substring(seq_digest_chr1, 0, record_chr1.metadata.length)}\\n\")"
   ]
  },
  {
   "cell_type": "code",
   "execution_count": 34,
   "id": "8bb3ab63",
   "metadata": {},
   "outputs": [
    {
     "name": "stdout",
     "output_type": "stream",
     "text": [
      "Substring from chr1[5:15]: TGCATGCAGT\n",
      "\n"
     ]
    }
   ],
   "source": [
    "# 6. Get a substring\n",
    "sub_seq = store.get_substring(seq_digest_chr1, 5, 15)\n",
    "print(f\"Substring from chr1[5:15]: {sub_seq}\\n\") # Expected: TGCATGCAGT"
   ]
  },
  {
   "cell_type": "code",
   "execution_count": 35,
   "id": "1b9c82c5",
   "metadata": {},
   "outputs": [],
   "source": [
    "# 7. Prepare a BED file for region retrieval\n",
    "bed_content = (\n",
    "    \"chr1\\t0\\t10\\n\"\n",
    "    \"chr2\\t2\\t6\\n\"\n",
    "    \"chr_nonexistent\\t0\\t5\\n\" # This entry will be skipped\n",
    "    )\n",
    "bed_path = os.path.join(temp_dir_path, \"regions.bed\")\n",
    "with open(bed_path, \"w\") as f:\n",
    "    f.write(bed_content)"
   ]
  },
  {
   "cell_type": "code",
   "execution_count": 36,
   "id": "4aa46e20",
   "metadata": {},
   "outputs": [
    {
     "name": "stdout",
     "output_type": "stream",
     "text": [
      "Retrieved sequences from BED file (as list):\n",
      "  - chr1|0-10: ATGCATGCAT\n",
      "  - chr2|2-6: GGAA\n",
      "\n",
      "\n"
     ]
    },
    {
     "name": "stderr",
     "output_type": "stream",
     "text": [
      "Warning: Skipping line 4 because sequence 'chr_nonexistent' not found in collection 'aep4zTAZpy0wOIfWEQ5o8oykl9M47YVJ'.\n"
     ]
    }
   ],
   "source": [
    "# 8. Retrieve sequences from BED file to a list\n",
    "retrieved_list = store.get_seqs_bed_file_to_vec(collection_digest, bed_path)\n",
    "print(\"Retrieved sequences from BED file (as list):\")\n",
    "for rs in retrieved_list:\n",
    "    print(f\"  - {rs}\")\n",
    "print(\"\\n\")"
   ]
  },
  {
   "cell_type": "code",
   "execution_count": 37,
   "id": "dabb5dd1",
   "metadata": {},
   "outputs": [
    {
     "name": "stdout",
     "output_type": "stream",
     "text": [
      "Retrieved sequences from BED file written to: /tmp/tmposoumopu/output_regions.fa\n",
      "Content of output FASTA:\n",
      ">chr1 21 dna2bit k4ZQ03Uo81xEjENxmvAkcLnTez9OFlQE 0de429429b73df6142414eb38293c84e\n",
      "ATGCATGCAT\n",
      ">chr2 8 dna2bit OyXJErGtjgcIVSdobGkHE3sBdQ5faDTf 362f911bd5c5ffb1ca50a3910774a764\n",
      "GGAA\n",
      "\n",
      "\n"
     ]
    },
    {
     "name": "stderr",
     "output_type": "stream",
     "text": [
      "Warning: Skipping line 4 because sequence 'chr_nonexistent' not found in collection 'aep4zTAZpy0wOIfWEQ5o8oykl9M47YVJ'.\n"
     ]
    }
   ],
   "source": [
    "# 9. Retrieve sequences from BED file and write to new FASTA\n",
    "output_fasta_path = os.path.join(temp_dir_path, \"output_regions.fa\")\n",
    "store.get_seqs_bed_file(collection_digest, bed_path, output_fasta_path)\n",
    "print(f\"Retrieved sequences from BED file written to: {output_fasta_path}\")\n",
    "with open(output_fasta_path, \"r\") as f:\n",
    "    print(\"Content of output FASTA:\\n\" + f.read())\n",
    "print(\"\\n\")"
   ]
  },
  {
   "cell_type": "code",
   "execution_count": 38,
   "id": "3371ffd7",
   "metadata": {},
   "outputs": [
    {
     "name": "stdout",
     "output_type": "stream",
     "text": [
      "Store saved to: /tmp/tmposoumopu/my_refget_store\n",
      "\n",
      "Writing store to directory: /tmp/tmposoumopu/my_refget_store; Using seqdata path template: {digest_prefix}/{digest}.gz\n",
      "Writing farg file: \"/tmp/tmposoumopu/my_refget_store/collections/aep4zTAZpy0wOIfWEQ5o8oykl9M47YVJ.farg\"\n",
      "Writing farg file: \"/tmp/tmposoumopu/my_refget_store/sequences.farg\"\n"
     ]
    }
   ],
   "source": [
    "# 10. Write store to a new directory\n",
    "saved_store_path = os.path.join(temp_dir_path, \"my_refget_store\")\n",
    "store.write_store_to_directory(saved_store_path, \"{digest_prefix}/{digest}.gz\") # Custom template\n",
    "print(f\"Store saved to: {saved_store_path}\\n\")"
   ]
  },
  {
   "cell_type": "code",
   "execution_count": 39,
   "id": "979c5233",
   "metadata": {},
   "outputs": [
    {
     "name": "stdout",
     "output_type": "stream",
     "text": [
      "Store successfully loaded from: /tmp/tmposoumopu/my_refget_store\n"
     ]
    }
   ],
   "source": [
    "# 11. Load store from the directory\n",
    "loaded_store = GlobalRefgetStore.load_from_directory(saved_store_path)\n",
    "print(f\"Store successfully loaded from: {saved_store_path}\")"
   ]
  },
  {
   "cell_type": "code",
   "execution_count": 40,
   "id": "8bf4dc73",
   "metadata": {},
   "outputs": [],
   "source": [
    "# Clean up tempdir manually\n",
    "temp_dir_obj.cleanup()"
   ]
  }
 ],
 "metadata": {
  "kernelspec": {
   "display_name": "Python 3 (ipykernel)",
   "language": "python",
   "name": "python3"
  },
  "language_info": {
   "codemirror_mode": {
    "name": "ipython",
    "version": 3
   },
   "file_extension": ".py",
   "mimetype": "text/x-python",
   "name": "python",
   "nbconvert_exporter": "python",
   "pygments_lexer": "ipython3",
   "version": "3.10.12"
  }
 },
 "nbformat": 4,
 "nbformat_minor": 5
}
