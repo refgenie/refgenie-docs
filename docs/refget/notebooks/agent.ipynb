{
 "cells": [
  {
   "cell_type": "markdown",
   "metadata": {},
   "source": [
    "# Sequence Collections Agent tutorial\n",
    "\n",
    "## Introduction\n",
    "\n",
    "This tutorial will show you how to use the `refget.RefgetDBAgent` class to interact with a SQL database of sequence collections.\n",
    "\n",
    "Under construction\n",
    "\n",
    "\n",
    "The RefgetDBAgent() is parameterized through environment variables, which will provide the information it needs to connect to a SQL database."
   ]
  },
  {
   "cell_type": "code",
   "execution_count": null,
   "metadata": {},
   "outputs": [],
   "source": [
    "a_root = \"test_fasta\"\n",
    "dbc = RefgetDBAgent()\n",
    "print(f\"SQL Engine: {dbc.engine}\")\n"
   ]
  },
  {
   "cell_type": "markdown",
   "metadata": {},
   "source": [
    "You can load some FASTA files into the database like this:"
   ]
  },
  {
   "cell_type": "code",
   "execution_count": null,
   "metadata": {},
   "outputs": [],
   "source": [
    "\n",
    "demo_results = {}\n",
    "for demo_file in DEMO_FILES:\n",
    "    f = os.path.join(fa_root, demo_file)\n",
    "    print(\"Fasta file to be loaded: {}\".format(f))\n",
    "    demo_results[f] = dbc.seqcol.add_from_fasta_file(f)\n",
    "    print(demo_results[f])\n"
   ]
  }
 ],
 "metadata": {
  "kernelspec": {
   "display_name": "Python 3",
   "language": "python",
   "name": "python3"
  },
  "language_info": {
   "codemirror_mode": {
    "name": "ipython",
    "version": 3
   },
   "file_extension": ".py",
   "mimetype": "text/x-python",
   "name": "python",
   "nbconvert_exporter": "python",
   "pygments_lexer": "ipython3",
   "version": "3.12.3"
  }
 },
 "nbformat": 4,
 "nbformat_minor": 2
}
