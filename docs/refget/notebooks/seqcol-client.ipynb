{
 "cells": [
  {
   "cell_type": "markdown",
   "metadata": {},
   "source": [
    "# SequenceCollectionClient tutorial\n",
    "\n",
    "## Introduction \n",
    "\n",
    "The `refget` Python package contains an class called `SequenceCollectionClient` that provides a simple Python API for interacing with a remote refget sequence collections server.\n",
    "\n"
   ]
  },
  {
   "cell_type": "code",
   "execution_count": 2,
   "metadata": {},
   "outputs": [],
   "source": [
    "import refget\n",
    "from refget import SequenceCollectionClient"
   ]
  },
  {
   "cell_type": "markdown",
   "metadata": {},
   "source": [
    "## Connecting to a service\n",
    "\n",
    "In order to use the client, you'll need a remote service API to connect to.\n",
    "Then, you can create a `SequenceCollectionClient` to interact with the service from within Python.\n",
    "\n",
    "You could use the demo instance at `https://seqcolapi.databio.org/` to test things out.\n",
    "Or, you can also start a local demo service cloning the `refget` package (https://github.com/refgenie/refget) and then running \n",
    "\n",
    "```console\n",
    "bash deployment/demo_up.sh\n",
    "```\n",
    "\n",
    "This will launch a temporary postgres database and load it with 6 small demo sequences, and then run a barebones API service on localhost.\n",
    "For this demo, I'll connect to the localhost service like this:"
   ]
  },
  {
   "cell_type": "code",
   "execution_count": 3,
   "metadata": {},
   "outputs": [],
   "source": [
    "seqcol_client = SequenceCollectionClient(urls=[\"http://127.0.0.1:8100\"])"
   ]
  },
  {
   "cell_type": "code",
   "execution_count": 4,
   "metadata": {},
   "outputs": [
    {
     "data": {
      "text/plain": [
       "<SequenceCollectionClient>\n",
       "  Service ID: org.databio.seqcolapi\n",
       "  Service Name: Sequence collections\n",
       "  API URLs:    http://127.0.0.1:8100"
      ]
     },
     "execution_count": 4,
     "metadata": {},
     "output_type": "execute_result"
    }
   ],
   "source": [
    "seqcol_client"
   ]
  },
  {
   "cell_type": "markdown",
   "metadata": {},
   "source": [
    "## Listing available sequence collections\n",
    "\n",
    "Now that you have a client connected to a server, you can interact with this object to query the API. First, check what sequence collections are available in this server: "
   ]
  },
  {
   "cell_type": "code",
   "execution_count": 5,
   "metadata": {},
   "outputs": [
    {
     "data": {
      "text/plain": [
       "{'pagination': {'page': 0, 'page_size': 100, 'total': 6},\n",
       " 'results': ['XZlrcEGi6mlopZ2uD8ObHkQB1d0oDwKk',\n",
       "  'QvT5tAQ0B8Vkxd-qFftlzEk2QyfPtgOv',\n",
       "  'Tpdsg75D4GKCGEHtIiDSL9Zx-DSuX5V8',\n",
       "  'UNGAdNDmBbQbHihecPPFxwTydTcdFKxL',\n",
       "  'sv7GIP1K0qcskIKF3iaBmQpaum21vH74',\n",
       "  'aVzHaGFlUDUNF2IEmNdzS_A8lCY0stQH']}"
      ]
     },
     "execution_count": 5,
     "metadata": {},
     "output_type": "execute_result"
    }
   ],
   "source": [
    "seqcol_client.list_collections()"
   ]
  },
  {
   "cell_type": "markdown",
   "metadata": {},
   "source": [
    "This gives you top-level digests for the collections.\n",
    "\n",
    "## Retrieving a sequence collection\n",
    "\n",
    "Retrieve a collections using its digest like this:"
   ]
  },
  {
   "cell_type": "code",
   "execution_count": 6,
   "metadata": {},
   "outputs": [
    {
     "data": {
      "text/plain": [
       "{'lengths': [8, 4, 4],\n",
       " 'names': ['chrX', 'chr1', 'chr2'],\n",
       " 'sequences': ['SQ.iYtREV555dUFKg2_agSJW6suquUyPpMw',\n",
       "  'SQ.YBbVX0dLKG1ieEDCiMmkrTZFt_Z5Vdaj',\n",
       "  'SQ.AcLxtBuKEPk_7PGE_H4dGElwZHCujwH6'],\n",
       " 'sorted_sequences': ['SQ.AcLxtBuKEPk_7PGE_H4dGElwZHCujwH6',\n",
       "  'SQ.YBbVX0dLKG1ieEDCiMmkrTZFt_Z5Vdaj',\n",
       "  'SQ.iYtREV555dUFKg2_agSJW6suquUyPpMw'],\n",
       " 'name_length_pairs': [{'length': 8, 'name': 'chrX'},\n",
       "  {'length': 4, 'name': 'chr1'},\n",
       "  {'length': 4, 'name': 'chr2'}]}"
      ]
     },
     "execution_count": 6,
     "metadata": {},
     "output_type": "execute_result"
    }
   ],
   "source": [
    "seqcol_client.get_collection(\"XZlrcEGi6mlopZ2uD8ObHkQB1d0oDwKk\")"
   ]
  },
  {
   "cell_type": "markdown",
   "metadata": {},
   "source": [
    "This gives you the **level 2** representation of the sequence collection, which is the canonical, expanded representation. You can also request the more compact **level 1** representation, which gives you digests for each of the attributes:"
   ]
  },
  {
   "cell_type": "code",
   "execution_count": 7,
   "metadata": {},
   "outputs": [
    {
     "data": {
      "text/plain": [
       "{'lengths': 'cGRMZIb3AVgkcAfNv39RN7hnT5Chk7RX',\n",
       " 'names': 'Fw1r9eRxfOZD98KKrhlYQNEdSRHoVxAG',\n",
       " 'sequences': '0uDQVLuHaOZi1u76LjV__yrVUIz9Bwhr',\n",
       " 'sorted_sequences': 'KgWo6TT1Lqw6vgkXU9sYtCU9xwXoDt6M',\n",
       " 'name_length_pairs': 'B9MESWM8k-hK_OeQK8bZNAG74pLY0Ujq',\n",
       " 'sorted_name_length_pairs': 'wwE4PUok50YyEF2Ne8BBA5__zk92CZH8'}"
      ]
     },
     "execution_count": 7,
     "metadata": {},
     "output_type": "execute_result"
    }
   ],
   "source": [
    "seqcol_client.get_collection(\"XZlrcEGi6mlopZ2uD8ObHkQB1d0oDwKk\", level=1)"
   ]
  },
  {
   "cell_type": "markdown",
   "metadata": {},
   "source": [
    "These attributes are useful because you can use them in the same way you use a top-level sequence digest to look up values of a specific attribute using the `get_attribute` function.\n",
    "\n",
    "For example, here we will use the lengths digest to retrieve just the value of this attribute.\n",
    "You can see it matches the expanded version retrieved above:"
   ]
  },
  {
   "cell_type": "code",
   "execution_count": 8,
   "metadata": {},
   "outputs": [
    {
     "data": {
      "text/plain": [
       "[8, 4, 4]"
      ]
     },
     "execution_count": 8,
     "metadata": {},
     "output_type": "execute_result"
    }
   ],
   "source": [
    "seqcol_client.get_attribute(\"lengths\", \"cGRMZIb3AVgkcAfNv39RN7hnT5Chk7RX\")"
   ]
  },
  {
   "cell_type": "markdown",
   "metadata": {},
   "source": [
    "We can also discover attributes available in the server with the `list_attributes` function, which will list all available values of a specific attribute:"
   ]
  },
  {
   "cell_type": "code",
   "execution_count": 9,
   "metadata": {},
   "outputs": [
    {
     "data": {
      "text/plain": [
       "{'pagination': {'page': 0, 'page_size': 3, 'total': 3},\n",
       " 'results': ['cGRMZIb3AVgkcAfNv39RN7hnT5Chk7RX',\n",
       "  'x5qpE4FtMkvlwpKIzvHs3a02Nex5tthp',\n",
       "  '7-_HdxYiRf-AJLBKOTaJUdxXrUkIXs6T']}"
      ]
     },
     "execution_count": 9,
     "metadata": {},
     "output_type": "execute_result"
    }
   ],
   "source": [
    "seqcol_client.list_attributes(\"lengths\", page_size=3)"
   ]
  },
  {
   "cell_type": "markdown",
   "metadata": {},
   "source": [
    "## Discovering sequence collections with specific attributes\n",
    "\n",
    "One of the useful applications of attribute digests is that we can use them to discover other sequence collections that share a specific attribute value. \n",
    "\n",
    "For example, say we want to find all the collections hosted by this server that have the particular set of sequence lengths `[8,4,4]`.\n",
    "We can use the `list_collections` function again, but this time adding some new parameters to specify that we want to retrieve the collections with a specific value for the `lengths` attribute, like this:"
   ]
  },
  {
   "cell_type": "code",
   "execution_count": 10,
   "metadata": {},
   "outputs": [
    {
     "data": {
      "text/plain": [
       "{'pagination': {'page': 4, 'page_size': 2, 'total': 4},\n",
       " 'results': ['UNGAdNDmBbQbHihecPPFxwTydTcdFKxL',\n",
       "  'aVzHaGFlUDUNF2IEmNdzS_A8lCY0stQH']}"
      ]
     },
     "execution_count": 10,
     "metadata": {},
     "output_type": "execute_result"
    }
   ],
   "source": [
    "seqcol_client.list_collections(page=1, \n",
    "                               page_size=2, \n",
    "                               attribute=\"lengths\", \n",
    "                               attribute_digest=\"cGRMZIb3AVgkcAfNv39RN7hnT5Chk7RX\")"
   ]
  },
  {
   "cell_type": "markdown",
   "metadata": {},
   "source": [
    "This will allow you to identify other sequence collections.\n",
    "\n",
    "## Comparing two sequence collections\n",
    "\n",
    "One of the powerful advanced features of the sequence collections standard is the comparison function, which allows you to get detailed information about how similar two sequence collections are. \n",
    "\n",
    "In this example, let's compare the two sequence collections that had identical `lengths` attributes, to see how these two collections differ. Remember, if they had no differences, they would have the same top-level digest, so we know they're different somehow... the comparison function will give us more information."
   ]
  },
  {
   "cell_type": "code",
   "execution_count": 11,
   "metadata": {},
   "outputs": [
    {
     "data": {
      "text/plain": [
       "{'digests': {'a': 'UNGAdNDmBbQbHihecPPFxwTydTcdFKxL',\n",
       "  'b': 'aVzHaGFlUDUNF2IEmNdzS_A8lCY0stQH'},\n",
       " 'attributes': {'a_only': [],\n",
       "  'b_only': [],\n",
       "  'a_and_b': ['lengths',\n",
       "   'name_length_pairs',\n",
       "   'names',\n",
       "   'sequences',\n",
       "   'sorted_sequences']},\n",
       " 'array_elements': {'a': {'lengths': 3,\n",
       "   'name_length_pairs': 3,\n",
       "   'names': 3,\n",
       "   'sequences': 3,\n",
       "   'sorted_sequences': 3},\n",
       "  'b': {'lengths': 3,\n",
       "   'name_length_pairs': 3,\n",
       "   'names': 3,\n",
       "   'sequences': 3,\n",
       "   'sorted_sequences': 3},\n",
       "  'a_and_b': {'lengths': 3,\n",
       "   'name_length_pairs': 1,\n",
       "   'names': 3,\n",
       "   'sequences': 3,\n",
       "   'sorted_sequences': 3},\n",
       "  'a_and_b_same_order': {'lengths': True,\n",
       "   'name_length_pairs': True,\n",
       "   'names': False,\n",
       "   'sequences': True,\n",
       "   'sorted_sequences': True}}}"
      ]
     },
     "execution_count": 11,
     "metadata": {},
     "output_type": "execute_result"
    }
   ],
   "source": [
    "seqcol_client.compare(\n",
    "    \"UNGAdNDmBbQbHihecPPFxwTydTcdFKxL\",\n",
    "    \"aVzHaGFlUDUNF2IEmNdzS_A8lCY0stQH\")"
   ]
  },
  {
   "cell_type": "markdown",
   "metadata": {},
   "source": [
    "This comparison output gives us a lot of detail. You can get the full details on how to interpret the results in the [documentation on comparing sequence collections](https://ga4gh.github.io/refget/compare_collections/).\n",
    "\n",
    "Briefly, we can see that the collections each have 3 sequences, and these are mostly matching -- the only value under `array_elements` that is not 3 is the `name_length_pairs`, which is 1. We can also see that the `a_and_b_same_order` says `names: False`. This means we are dealing with two collections, in which one pair of sequences has had the names swapped -- the names are all the same, but not in the right order. The lengths are identical and in the same order (which is why we pulled these two collections out by filtering by length attribute digest). And the sequence contents are also the same, and in the same order. The only reason these aren't the same collection is the name swap.\n",
    "\n",
    "This example shows how the comparison function can be used to provide deep insight into how two sequence collections compare.\n",
    "\n",
    "\n"
   ]
  },
  {
   "cell_type": "markdown",
   "metadata": {},
   "source": [
    "## Using pydantic models\n",
    "\n",
    "One of the really cool things about the `refget` package is that it provides pydantic models for sequence collections and other relevant data types. We can use these objects to analyze and manage sequence collections locally. Let's walk through some of the things you can do with these objects.\n",
    "\n",
    "We provide a `SequenceCollection` object that gives you some nice ways to interact with these objects in Python. From a dictionary representation you retrieve from an API, you can construct a Pydantic object like this:"
   ]
  },
  {
   "cell_type": "code",
   "execution_count": 12,
   "metadata": {},
   "outputs": [
    {
     "data": {
      "text/plain": [
       "SequenceCollection(digest='XZlrcEGi6mlopZ2uD8ObHkQB1d0oDwKk', sorted_name_length_pairs_digest='wwE4PUok50YyEF2Ne8BBA5__zk92CZH8')"
      ]
     },
     "execution_count": 12,
     "metadata": {},
     "output_type": "execute_result"
    }
   ],
   "source": [
    "seqcol_dict = seqcol_client.get_collection(\"XZlrcEGi6mlopZ2uD8ObHkQB1d0oDwKk\")\n",
    "seqcol = refget.SequenceCollection.from_dict(seqcol_dict)\n",
    "seqcol"
   ]
  },
  {
   "cell_type": "markdown",
   "metadata": {},
   "source": [
    "This object is very useful. You can use it to get this sequence collection in a variety of different formats:"
   ]
  },
  {
   "cell_type": "code",
   "execution_count": 13,
   "metadata": {},
   "outputs": [
    {
     "data": {
      "text/plain": [
       "{'lengths': [8, 4, 4],\n",
       " 'names': ['chrX', 'chr1', 'chr2'],\n",
       " 'sequences': ['SQ.iYtREV555dUFKg2_agSJW6suquUyPpMw',\n",
       "  'SQ.YBbVX0dLKG1ieEDCiMmkrTZFt_Z5Vdaj',\n",
       "  'SQ.AcLxtBuKEPk_7PGE_H4dGElwZHCujwH6'],\n",
       " 'sorted_sequences': ['SQ.AcLxtBuKEPk_7PGE_H4dGElwZHCujwH6',\n",
       "  'SQ.YBbVX0dLKG1ieEDCiMmkrTZFt_Z5Vdaj',\n",
       "  'SQ.iYtREV555dUFKg2_agSJW6suquUyPpMw'],\n",
       " 'name_length_pairs': [{'length': 8, 'name': 'chrX'},\n",
       "  {'length': 4, 'name': 'chr1'},\n",
       "  {'length': 4, 'name': 'chr2'}]}"
      ]
     },
     "execution_count": 13,
     "metadata": {},
     "output_type": "execute_result"
    }
   ],
   "source": [
    "seqcol.level2()"
   ]
  },
  {
   "cell_type": "code",
   "execution_count": 14,
   "metadata": {},
   "outputs": [
    {
     "data": {
      "text/plain": [
       "{'lengths': 'cGRMZIb3AVgkcAfNv39RN7hnT5Chk7RX',\n",
       " 'names': 'Fw1r9eRxfOZD98KKrhlYQNEdSRHoVxAG',\n",
       " 'sequences': '0uDQVLuHaOZi1u76LjV__yrVUIz9Bwhr',\n",
       " 'sorted_sequences': 'KgWo6TT1Lqw6vgkXU9sYtCU9xwXoDt6M',\n",
       " 'name_length_pairs': 'B9MESWM8k-hK_OeQK8bZNAG74pLY0Ujq',\n",
       " 'sorted_name_length_pairs': 'wwE4PUok50YyEF2Ne8BBA5__zk92CZH8'}"
      ]
     },
     "execution_count": 14,
     "metadata": {},
     "output_type": "execute_result"
    }
   ],
   "source": [
    "seqcol.level1()"
   ]
  },
  {
   "cell_type": "code",
   "execution_count": 15,
   "metadata": {},
   "outputs": [
    {
     "data": {
      "text/plain": [
       "'cGRMZIb3AVgkcAfNv39RN7hnT5Chk7RX'"
      ]
     },
     "execution_count": 15,
     "metadata": {},
     "output_type": "execute_result"
    }
   ],
   "source": [
    "seqcol.lengths.digest"
   ]
  },
  {
   "cell_type": "code",
   "execution_count": 16,
   "metadata": {},
   "outputs": [
    {
     "data": {
      "text/plain": [
       "[{'name': 'chrX',\n",
       "  'length': 8,\n",
       "  'sequence': 'SQ.iYtREV555dUFKg2_agSJW6suquUyPpMw'},\n",
       " {'name': 'chr1',\n",
       "  'length': 4,\n",
       "  'sequence': 'SQ.YBbVX0dLKG1ieEDCiMmkrTZFt_Z5Vdaj'},\n",
       " {'name': 'chr2',\n",
       "  'length': 4,\n",
       "  'sequence': 'SQ.AcLxtBuKEPk_7PGE_H4dGElwZHCujwH6'}]"
      ]
     },
     "execution_count": 16,
     "metadata": {},
     "output_type": "execute_result"
    }
   ],
   "source": [
    "seqcol.itemwise()"
   ]
  },
  {
   "cell_type": "markdown",
   "metadata": {},
   "source": [
    "You can access individual attributes like this:"
   ]
  },
  {
   "cell_type": "code",
   "execution_count": 17,
   "metadata": {},
   "outputs": [
    {
     "data": {
      "text/plain": [
       "'B9MESWM8k-hK_OeQK8bZNAG74pLY0Ujq'"
      ]
     },
     "execution_count": 17,
     "metadata": {},
     "output_type": "execute_result"
    }
   ],
   "source": [
    "seqcol.name_length_pairs.digest"
   ]
  },
  {
   "cell_type": "code",
   "execution_count": 18,
   "metadata": {},
   "outputs": [
    {
     "data": {
      "text/plain": [
       "[{'length': 8, 'name': 'chrX'},\n",
       " {'length': 4, 'name': 'chr1'},\n",
       " {'length': 4, 'name': 'chr2'}]"
      ]
     },
     "execution_count": 18,
     "metadata": {},
     "output_type": "execute_result"
    }
   ],
   "source": [
    "seqcol.name_length_pairs.value"
   ]
  },
  {
   "cell_type": "markdown",
   "metadata": {},
   "source": [
    "Because this is a `SQLModel` object, you could also use this to create and interact with a database easily. You can find reference documentation in the [models](../../models) section."
   ]
  }
 ],
 "metadata": {
  "kernelspec": {
   "display_name": "Python 3",
   "language": "python",
   "name": "python3"
  },
  "language_info": {
   "codemirror_mode": {
    "name": "ipython",
    "version": 3
   },
   "file_extension": ".py",
   "mimetype": "text/x-python",
   "name": "python",
   "nbconvert_exporter": "python",
   "pygments_lexer": "ipython3",
   "version": "3.12.3"
  }
 },
 "nbformat": 4,
 "nbformat_minor": 2
}
